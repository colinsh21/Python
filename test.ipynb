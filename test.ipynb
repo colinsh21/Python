{
 "metadata": {
  "name": "",
  "signature": "sha256:b2426e4017d61de8ef18a76a84664a2fd1555ac69ce6fcf8d62eadf810313f82"
 },
 "nbformat": 3,
 "nbformat_minor": 0,
 "worksheets": [
  {
   "cells": [
    {
     "cell_type": "code",
     "collapsed": false,
     "input": [
      "import numpy\n",
      "import matplotlib.pyplot as plt\n",
      "\n",
      "ini_numPeople = 10\n",
      "barCapacity = 80\n",
      "maxexitRatePerTimeStep = 9\n",
      "minexitRatePerTimeStep = 0\n",
      "maxTimeStep = 100\n",
      "currentTime=0\n",
      "people=ini_numPeople\n",
      "peopleList = []\n",
      "\n",
      "#goal is to measure how many people are in the bar across timestep\n",
      "\n",
      "#create model that counts and changes number of people in the bar\n",
      "#condition to stop on when we reach max time\n",
      "#while loops to \n",
      "#simulate random number of people entering bar at some probability \n",
      "\n",
      "\n",
      "while currentTime < maxTimeStep:\n",
      "    entering=int(numpy.random.normal(5,1))\n",
      "    exiting=int(2*people/barCapacity)*int(numpy.random.uniform(minexitRatePerTimeStep, maxexitRatePerTimeStep))\n",
      "    people = people + entering - exiting\n",
      "    if people > barCapacity:\n",
      "        people = people-entering\n",
      "        \n",
      "    if people < 0:\n",
      "        people=0\n",
      "\n",
      "    #print people\n",
      "    peopleList.append(people)\n",
      "    currentTime +=1\n",
      " \n",
      "\n",
      "%matplotlib inline \n",
      "\n",
      "f=plt.figure()\n",
      "plt.plot(peopleList)\n",
      "plt.xlabel('Timestep')\n",
      "plt.ylabel('Number of People in the Bar')\n",
      "\n"
     ],
     "language": "python",
     "metadata": {},
     "outputs": [
      {
       "metadata": {},
       "output_type": "pyout",
       "prompt_number": 38,
       "text": [
        "<matplotlib.text.Text at 0xc9c1f60>"
       ]
      },
      {
       "metadata": {},
       "output_type": "display_data",
       "png": "[encoded data removed]",
       "text": [
        "<matplotlib.figure.Figure at 0xc3222e8>"
       ]
      }
     ],
     "prompt_number": 38
    },
    {
     "cell_type": "code",
     "collapsed": false,
     "input": [
      "#dictionaries inside dictionaries\n",
      "princess_map={\"Beauty and the Beast\":{\"name\":\"Belle\",\"country of origin\":\"France\",\"age\":14,\"species\":\"Human\"},\n",
      "              \"Lion King\": {\"name\":\"Nala\",\"country of origin\":\"Kenya\",\"age\":3,\"species\":\"Lion\"}}\n",
      "print princess_map[\"Beauty and the Beast\"][\"age\"]\n",
      "print princess_map[\"Lion King\"][\"country of origin\"]"
     ],
     "language": "python",
     "metadata": {},
     "outputs": [
      {
       "output_type": "stream",
       "stream": "stdout",
       "text": [
        "14\n",
        "Kenya\n"
       ]
      }
     ],
     "prompt_number": 22
    },
    {
     "cell_type": "code",
     "collapsed": false,
     "input": [
      "print princess_map.keys()\n",
      "print princess_map.values()"
     ],
     "language": "python",
     "metadata": {},
     "outputs": [
      {
       "output_type": "stream",
       "stream": "stdout",
       "text": [
        "['Lion King', 'Beauty and the Beast']\n",
        "[{'age': 3, 'country of origin': 'Kenya', 'name': 'Nala', 'species': 'Lion'}, {'age': 14, 'country of origin': 'France', 'name': 'Belle', 'species': 'human'}]\n"
       ]
      }
     ],
     "prompt_number": 18
    },
    {
     "cell_type": "code",
     "collapsed": false,
     "input": [
      "for movie_name in princess_map.keys():\n",
      "    print(movie_name)\n",
      "    print(princess_map[movie_name][\"species\"])"
     ],
     "language": "python",
     "metadata": {},
     "outputs": [
      {
       "output_type": "stream",
       "stream": "stdout",
       "text": [
        "Lion King\n",
        "Lion\n",
        "Beauty and the Beast\n",
        "Human\n"
       ]
      }
     ],
     "prompt_number": 23
    },
    {
     "cell_type": "code",
     "collapsed": false,
     "input": [
      "for movie_name in princess_map.keys():\n",
      "    print(\"My favorite character from {0} is {1} who is {2} years old.\"\\\n",
      "          .format(movie_name,princess_map[movie_name][\"name\"],princess_map[movie_name][\"age\"]))"
     ],
     "language": "python",
     "metadata": {},
     "outputs": [
      {
       "output_type": "stream",
       "stream": "stdout",
       "text": [
        "My favorite character from Lion King is Nala who is 3 years old.\n",
        "My favorite character from Beauty and the Beast is Belle who is 14 years old.\n"
       ]
      }
     ],
     "prompt_number": 25
    },
    {
     "cell_type": "code",
     "collapsed": false,
     "input": [],
     "language": "python",
     "metadata": {},
     "outputs": []
    }
   ],
   "metadata": {}
  }
 ]
}