{
 "cells": [
  {
   "cell_type": "markdown",
   "metadata": {},
   "source": [
    "## CSCS530 Winter 2015\n",
    "#### Complex Systems 530 - Computer Modeling of Complex Systems (Winter 2015)\n",
    "\n",
    "  * Course ID: CMPLXSYS 530\n",
    "  * Course Title: Computer Modeling of Complex Systems\n",
    "  * Term: Winter 2015\n",
    "  * Schedule: Wednesdays and Friday, 1:00-2:30PM ET\n",
    "  * Location: 120 West Hall (http://www.lsa.umich.edu/cscs/research/computerlab)\n",
    "  * Teachers: [Mike Bommarito](https://www.linkedin.com/in/bommarito) and [Sarah Cherng](https://www.linkedin.com/pub/sarah-cherng/35/1b7/316)\n",
    "\n",
    "#### [View this repository on NBViewer](http://nbviewer.ipython.org/github/mjbommar/cscs-530-w2015/tree/master/)"
   ]
  },
  {
   "cell_type": "markdown",
   "metadata": {},
   "source": [
    "## Reading Model Results\n",
    "\n",
    "  In this notebook, we'll learn a common pattern for reading the results of a model run.  Specifically, we'll:\n",
    "        \n",
    "  * find all model output directories\n",
    "  * read the model output into a new dataset\n",
    "  * visualize the results\n",
    "  * perform a statistical test"
   ]
  },
  {
   "cell_type": "code",
   "execution_count": 1,
   "metadata": {
    "collapsed": true
   },
   "outputs": [],
   "source": [
    "# Imports\n",
    "import matplotlib.pyplot as plt\n",
    "import numpy\n",
    "import pandas\n",
    "import scipy\n",
    "import scipy.stats\n"
   ]
  },
  {
   "cell_type": "markdown",
   "metadata": {},
   "source": [
    "## Loading Model Results\n",
    "\n",
    "  First, we need to find the list of all directories in our model output folder from the ``001-storing-model-results`` notebook.  We can do this using the ``glob`` and ``os``  modules, which will allow us to work with directories and list their contents."
   ]
  },
  {
   "cell_type": "code",
   "execution_count": 6,
   "metadata": {
    "collapsed": false
   },
   "outputs": [
    {
     "data": {
      "text/plain": [
       "['.ipynb_checkpoints',\n",
       " '004-sir_model.ipynb',\n",
       " '2010citytocity.csv',\n",
       " '2010citytocity.xlsx',\n",
       " '2010citytocity_monthly.csv',\n",
       " 'Airplane Infection.ipynb',\n",
       " 'airplane_infection.ipynb',\n",
       " 'airplane_infection.py',\n",
       " 'airplane_infection.pyc',\n",
       " 'Baseline Infection Sweep.ipynb',\n",
       " 'Global Airplane Infection.ipynb',\n",
       " 'output',\n",
       " 'Read In Data.ipynb',\n",
       " 'test.csv',\n",
       " 'test.xls',\n",
       " 'test.xlsx']"
      ]
     },
     "execution_count": 6,
     "metadata": {},
     "output_type": "execute_result"
    }
   ],
   "source": [
    "import os\n",
    "\n",
    "# Using os.listdir to show the current directory\n",
    "os.chdir(\"./IOE 513\")\n",
    "os.listdir(\"./\")"
   ]
  },
  {
   "cell_type": "code",
   "execution_count": 7,
   "metadata": {
    "collapsed": false
   },
   "outputs": [
    {
     "data": {
      "text/plain": [
       "['run-20150321-0',\n",
       " 'run-20150321-1',\n",
       " 'run-20150321-10',\n",
       " 'run-20150321-100',\n",
       " 'run-20150321-101']"
      ]
     },
     "execution_count": 7,
     "metadata": {},
     "output_type": "execute_result"
    }
   ],
   "source": [
    "# Using os.listdir to show the output directory\n",
    "os.listdir(\"output\")[0:5]"
   ]
  },
  {
   "cell_type": "code",
   "execution_count": 11,
   "metadata": {
    "collapsed": false
   },
   "outputs": [
    {
     "data": {
      "text/plain": [
       "['output\\\\run-20150321-0',\n",
       " 'output\\\\run-20150321-1',\n",
       " 'output\\\\run-20150321-10',\n",
       " 'output\\\\run-20150321-100',\n",
       " 'output\\\\run-20150321-101']"
      ]
     },
     "execution_count": 11,
     "metadata": {},
     "output_type": "execute_result"
    }
   ],
   "source": [
    "import glob\n",
    "\n",
    "# Using glob to list the output directory\n",
    "glob.glob(\"output/run-*\")[0:5]"
   ]
  },
  {
   "cell_type": "markdown",
   "metadata": {},
   "source": [
    "## Using os.path.join and os.path.basename\n",
    "\n",
    "  We can also create paths and navigate directory trees using ``os.path.join``.  This method helps build file and directory paths, like we see below."
   ]
  },
  {
   "cell_type": "code",
   "execution_count": 8,
   "metadata": {
    "collapsed": false
   },
   "outputs": [
    {
     "name": "stdout",
     "output_type": "stream",
     "text": [
      "run-20150321-0\n",
      "run-20150321-0\\parameters.csv\n"
     ]
    }
   ],
   "source": [
    "run_directory = os.listdir(\"output\")[0]\n",
    "print(run_directory)\n",
    "print(os.path.join(run_directory,\n",
    "                   \"parameters.csv\"))\n",
    "             "
   ]
  },
  {
   "cell_type": "code",
   "execution_count": 9,
   "metadata": {
    "collapsed": false
   },
   "outputs": [
    {
     "name": "stdout",
     "output_type": "stream",
     "text": [
      "run-20150321-0\n",
      "run-20150321-0\n"
     ]
    }
   ],
   "source": [
    "print(run_directory)\n",
    "print(os.path.basename(run_directory))"
   ]
  },
  {
   "cell_type": "markdown",
   "metadata": {},
   "source": [
    "### Iterating through model run directories\n",
    " \n",
    "  Next, once we are able to \"find\" all model run directories, we need to iterate through them and read all data from them.  In the cells, we create data frames for each CSV output file from out ``001-storing-model-results`` notebook."
   ]
  },
  {
   "cell_type": "code",
   "execution_count": 12,
   "metadata": {
    "collapsed": false
   },
   "outputs": [],
   "source": [
    "# Create \"complete\" data frames\n",
    "run_data = []\n",
    "all_timeseries_data = pandas.DataFrame()\n",
    "all_interaction_data = pandas.DataFrame()\n",
    "\n",
    "\n",
    "# Iterate over all directories\n",
    "for run_directory in glob.glob(\"output/run*\"):\n",
    "    # Get the run ID from our directory name\n",
    "    run_id = os.path.basename(run_directory)\n",
    "    \n",
    "    # Load parameter and reshape\n",
    "    run_parameter_data = pandas.read_csv(os.path.join(run_directory, \"parameters.csv\"))\n",
    "    run_parameter_data.index = run_parameter_data[\"parameter\"]\n",
    "    \n",
    "    # Load timeseries and interactions\n",
    "    run_interaction_data = pandas.read_csv(os.path.join(run_directory, \"interactions.csv\"))\n",
    "    run_interaction_data[\"run\"] = run_id\n",
    "    run_ts_data = pandas.read_csv(os.path.join(run_directory, \"timeseries.csv\"))\n",
    "    run_ts_data[\"run\"] = run_id\n",
    "    \n",
    "    # Flatten parameter data into interaction and TS data\n",
    "    for parameter_name in run_parameter_data.index:\n",
    "        run_ts_data.loc[:, parameter_name] = run_parameter_data.loc[parameter_name, \"value\"]\n",
    "        \n",
    "    if run_interaction_data.shape[0] > 0:\n",
    "        for parameter_name in run_parameter_data.index:\n",
    "            run_interaction_data.loc[:, parameter_name] = run_parameter_data.loc[parameter_name, \"value\"]\n",
    "    \n",
    "    # Store raw run data\n",
    "    run_data.append({\"parameters\": run_parameter_data,\n",
    "                    \"interactions\": run_interaction_data,\n",
    "                    \"timeseries\": run_ts_data})\n",
    "    \n",
    "    # Update final steps\n",
    "    all_timeseries_data = all_timeseries_data.append(run_ts_data)\n",
    "    all_interaction_data = all_interaction_data.append(run_interaction_data)"
   ]
  },
  {
   "cell_type": "code",
   "execution_count": 13,
   "metadata": {
    "collapsed": false
   },
   "outputs": [
    {
     "name": "stdout",
     "output_type": "stream",
     "text": [
      "(37000, 12)\n",
      "(4156220, 14)\n"
     ]
    }
   ],
   "source": [
    "# let's see how many records we have.\n",
    "print(all_timeseries_data.shape)\n",
    "print(all_interaction_data.shape)"
   ]
  },
  {
   "cell_type": "code",
   "execution_count": 112,
   "metadata": {
    "collapsed": false
   },
   "outputs": [
    {
     "data": {
      "text/html": [
       "<div style=\"max-height:1000px;max-width:1500px;overflow:auto;\">\n",
       "<table border=\"1\" class=\"dataframe\">\n",
       "  <thead>\n",
       "    <tr style=\"text-align: right;\">\n",
       "      <th></th>\n",
       "      <th>Unnamed: 0</th>\n",
       "      <th>num_infected</th>\n",
       "      <th>num_interactions</th>\n",
       "      <th>num_interactions_condoms</th>\n",
       "      <th>run</th>\n",
       "      <th>condom_cost</th>\n",
       "      <th>max_prob_hookup</th>\n",
       "      <th>min_condom_budget</th>\n",
       "      <th>min_prob_hookup</th>\n",
       "      <th>max_condom_budget</th>\n",
       "      <th>min_subsidy</th>\n",
       "      <th>max_subsidy</th>\n",
       "      <th>grid_size</th>\n",
       "      <th>prob_transmit</th>\n",
       "      <th>prob_transmit_condom</th>\n",
       "      <th>num_people</th>\n",
       "    </tr>\n",
       "  </thead>\n",
       "  <tbody>\n",
       "    <tr>\n",
       "      <th>0</th>\n",
       "      <td> 0</td>\n",
       "      <td> 1</td>\n",
       "      <td> 1</td>\n",
       "      <td> 1</td>\n",
       "      <td> run-20150318-97</td>\n",
       "      <td> 1</td>\n",
       "      <td> 0.2</td>\n",
       "      <td> 0</td>\n",
       "      <td> 0</td>\n",
       "      <td> 1</td>\n",
       "      <td> 1</td>\n",
       "      <td> 1</td>\n",
       "      <td> 10</td>\n",
       "      <td> 0.9</td>\n",
       "      <td> 0.1</td>\n",
       "      <td> 10</td>\n",
       "    </tr>\n",
       "    <tr>\n",
       "      <th>1</th>\n",
       "      <td> 1</td>\n",
       "      <td> 1</td>\n",
       "      <td> 1</td>\n",
       "      <td> 1</td>\n",
       "      <td> run-20150318-97</td>\n",
       "      <td> 1</td>\n",
       "      <td> 0.2</td>\n",
       "      <td> 0</td>\n",
       "      <td> 0</td>\n",
       "      <td> 1</td>\n",
       "      <td> 1</td>\n",
       "      <td> 1</td>\n",
       "      <td> 10</td>\n",
       "      <td> 0.9</td>\n",
       "      <td> 0.1</td>\n",
       "      <td> 10</td>\n",
       "    </tr>\n",
       "    <tr>\n",
       "      <th>2</th>\n",
       "      <td> 2</td>\n",
       "      <td> 1</td>\n",
       "      <td> 1</td>\n",
       "      <td> 1</td>\n",
       "      <td> run-20150318-97</td>\n",
       "      <td> 1</td>\n",
       "      <td> 0.2</td>\n",
       "      <td> 0</td>\n",
       "      <td> 0</td>\n",
       "      <td> 1</td>\n",
       "      <td> 1</td>\n",
       "      <td> 1</td>\n",
       "      <td> 10</td>\n",
       "      <td> 0.9</td>\n",
       "      <td> 0.1</td>\n",
       "      <td> 10</td>\n",
       "    </tr>\n",
       "    <tr>\n",
       "      <th>3</th>\n",
       "      <td> 3</td>\n",
       "      <td> 1</td>\n",
       "      <td> 1</td>\n",
       "      <td> 1</td>\n",
       "      <td> run-20150318-97</td>\n",
       "      <td> 1</td>\n",
       "      <td> 0.2</td>\n",
       "      <td> 0</td>\n",
       "      <td> 0</td>\n",
       "      <td> 1</td>\n",
       "      <td> 1</td>\n",
       "      <td> 1</td>\n",
       "      <td> 10</td>\n",
       "      <td> 0.9</td>\n",
       "      <td> 0.1</td>\n",
       "      <td> 10</td>\n",
       "    </tr>\n",
       "    <tr>\n",
       "      <th>4</th>\n",
       "      <td> 4</td>\n",
       "      <td> 1</td>\n",
       "      <td> 1</td>\n",
       "      <td> 1</td>\n",
       "      <td> run-20150318-97</td>\n",
       "      <td> 1</td>\n",
       "      <td> 0.2</td>\n",
       "      <td> 0</td>\n",
       "      <td> 0</td>\n",
       "      <td> 1</td>\n",
       "      <td> 1</td>\n",
       "      <td> 1</td>\n",
       "      <td> 10</td>\n",
       "      <td> 0.9</td>\n",
       "      <td> 0.1</td>\n",
       "      <td> 10</td>\n",
       "    </tr>\n",
       "  </tbody>\n",
       "</table>\n",
       "</div>"
      ],
      "text/plain": [
       "   Unnamed: 0  num_infected  num_interactions  num_interactions_condoms  \\\n",
       "0           0             1                 1                         1   \n",
       "1           1             1                 1                         1   \n",
       "2           2             1                 1                         1   \n",
       "3           3             1                 1                         1   \n",
       "4           4             1                 1                         1   \n",
       "\n",
       "               run  condom_cost  max_prob_hookup  min_condom_budget  \\\n",
       "0  run-20150318-97            1              0.2                  0   \n",
       "1  run-20150318-97            1              0.2                  0   \n",
       "2  run-20150318-97            1              0.2                  0   \n",
       "3  run-20150318-97            1              0.2                  0   \n",
       "4  run-20150318-97            1              0.2                  0   \n",
       "\n",
       "   min_prob_hookup  max_condom_budget  min_subsidy  max_subsidy  grid_size  \\\n",
       "0                0                  1            1            1         10   \n",
       "1                0                  1            1            1         10   \n",
       "2                0                  1            1            1         10   \n",
       "3                0                  1            1            1         10   \n",
       "4                0                  1            1            1         10   \n",
       "\n",
       "   prob_transmit  prob_transmit_condom  num_people  \n",
       "0            0.9                   0.1          10  \n",
       "1            0.9                   0.1          10  \n",
       "2            0.9                   0.1          10  \n",
       "3            0.9                   0.1          10  \n",
       "4            0.9                   0.1          10  "
      ]
     },
     "execution_count": 112,
     "metadata": {},
     "output_type": "execute_result"
    }
   ],
   "source": [
    "# Let's see what the data looks like.\n",
    "all_timeseries_data.head()"
   ]
  },
  {
   "cell_type": "code",
   "execution_count": 114,
   "metadata": {
    "collapsed": false
   },
   "outputs": [
    {
     "data": {
      "text/html": [
       "<div style=\"max-height:1000px;max-width:1500px;overflow:auto;\">\n",
       "<table border=\"1\" class=\"dataframe\">\n",
       "  <thead>\n",
       "    <tr style=\"text-align: right;\">\n",
       "      <th></th>\n",
       "      <th>Unnamed: 0</th>\n",
       "      <th>agent_a</th>\n",
       "      <th>agent_b</th>\n",
       "      <th>condom_cost</th>\n",
       "      <th>grid_size</th>\n",
       "      <th>is_transmission</th>\n",
       "      <th>max_condom_budget</th>\n",
       "      <th>max_prob_hookup</th>\n",
       "      <th>max_subsidy</th>\n",
       "      <th>min_condom_budget</th>\n",
       "      <th>min_prob_hookup</th>\n",
       "      <th>min_subsidy</th>\n",
       "      <th>num_people</th>\n",
       "      <th>prob_transmit</th>\n",
       "      <th>prob_transmit_condom</th>\n",
       "      <th>run</th>\n",
       "      <th>time</th>\n",
       "      <th>use_condom</th>\n",
       "    </tr>\n",
       "  </thead>\n",
       "  <tbody>\n",
       "    <tr>\n",
       "      <th>0</th>\n",
       "      <td> 0</td>\n",
       "      <td> 2</td>\n",
       "      <td> 5</td>\n",
       "      <td> 1</td>\n",
       "      <td> 10</td>\n",
       "      <td> False</td>\n",
       "      <td> 1</td>\n",
       "      <td> 0.2</td>\n",
       "      <td> 1</td>\n",
       "      <td> 0</td>\n",
       "      <td> 0.0</td>\n",
       "      <td> 1</td>\n",
       "      <td> 10</td>\n",
       "      <td> 0.9</td>\n",
       "      <td> 0.1</td>\n",
       "      <td> run-20150318-97</td>\n",
       "      <td>  0</td>\n",
       "      <td> True</td>\n",
       "    </tr>\n",
       "    <tr>\n",
       "      <th>1</th>\n",
       "      <td> 1</td>\n",
       "      <td> 5</td>\n",
       "      <td> 8</td>\n",
       "      <td> 1</td>\n",
       "      <td> 10</td>\n",
       "      <td> False</td>\n",
       "      <td> 1</td>\n",
       "      <td> 0.2</td>\n",
       "      <td> 1</td>\n",
       "      <td> 0</td>\n",
       "      <td> 0.0</td>\n",
       "      <td> 1</td>\n",
       "      <td> 10</td>\n",
       "      <td> 0.9</td>\n",
       "      <td> 0.1</td>\n",
       "      <td> run-20150318-97</td>\n",
       "      <td> 94</td>\n",
       "      <td> True</td>\n",
       "    </tr>\n",
       "    <tr>\n",
       "      <th>0</th>\n",
       "      <td> 0</td>\n",
       "      <td> 5</td>\n",
       "      <td> 9</td>\n",
       "      <td> 1</td>\n",
       "      <td> 10</td>\n",
       "      <td>  True</td>\n",
       "      <td> 1</td>\n",
       "      <td> 1.0</td>\n",
       "      <td> 1</td>\n",
       "      <td> 0</td>\n",
       "      <td> 0.8</td>\n",
       "      <td> 1</td>\n",
       "      <td> 10</td>\n",
       "      <td> 0.9</td>\n",
       "      <td> 0.1</td>\n",
       "      <td>  run-20150318-0</td>\n",
       "      <td>  0</td>\n",
       "      <td> True</td>\n",
       "    </tr>\n",
       "    <tr>\n",
       "      <th>1</th>\n",
       "      <td> 1</td>\n",
       "      <td> 5</td>\n",
       "      <td> 7</td>\n",
       "      <td> 1</td>\n",
       "      <td> 10</td>\n",
       "      <td> False</td>\n",
       "      <td> 1</td>\n",
       "      <td> 1.0</td>\n",
       "      <td> 1</td>\n",
       "      <td> 0</td>\n",
       "      <td> 0.8</td>\n",
       "      <td> 1</td>\n",
       "      <td> 10</td>\n",
       "      <td> 0.9</td>\n",
       "      <td> 0.1</td>\n",
       "      <td>  run-20150318-0</td>\n",
       "      <td>  1</td>\n",
       "      <td> True</td>\n",
       "    </tr>\n",
       "    <tr>\n",
       "      <th>2</th>\n",
       "      <td> 2</td>\n",
       "      <td> 5</td>\n",
       "      <td> 9</td>\n",
       "      <td> 1</td>\n",
       "      <td> 10</td>\n",
       "      <td> False</td>\n",
       "      <td> 1</td>\n",
       "      <td> 1.0</td>\n",
       "      <td> 1</td>\n",
       "      <td> 0</td>\n",
       "      <td> 0.8</td>\n",
       "      <td> 1</td>\n",
       "      <td> 10</td>\n",
       "      <td> 0.9</td>\n",
       "      <td> 0.1</td>\n",
       "      <td>  run-20150318-0</td>\n",
       "      <td>  1</td>\n",
       "      <td> True</td>\n",
       "    </tr>\n",
       "  </tbody>\n",
       "</table>\n",
       "</div>"
      ],
      "text/plain": [
       "   Unnamed: 0  agent_a  agent_b  condom_cost  grid_size is_transmission  \\\n",
       "0           0        2        5            1         10           False   \n",
       "1           1        5        8            1         10           False   \n",
       "0           0        5        9            1         10            True   \n",
       "1           1        5        7            1         10           False   \n",
       "2           2        5        9            1         10           False   \n",
       "\n",
       "   max_condom_budget  max_prob_hookup  max_subsidy  min_condom_budget  \\\n",
       "0                  1              0.2            1                  0   \n",
       "1                  1              0.2            1                  0   \n",
       "0                  1              1.0            1                  0   \n",
       "1                  1              1.0            1                  0   \n",
       "2                  1              1.0            1                  0   \n",
       "\n",
       "   min_prob_hookup  min_subsidy  num_people  prob_transmit  \\\n",
       "0              0.0            1          10            0.9   \n",
       "1              0.0            1          10            0.9   \n",
       "0              0.8            1          10            0.9   \n",
       "1              0.8            1          10            0.9   \n",
       "2              0.8            1          10            0.9   \n",
       "\n",
       "   prob_transmit_condom              run  time use_condom  \n",
       "0                   0.1  run-20150318-97     0       True  \n",
       "1                   0.1  run-20150318-97    94       True  \n",
       "0                   0.1   run-20150318-0     0       True  \n",
       "1                   0.1   run-20150318-0     1       True  \n",
       "2                   0.1   run-20150318-0     1       True  "
      ]
     },
     "execution_count": 114,
     "metadata": {},
     "output_type": "execute_result"
    }
   ],
   "source": [
    "all_interaction_data.head()"
   ]
  },
  {
   "cell_type": "code",
   "execution_count": 107,
   "metadata": {
    "collapsed": false
   },
   "outputs": [],
   "source": [
    "%matplotlib inline\n",
    "# let's use groupby to find some information.\n",
    "last_step_data = all_timeseries_data.groupby(\"run\").tail(1)"
   ]
  },
  {
   "cell_type": "code",
   "execution_count": 110,
   "metadata": {
    "collapsed": false
   },
   "outputs": [
    {
     "data": {
      "text/plain": [
       "<matplotlib.text.Text at 0x5c0eb50>"
      ]
     },
     "execution_count": 110,
     "metadata": {},
     "output_type": "execute_result"
    },
    {
     "data": {
      "image/png": "[encoded data removed]",
      "text/plain": [
       "<matplotlib.figure.Figure at 0x5bb2890>"
      ]
     },
     "metadata": {},
     "output_type": "display_data"
    }
   ],
   "source": [
    "# Simple plot\n",
    "f = plt.figure()\n",
    "plt.scatter(last_step_data[\"min_subsidy\"],\n",
    "           last_step_data[\"num_infected\"],\n",
    "            alpha=0.5)\n",
    "plt.xlabel(\"Subsidy\")\n",
    "plt.ylabel(\"Number infected\")\n",
    "plt.title(\"Subsidy vs. number infected\")"
   ]
  },
  {
   "cell_type": "code",
   "execution_count": 129,
   "metadata": {
    "collapsed": false
   },
   "outputs": [
    {
     "data": {
      "text/html": [
       "<div style=\"max-height:1000px;max-width:1500px;overflow:auto;\">\n",
       "<table border=\"1\" class=\"dataframe\">\n",
       "  <thead>\n",
       "    <tr style=\"text-align: right;\">\n",
       "      <th></th>\n",
       "      <th></th>\n",
       "      <th></th>\n",
       "      <th>mean</th>\n",
       "      <th>std</th>\n",
       "    </tr>\n",
       "    <tr>\n",
       "      <th>run</th>\n",
       "      <th>min_subsidy</th>\n",
       "      <th>min_prob_hookup</th>\n",
       "      <th></th>\n",
       "      <th></th>\n",
       "    </tr>\n",
       "  </thead>\n",
       "  <tbody>\n",
       "    <tr>\n",
       "      <th>run-20150318-0</th>\n",
       "      <th>1</th>\n",
       "      <th>0.8</th>\n",
       "      <td> 6.04</td>\n",
       "      <td> 3.247128</td>\n",
       "    </tr>\n",
       "    <tr>\n",
       "      <th>run-20150318-1</th>\n",
       "      <th>0</th>\n",
       "      <th>0.0</th>\n",
       "      <td> 1.00</td>\n",
       "      <td> 0.000000</td>\n",
       "    </tr>\n",
       "    <tr>\n",
       "      <th>run-20150318-10</th>\n",
       "      <th>0</th>\n",
       "      <th>0.0</th>\n",
       "      <td> 1.04</td>\n",
       "      <td> 0.196946</td>\n",
       "    </tr>\n",
       "    <tr>\n",
       "      <th>run-20150318-100</th>\n",
       "      <th>1</th>\n",
       "      <th>0.0</th>\n",
       "      <td> 1.00</td>\n",
       "      <td> 0.000000</td>\n",
       "    </tr>\n",
       "    <tr>\n",
       "      <th>run-20150318-101</th>\n",
       "      <th>1</th>\n",
       "      <th>0.4</th>\n",
       "      <td> 2.12</td>\n",
       "      <td> 1.423327</td>\n",
       "    </tr>\n",
       "  </tbody>\n",
       "</table>\n",
       "</div>"
      ],
      "text/plain": [
       "                                              mean       std\n",
       "run              min_subsidy min_prob_hookup                \n",
       "run-20150318-0   1           0.8              6.04  3.247128\n",
       "run-20150318-1   0           0.0              1.00  0.000000\n",
       "run-20150318-10  0           0.0              1.04  0.196946\n",
       "run-20150318-100 1           0.0              1.00  0.000000\n",
       "run-20150318-101 1           0.4              2.12  1.423327"
      ]
     },
     "execution_count": 129,
     "metadata": {},
     "output_type": "execute_result"
    }
   ],
   "source": [
    "# Let's use groupby with **multiple** variables now.\n",
    "mean_infected_by_subsidy = all_timeseries_data.groupby([\"run\", \"min_subsidy\", \"min_prob_hookup\"])[\"num_infected\"].mean()\n",
    "std_infected_by_subsidy = all_timeseries_data.groupby([\"run\", \"min_subsidy\", \"min_prob_hookup\"])[\"num_infected\"].std()\n",
    "infected_by_subsidy = pandas.concat((mean_infected_by_subsidy,\n",
    "                                    std_infected_by_subsidy), axis=1)\n",
    "infected_by_subsidy.columns = [\"mean\", \"std\"]\n",
    "infected_by_subsidy.head()"
   ]
  },
  {
   "cell_type": "code",
   "execution_count": 134,
   "metadata": {
    "collapsed": false
   },
   "outputs": [
    {
     "data": {
      "text/plain": [
       "<matplotlib.text.Text at 0x65600d0>"
      ]
     },
     "execution_count": 134,
     "metadata": {},
     "output_type": "execute_result"
    },
    {
     "data": {
      "image/png": "[encoded data removed]",
      "text/plain": [
       "<matplotlib.figure.Figure at 0x6649690>"
      ]
     },
     "metadata": {},
     "output_type": "display_data"
    }
   ],
   "source": [
    "# Plot a distribution\n",
    "f = plt.figure()\n",
    "_ = plt.hist(last_step_data[\"num_infected\"].values,\n",
    "         color=\"red\",\n",
    "         alpha=0.5)\n",
    "plt.xlabel(\"Number infected\")\n",
    "plt.ylabel(\"Frequency\")\n",
    "plt.title(\"Distribution of number infected\")"
   ]
  },
  {
   "cell_type": "code",
   "execution_count": 140,
   "metadata": {
    "collapsed": false
   },
   "outputs": [],
   "source": [
    "# Perform distribution tests for no subsidy vs. some subsidy\n",
    "no_subsidy_data = last_step_data.loc[last_step_data[\"min_subsidy\"] == 0,\n",
    "                                     \"num_infected\"]\n",
    "some_subsidy_data = last_step_data.loc[last_step_data[\"min_subsidy\"] > 0,\n",
    "                                     \"num_infected\"]"
   ]
  },
  {
   "cell_type": "code",
   "execution_count": 153,
   "metadata": {
    "collapsed": false
   },
   "outputs": [
    {
     "data": {
      "text/plain": [
       "<matplotlib.text.Text at 0x6c6b2d0>"
      ]
     },
     "execution_count": 153,
     "metadata": {},
     "output_type": "execute_result"
    },
    {
     "data": {
      "image/png": "[encoded data removed]",
      "text/plain": [
       "<matplotlib.figure.Figure at 0x61cd650>"
      ]
     },
     "metadata": {},
     "output_type": "display_data"
    }
   ],
   "source": [
    "# Plot a distribution\n",
    "f = plt.figure()\n",
    "_ = plt.hist(no_subsidy_data.values,\n",
    "         color=\"red\",\n",
    "         alpha=0.25)\n",
    "_ = plt.hist(some_subsidy_data.values,\n",
    "            color=\"blue\",\n",
    "            alpha=0.25)\n",
    "plt.xlabel(\"Number infected\")\n",
    "plt.ylabel(\"Frequency\")\n",
    "plt.title(\"Distribution of number infected\")"
   ]
  },
  {
   "cell_type": "code",
   "execution_count": 147,
   "metadata": {
    "collapsed": false
   },
   "outputs": [
    {
     "name": "stdout",
     "output_type": "stream",
     "text": [
      "(0.6422606706619263, 2.495028184057446e-07)\n",
      "(0.7675792574882507, 1.284632400455621e-10)\n",
      "(5.5031636888978275, 0.020650644408257007)\n"
     ]
    }
   ],
   "source": [
    "# Test for normality\n",
    "print(scipy.stats.shapiro(no_subsidy_data))\n",
    "print(scipy.stats.shapiro(some_subsidy_data))\n",
    "\n",
    "# Test for equal variances\n",
    "print(scipy.stats.levene(no_subsidy_data, some_subsidy_data))"
   ]
  },
  {
   "cell_type": "code",
   "execution_count": 148,
   "metadata": {
    "collapsed": false
   },
   "outputs": [
    {
     "name": "stdout",
     "output_type": "stream",
     "text": [
      "(2.3313286379544826, 0.021432766613366575)\n",
      "(2.8181818181818183, 0.0048296452559399346)\n"
     ]
    }
   ],
   "source": [
    "# Perform t-test\n",
    "print(scipy.stats.ttest_ind(no_subsidy_data, some_subsidy_data))\n",
    "\n",
    "# Perform rank-sum test\n",
    "print(scipy.stats.ranksums(no_subsidy_data, some_subsidy_data))"
   ]
  },
  {
   "cell_type": "code",
   "execution_count": null,
   "metadata": {
    "collapsed": true
   },
   "outputs": [],
   "source": []
  }
 ],
 "metadata": {
  "kernelspec": {
   "display_name": "Python 2",
   "language": "python",
   "name": "python2"
  },
  "language_info": {
   "codemirror_mode": {
    "name": "ipython",
    "version": 2
   },
   "file_extension": ".py",
   "mimetype": "text/x-python",
   "name": "python",
   "nbconvert_exporter": "python",
   "pygments_lexer": "ipython2",
   "version": "2.7.8"
  }
 },
 "nbformat": 4,
 "nbformat_minor": 0
}
