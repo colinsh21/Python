{
 "cells": [
  {
   "cell_type": "code",
   "execution_count": 1,
   "metadata": {
    "collapsed": false
   },
   "outputs": [
    {
     "name": "stderr",
     "output_type": "stream",
     "text": [
      ":0: FutureWarning: IPython widgets are experimental and may change in the future.\n"
     ]
    }
   ],
   "source": [
    "%matplotlib inline\n",
    "\n",
    "# Standard imports\n",
    "import copy\n",
    "import itertools\n",
    "\n",
    "# Scientific computing imports\n",
    "import numpy\n",
    "import matplotlib.pyplot as plt\n",
    "import networkx as nx\n",
    "import pandas\n",
    "import seaborn; seaborn.set()\n",
    "\n",
    "# Import widget methods\n",
    "from IPython.html.widgets import *"
   ]
  },
  {
   "cell_type": "code",
   "execution_count": 2,
   "metadata": {
    "collapsed": false
   },
   "outputs": [
    {
     "ename": "SyntaxError",
     "evalue": "invalid syntax (<ipython-input-2-c7f4d99adda2>, line 29)",
     "output_type": "error",
     "traceback": [
      "\u001b[1;36m  File \u001b[1;32m\"<ipython-input-2-c7f4d99adda2>\"\u001b[1;36m, line \u001b[1;32m29\u001b[0m\n\u001b[1;33m    self.\u001b[0m\n\u001b[1;37m         ^\u001b[0m\n\u001b[1;31mSyntaxError\u001b[0m\u001b[1;31m:\u001b[0m invalid syntax\n"
     ]
    }
   ],
   "source": [
    "class Ant(object):\n",
    "    \"\"\"\n",
    "    Ant class, which encapsulates the entire behavior of an ant.\n",
    "    \"\"\"\n",
    "    def __init__(self,model,ant_id):\n",
    "    \n",
    "        # Set model link and ID\n",
    "        self.model = model\n",
    "        self.ant_id = ant_id\n",
    "        \n",
    "    def random_walk(self,s,t):\n",
    "        #Random Walk\n",
    "        #initialize\n",
    "        self.g=self.model.g\n",
    "        self.last_nodes=[]\n",
    "        self.last_nodes.append(s)\n",
    "\n",
    "\n",
    "        #Agent Step\n",
    "        while self.model.sink not in self.p:\n",
    "            for self.base_node in self.last_nodes:\n",
    "                #get neighbors\n",
    "                self.p_neighbors=self.get_neighbors(self.base_node)\n",
    "                \n",
    "                #get pheremone of each edge to neighbor\n",
    "                edge_pheremone_list=[]\n",
    "                for potential_node in self.p_neighbors:\n",
    "                    edge_pheremon_list.append(self.get_pheremone_edge((base_node,potential_node)))\n",
    "                \n",
    "                #convert pheremones to percentage\n",
    "                edge_percent_list = [float(i)/sum(edge_pheremone_list) for i in edge_pheremone_list]   \n",
    "                edge_cumulative_percent=numpy.cumsum(edge_percent_list)\n",
    "                \n",
    "                #Choose next node\n",
    "                ##Left from 2/21/15\n",
    "\n",
    "\n",
    "        return (self.p)\n",
    "    \n",
    "    def get_neighbors(self,node):\n",
    "        \"\"\"\n",
    "        Return neighbors, calling through model.\n",
    "        \"\"\"\n",
    "        return self.model.get_ant_neighbors(node)\n",
    "        \n",
    "    \n",
    "    \n",
    "    def get_pheremone_node(self,node):\n",
    "    \n",
    "    \n",
    "    \n",
    "    def get_pheremone_edge(self,edge):\n",
    "        \"\"\"\n",
    "        Return edge pheremone, calling through model.\n",
    "        \"\"\"\n",
    "        return self.model.get_edge_pheremone(edge)\n",
    "    \n",
    "\n",
    "    def __repr__(self):\n",
    "        '''\n",
    "        Return string representation.\n",
    "        '''\n",
    "        skip_none = True\n",
    "        repr_string = type(self).__name__ + \" [\"\n",
    "        except_list = \"model\"\n",
    "\n",
    "        elements = [e for e in dir(self) if str(e) not in except_list]\n",
    "        for e in elements:\n",
    "            # Make sure we only display \"public\" fields; skip anything private (_*), that is a method/function, or that is a module.\n",
    "            if not e.startswith(\"_\") and eval('type(self.{0}).__name__'.format(e)) not in ['DataFrame', 'function', 'method', 'builtin_function_or_method', 'module', 'instancemethod']:\n",
    "                    value = eval(\"self.\" + e)\n",
    "                    if value != None and skip_none == True:\n",
    "                        repr_string += \"{0}={1}, \".format(e, value)\n",
    "\n",
    "        # Clean up trailing space and comma.\n",
    "        return repr_string.strip(\" \").strip(\",\") + \"]\"\n",
    "\n",
    "    "
   ]
  },
  {
   "cell_type": "code",
   "execution_count": 3,
   "metadata": {
    "collapsed": true
   },
   "outputs": [],
   "source": [
    "class Space(object):\n",
    "    \"\"\"\n",
    "    Space class, which encapsulates the entire behavior of a single \"run\" ACO.\n",
    "    \"\"\"\n",
    "    def __init__(self, size,num_ants=1,source=(0,0),sink=(3,3)):\n",
    "        \"\"\"\n",
    "        Class constructor.\n",
    "        \"\"\"\n",
    "        # Set our model parameters\n",
    "        self.size = size\n",
    "        self.sink = sink\n",
    "        self.source=source\n",
    "        self.num_ants=num_ants\n",
    "        \n",
    "        # Set our state variables\n",
    "        self.t = 0\n",
    "        self.ants = []\n",
    "\n",
    "        \n",
    "        # Call our setup methods to initialize space, people, and institution.\n",
    "        self.setup_space()\n",
    "        self.setup_ants()\n",
    "        \n",
    "\n",
    "    def setup_space(self):\n",
    "        \"\"\"\n",
    "        Method to setup our space.\n",
    "        \"\"\"\n",
    "        # Initialize a space with a grid network\n",
    "        self.g = nx.grid_graph(dim=[self.size,self.size])\n",
    "        self.g=self.g.to_directed()\n",
    "        \n",
    "        #Set Pheremones\n",
    "        for e in self.g.edges_iter():\n",
    "            self.g.add_edge(e[0],e[1],capacity=0)\n",
    "            self.g.add_edge(e[0],e[1],edge_pheremone=1)\n",
    "            self.g.add_edge(e[0],e[1],capacity_pheremone=[(1,1),(2,1)])\n",
    "            print(self.g[e[0]][e[1]])\n",
    "\n",
    "        self.g_layout = nx.spectral_layout(self.g)\n",
    "\n",
    "        #nx.draw_networkx(self.g, pos=self.g_layout, node_color='#dddddd')\n",
    "        #print((self.g.number_of_nodes(), self.g.number_of_edges()))\n",
    "\n",
    "        #plt.show() \n",
    "        \n",
    "    def setup_ants(self):\n",
    "        \"\"\"\n",
    "        Method to setup our space.\n",
    "        \"\"\"\n",
    "        \n",
    "        # First, begin by creating all ants.\n",
    "        for i in xrange(self.num_ants):\n",
    "            self.ants.append(Ant(model=self,ant_id=i))\n",
    "            \n",
    "    def get_edge_pheremone(self,edge):\n",
    "        \"\"\"\n",
    "        Get edge decision pheremon for ant call\n",
    "        \"\"\"        \n",
    "        return self.g[edge[0]][edge[1]]['edge_pheremone']\n",
    "        \n",
    "        \n",
    "    def get_ant_neighbors(self,node):\n",
    "        \"\"\"\n",
    "        Get node neighbors for ant call\n",
    "        \"\"\"\n",
    "        return self.g.neighbors(node)\n",
    "            \n",
    "    def get_path(self, ant_id):\n",
    "        \"\"\"\n",
    "        Get the path of an ant based on their ID.\n",
    "        \"\"\"\n",
    "        return self.ants[ant_id].random_walk(self.source,self.sink)\n",
    "    \n",
    "    def step(self):\n",
    "        \"\"\"\n",
    "        Model step function.\n",
    "        \"\"\"\n",
    "        #Ants make paths\n",
    "        self.ant_paths=[]\n",
    "        for i in xrange(self.num_ants):\n",
    "            self.ant_paths.append((self.get_path(i)))\n",
    "                                      "
   ]
  },
  {
   "cell_type": "code",
   "execution_count": 30,
   "metadata": {
    "collapsed": false
   },
   "outputs": [
    {
     "name": "stdout",
     "output_type": "stream",
     "text": [
      "[(0, 1), (0, 0)]\n",
      "[((0, 1), (0, 0)), ((0, 0), (0, 1))]\n",
      "0\n",
      "{'capacity': 0, 'edge_pheremone': 1, 'capacity_pheremone': [(1, 1), (2, 1)]}\n",
      "{'capacity': 0, 'edge_pheremone': 1, 'capacity_pheremone': [(1, 1), (2, 1)]}\n"
     ]
    }
   ],
   "source": [
    "g = nx.grid_graph(dim=[1,2])\n",
    "\n",
    "g=g.to_directed()\n",
    "\n",
    "g.add_edge((0,0),(0,1),capacity=0)\n",
    "g.add_edge((0,0),(0,1),edge_pheremone=1)\n",
    "g.add_edge((0,0),(0,1),capacity_pheremone=[(1,1),(2,1)])\n",
    "print(g.nodes())\n",
    "print(g.edges())\n",
    "print(g[(0,0)][(0,1)]['capacity'])\n",
    "g[(0,0)][(0,1)]\n",
    "\n"
   ]
  },
  {
   "cell_type": "code",
   "execution_count": 63,
   "metadata": {
    "collapsed": false
   },
   "outputs": [
    {
     "name": "stdout",
     "output_type": "stream",
     "text": [
      "[0.2, 0.4, 0.4]\n"
     ]
    }
   ],
   "source": [
    "#Pheremone test\n",
    "\n",
    "l=[.1,.2,.2]\n",
    "nl=[0]\n",
    "for i in xrange(len(l)):\n",
    "    nl.append(l[i]/sum(l))\n",
    "\n",
    "print(nl)"
   ]
  },
  {
   "cell_type": "code",
   "execution_count": 78,
   "metadata": {
    "collapsed": false
   },
   "outputs": [
    {
     "name": "stdout",
     "output_type": "stream",
     "text": [
      "((0, 1), (0, 0))\n",
      "{'capacity': 0, 'edge_pheremone': 1, 'capacity_pheremone': [(1, 1), (2, 1)]}\n",
      "((0, 1), (1, 1))\n",
      "{'capacity': 0, 'edge_pheremone': 1, 'capacity_pheremone': [(1, 1), (2, 1)]}\n",
      "((1, 0), (0, 0))\n",
      "{'capacity': 0, 'edge_pheremone': 1, 'capacity_pheremone': [(1, 1), (2, 1)]}\n",
      "((1, 0), (1, 1))\n",
      "{'capacity': 0, 'edge_pheremone': 1, 'capacity_pheremone': [(1, 1), (2, 1)]}\n",
      "((0, 0), (0, 1))\n",
      "{'capacity': 0, 'edge_pheremone': 1, 'capacity_pheremone': [(1, 1), (2, 1)]}\n",
      "((0, 0), (1, 0))\n",
      "{'capacity': 0, 'edge_pheremone': 1, 'capacity_pheremone': [(1, 1), (2, 1)]}\n",
      "((1, 1), (0, 1))\n",
      "{'capacity': 0, 'edge_pheremone': 1, 'capacity_pheremone': [(1, 1), (2, 1)]}\n",
      "((1, 1), (1, 0))\n",
      "{'capacity': 0, 'edge_pheremone': 1, 'capacity_pheremone': [(1, 1), (2, 1)]}\n",
      "[(0, 1), (1, 0), (0, 0), (1, 1)]\n",
      "[(0, 1), (1, 0)]\n",
      "(0, 1)\n",
      "((0, 0), (0, 1))\n",
      "(1, 0)\n",
      "((0, 0), (1, 0))\n",
      "[(((0, 0), (0, 1)), 1), (((0, 0), (1, 0)), 1)]\n",
      "[1, 1]\n",
      "[0.5, 0.5]\n",
      "[ 0.5  1. ]\n"
     ]
    }
   ],
   "source": [
    "g = nx.grid_graph(dim=[2,2])\n",
    "\n",
    "g=g.to_directed()\n",
    "\n",
    "for e in g.edges_iter():\n",
    "    print(e)\n",
    "    g.add_edge(e[0],e[1],capacity=0)\n",
    "    g.add_edge(e[0],e[1],edge_pheremone=1)\n",
    "    g.add_edge(e[0],e[1],capacity_pheremone=[(1,1),(2,1)])\n",
    "    print(g[e[0]][e[1]])\n",
    "\n",
    "print(g.nodes())\n",
    "node=(0,0)\n",
    "n_neighbors=g.neighbors(node)\n",
    "print(n_neighbors)\n",
    "epl=[]\n",
    "\n",
    "#Get pheremone for each neighbor edge\n",
    "for n in n_neighbors:\n",
    "    print(n)\n",
    "    edge=(node,n)\n",
    "    print(edge)\n",
    "    pheremone=g[edge[0]][edge[1]]['edge_pheremone']\n",
    "    epl.append((edge,pheremone))\n",
    "    \n",
    "print(epl)\n",
    "\n",
    "#convert pheremone to percentage\n",
    "epherl=[]\n",
    "for i in xrange(len(epl)):\n",
    "    epherl.append(epl[i][1])\n",
    "print(epherl)\n",
    "    \n",
    "epercl = [float(i)/sum(epherl) for i in epherl]   \n",
    "print(epercl)\n",
    "\n",
    "ecumsum=numpy.cumsum(epercl)\n",
    "print(ecumsum)\n",
    "\n"
   ]
  },
  {
   "cell_type": "code",
   "execution_count": null,
   "metadata": {
    "collapsed": true
   },
   "outputs": [],
   "source": []
  }
 ],
 "metadata": {
  "kernelspec": {
   "display_name": "Python 2",
   "name": "python2"
  },
  "language_info": {
   "codemirror_mode": {
    "name": "ipython",
    "version": 2
   },
   "file_extension": ".py",
   "mimetype": "text/x-python",
   "name": "python",
   "nbconvert_exporter": "python",
   "pygments_lexer": "ipython2",
   "version": "2.7.8"
  }
 },
 "nbformat": 4,
 "nbformat_minor": 0
}
