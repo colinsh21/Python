{
 "metadata": {
  "name": "",
  "signature": "sha256:2682b2c733f10c63c5ee172f87a72086a9d90ef0da504a401b95ffd025925293"
 },
 "nbformat": 3,
 "nbformat_minor": 0,
 "worksheets": [
  {
   "cells": [
    {
     "cell_type": "code",
     "collapsed": false,
     "input": [
      "import numpy\n",
      "import matplotlib.pyplot as plt\n",
      "\n",
      "ini_numPeople = 10\n",
      "barCapacity = 80\n",
      "maxexitRatePerTimeStep = 9\n",
      "minexitRatePerTimeStep = 0\n",
      "maxTimeStep = 100\n",
      "currentTime=0\n",
      "people=ini_numPeople\n",
      "peopleList = []\n",
      "\n",
      "#goal is to measure how many people are in the bar across timestep\n",
      "\n",
      "#create model that counts and changes number of people in the bar\n",
      "#condition to stop on when we reach max time\n",
      "#while loops to \n",
      "#simulate random number of people entering bar at some probability \n",
      "\n",
      "\n",
      "while currentTime < maxTimeStep:\n",
      "    entering=int(numpy.random.normal(5,1))\n",
      "    exiting=int(2*people/barCapacity)*int(numpy.random.uniform(minexitRatePerTimeStep, maxexitRatePerTimeStep))\n",
      "    people = people + entering - exiting\n",
      "    if people > barCapacity:\n",
      "        people = people-entering\n",
      "        \n",
      "    if people < 0:\n",
      "        people=0\n",
      "\n",
      "    #print people\n",
      "    peopleList.append(people)\n",
      "    currentTime +=1\n",
      " \n",
      "\n",
      "%matplotlib inline \n",
      "\n",
      "f=plt.figure()\n",
      "plt.plot(peopleList)\n",
      "plt.xlabel('Timestep')\n",
      "plt.ylabel('Number of People in the Bar')\n",
      "\n"
     ],
     "language": "python",
     "metadata": {},
     "outputs": [
      {
       "metadata": {},
       "output_type": "pyout",
       "prompt_number": 36,
       "text": [
        "<matplotlib.text.Text at 0xcbffd30>"
       ]
      },
      {
       "metadata": {},
       "output_type": "display_data",
       "png": "[encoded data removed]",
       "text": [
        "<matplotlib.figure.Figure at 0xcc2b668>"
       ]
      }
     ],
     "prompt_number": 36
    },
    {
     "cell_type": "code",
     "collapsed": false,
     "input": [],
     "language": "python",
     "metadata": {},
     "outputs": [],
     "prompt_number": 27
    },
    {
     "cell_type": "code",
     "collapsed": false,
     "input": [],
     "language": "python",
     "metadata": {},
     "outputs": [],
     "prompt_number": 25
    },
    {
     "cell_type": "code",
     "collapsed": false,
     "input": [],
     "language": "python",
     "metadata": {},
     "outputs": []
    }
   ],
   "metadata": {}
  }
 ]
}