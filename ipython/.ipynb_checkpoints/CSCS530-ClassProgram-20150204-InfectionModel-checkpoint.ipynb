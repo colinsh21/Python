{
 "cells": [
  {
   "cell_type": "code",
   "execution_count": 39,
   "metadata": {
    "collapsed": false
   },
   "outputs": [
    {
     "name": "stdout",
     "output_type": "stream",
     "text": [
      "[(0, 7), (0, 8), (1, 7), (1, 8)]\n"
     ]
    }
   ],
   "source": [
    "%matplotlib inline\n",
    "import copy\n",
    "import itertools\n",
    "\n",
    "import numpy\n",
    "import matplotlib.pyplot as plt\n",
    "import pandas\n",
    "\n",
    "import seaborn; seaborn.set()\n",
    "\n",
    "# Import widget methods\n",
    "from IPython.html.widgets import *\n",
    "\n",
    "\n",
    "class classModel():\n",
    "    def __init__(self):\n",
    "        self.gridSize = 10\n",
    "        self.numPeople = 25\n",
    "        self.condoms = False\n",
    "        self.condoms_cost=1.0\n",
    "        self.space = numpy.zeros((self.gridSize, self.gridSize))\n",
    "        self.personList = []\n",
    "        self.window = 1\n",
    "        \n",
    "    def createPeople(self):\n",
    "        for x in xrange(self.numPeople):\n",
    "            self.personList.append(person(self))\n",
    "            xloc = numpy.random.randint(self.gridSize)\n",
    "            yloc = numpy.random.randint(self.gridSize)\n",
    "            while self.space[xloc,yloc] == 1:\n",
    "                xloc = numpy.random.randint(self.gridSize)\n",
    "                yloc = numpy.random.randint(self.gridSize)\n",
    "            person.locationx=xloc\n",
    "            person.locationy=yloc\n",
    "            self.space[xloc,yloc] = 1 \n",
    "        personLocation = numpy.random.randint(self.numPeople)\n",
    "        self.personList[personLocation].infected = True \n",
    "\n",
    "    def step(self):\n",
    "        for person in self.personList:\n",
    "            if person.infected == True:\n",
    "                # Find neighbors\n",
    "                row = person.locationx\n",
    "                col = person.locationy\n",
    "                neighbor_ps = [ ( x % self.gridSize, y % self.gridSize )\n",
    "                                for x, y in itertools.product(range(row-1, row+1),\n",
    "                                range(col-1, col+1))]\n",
    "                print neighbor_ps\n",
    "                \n",
    "                # Infect neighbors based on whether or not there are condoms in the world\n",
    "                \n",
    "class person():\n",
    "    def __init__(self, model, infected=False):\n",
    "        self.model=model\n",
    "        self.infected=infected\n",
    "        self.locationx = numpy.random.randint(self.model.gridSize)\n",
    "        self.locationy = numpy.random.randint(self.model.gridSize)\n",
    "        self.max_cost=numpy.random.uniform(0,2)\n",
    "        \n",
    "    def decide_condom(self):\n",
    "        if self.model.condom_cost<=self.max_cost:\n",
    "            return True\n",
    "        else:\n",
    "            return False\n",
    "        \n",
    "    def __str__(self):\n",
    "        return \"person infected={0} location=({1},{2}) max_cost={3}\".format(self.infected,\n",
    "                                                                            self.locationx,\n",
    "                                                                            self.locationy,\n",
    "                                                                            self.max_cost)    \n",
    "    def __repr__(self):\n",
    "        return \"person infected={0} location=({1},{2}) max_cost={3}\".format(self.infected,\n",
    "                                                                            self.locationx,\n",
    "                                                                            self.locationy,\n",
    "                                                                            self.max_cost)\n",
    "        \n",
    "\n",
    "model = classModel() # create a model instance\n",
    "model.createPeople() # create people for the model\n",
    "model.step() # step through the model\n",
    "\n"
   ]
  },
  {
   "cell_type": "code",
   "execution_count": 31,
   "metadata": {
    "collapsed": false
   },
   "outputs": [
    {
     "name": "stdout",
     "output_type": "stream",
     "text": [
      "<__main__.classModel instance at 0x0000000016CB0688>\n"
     ]
    }
   ],
   "source": [
    "model\n",
    "model.personList\n",
    "print(model.personList[0].model)\n",
    "\n"
   ]
  },
  {
   "cell_type": "code",
   "execution_count": 40,
   "metadata": {
    "collapsed": false
   },
   "outputs": [
    {
     "name": "stdout",
     "output_type": "stream",
     "text": [
      "person infected=True location=(1,3) max_cost=1.55322878614\n",
      "person infected=False location=(3,8) max_cost=1.32895023144\n",
      "person infected=True location=(1,3) max_cost=0.75\n"
     ]
    }
   ],
   "source": [
    "person_a=person(model)\n",
    "person_b=person(model)\n",
    "person_a.infected=True\n",
    "print (person_a)\n",
    "print (person_b)\n",
    "\n",
    "person_a.max_cost=.75\n",
    "print(person_a)"
   ]
  },
  {
   "cell_type": "code",
   "execution_count": 42,
   "metadata": {
    "collapsed": false
   },
   "outputs": [
    {
     "data": {
      "text/plain": [
       "<bound method person.decide_condom of person infected=True location=(1,3) max_cost=0.75>"
      ]
     },
     "execution_count": 42,
     "metadata": {},
     "output_type": "execute_result"
    }
   ],
   "source": [
    "person_a.decide_condom"
   ]
  },
  {
   "cell_type": "code",
   "execution_count": 7,
   "metadata": {
    "collapsed": false
   },
   "outputs": [],
   "source": []
  },
  {
   "cell_type": "code",
   "execution_count": null,
   "metadata": {
    "collapsed": false
   },
   "outputs": [],
   "source": []
  }
 ],
 "metadata": {
  "kernelspec": {
   "display_name": "Python 2",
   "name": "python2"
  },
  "language_info": {
   "codemirror_mode": {
    "name": "ipython",
    "version": 2
   },
   "file_extension": ".py",
   "mimetype": "text/x-python",
   "name": "python",
   "nbconvert_exporter": "python",
   "pygments_lexer": "ipython2",
   "version": "2.7.8"
  }
 },
 "nbformat": 4,
 "nbformat_minor": 0
}
