{
 "metadata": {
  "name": "",
  "signature": "sha256:cc0cbddf63d21677c2a54fb3f722941398e6f319f99a3ec51f53dbb2a443b36f"
 },
 "nbformat": 3,
 "nbformat_minor": 0,
 "worksheets": [
  {
   "cells": [
    {
     "cell_type": "code",
     "collapsed": false,
     "input": [
      "%matplotlib inline\n",
      "# Imports\n",
      "import numpy\n",
      "import matplotlib.pyplot as plt\n",
      "\n",
      "import seaborn; seaborn.set()"
     ],
     "language": "python",
     "metadata": {},
     "outputs": [],
     "prompt_number": 11
    },
    {
     "cell_type": "code",
     "collapsed": false,
     "input": [
      "# Set the grid size\n",
      "grid_size = 5\n",
      "\n",
      "# Create the grid\n",
      "space = numpy.full((grid_size, grid_size), numpy.nan)\n",
      "print(space)"
     ],
     "language": "python",
     "metadata": {},
     "outputs": [
      {
       "output_type": "stream",
       "stream": "stdout",
       "text": [
        "[[ nan  nan  nan  nan  nan]\n",
        " [ nan  nan  nan  nan  nan]\n",
        " [ nan  nan  nan  nan  nan]\n",
        " [ nan  nan  nan  nan  nan]\n",
        " [ nan  nan  nan  nan  nan]]\n"
       ]
      }
     ],
     "prompt_number": 7
    },
    {
     "cell_type": "code",
     "collapsed": false,
     "input": [
      "zmat = numpy.zeros((grid_size, grid_size), dtype=numpy.float64) #.int64-intergers\n",
      "print(zmat)"
     ],
     "language": "python",
     "metadata": {},
     "outputs": [
      {
       "output_type": "stream",
       "stream": "stdout",
       "text": [
        "[[ 0.  0.  0.  0.  0.]\n",
        " [ 0.  0.  0.  0.  0.]\n",
        " [ 0.  0.  0.  0.  0.]\n",
        " [ 0.  0.  0.  0.  0.]\n",
        " [ 0.  0.  0.  0.  0.]]\n"
       ]
      }
     ],
     "prompt_number": 9
    },
    {
     "cell_type": "code",
     "collapsed": false,
     "input": [
      "# Now show the space\n",
      "plt.figure()\n",
      "plt.pcolor(space, snap=True)\n",
      "plt.colorbar()"
     ],
     "language": "python",
     "metadata": {},
     "outputs": [
      {
       "metadata": {},
       "output_type": "pyout",
       "prompt_number": 12,
       "text": [
        "<matplotlib.colorbar.Colorbar instance at 0x00000000168C6888>"
       ]
      },
      {
       "metadata": {},
       "output_type": "display_data",
       "png": "[encoded data removed]",
       "text": [
        "<matplotlib.figure.Figure at 0x163e4eb8>"
       ]
      }
     ],
     "prompt_number": 12
    },
    {
     "cell_type": "code",
     "collapsed": false,
     "input": [
      "# add a 1\n",
      "zmat[0,0]=1 #zero is first indice\n",
      "print space\n",
      "plt.figure()\n",
      "plt.pcolor(zmat, snap=True)\n",
      "plt.colorbar()"
     ],
     "language": "python",
     "metadata": {},
     "outputs": [
      {
       "output_type": "stream",
       "stream": "stdout",
       "text": [
        "[[  1.  nan  nan  nan  nan]\n",
        " [ nan   1.  nan  nan  nan]\n",
        " [ nan  nan  nan  nan  nan]\n",
        " [ nan  nan  nan  nan  nan]\n",
        " [ nan  nan  nan  nan  nan]]\n"
       ]
      },
      {
       "metadata": {},
       "output_type": "pyout",
       "prompt_number": 18,
       "text": [
        "<matplotlib.colorbar.Colorbar instance at 0x0000000018902308>"
       ]
      },
      {
       "metadata": {},
       "output_type": "display_data",
       "png": "[encoded data removed]",
       "text": [
        "<matplotlib.figure.Figure at 0x182cee80>"
       ]
      }
     ],
     "prompt_number": 18
    },
    {
     "cell_type": "code",
     "collapsed": false,
     "input": [
      "# Set the grid and cell parameters\n",
      "grid_size = 25\n",
      "num_cells = 20\n",
      "\n",
      "# Create the space and activate random cells\n",
      "space = numpy.zeros((grid_size, grid_size))\n",
      "\n",
      "# Now sample the agents.\n",
      "for cell_id in range(num_cells):\n",
      "    # Sample random position\n",
      "    row = numpy.random.randint(0, grid_size)\n",
      "    col = numpy.random.randint(0, grid_size)\n",
      "    \n",
      "    # \"Endow\" the cell with the resource by setting its value to 1.\n",
      "    #space[row, col] = 1\n",
      "    add=numpy.random.randint(1,5)\n",
      "    if space[row,col] != 0:\n",
      "        space[row,col] += add        \n",
      "        print(\"Augmenting cell({0},{1}) with {2}\".format(row,col,add))\n",
      "    else:\n",
      "        space[row,col] += add \n",
      "        # Output some info about the agent.\n",
      "        print(\"Endowing cell ({0}, {1}) with {2}\".format(row,col,add))\n",
      "\n",
      "# Now show the space\n",
      "plt.figure()\n",
      "plt.pcolor(space, snap=True)\n",
      "plt.colorbar()"
     ],
     "language": "python",
     "metadata": {},
     "outputs": [
      {
       "output_type": "stream",
       "stream": "stdout",
       "text": [
        "Endowing cell (21, 12) with 3\n",
        "Endowing cell (7, 10) with 2\n",
        "Endowing cell (3, 10) with 2\n",
        "Endowing cell (2, 24) with 2\n",
        "Endowing cell (13, 20) with 1\n",
        "Endowing cell (19, 13) with 4\n",
        "Endowing cell (22, 16) with 2\n",
        "Endowing cell (22, 8) with 1\n",
        "Endowing cell (0, 5) with 4\n",
        "Endowing cell (13, 2) with 2\n",
        "Endowing cell (2, 14) with 3\n",
        "Endowing cell (12, 20) with 3\n",
        "Endowing cell (23, 18) with 2\n",
        "Endowing cell (24, 19) with 4\n",
        "Augmenting cell(7,10) with 1\n",
        "Endowing cell (14, 12) with 4\n",
        "Endowing cell (3, 17) with 1\n",
        "Endowing cell (6, 5) with 4\n",
        "Endowing cell (14, 24) with 4\n",
        "Endowing cell (23, 6) with 3\n"
       ]
      },
      {
       "metadata": {},
       "output_type": "pyout",
       "prompt_number": 46,
       "text": [
        "<matplotlib.colorbar.Colorbar instance at 0x000000001EEEC8C8>"
       ]
      },
      {
       "metadata": {},
       "output_type": "display_data",
       "png": "[encoded data removed]",
       "text": [
        "<matplotlib.figure.Figure at 0x207872b0>"
       ]
      }
     ],
     "prompt_number": 46
    },
    {
     "cell_type": "code",
     "collapsed": false,
     "input": [
      "# Set the grid and agent parameters\n",
      "grid_size = 25\n",
      "num_cells = 10\n",
      "spread = 1\n",
      "\n",
      "\n",
      "# Create the space and activate random cells\n",
      "space = numpy.zeros((grid_size, grid_size))\n",
      "\n",
      "# Now sample the agents.\n",
      "for cell_id in range(num_cells):\n",
      "    # Sample random position\n",
      "    row = int(numpy.random.normal((grid_size) / 2.0, spread))\n",
      "    col = int(numpy.random.normal((grid_size) / 2.0, spread))\n",
      "\n",
      "    # \"Activate\" the cell by setting its value to 1.\n",
      "    space[row, col] += 1\n",
      "    \n",
      "    # Output some info about the agent.\n",
      "    print(\"Endowing cell ({0}, {1}).\".format(row, col))\n",
      "\n",
      "# Now show the space\n",
      "f = plt.figure()\n",
      "plt.pcolor(space, snap=True)\n",
      "plt.colorbar()"
     ],
     "language": "python",
     "metadata": {},
     "outputs": [
      {
       "output_type": "stream",
       "stream": "stdout",
       "text": [
        "Endowing cell (11, 13).\n",
        "Endowing cell (13, 10).\n",
        "Endowing cell (12, 12).\n",
        "Endowing cell (11, 12).\n",
        "Endowing cell (13, 12).\n",
        "Endowing cell (12, 13).\n",
        "Endowing cell (12, 11).\n",
        "Endowing cell (11, 11).\n",
        "Endowing cell (12, 12).\n",
        "Endowing cell (12, 13).\n"
       ]
      },
      {
       "metadata": {},
       "output_type": "pyout",
       "prompt_number": 47,
       "text": [
        "<matplotlib.colorbar.Colorbar instance at 0x00000000203CE248>"
       ]
      },
      {
       "metadata": {},
       "output_type": "display_data",
       "png": "[encoded data removed]",
       "text": [
        "<matplotlib.figure.Figure at 0x20791048>"
       ]
      }
     ],
     "prompt_number": 47
    },
    {
     "cell_type": "code",
     "collapsed": false,
     "input": [
      "# First, we'll wrap our experiments above in a method that takes as input our grid parameters.\n",
      "def gaussian_initial_grid(grid_size=25, num_cells=10, spread=1):\n",
      "    \"\"\"\n",
      "    Create an initial 2D grid with Gaussian/normal-distributed cells.\n",
      "    \"\"\"\n",
      "    # Create the space and activate random cells\n",
      "    space = numpy.zeros((grid_size, grid_size))\n",
      "\n",
      "    # Now sample the agents.\n",
      "    for cell_id in range(num_cells):\n",
      "        # Sample random position\n",
      "        row = int(numpy.random.normal((grid_size) / 2.0, spread))\n",
      "        if row < 0: #put indices outside of boundary at the boundary\n",
      "            row=0\n",
      "        if row>grid_size-1:\n",
      "            row=grid_size-1\n",
      "        \n",
      "        col = int(numpy.random.normal((grid_size) / 2.0, spread))\n",
      "        if col < 0: #put indices outside of boundary at the boundary\n",
      "            col=0\n",
      "        if col>grid_size-1:\n",
      "            col=grid_size-1\n",
      "\n",
      "        # \"Activate\" the cell by setting its value to 1.\n",
      "        space[row, col] += 1\n",
      "\n",
      "    # Now show the space\n",
      "    f = plt.figure()\n",
      "    plt.pcolor(space, snap=True)\n",
      "    plt.colorbar()\n",
      "\n",
      "# Import widget methods\n",
      "from IPython.html.widgets import interact, fixed\n",
      "\n",
      "interact(gaussian_initial_grid, grid_size=(5, 100),\n",
      "         num_cells = (1, 500),\n",
      "         spread=(1, 100))\n"
     ],
     "language": "python",
     "metadata": {},
     "outputs": [
      {
       "metadata": {},
       "output_type": "display_data",
       "png": "[encoded data removed]",
       "text": [
        "<matplotlib.figure.Figure at 0x2518e470>"
       ]
      }
     ],
     "prompt_number": 51
    },
    {
     "cell_type": "code",
     "collapsed": false,
     "input": [
      "# First, we'll wrap our experiments above in a method that takes as input our grid parameters.\n",
      "def gaussian_initial_grid(grid_size=10, num_cells=100, spread=4):\n",
      "    \"\"\"\n",
      "    Create an initial 2D grid with Gaussian/normal-distributed cells with wrapping.\n",
      "    \"\"\"\n",
      "    # Create the space and activate random cells\n",
      "    space = numpy.zeros((grid_size, grid_size))\n",
      "\n",
      "    # Now sample the agents.\n",
      "    for cell_id in range(num_cells):\n",
      "        # Sample random position\n",
      "        # use modulo % for wrapping: % gives the remainder of a division problem\n",
      "        row = int(numpy.random.normal((grid_size) / 2.0, spread)) % grid_size\n",
      "        col = int(numpy.random.normal((grid_size) / 2.0, spread)) % grid_size\n",
      "\n",
      "        # \"Activate\" the cell by setting its value to 1.\n",
      "        space[row, col] += 1\n",
      "\n",
      "    # Now show the space\n",
      "    f = plt.figure()\n",
      "    plt.pcolor(space, snap=True)\n",
      "    plt.colorbar()\n",
      "\n",
      "# Import widget methods\n",
      "from IPython.html.widgets import interact, fixed\n",
      "\n",
      "interact(gaussian_initial_grid, grid_size=(5, 100),\n",
      "         num_cells = (1, 500),\n",
      "         spread=(1, 100))"
     ],
     "language": "python",
     "metadata": {},
     "outputs": [
      {
       "metadata": {},
       "output_type": "display_data",
       "png": "[encoded data removed]",
       "text": [
        "<matplotlib.figure.Figure at 0x251f23c8>"
       ]
      }
     ],
     "prompt_number": 52
    },
    {
     "cell_type": "code",
     "collapsed": false,
     "input": [],
     "language": "python",
     "metadata": {},
     "outputs": []
    }
   ],
   "metadata": {}
  }
 ]
}