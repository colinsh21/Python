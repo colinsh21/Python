{
 "cells": [
  {
   "cell_type": "code",
   "execution_count": 67,
   "metadata": {
    "collapsed": true
   },
   "outputs": [],
   "source": [
    "import networkx as nx\n",
    "import matplotlib.pyplot as plt\n",
    "%matplotlib inline\n"
   ]
  },
  {
   "cell_type": "code",
   "execution_count": 29,
   "metadata": {
    "collapsed": false
   },
   "outputs": [],
   "source": [
    "G=nx.path_graph(5)\n",
    "path=nx.single_source_shortest_path(G,2,cutoff=0)\n",
    "\n",
    "k_n=set()\n",
    "\n",
    "for t in path:\n",
    "    k_n.update(path[t])\n"
   ]
  },
  {
   "cell_type": "code",
   "execution_count": 30,
   "metadata": {
    "collapsed": false
   },
   "outputs": [
    {
     "name": "stdout",
     "output_type": "stream",
     "text": [
      "[2]\n"
     ]
    }
   ],
   "source": [
    "print list(k_n)"
   ]
  },
  {
   "cell_type": "code",
   "execution_count": 15,
   "metadata": {
    "collapsed": true
   },
   "outputs": [],
   "source": [
    "def knbrs(G, start, k):\n",
    "    nbrs = set([start])\n",
    "    for l in range(k):\n",
    "        nbrs = set((nbr for n in nbrs for nbr in G[n]))\n",
    "    return nbrs"
   ]
  },
  {
   "cell_type": "code",
   "execution_count": 19,
   "metadata": {
    "collapsed": false
   },
   "outputs": [
    {
     "data": {
      "text/plain": [
       "{1, 3}"
      ]
     },
     "execution_count": 19,
     "metadata": {},
     "output_type": "execute_result"
    }
   ],
   "source": [
    "knbrs(G,2,3)"
   ]
  },
  {
   "cell_type": "code",
   "execution_count": 22,
   "metadata": {
    "collapsed": true
   },
   "outputs": [],
   "source": [
    "def t_knbrs(G, start, k):\n",
    "    nbrs = [start]\n",
    "    for l in range(k):\n",
    "        nbrs = set((nbr for n in nbrs for nbr in G[n]))\n",
    "    return nbrs"
   ]
  },
  {
   "cell_type": "code",
   "execution_count": 24,
   "metadata": {
    "collapsed": false
   },
   "outputs": [
    {
     "data": {
      "text/plain": [
       "[2]"
      ]
     },
     "execution_count": 24,
     "metadata": {},
     "output_type": "execute_result"
    }
   ],
   "source": [
    "t_knbrs(G,2,0)"
   ]
  },
  {
   "cell_type": "code",
   "execution_count": 39,
   "metadata": {
    "collapsed": false
   },
   "outputs": [
    {
     "name": "stdout",
     "output_type": "stream",
     "text": [
      "[1, 3]\n",
      "[1, 0, 2, 2, 4, 3]\n",
      "set([0, 1, 2, 3, 4])\n"
     ]
    }
   ],
   "source": [
    "G=nx.path_graph(5)\n",
    "k=2\n",
    "t=set()\n",
    "t.update([0,4])\n",
    "\n",
    "for i in xrange(k):\n",
    "    new=[]\n",
    "    for n in t:\n",
    "        new.append(nx.neighbors(G,n))\n",
    "    new=[item for sublist in new for item in sublist]    \n",
    "    print new\n",
    "    t.update(new)\n",
    "        \n",
    "print t"
   ]
  },
  {
   "cell_type": "code",
   "execution_count": 32,
   "metadata": {
    "collapsed": false
   },
   "outputs": [
    {
     "name": "stdout",
     "output_type": "stream",
     "text": [
      "set([0, 5])\n"
     ]
    }
   ],
   "source": [
    "print t"
   ]
  },
  {
   "cell_type": "code",
   "execution_count": 41,
   "metadata": {
    "collapsed": false
   },
   "outputs": [
    {
     "name": "stdout",
     "output_type": "stream",
     "text": [
      "set([(0, 1)])\n"
     ]
    }
   ],
   "source": [
    "l=[(0,1),(0,1)]\n",
    "f=set(l)\n",
    "print f"
   ]
  },
  {
   "cell_type": "code",
   "execution_count": 159,
   "metadata": {
    "collapsed": false
   },
   "outputs": [
    {
     "name": "stdout",
     "output_type": "stream",
     "text": [
      "[(0, 2, 3), (4, 1, 3), (0, 1, 3), (4, 0, 3), (0, 0, 3), (4, 2, 3)]\n"
     ]
    },
    {
     "data": {
      "image/png": "[encoded data removed]",
      "text/plain": [
       "<matplotlib.figure.Figure at 0x203a1828>"
      ]
     },
     "metadata": {},
     "output_type": "display_data"
    }
   ],
   "source": [
    "\n",
    "a=nx.grid_graph(dim=[5,3,4])\n",
    "a_l=nx.spectral_layout(a)\n",
    "n_rem=[]\n",
    "for n in a:\n",
    "    #print n\n",
    "    if n[2]>2 and (n[0]==0 or n[0]>=4):\n",
    "        n_rem.append(n)\n",
    "\n",
    "print n_rem\n",
    "a.remove_nodes_from(n_rem)\n",
    "nx.draw_networkx(a,a_l)   "
   ]
  },
  {
   "cell_type": "code",
   "execution_count": 89,
   "metadata": {
    "collapsed": false
   },
   "outputs": [
    {
     "name": "stdout",
     "output_type": "stream",
     "text": [
      "layer 0 (x,y,z)\n",
      "(0, 2, 1) (0, 1, 0) (0, 1, 2) (0, 0, 1) (0, 2, 0) (0, 2, 2) (0, 1, 1) (0, 0, 2) (0, 0, 0) \n",
      "layer 1 (x,y,z)\n",
      "(1, 2, 0) (1, 2, 2) (1, 3, 1) (1, 0, 1) (1, 1, 0) (1, 1, 2) (1, 2, 1) (1, 0, 2) (1, 3, 2) (1, 0, 0) (1, 3, 0) (1, 1, 1) \n",
      "layer 2 (x,y,z)\n",
      "(2, 0, 1) (2, 3, 0) (2, 3, 2) (2, 2, 1) (2, 1, 1) (2, 0, 0) (2, 0, 2) (2, 3, 1) (2, 1, 2) (2, 2, 2) (2, 1, 0) (2, 2, 0) \n",
      "layer 3 (x,y,z)\n",
      "(3, 2, 2) (3, 1, 2) (3, 2, 0) (3, 1, 0) (3, 3, 1) (3, 0, 0) (3, 0, 2) (3, 1, 1) (3, 2, 1) (3, 3, 0) (3, 3, 2) (3, 0, 1) \n",
      "layer 4 (x,y,z)\n",
      "(4, 2, 2) (4, 1, 1) (4, 3, 2) (4, 0, 2) (4, 3, 0) (4, 0, 0) (4, 2, 1) (4, 1, 0) (4, 1, 2) (4, 0, 1) (4, 3, 1) (4, 2, 0) \n"
     ]
    }
   ],
   "source": [
    "t_c=0\n",
    "while t_c<=4:\n",
    "    print 'layer', t_c, '(x,y,z)'\n",
    "    for n in a:\n",
    "        if n[0]==t_c:\n",
    "            print n,\n",
    "    print ''\n",
    "    t_c+=1\n",
    "    "
   ]
  },
  {
   "cell_type": "code",
   "execution_count": 160,
   "metadata": {
    "collapsed": false
   },
   "outputs": [],
   "source": [
    "x=[n[0] for n in a.nodes()]\n",
    "y=[n[1] for n in a.nodes()]\n",
    "z=[n[2] for n in a.nodes()]\n",
    "\n",
    "#components\n",
    "#engine(1,1,0), powering(0,1,0), chiller(3,1,0), bridge(3,1,3), defense(0,1,2), loads (4,0,2)(4,2,2) \n",
    "x_c=[1,0,3,3,0,4,4]\n",
    "z_c=[0,0,0,3,2,2,2]\n",
    "y_c=[1,1,1,1,1,0,2]\n",
    "\n",
    "\n",
    "#print y"
   ]
  },
  {
   "cell_type": "code",
   "execution_count": 164,
   "metadata": {
    "collapsed": false
   },
   "outputs": [
    {
     "data": {
      "image/png": "[encoded data removed]",
      "text/plain": [
       "<matplotlib.figure.Figure at 0x1f2c5e48>"
      ]
     },
     "metadata": {},
     "output_type": "display_data"
    }
   ],
   "source": [
    "from mpl_toolkits.mplot3d import Axes3D\n",
    "fig = plt.figure()\n",
    "ax = fig.add_subplot(111, projection='3d')\n",
    "ax.scatter(x,y,z)\n",
    "ax.scatter(x_c,y_c,z_c,c='r')\n",
    "for u,v in a.edges():\n",
    "    x_p=[u[0],v[0]]\n",
    "    y_p=[u[1],v[1]]\n",
    "    z_p=[u[2],v[2]]\n",
    "    ax.plot(x_p,y_p,z_p,c='b')\n",
    "    \n",
    "ax.view_init(30,30)\n",
    "    "
   ]
  },
  {
   "cell_type": "code",
   "execution_count": 129,
   "metadata": {
    "collapsed": false
   },
   "outputs": [
    {
     "ename": "NetworkXError",
     "evalue": "The node (3, 1, 3) is not in the graph.",
     "output_type": "error",
     "traceback": [
      "\u001b[1;31m---------------------------------------------------------------------------\u001b[0m",
      "\u001b[1;31mNetworkXError\u001b[0m                             Traceback (most recent call last)",
      "\u001b[1;32m<ipython-input-129-63695cb9c1f7>\u001b[0m in \u001b[0;36m<module>\u001b[1;34m()\u001b[0m\n\u001b[1;32m----> 1\u001b[1;33m \u001b[0ma\u001b[0m\u001b[1;33m.\u001b[0m\u001b[0mneighbors\u001b[0m\u001b[1;33m(\u001b[0m\u001b[1;33m(\u001b[0m\u001b[1;36m3\u001b[0m\u001b[1;33m,\u001b[0m\u001b[1;36m1\u001b[0m\u001b[1;33m,\u001b[0m\u001b[1;36m3\u001b[0m\u001b[1;33m)\u001b[0m\u001b[1;33m)\u001b[0m\u001b[1;33m\u001b[0m\u001b[0m\n\u001b[0m",
      "\u001b[1;32mC:\\Anaconda\\lib\\site-packages\\networkx\\classes\\graph.pyc\u001b[0m in \u001b[0;36mneighbors\u001b[1;34m(self, n)\u001b[0m\n\u001b[0;32m   1058\u001b[0m             \u001b[1;32mreturn\u001b[0m \u001b[0mlist\u001b[0m\u001b[1;33m(\u001b[0m\u001b[0mself\u001b[0m\u001b[1;33m.\u001b[0m\u001b[0madj\u001b[0m\u001b[1;33m[\u001b[0m\u001b[0mn\u001b[0m\u001b[1;33m]\u001b[0m\u001b[1;33m)\u001b[0m\u001b[1;33m\u001b[0m\u001b[0m\n\u001b[0;32m   1059\u001b[0m         \u001b[1;32mexcept\u001b[0m \u001b[0mKeyError\u001b[0m\u001b[1;33m:\u001b[0m\u001b[1;33m\u001b[0m\u001b[0m\n\u001b[1;32m-> 1060\u001b[1;33m             \u001b[1;32mraise\u001b[0m \u001b[0mNetworkXError\u001b[0m\u001b[1;33m(\u001b[0m\u001b[1;34m\"The node %s is not in the graph.\"\u001b[0m \u001b[1;33m%\u001b[0m \u001b[1;33m(\u001b[0m\u001b[0mn\u001b[0m\u001b[1;33m,\u001b[0m\u001b[1;33m)\u001b[0m\u001b[1;33m)\u001b[0m\u001b[1;33m\u001b[0m\u001b[0m\n\u001b[0m\u001b[0;32m   1061\u001b[0m \u001b[1;33m\u001b[0m\u001b[0m\n\u001b[0;32m   1062\u001b[0m     \u001b[1;32mdef\u001b[0m \u001b[0mneighbors_iter\u001b[0m\u001b[1;33m(\u001b[0m\u001b[0mself\u001b[0m\u001b[1;33m,\u001b[0m \u001b[0mn\u001b[0m\u001b[1;33m)\u001b[0m\u001b[1;33m:\u001b[0m\u001b[1;33m\u001b[0m\u001b[0m\n",
      "\u001b[1;31mNetworkXError\u001b[0m: The node (3, 1, 3) is not in the graph."
     ]
    }
   ],
   "source": [
    "a.neighbors((3,1,3))"
   ]
  },
  {
   "cell_type": "code",
   "execution_count": 131,
   "metadata": {
    "collapsed": false
   },
   "outputs": [
    {
     "data": {
      "text/plain": [
       "[(3, 0, 2),\n",
       " (4, 2, 2),\n",
       " (0, 2, 1),\n",
       " (0, 2, 0),\n",
       " (2, 2, 2),\n",
       " (0, 2, 2),\n",
       " (0, 1, 2),\n",
       " (3, 2, 2),\n",
       " (2, 0, 1),\n",
       " (1, 2, 0),\n",
       " (2, 0, 0),\n",
       " (3, 2, 0),\n",
       " (1, 2, 1),\n",
       " (3, 1, 1),\n",
       " (3, 2, 1),\n",
       " (1, 2, 2),\n",
       " (3, 1, 0),\n",
       " (4, 1, 0),\n",
       " (4, 1, 1),\n",
       " (4, 1, 2),\n",
       " (3, 1, 2),\n",
       " (1, 0, 2),\n",
       " (0, 1, 1),\n",
       " (2, 1, 1),\n",
       " (1, 3, 2),\n",
       " (1, 0, 0),\n",
       " (1, 3, 1),\n",
       " (1, 0, 1),\n",
       " (3, 3, 1),\n",
       " (1, 3, 0),\n",
       " (2, 3, 0),\n",
       " (3, 3, 0),\n",
       " (4, 0, 2),\n",
       " (2, 2, 0),\n",
       " (2, 3, 1),\n",
       " (4, 0, 1),\n",
       " (2, 3, 2),\n",
       " (4, 0, 0),\n",
       " (2, 0, 2),\n",
       " (0, 0, 2),\n",
       " (0, 0, 1),\n",
       " (0, 0, 0),\n",
       " (2, 1, 2),\n",
       " (1, 1, 1),\n",
       " (0, 1, 0),\n",
       " (1, 1, 0),\n",
       " (2, 1, 0),\n",
       " (2, 2, 1),\n",
       " (3, 3, 2),\n",
       " (4, 2, 1),\n",
       " (1, 1, 2),\n",
       " (3, 0, 0),\n",
       " (4, 2, 0),\n",
       " (3, 0, 1)]"
      ]
     },
     "execution_count": 131,
     "metadata": {},
     "output_type": "execute_result"
    }
   ],
   "source": [
    "a.nodes()"
   ]
  },
  {
   "cell_type": "code",
   "execution_count": null,
   "metadata": {
    "collapsed": true
   },
   "outputs": [],
   "source": []
  }
 ],
 "metadata": {
  "kernelspec": {
   "display_name": "Python 2",
   "language": "python",
   "name": "python2"
  },
  "language_info": {
   "codemirror_mode": {
    "name": "ipython",
    "version": 2
   },
   "file_extension": ".py",
   "mimetype": "text/x-python",
   "name": "python",
   "nbconvert_exporter": "python",
   "pygments_lexer": "ipython2",
   "version": "2.7.11"
  }
 },
 "nbformat": 4,
 "nbformat_minor": 0
}
