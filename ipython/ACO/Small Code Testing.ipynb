{
 "cells": [
  {
   "cell_type": "code",
   "execution_count": 42,
   "metadata": {
    "collapsed": true
   },
   "outputs": [],
   "source": [
    "import networkx as nx\n",
    "%matplotlib inline\n"
   ]
  },
  {
   "cell_type": "code",
   "execution_count": 29,
   "metadata": {
    "collapsed": false
   },
   "outputs": [],
   "source": [
    "G=nx.path_graph(5)\n",
    "path=nx.single_source_shortest_path(G,2,cutoff=0)\n",
    "\n",
    "k_n=set()\n",
    "\n",
    "for t in path:\n",
    "    k_n.update(path[t])\n"
   ]
  },
  {
   "cell_type": "code",
   "execution_count": 30,
   "metadata": {
    "collapsed": false
   },
   "outputs": [
    {
     "name": "stdout",
     "output_type": "stream",
     "text": [
      "[2]\n"
     ]
    }
   ],
   "source": [
    "print list(k_n)"
   ]
  },
  {
   "cell_type": "code",
   "execution_count": 15,
   "metadata": {
    "collapsed": true
   },
   "outputs": [],
   "source": [
    "def knbrs(G, start, k):\n",
    "    nbrs = set([start])\n",
    "    for l in range(k):\n",
    "        nbrs = set((nbr for n in nbrs for nbr in G[n]))\n",
    "    return nbrs"
   ]
  },
  {
   "cell_type": "code",
   "execution_count": 19,
   "metadata": {
    "collapsed": false
   },
   "outputs": [
    {
     "data": {
      "text/plain": [
       "{1, 3}"
      ]
     },
     "execution_count": 19,
     "metadata": {},
     "output_type": "execute_result"
    }
   ],
   "source": [
    "knbrs(G,2,3)"
   ]
  },
  {
   "cell_type": "code",
   "execution_count": 22,
   "metadata": {
    "collapsed": true
   },
   "outputs": [],
   "source": [
    "def t_knbrs(G, start, k):\n",
    "    nbrs = [start]\n",
    "    for l in range(k):\n",
    "        nbrs = set((nbr for n in nbrs for nbr in G[n]))\n",
    "    return nbrs"
   ]
  },
  {
   "cell_type": "code",
   "execution_count": 24,
   "metadata": {
    "collapsed": false
   },
   "outputs": [
    {
     "data": {
      "text/plain": [
       "[2]"
      ]
     },
     "execution_count": 24,
     "metadata": {},
     "output_type": "execute_result"
    }
   ],
   "source": [
    "t_knbrs(G,2,0)"
   ]
  },
  {
   "cell_type": "code",
   "execution_count": 39,
   "metadata": {
    "collapsed": false
   },
   "outputs": [
    {
     "name": "stdout",
     "output_type": "stream",
     "text": [
      "[1, 3]\n",
      "[1, 0, 2, 2, 4, 3]\n",
      "set([0, 1, 2, 3, 4])\n"
     ]
    }
   ],
   "source": [
    "G=nx.path_graph(5)\n",
    "k=2\n",
    "t=set()\n",
    "t.update([0,4])\n",
    "\n",
    "for i in xrange(k):\n",
    "    new=[]\n",
    "    for n in t:\n",
    "        new.append(nx.neighbors(G,n))\n",
    "    new=[item for sublist in new for item in sublist]    \n",
    "    print new\n",
    "    t.update(new)\n",
    "        \n",
    "print t"
   ]
  },
  {
   "cell_type": "code",
   "execution_count": 32,
   "metadata": {
    "collapsed": false
   },
   "outputs": [
    {
     "name": "stdout",
     "output_type": "stream",
     "text": [
      "set([0, 5])\n"
     ]
    }
   ],
   "source": [
    "print t"
   ]
  },
  {
   "cell_type": "code",
   "execution_count": 41,
   "metadata": {
    "collapsed": false
   },
   "outputs": [
    {
     "name": "stdout",
     "output_type": "stream",
     "text": [
      "set([(0, 1)])\n"
     ]
    }
   ],
   "source": [
    "l=[(0,1),(0,1)]\n",
    "f=set(l)\n",
    "print f"
   ]
  },
  {
   "cell_type": "code",
   "execution_count": 57,
   "metadata": {
    "collapsed": false
   },
   "outputs": [
    {
     "name": "stdout",
     "output_type": "stream",
     "text": [
      "[(4, 4, 0), (0, 4, 2), (0, 4, 0), (4, 3, 2), (4, 3, 0), (0, 3, 1), (4, 4, 1), (0, 4, 1), (4, 3, 1), (0, 3, 2), (0, 3, 0), (4, 4, 2)]\n"
     ]
    }
   ],
   "source": [
    "\n",
    "a=nx.grid_graph(dim=[5,5,3])\n",
    "a_l=nx.spectral_layout(a)\n",
    "n_rem=[]\n",
    "for n in a:\n",
    "    #print n\n",
    "    if n[1]>2 and (n[0]==0 or n[0]==4):\n",
    "        n_rem.append(n)\n",
    "\n",
    "print n_rem\n",
    "a.remove_nodes_from(n_rem)\n",
    "#nx.draw_networkx(a,a_l)   "
   ]
  },
  {
   "cell_type": "code",
   "execution_count": 58,
   "metadata": {
    "collapsed": false
   },
   "outputs": [
    {
     "name": "stdout",
     "output_type": "stream",
     "text": [
      "layer 0 (x,y,z)\n",
      "(0, 2, 1) (0, 1, 0) (0, 1, 2) (0, 0, 1) (0, 2, 0) (0, 2, 2) (0, 1, 1) (0, 0, 2) (0, 0, 0) \n",
      "layer 1 (x,y,z)\n",
      "(1, 4, 2) (1, 4, 0) (1, 2, 0) (1, 2, 2) (1, 3, 1) (1, 0, 1) (1, 1, 0) (1, 1, 2) (1, 4, 1) (1, 2, 1) (1, 0, 2) (1, 3, 2) (1, 0, 0) (1, 3, 0) (1, 1, 1) \n",
      "layer 2 (x,y,z)\n",
      "(2, 0, 1) (2, 3, 0) (2, 4, 0) (2, 3, 2) (2, 4, 2) (2, 2, 1) (2, 1, 1) (2, 0, 0) (2, 0, 2) (2, 4, 1) (2, 3, 1) (2, 1, 2) (2, 2, 2) (2, 1, 0) (2, 2, 0) \n",
      "layer 3 (x,y,z)\n",
      "(3, 2, 2) (3, 1, 2) (3, 2, 0) (3, 1, 0) (3, 3, 1) (3, 4, 1) (3, 0, 0) (3, 0, 2) (3, 1, 1) (3, 2, 1) (3, 4, 0) (3, 3, 0) (3, 4, 2) (3, 3, 2) (3, 0, 1) \n",
      "layer 4 (x,y,z)\n",
      "(4, 2, 2) (4, 1, 1) (4, 0, 2) (4, 0, 0) (4, 2, 1) (4, 1, 0) (4, 1, 2) (4, 0, 1) (4, 2, 0) \n"
     ]
    }
   ],
   "source": [
    "t_c=0\n",
    "while t_c<=4:\n",
    "    print 'layer', t_c, '(x,y,z)'\n",
    "    for n in a:\n",
    "        if n[0]==t_c:\n",
    "            print n,\n",
    "    print ''\n",
    "    t_c+=1\n",
    "    "
   ]
  },
  {
   "cell_type": "code",
   "execution_count": null,
   "metadata": {
    "collapsed": true
   },
   "outputs": [],
   "source": []
  }
 ],
 "metadata": {
  "kernelspec": {
   "display_name": "Python 2",
   "language": "python",
   "name": "python2"
  },
  "language_info": {
   "codemirror_mode": {
    "name": "ipython",
    "version": 2
   },
   "file_extension": ".py",
   "mimetype": "text/x-python",
   "name": "python",
   "nbconvert_exporter": "python",
   "pygments_lexer": "ipython2",
   "version": "2.7.11"
  }
 },
 "nbformat": 4,
 "nbformat_minor": 0
}
