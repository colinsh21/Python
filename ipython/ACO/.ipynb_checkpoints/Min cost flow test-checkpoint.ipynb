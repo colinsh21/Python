{
 "cells": [
  {
   "cell_type": "code",
   "execution_count": 61,
   "metadata": {
    "collapsed": false
   },
   "outputs": [
    {
     "name": "stdout",
     "output_type": "stream",
     "text": [
      "\n"
     ]
    }
   ],
   "source": [
    "import networkx as nx\n",
    "from random import shuffle\n",
    "from scipy import stats\n",
    "import numpy as np"
   ]
  },
  {
   "cell_type": "code",
   "execution_count": 10,
   "metadata": {
    "collapsed": false
   },
   "outputs": [
    {
     "name": "stdout",
     "output_type": "stream",
     "text": [
      "{'a': {'c': 1, 'b': 4}, 'c': {'d': 1}, 'b': {'d': 4}, 'd': {}}\n"
     ]
    }
   ],
   "source": [
    "G = nx.DiGraph()\n",
    "G.add_node('a', demand = -5)\n",
    "G.add_node('d', demand = 5)\n",
    "G.add_edge('a', 'b', weight = 3, capacity = 4)\n",
    "G.add_edge('a', 'c', weight = 6, capacity = 10)\n",
    "G.add_edge('b', 'd', weight = 1, capacity = 9)\n",
    "G.add_edge('c', 'd', weight = 2, capacity = 5)\n",
    "flowCost, flowDict = nx.capacity_scaling(G)\n",
    "print flowDict"
   ]
  },
  {
   "cell_type": "code",
   "execution_count": 62,
   "metadata": {
    "collapsed": false
   },
   "outputs": [
    {
     "name": "stdout",
     "output_type": "stream",
     "text": [
      "[('a', 'c'), ('a', 'b'), ('c', 'd'), ('b', 'd')] None\n"
     ]
    },
    {
     "ename": "TypeError",
     "evalue": "'NoneType' object is not iterable",
     "output_type": "error",
     "traceback": [
      "\u001b[1;31m---------------------------------------------------------------------------\u001b[0m",
      "\u001b[1;31mTypeError\u001b[0m                                 Traceback (most recent call last)",
      "\u001b[1;32m<ipython-input-62-32a873b9a544>\u001b[0m in \u001b[0;36m<module>\u001b[1;34m()\u001b[0m\n\u001b[0;32m     11\u001b[0m \u001b[0mes\u001b[0m\u001b[1;33m=\u001b[0m\u001b[0mG\u001b[0m\u001b[1;33m.\u001b[0m\u001b[0medges\u001b[0m\u001b[1;33m(\u001b[0m\u001b[1;33m)\u001b[0m\u001b[1;33m\u001b[0m\u001b[0m\n\u001b[0;32m     12\u001b[0m \u001b[1;32mprint\u001b[0m \u001b[0mes\u001b[0m\u001b[1;33m,\u001b[0m \u001b[0mshuffle\u001b[0m\u001b[1;33m(\u001b[0m\u001b[0mes\u001b[0m\u001b[1;33m)\u001b[0m\u001b[1;33m\u001b[0m\u001b[0m\n\u001b[1;32m---> 13\u001b[1;33m \u001b[1;32mfor\u001b[0m \u001b[0me\u001b[0m \u001b[1;32min\u001b[0m \u001b[0mshuffle\u001b[0m\u001b[1;33m(\u001b[0m\u001b[0mes\u001b[0m\u001b[1;33m)\u001b[0m\u001b[1;33m:\u001b[0m\u001b[1;33m\u001b[0m\u001b[0m\n\u001b[0m\u001b[0;32m     14\u001b[0m     \u001b[0md\u001b[0m\u001b[1;33m=\u001b[0m\u001b[0mG\u001b[0m\u001b[1;33m[\u001b[0m\u001b[0me\u001b[0m\u001b[1;33m[\u001b[0m\u001b[1;36m0\u001b[0m\u001b[1;33m]\u001b[0m\u001b[1;33m]\u001b[0m\u001b[1;33m[\u001b[0m\u001b[0me\u001b[0m\u001b[1;33m[\u001b[0m\u001b[1;36m1\u001b[0m\u001b[1;33m]\u001b[0m\u001b[1;33m]\u001b[0m\u001b[1;33m\u001b[0m\u001b[0m\n\u001b[0;32m     15\u001b[0m     \u001b[1;32mprint\u001b[0m \u001b[0md\u001b[0m\u001b[1;33m\u001b[0m\u001b[0m\n",
      "\u001b[1;31mTypeError\u001b[0m: 'NoneType' object is not iterable"
     ]
    }
   ],
   "source": [
    "G = nx.DiGraph()\n",
    "G.add_node('a', demand = -5)\n",
    "G.add_node('d', demand = 5)\n",
    "\n",
    "G.add_edge('c', 'd', weight = 1, capacity = 10)\n",
    "G.add_edge('a', 'c', weight = 1, capacity = 10)\n",
    "G.add_edge('a', 'b', weight = 1, capacity = 10)\n",
    "G.add_edge('b', 'd', weight = 1, capacity = 10)\n",
    "\n",
    "g=nx.DiGraph()\n",
    "es=G.edges()\n",
    "print es, shuffle(es)\n",
    "for e in shuffle(es):\n",
    "    d=G[e[0]][e[1]]\n",
    "    print d\n",
    "    g.add_edge(e[0],e[1],attr_dict=d)\n",
    "print g.edges()\n",
    "g.add_node('a', demand = -5)\n",
    "g.add_node('d', demand = 5)\n",
    "\n",
    "flowCost, flowDict = capacity_scaling(g)\n",
    "print flowDict"
   ]
  },
  {
   "cell_type": "code",
   "execution_count": null,
   "metadata": {
    "collapsed": true
   },
   "outputs": [],
   "source": []
  },
  {
   "cell_type": "code",
   "execution_count": 70,
   "metadata": {
    "collapsed": false
   },
   "outputs": [
    {
     "name": "stdout",
     "output_type": "stream",
     "text": [
      "{}\n",
      "[('a', 'b'), ('b', 'e'), ('b', 'd')]\n",
      "{'a': {'b': 5}, 'b': {'e': 2, 'd': 3}, 'e': {}, 'd': {}}\n",
      "{'demand': -5}\n",
      "{'demand': 0}\n",
      "{'a': {'b': 0}, 'b': {'e': 0, 'd': 0}, 'e': {}, 'd': {}}\n"
     ]
    }
   ],
   "source": [
    "G = nx.DiGraph()\n",
    "G.add_node('a', demand = -5)\n",
    "print G['a']\n",
    "G.add_node('d', demand = 3)\n",
    "G.add_node('e',demand=2)\n",
    "G.add_edge('a', 'b', capacity = 5)\n",
    "G.add_edge('a', 'c', capacity = 10)\n",
    "G.add_edge('b', 'd', capacity = 9)\n",
    "G.add_edge('c', 'd', capacity = 5)\n",
    "G.add_edge('b', 'e', capacity = 5)\n",
    "G.remove_node('c')\n",
    "print G.edges()\n",
    "flowCost, flowDict =capacity_scaling(G)\n",
    "print flowDict\n",
    "print G.node['a']\n",
    "G.node['a']['demand']=0\n",
    "print G.node['a']\n",
    "flowCost, flowDict =capacity_scaling(G)\n",
    "print flowDict"
   ]
  },
  {
   "cell_type": "code",
   "execution_count": 61,
   "metadata": {
    "collapsed": false
   },
   "outputs": [
    {
     "name": "stdout",
     "output_type": "stream",
     "text": [
      "{'a': 0, 'b': 1, 'e': 1, 'd': 0}\n",
      "1\n"
     ]
    }
   ],
   "source": [
    "in_flow={}\n",
    "for n in G.nodes():\n",
    "    in_flow[n]=0\n",
    "sink = ['d','e']\n",
    "for pred,outflow in flowDict.iteritems():\n",
    "    for dest,flow in outflow.iteritems():\n",
    "        in_flow[dest]+=flow\n",
    "    \n",
    "print in_flow\n",
    "\n",
    "current_flow=0\n",
    "for t in sink:\n",
    "    current_flow+=in_flow[t]\n",
    "    \n",
    "print current_flow"
   ]
  },
  {
   "cell_type": "code",
   "execution_count": 24,
   "metadata": {
    "collapsed": false
   },
   "outputs": [],
   "source": [
    "# -*- coding: utf-8 -*-\n",
    "\"\"\"\n",
    "Capacity scaling minimum cost flow algorithm.\n",
    "\"\"\"\n",
    "\n",
    "__author__ = \"\"\"ysitu <ysitu@users.noreply.github.com>\"\"\"\n",
    "# Copyright (C) 2014 ysitu <ysitu@users.noreply.github.com>\n",
    "# All rights reserved.\n",
    "# BSD license.\n",
    "\n",
    "__all__ = ['capacity_scaling']\n",
    "\n",
    "from itertools import chain\n",
    "from math import log\n",
    "import networkx as nx\n",
    "from networkx.utils import *\n",
    "\n",
    "\n",
    "def _detect_unboundedness(R):\n",
    "    \"\"\"Detect infinite-capacity negative cycles.\n",
    "    \"\"\"\n",
    "    s = generate_unique_node()\n",
    "    G = nx.DiGraph()\n",
    "    G.add_nodes_from(R)\n",
    "\n",
    "    # Value simulating infinity.\n",
    "    inf = R.graph['inf']\n",
    "    # True infinity.\n",
    "    f_inf = float('inf')\n",
    "    for u in R:\n",
    "        for v, e in R[u].items():\n",
    "            # Compute the minimum weight of infinite-capacity (u, v) edges.\n",
    "            w = f_inf\n",
    "            for k, e in e.items():\n",
    "                if e['capacity'] == inf:\n",
    "                    w = min(w, e['weight'])\n",
    "            if w != f_inf:\n",
    "                G.add_edge(u, v, weight=w)\n",
    "\n",
    "    if nx.negative_edge_cycle(G):\n",
    "        raise nx.NetworkXUnbounded(\n",
    "            'Negative cost cycle of infinite capacity found. '\n",
    "            'Min cost flow may be unbounded below.')\n",
    "\n",
    "\n",
    "@not_implemented_for('undirected')\n",
    "def _build_residual_network(G, demand, capacity, weight):\n",
    "    \"\"\"Build a residual network and initialize a zero flow.\n",
    "    \"\"\"\n",
    "    #if sum(G.node[u].get(demand, 0) for u in G) != 0:\n",
    "        #raise nx.NetworkXUnfeasible(\"Sum of the demands should be 0.\")\n",
    "\n",
    "    R = nx.MultiDiGraph()\n",
    "    R.add_nodes_from((u, {'excess': -G.node[u].get(demand, 0),\n",
    "                          'potential': 0}) for u in G)\n",
    "\n",
    "    inf = float('inf')\n",
    "    # Detect selfloops with infinite capacities and negative weights.\n",
    "    for u, v, e in G.selfloop_edges(data=True):\n",
    "        if e.get(weight, 0) < 0 and e.get(capacity, inf) == inf:\n",
    "            raise nx.NetworkXUnbounded(\n",
    "                'Negative cost cycle of infinite capacity found. '\n",
    "                'Min cost flow may be unbounded below.')\n",
    "\n",
    "    # Extract edges with positive capacities. Self loops excluded.\n",
    "    if G.is_multigraph():\n",
    "        edge_list = [(u, v, k, e)\n",
    "                     for u, v, k, e in G.edges_iter(data=True, keys=True)\n",
    "                     if u != v and e.get(capacity, inf) > 0]\n",
    "    else:\n",
    "        edge_list = [(u, v, 0, e) for u, v, e in G.edges_iter(data=True)\n",
    "                     if u != v and e.get(capacity, inf) > 0]\n",
    "    # Simulate infinity with the larger of the sum of absolute node imbalances\n",
    "    # the sum of finite edge capacities or any positive value if both sums are\n",
    "    # zero. This allows the infinite-capacity edges to be distinguished for\n",
    "    # unboundedness detection and directly participate in residual capacity\n",
    "    # calculation.\n",
    "    inf = max(sum(abs(R.node[u]['excess']) for u in R),\n",
    "              2 * sum(e[capacity] for u, v, k, e in edge_list\n",
    "                      if capacity in e and e[capacity] != inf)) or 1\n",
    "    for u, v, k, e in edge_list:\n",
    "        r = min(e.get(capacity, inf), inf)\n",
    "        w = e.get(weight, 0)\n",
    "        # Add both (u, v) and (v, u) into the residual network marked with the\n",
    "        # original key. (key[1] == True) indicates the (u, v) is in the\n",
    "        # original network.\n",
    "        R.add_edge(u, v, key=(k, True), capacity=r, weight=w, flow=0)\n",
    "        R.add_edge(v, u, key=(k, False), capacity=0, weight=-w, flow=0)\n",
    "\n",
    "    # Record the value simulating infinity.\n",
    "    R.graph['inf'] = inf\n",
    "\n",
    "    _detect_unboundedness(R)\n",
    "\n",
    "    return R\n",
    "\n",
    "\n",
    "def _build_flow_dict(G, R, capacity, weight):\n",
    "    \"\"\"Build a flow dictionary from a residual network.\n",
    "    \"\"\"\n",
    "    inf = float('inf')\n",
    "    flow_dict = {}\n",
    "    if G.is_multigraph():\n",
    "        for u in G:\n",
    "            flow_dict[u] = {}\n",
    "            for v, es in G[u].items():\n",
    "                flow_dict[u][v] = dict(\n",
    "                    # Always saturate negative selfloops.\n",
    "                    (k, (0 if (u != v or e.get(capacity, inf) <= 0 or\n",
    "                               e.get(weight, 0) >= 0) else e[capacity]))\n",
    "                    for k, e in es.items())\n",
    "            for v, es in R[u].items():\n",
    "                if v in flow_dict[u]:\n",
    "                    flow_dict[u][v].update((k[0], e['flow'])\n",
    "                                           for k, e in es.items()\n",
    "                                           if e['flow'] > 0)\n",
    "    else:\n",
    "        for u in G:\n",
    "            flow_dict[u] = dict(\n",
    "                # Always saturate negative selfloops.\n",
    "                (v, (0 if (u != v or e.get(capacity, inf) <= 0 or\n",
    "                           e.get(weight, 0) >= 0) else e[capacity]))\n",
    "                for v, e in G[u].items())\n",
    "            flow_dict[u].update((v, e['flow']) for v, es in R[u].items()\n",
    "                                for e in es.values() if e['flow'] > 0)\n",
    "    return flow_dict\n",
    "\n",
    "\n",
    "def capacity_scaling(G, demand='demand', capacity='capacity', weight='weight',\n",
    "                     heap=BinaryHeap):\n",
    "    \"\"\"Find a minimum cost flow satisfying all demands in digraph G.\n",
    "\n",
    "    This is a capacity scaling successive shortest augmenting path algorithm.\n",
    "\n",
    "    G is a digraph with edge costs and capacities and in which nodes\n",
    "    have demand, i.e., they want to send or receive some amount of\n",
    "    flow. A negative demand means that the node wants to send flow, a\n",
    "    positive demand means that the node want to receive flow. A flow on\n",
    "    the digraph G satisfies all demand if the net flow into each node\n",
    "    is equal to the demand of that node.\n",
    "\n",
    "    Parameters\n",
    "    ----------\n",
    "    G : NetworkX graph\n",
    "        DiGraph or MultiDiGraph on which a minimum cost flow satisfying all\n",
    "        demands is to be found.\n",
    "\n",
    "    demand : string\n",
    "        Nodes of the graph G are expected to have an attribute demand\n",
    "        that indicates how much flow a node wants to send (negative\n",
    "        demand) or receive (positive demand). Note that the sum of the\n",
    "        demands should be 0 otherwise the problem in not feasible. If\n",
    "        this attribute is not present, a node is considered to have 0\n",
    "        demand. Default value: 'demand'.\n",
    "\n",
    "    capacity : string\n",
    "        Edges of the graph G are expected to have an attribute capacity\n",
    "        that indicates how much flow the edge can support. If this\n",
    "        attribute is not present, the edge is considered to have\n",
    "        infinite capacity. Default value: 'capacity'.\n",
    "\n",
    "    weight : string\n",
    "        Edges of the graph G are expected to have an attribute weight\n",
    "        that indicates the cost incurred by sending one unit of flow on\n",
    "        that edge. If not present, the weight is considered to be 0.\n",
    "        Default value: 'weight'.\n",
    "\n",
    "    heap : class\n",
    "        Type of heap to be used in the algorithm. It should be a subclass of\n",
    "        :class:`MinHeap` or implement a compatible interface.\n",
    "\n",
    "        If a stock heap implementation is to be used, :class:`BinaryHeap` is\n",
    "        recommeded over :class:`PairingHeap` for Python implementations without\n",
    "        optimized attribute accesses (e.g., CPython) despite a slower\n",
    "        asymptotic running time. For Python implementations with optimized\n",
    "        attribute accesses (e.g., PyPy), :class:`PairingHeap` provides better\n",
    "        performance. Default value: :class:`BinaryHeap`.\n",
    "\n",
    "    Returns\n",
    "    -------\n",
    "    flowCost: integer\n",
    "        Cost of a minimum cost flow satisfying all demands.\n",
    "\n",
    "    flowDict: dictionary\n",
    "        Dictionary of dictionaries keyed by nodes such that\n",
    "        flowDict[u][v] is the flow edge (u, v) if G is a digraph.\n",
    "\n",
    "        Dictionary of dictionaries of dictionaries keyed by nodes such that\n",
    "        flowDict[u][v][key] is the flow edge (u, v, key) if G is a\n",
    "        multidigraph.\n",
    "\n",
    "    Raises\n",
    "    ------\n",
    "    NetworkXError\n",
    "        This exception is raised if the input graph is not directed,\n",
    "        not connected.\n",
    "\n",
    "    NetworkXUnfeasible\n",
    "        This exception is raised in the following situations:\n",
    "            * The sum of the demands is not zero. Then, there is no\n",
    "              flow satisfying all demands.\n",
    "            * There is no flow satisfying all demand.\n",
    "\n",
    "    NetworkXUnbounded\n",
    "        This exception is raised if the digraph G has a cycle of\n",
    "        negative cost and infinite capacity. Then, the cost of a flow\n",
    "        satisfying all demands is unbounded below.\n",
    "\n",
    "    Notes\n",
    "    -----\n",
    "    This algorithm does not work if edge weights are floating-point numbers.\n",
    "\n",
    "    See also\n",
    "    --------\n",
    "    :meth:`network_simplex`\n",
    "\n",
    "    Examples\n",
    "    --------\n",
    "    A simple example of a min cost flow problem.\n",
    "\n",
    "    >>> import networkx as nx\n",
    "    >>> G = nx.DiGraph()\n",
    "    >>> G.add_node('a', demand = -5)\n",
    "    >>> G.add_node('d', demand = 5)\n",
    "    >>> G.add_edge('a', 'b', weight = 3, capacity = 4)\n",
    "    >>> G.add_edge('a', 'c', weight = 6, capacity = 10)\n",
    "    >>> G.add_edge('b', 'd', weight = 1, capacity = 9)\n",
    "    >>> G.add_edge('c', 'd', weight = 2, capacity = 5)\n",
    "    >>> flowCost, flowDict = nx.capacity_scaling(G)\n",
    "    >>> flowCost\n",
    "    24\n",
    "    >>> flowDict # doctest: +SKIP\n",
    "    {'a': {'c': 1, 'b': 4}, 'c': {'d': 1}, 'b': {'d': 4}, 'd': {}}\n",
    "\n",
    "    It is possible to change the name of the attributes used for the\n",
    "    algorithm.\n",
    "\n",
    "    >>> G = nx.DiGraph()\n",
    "    >>> G.add_node('p', spam = -4)\n",
    "    >>> G.add_node('q', spam = 2)\n",
    "    >>> G.add_node('a', spam = -2)\n",
    "    >>> G.add_node('d', spam = -1)\n",
    "    >>> G.add_node('t', spam = 2)\n",
    "    >>> G.add_node('w', spam = 3)\n",
    "    >>> G.add_edge('p', 'q', cost = 7, vacancies = 5)\n",
    "    >>> G.add_edge('p', 'a', cost = 1, vacancies = 4)\n",
    "    >>> G.add_edge('q', 'd', cost = 2, vacancies = 3)\n",
    "    >>> G.add_edge('t', 'q', cost = 1, vacancies = 2)\n",
    "    >>> G.add_edge('a', 't', cost = 2, vacancies = 4)\n",
    "    >>> G.add_edge('d', 'w', cost = 3, vacancies = 4)\n",
    "    >>> G.add_edge('t', 'w', cost = 4, vacancies = 1)\n",
    "    >>> flowCost, flowDict = nx.capacity_scaling(G, demand = 'spam',\n",
    "    ...                                          capacity = 'vacancies',\n",
    "    ...                                          weight = 'cost')\n",
    "    >>> flowCost\n",
    "    37\n",
    "    >>> flowDict  # doctest: +SKIP\n",
    "    {'a': {'t': 4}, 'd': {'w': 2}, 'q': {'d': 1}, 'p': {'q': 2, 'a': 2}, 't': {'q': 1, 'w': 1}, 'w': {}}\n",
    "    \"\"\"\n",
    "    R = _build_residual_network(G, demand, capacity, weight)\n",
    "\n",
    "    inf = float('inf')\n",
    "    # Account cost of negative selfloops.\n",
    "    flow_cost = sum(\n",
    "        0 if e.get(capacity, inf) <= 0 or e.get(weight, 0) >= 0\n",
    "        else e[capacity] * e[weight]\n",
    "        for u, v, e in G.selfloop_edges(data=True))\n",
    "\n",
    "    # Determine the maxmimum edge capacity.\n",
    "    wmax = max(chain([-inf],\n",
    "                     (e['capacity'] for u, v, e in R.edges_iter(data=True))))\n",
    "    if wmax == -inf:\n",
    "        # Residual network has no edges.\n",
    "        return flow_cost, _build_flow_dict(G, R, capacity, weight)\n",
    "\n",
    "    R_node = R.node\n",
    "    R_succ = R.succ\n",
    "\n",
    "    delta = 2 ** int(log(wmax, 2))\n",
    "    while delta >= 1:\n",
    "        # Saturate Δ-residual edges with negative reduced costs to achieve\n",
    "        # Δ-optimality.\n",
    "        for u in R:\n",
    "            p_u = R_node[u]['potential']\n",
    "            for v, es in R_succ[u].items():\n",
    "                for k, e in es.items():\n",
    "                    flow = e['capacity'] - e['flow']\n",
    "                    if e['weight'] - p_u + R_node[v]['potential'] < 0:\n",
    "                        flow = e['capacity'] - e['flow']\n",
    "                        if flow >= delta:\n",
    "                            e['flow'] += flow\n",
    "                            R_succ[v][u][(k[0], not k[1])]['flow'] -= flow\n",
    "                            R_node[u]['excess'] -= flow\n",
    "                            R_node[v]['excess'] += flow\n",
    "        # Determine the Δ-active nodes.\n",
    "        S = set()\n",
    "        T = set()\n",
    "        S_add = S.add\n",
    "        S_remove = S.remove\n",
    "        T_add = T.add\n",
    "        T_remove = T.remove\n",
    "        for u in R:\n",
    "            excess = R_node[u]['excess']\n",
    "            if excess >= delta:\n",
    "                S_add(u)\n",
    "            elif excess <= -delta:\n",
    "                T_add(u)\n",
    "        # Repeatedly augment flow from S to T along shortest paths until\n",
    "        # Δ-feasibility is achieved.\n",
    "        while S and T:\n",
    "            s = next(iter(S))\n",
    "            t = None\n",
    "            # Search for a shortest path in terms of reduce costs from s to\n",
    "            # any t in T in the Δ-residual network.\n",
    "            d = {}\n",
    "            pred = {s: None}\n",
    "            h = heap()\n",
    "            h_insert = h.insert\n",
    "            h_get = h.get\n",
    "            h_insert(s, 0)\n",
    "            while h:\n",
    "                u, d_u = h.pop()\n",
    "                d[u] = d_u\n",
    "                if u in T:\n",
    "                    # Path found.\n",
    "                    t = u\n",
    "                    break\n",
    "                p_u = R_node[u]['potential']\n",
    "                for v, es in R_succ[u].items():\n",
    "                    if v in d:\n",
    "                        continue\n",
    "                    wmin = inf\n",
    "                    # Find the minimum-weighted (u, v) Δ-residual edge.\n",
    "                    for k, e in es.items():\n",
    "                        if e['capacity'] - e['flow'] >= delta:\n",
    "                            w = e['weight']\n",
    "                            if w < wmin:\n",
    "                                wmin = w\n",
    "                                kmin = k\n",
    "                                emin = e\n",
    "                    if wmin == inf:\n",
    "                        continue\n",
    "                    # Update the distance label of v.\n",
    "                    d_v = d_u + wmin - p_u + R_node[v]['potential']\n",
    "                    if h_insert(v, d_v):\n",
    "                        pred[v] = (u, kmin, emin)\n",
    "            if t is not None:\n",
    "                # Augment Δ units of flow from s to t.\n",
    "                while u != s:\n",
    "                    v = u\n",
    "                    u, k, e = pred[v]\n",
    "                    e['flow'] += delta\n",
    "                    R_succ[v][u][(k[0], not k[1])]['flow'] -= delta\n",
    "                # Account node excess and deficit.\n",
    "                R_node[s]['excess'] -= delta\n",
    "                R_node[t]['excess'] += delta\n",
    "                if R_node[s]['excess'] < delta:\n",
    "                    S_remove(s)\n",
    "                if R_node[t]['excess'] > -delta:\n",
    "                    T_remove(t)\n",
    "                # Update node potentials.\n",
    "                d_t = d[t]\n",
    "                for u, d_u in d.items():\n",
    "                    R_node[u]['potential'] -= d_u - d_t\n",
    "            else:\n",
    "                # Path not found.\n",
    "                S_remove(s)\n",
    "        delta //= 2\n",
    "\n",
    "    #if any(R.node[u]['excess'] != 0 for u in R):\n",
    "        #raise nx.NetworkXUnfeasible('No flow satisfying all demands.')\n",
    "\n",
    "    # Calculate the flow cost.\n",
    "    for u in R:\n",
    "        for v, es in R_succ[u].items():\n",
    "            for e in es.values():\n",
    "                flow = e['flow']\n",
    "                if flow > 0:\n",
    "                    flow_cost += flow * e['weight']\n",
    "\n",
    "    return flow_cost, _build_flow_dict(G, R, capacity, weight)"
   ]
  },
  {
   "cell_type": "code",
   "execution_count": 71,
   "metadata": {
    "collapsed": false
   },
   "outputs": [
    {
     "name": "stdout",
     "output_type": "stream",
     "text": [
      "0\n",
      "1\n",
      "2\n"
     ]
    }
   ],
   "source": [
    "for i in xrange(3):\n",
    "    print i"
   ]
  },
  {
   "cell_type": "code",
   "execution_count": 73,
   "metadata": {
    "collapsed": false
   },
   "outputs": [
    {
     "data": {
      "text/plain": [
       "0.8888888888888888"
      ]
     },
     "execution_count": 73,
     "metadata": {},
     "output_type": "execute_result"
    }
   ],
   "source": [
    "float(8.0/9)"
   ]
  },
  {
   "cell_type": "code",
   "execution_count": 74,
   "metadata": {
    "collapsed": false
   },
   "outputs": [
    {
     "data": {
      "text/plain": [
       "0.8888888888888888"
      ]
     },
     "execution_count": 74,
     "metadata": {},
     "output_type": "execute_result"
    }
   ],
   "source": [
    "8.0/9"
   ]
  },
  {
   "cell_type": "code",
   "execution_count": 106,
   "metadata": {
    "collapsed": false
   },
   "outputs": [
    {
     "name": "stdout",
     "output_type": "stream",
     "text": [
      "0.6\n"
     ]
    },
    {
     "data": {
      "text/plain": [
       "Ttest_1sampResult(statistic=-2.7500000000000004, pvalue=0.051374430844368019)"
      ]
     },
     "execution_count": 106,
     "metadata": {},
     "output_type": "execute_result"
    }
   ],
   "source": [
    "l1=[0,2,0,0,1]\n",
    "l2=[0,2,0,0,1,10]\n",
    "a1=np.average(l1)\n",
    "print a1\n",
    "#stats.ttest_ind(l1,l2,equal_var=False)\n",
    "stats.ttest_1samp(l1,1.7)"
   ]
  },
  {
   "cell_type": "code",
   "execution_count": 107,
   "metadata": {
    "collapsed": false
   },
   "outputs": [
    {
     "data": {
      "text/plain": [
       "True"
      ]
     },
     "execution_count": 107,
     "metadata": {},
     "output_type": "execute_result"
    }
   ],
   "source": [
    "0==0.0"
   ]
  },
  {
   "cell_type": "code",
   "execution_count": null,
   "metadata": {
    "collapsed": true
   },
   "outputs": [],
   "source": []
  }
 ],
 "metadata": {
  "kernelspec": {
   "display_name": "Python 2",
   "language": "python",
   "name": "python2"
  },
  "language_info": {
   "codemirror_mode": {
    "name": "ipython",
    "version": 2
   },
   "file_extension": ".py",
   "mimetype": "text/x-python",
   "name": "python",
   "nbconvert_exporter": "python",
   "pygments_lexer": "ipython2",
   "version": "2.7.11"
  }
 },
 "nbformat": 4,
 "nbformat_minor": 0
}
