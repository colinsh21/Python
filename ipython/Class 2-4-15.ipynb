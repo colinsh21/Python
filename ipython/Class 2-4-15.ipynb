{
 "cells": [
  {
   "cell_type": "code",
   "execution_count": 17,
   "metadata": {
    "collapsed": false
   },
   "outputs": [
    {
     "name": "stdout",
     "output_type": "stream",
     "text": [
      "True\n"
     ]
    }
   ],
   "source": [
    "%matplotlib inline\n",
    "\n",
    "# Imports\n",
    "import networkx as nx\n",
    "import numpy\n",
    "import matplotlib.pyplot as plt\n",
    "import pandas\n",
    "\n",
    "import seaborn; seaborn.set()\n",
    "\n",
    "# Import widget methods\n",
    "from IPython.html.widgets import *\n",
    "\n",
    "class classModel():\n",
    "    def __init__(self):\n",
    "        self.gridSize = 100\n",
    "        self.numPeople = 25\n",
    "        self.condoms = False\n",
    "        self.space = numpy.zeros((self.gridSize, self.gridSize),dtype=numpy.int8)\n",
    "        self.personList = []\n",
    "        \n",
    "    def createPeople(self):\n",
    "        for x in xrange(self.numPeople):\n",
    "            self.personList.append(person())\n",
    "            xloc=numpy.random.randint(self.gridSize)\n",
    "            yloc=numpy.random.randint(self.gridSize)\n",
    "            while self.space[xloc,yloc]==1: #check the value of the chose spot, if 1 find a different spot\n",
    "                xloc=numpy.random.randint(self.gridSize)\n",
    "                yloc=numpy.random.randint(self.gridSize)\n",
    "                \n",
    "            person.locationx=xloc\n",
    "            person.locationy=yloc\n",
    "            self.space[xloc,yloc]=1\n",
    "            \n",
    "        personLocation=numpy.random.randint(self.numPeople)   \n",
    "        iPerson = self.personList[personLocation].infected=True\n",
    "        print self.personList[personLocation].infected\n",
    "        \n",
    "    def step(self):\n",
    "        for person in self.personList:\n",
    "            if person.infected == True:\n",
    "                print infected\n",
    "                #find neighbor\n",
    "                #infect if based on P(condom)\n",
    "            \n",
    "class person():\n",
    "    def __init__(self):\n",
    "        self.infected = False\n",
    "        self.locationx=0\n",
    "        self.locationy=0\n",
    "        \n",
    "model = classModel() #create model instance\n",
    "model.createPeople() #create people for the model\n",
    "\n",
    "            "
   ]
  },
  {
   "cell_type": "code",
   "execution_count": null,
   "metadata": {
    "collapsed": true
   },
   "outputs": [],
   "source": []
  }
 ],
 "metadata": {
  "kernelspec": {
   "display_name": "Python 2",
   "name": "python2"
  },
  "language_info": {
   "codemirror_mode": {
    "name": "ipython",
    "version": 2
   },
   "file_extension": ".py",
   "mimetype": "text/x-python",
   "name": "python",
   "nbconvert_exporter": "python",
   "pygments_lexer": "ipython2",
   "version": "2.7.8"
  }
 },
 "nbformat": 4,
 "nbformat_minor": 0
}
