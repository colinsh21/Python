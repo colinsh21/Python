{
 "cells": [
  {
   "cell_type": "code",
   "execution_count": 1,
   "metadata": {
    "collapsed": true
   },
   "outputs": [],
   "source": [
    "import networkx as nx\n",
    "import numpy as np"
   ]
  },
  {
   "cell_type": "code",
   "execution_count": 2,
   "metadata": {
    "collapsed": true
   },
   "outputs": [],
   "source": [
    "g=nx.Graph()"
   ]
  },
  {
   "cell_type": "code",
   "execution_count": 3,
   "metadata": {
    "collapsed": false
   },
   "outputs": [
    {
     "name": "stdout",
     "output_type": "stream",
     "text": [
      "1\n",
      "2\n",
      "3\n",
      "4\n",
      "5\n"
     ]
    }
   ],
   "source": [
    "g.add_edges_from([(1,2),(2,4),(1,3),(3,4),(4,5)])\n",
    "for e in g: \n",
    "    print e\n"
   ]
  },
  {
   "cell_type": "code",
   "execution_count": 39,
   "metadata": {
    "collapsed": false
   },
   "outputs": [
    {
     "name": "stdout",
     "output_type": "stream",
     "text": [
      "{(4, 5): 0.0, (1, 2): 0.1875, (1, 3): 0.0625, (3, 4): 0.0625, (2, 4): 0.0625}\n",
      "{1: -0.083333333333333315, 2: -0.083333333333333315, 3: -0.20833333333333331, 4: -0.20833333333333331, 5: -0.33333333333333331}\n"
     ]
    }
   ],
   "source": [
    "print nx.edge_current_flow_betweenness_centrality_subset(g,[1],[2],normalized=False)\n",
    "\n",
    "print nx.current_flow_betweenness_centrality_subset(g,[1],[2],normalized=False)"
   ]
  },
  {
   "cell_type": "code",
   "execution_count": 26,
   "metadata": {
    "collapsed": false
   },
   "outputs": [
    {
     "name": "stdout",
     "output_type": "stream",
     "text": [
      "{(4, 5): 0.3333333333333333, (1, 2): 0.2916666666666667, (1, 3): 0.2916666666666667, (3, 4): 0.3333333333333333, (2, 4): 0.3333333333333333}\n",
      "{1: 0.25, 2: 0.2916666666666667, 3: 0.2916666666666667, 4: 0.6666666666666666, 5: 0.0}\n"
     ]
    }
   ],
   "source": [
    "print nx.edge_current_flow_betweenness_centrality(g,normalized=True)\n",
    "\n",
    "print nx.current_flow_betweenness_centrality(g,normalized=True)"
   ]
  },
  {
   "cell_type": "code",
   "execution_count": 4,
   "metadata": {
    "collapsed": false
   },
   "outputs": [
    {
     "name": "stdout",
     "output_type": "stream",
     "text": [
      "[[ 2 -1 -1  0  0]\n",
      " [-1  2  0 -1  0]\n",
      " [-1  0  2 -1  0]\n",
      " [ 0 -1 -1  3 -1]\n",
      " [ 0  0  0 -1  1]] 5\n",
      "[[ 2  0 -1  0]\n",
      " [ 0  2 -1  0]\n",
      " [-1 -1  3 -1]\n",
      " [ 0  0 -1  1]]\n",
      "[[ 0.75  0.25  0.5   0.5 ]\n",
      " [ 0.25  0.75  0.5   0.5 ]\n",
      " [ 0.5   0.5   1.    1.  ]\n",
      " [ 0.5   0.5   1.    2.  ]]\n",
      "[[ 0.    0.    0.    0.    0.  ]\n",
      " [ 0.    0.75  0.25  0.5   0.5 ]\n",
      " [ 0.    0.25  0.75  0.5   0.5 ]\n",
      " [ 0.    0.5   0.5   1.    1.  ]\n",
      " [ 0.    0.5   0.5   1.    2.  ]]\n",
      "{1: {1: 0.0, 2: 0.0, 3: 0.0, 4: 0.0, 5: 0.0}, 2: {1: 0.0, 2: 0.75, 3: 0.25, 4: 0.5, 5: 0.5}, 3: {1: 0.0, 2: 0.25, 3: 0.75, 4: 0.5, 5: 0.5}, 4: {1: 0.0, 2: 0.5, 3: 0.5, 4: 1.0, 5: 1.0}, 5: {1: 0.0, 2: 0.5, 3: 0.5, 4: 1.0, 5: 2.0}}\n"
     ]
    }
   ],
   "source": [
    "L=nx.laplacian_matrix(g)\n",
    "l=L.todense()\n",
    "n=g.number_of_nodes()\n",
    "print l,n\n",
    "l=np.delete(l,0,axis=0)\n",
    "l=np.delete(l,0,axis=1)\n",
    "print l\n",
    "v=np.linalg.inv(l)\n",
    "print v\n",
    "t=np.zeros((n,n))\n",
    "t[1:,1:]=v\n",
    "print t\n",
    "\n",
    "T=dict.fromkeys(g.nodes(),{})\n",
    "i_count=0\n",
    "for i in T:\n",
    "    T[i]=dict.fromkeys(g.nodes(),0.0)\n",
    "    j_count=0\n",
    "    for j in T[i]:\n",
    "        T[i][j]=t[i_count][j_count]\n",
    "        j_count+=1\n",
    "    i_count+=1\n",
    "    \n",
    "print T\n",
    "    \n"
   ]
  },
  {
   "cell_type": "code",
   "execution_count": 10,
   "metadata": {
    "collapsed": false
   },
   "outputs": [
    {
     "name": "stdout",
     "output_type": "stream",
     "text": [
      "{1: {}, 2: {}, 3: {}, 4: {}, 5: {}}\n",
      "1 1 {1: 0.0, 2: 0.0, 3: 0.0, 4: 0.0, 5: 0.0}\n",
      "1 2 {1: 0.0, 2: -0.75, 3: -0.25, 4: -0.5, 5: -0.5}\n",
      "1 3 {1: 0.0, 2: -0.25, 3: -0.75, 4: -0.5, 5: -0.5}\n",
      "1 4 {1: 0.0, 2: -0.5, 3: -0.5, 4: -1.0, 5: -1.0}\n",
      "1 5 {1: 0.0, 2: -0.5, 3: -0.5, 4: -1.0, 5: -2.0}\n",
      "2 2 {1: 0.0, 2: 0.0, 3: 0.0, 4: 0.0, 5: 0.0}\n",
      "2 3 {1: 0.0, 2: 0.5, 3: -0.5, 4: 0.0, 5: 0.0}\n",
      "2 4 {1: 0.0, 2: 0.25, 3: -0.25, 4: -0.5, 5: -0.5}\n",
      "2 5 {1: 0.0, 2: 0.25, 3: -0.25, 4: -0.5, 5: -1.5}\n",
      "3 3 {1: 0.0, 2: 0.0, 3: 0.0, 4: 0.0, 5: 0.0}\n",
      "3 4 {1: 0.0, 2: -0.25, 3: 0.25, 4: -0.5, 5: -0.5}\n",
      "3 5 {1: 0.0, 2: -0.25, 3: 0.25, 4: -0.5, 5: -1.5}\n",
      "4 4 {1: 0.0, 2: 0.0, 3: 0.0, 4: 0.0, 5: 0.0}\n",
      "4 5 {1: 0.0, 2: 0.0, 3: 0.0, 4: 0.0, 5: -1.0}\n",
      "5 5 {1: 0.0, 2: 0.0, 3: 0.0, 4: 0.0, 5: 0.0}\n"
     ]
    }
   ],
   "source": [
    "seen=[]\n",
    "\n",
    "V=dict.fromkeys(g.nodes(),{})\n",
    "print V\n",
    "\n",
    "for s in V:\n",
    "    V[s]=dict.fromkeys(list(set(g.nodes())-set(seen)),{})\n",
    "    seen.append(s)\n",
    "    for t in V[s]:\n",
    "        V[s][t]=dict.fromkeys(g.nodes(),{})\n",
    "        for i in g.nodes():\n",
    "            V[s][t][i]=T[i][s]-T[i][t]\n",
    "    \n",
    "for s in V:\n",
    "    for t in V[s]:\n",
    "        print s,t,V[s][t]"
   ]
  },
  {
   "cell_type": "code",
   "execution_count": 12,
   "metadata": {
    "collapsed": false
   },
   "outputs": [
    {
     "name": "stdout",
     "output_type": "stream",
     "text": [
      "{1: {}, 2: {}, 3: {}, 4: {}, 5: {}}\n",
      "1 1 {(1, 2): 0.0, 1: 1.0, 2: 0.0, 3: 0.0, 4: 0.0, 5: 0.0, (4, 5): 0.0, (1, 3): 0.0, (3, 4): 0.0, (2, 4): 0.0}\n",
      "1 2 {(1, 2): 0.75, 1: 1.0, 2: 1.0, 3: 0.25, 4: 0.25, 5: 0.0, (4, 5): 0.0, (1, 3): 0.25, (3, 4): 0.25, (2, 4): 0.25}\n",
      "1 3 {(1, 2): 0.25, 1: 1.0, 2: 0.25, 3: 1.0, 4: 0.25, 5: 0.0, (4, 5): 0.0, (1, 3): 0.75, (3, 4): 0.25, (2, 4): 0.25}\n",
      "1 4 {(1, 2): 0.5, 1: 1.0, 2: 0.5, 3: 0.5, 4: 1.0, 5: 0.0, (4, 5): 0.0, (1, 3): 0.5, (3, 4): 0.5, (2, 4): 0.5}\n",
      "1 5 {(1, 2): 0.5, 1: 1.0, 2: 0.5, 3: 0.5, 4: 1.0, 5: 1.0, (4, 5): 1.0, (1, 3): 0.5, (3, 4): 0.5, (2, 4): 0.5}\n",
      "2 2 {(1, 2): 0.0, 1: 0.0, 2: 1.0, 3: 0.0, 4: 0.0, 5: 0.0, (4, 5): 0.0, (1, 3): 0.0, (3, 4): 0.0, (2, 4): 0.0}\n",
      "2 3 {(1, 2): 0.5, 1: 0.5, 2: 1.0, 3: 1.0, 4: 0.5, 5: 0.0, (4, 5): 0.0, (1, 3): 0.5, (3, 4): 0.5, (2, 4): 0.5}\n",
      "2 4 {(1, 2): 0.25, 1: 0.25, 2: 1.0, 3: 0.25, 4: 1.0, 5: 0.0, (4, 5): 0.0, (1, 3): 0.25, (3, 4): 0.25, (2, 4): 0.75}\n",
      "2 5 {(1, 2): 0.25, 1: 0.25, 2: 1.0, 3: 0.25, 4: 1.0, 5: 1.0, (4, 5): 1.0, (1, 3): 0.25, (3, 4): 0.25, (2, 4): 0.75}\n",
      "3 3 {(1, 2): 0.0, 1: 0.0, 2: 0.0, 3: 1.0, 4: 0.0, 5: 0.0, (4, 5): 0.0, (1, 3): 0.0, (3, 4): 0.0, (2, 4): 0.0}\n",
      "3 4 {(1, 2): 0.25, 1: 0.25, 2: 0.25, 3: 1.0, 4: 1.0, 5: 0.0, (4, 5): 0.0, (1, 3): 0.25, (3, 4): 0.75, (2, 4): 0.25}\n",
      "3 5 {(1, 2): 0.25, 1: 0.25, 2: 0.25, 3: 1.0, 4: 1.0, 5: 1.0, (4, 5): 1.0, (1, 3): 0.25, (3, 4): 0.75, (2, 4): 0.25}\n",
      "4 4 {(1, 2): 0.0, 1: 0.0, 2: 0.0, 3: 0.0, 4: 1.0, 5: 0.0, (4, 5): 0.0, (1, 3): 0.0, (3, 4): 0.0, (2, 4): 0.0}\n",
      "4 5 {(1, 2): 0.0, 1: 0.0, 2: 0.0, 3: 0.0, 4: 1.0, 5: 1.0, (4, 5): 1.0, (1, 3): 0.0, (3, 4): 0.0, (2, 4): 0.0}\n",
      "5 5 {(1, 2): 0.0, 1: 0.0, 2: 0.0, 3: 0.0, 4: 0.0, 5: 1.0, (4, 5): 0.0, (1, 3): 0.0, (3, 4): 0.0, (2, 4): 0.0}\n"
     ]
    }
   ],
   "source": [
    "keys=g.nodes()\n",
    "keys.extend(g.edges())\n",
    "\n",
    "I=dict.fromkeys(g.nodes(),{})\n",
    "print I\n",
    "\n",
    "for s in V:\n",
    "    I[s]=dict.fromkeys(V[s],{})\n",
    "    for t in V[s]:\n",
    "        I[s][t]=dict.fromkeys(keys,{})\n",
    "        for i in g.nodes():\n",
    "            I[s][t][i]=0.0    \n",
    "            if i==t or i==s:\n",
    "                I[s][t][i]=1.0\n",
    "            else:\n",
    "                I[s][t][i]=0.0\n",
    "                for j in g.neighbors(i):\n",
    "                    I[s][t][i]+=.5*abs(T[i][s]-T[i][t]-T[j][s]+T[j][t])\n",
    "        \n",
    "        for e in g.edges():\n",
    "            I[s][t][e]=abs(T[e[0]][s]-T[e[0]][t]-T[e[1]][s]+T[e[1]][t])\n",
    "            \n",
    "                \n",
    "                \n",
    "for s in I:\n",
    "    for t in I[s]:\n",
    "        print s,t,I[s][t]"
   ]
  },
  {
   "cell_type": "code",
   "execution_count": 7,
   "metadata": {
    "collapsed": false
   },
   "outputs": [
    {
     "data": {
      "text/plain": [
       "[1, 2, 3, 4, 5]"
      ]
     },
     "execution_count": 7,
     "metadata": {},
     "output_type": "execute_result"
    }
   ],
   "source": [
    "g.nodes()"
   ]
  },
  {
   "cell_type": "code",
   "execution_count": null,
   "metadata": {
    "collapsed": true
   },
   "outputs": [],
   "source": []
  }
 ],
 "metadata": {
  "kernelspec": {
   "display_name": "Python 2",
   "language": "python",
   "name": "python2"
  },
  "language_info": {
   "codemirror_mode": {
    "name": "ipython",
    "version": 2
   },
   "file_extension": ".py",
   "mimetype": "text/x-python",
   "name": "python",
   "nbconvert_exporter": "python",
   "pygments_lexer": "ipython2",
   "version": "2.7.11"
  }
 },
 "nbformat": 4,
 "nbformat_minor": 0
}
