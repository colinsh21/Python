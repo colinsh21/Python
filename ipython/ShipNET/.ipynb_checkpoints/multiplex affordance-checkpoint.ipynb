{
 "cells": [
  {
   "cell_type": "code",
   "execution_count": 1,
   "metadata": {
    "collapsed": true
   },
   "outputs": [],
   "source": [
    "'''\n",
    "IMPORTS\n",
    "'''\n",
    "\n",
    "%matplotlib inline\n",
    "\n",
    "# Standard imports\n",
    "import copy\n",
    "import itertools\n",
    "\n",
    "# Scientific computing imports\n",
    "import numpy\n",
    "import matplotlib.pyplot as plt\n",
    "import networkx as nx\n",
    "import pandas as pd"
   ]
  },
  {
   "cell_type": "code",
   "execution_count": 40,
   "metadata": {
    "collapsed": false
   },
   "outputs": [],
   "source": [
    "class MultiPlex(object):\n",
    "    def __init__(self):\n",
    "        self.plex=[]\n",
    "        self.names=[]\n",
    "        \n",
    "    def add_plex(self,name):\n",
    "        self.plex.append(nx.Graph())\n",
    "        self.names.append(name)\n",
    "        print self.plex\n",
    "        if len(self.plex)>1:\n",
    "            for node in self.plex[-2].nodes():\n",
    "                print node,self.plex[-2].nodes()\n",
    "                if self.plex[-2].node[node]:\n",
    "                    self.plex[-1].add_node(node,self.plex[-2].node(node))\n",
    "                else:\n",
    "                    self.plex[-1].add_node(node)\n",
    "                \n",
    "        \n",
    "    def add_plex_node(self,node_name,node_data=None):        \n",
    "        for plex in self.plex:\n",
    "            if node_name in plex.nodes(): #node exists\n",
    "                print 'node exists'\n",
    "                break\n",
    "            else:\n",
    "                plex.add_node(node_name,node_data)\n",
    "                    \n",
    "    def edit_plex_node(self,node_name,node_data):\n",
    "        for plex in self.plex:\n",
    "            if node_name not in plex.nodes():\n",
    "                print 'node does not exist'\n",
    "                break\n",
    "            else:\n",
    "                plex.node[node_name]=node_data\n",
    "                \n",
    " \n",
    "    def __repr__(self):\n",
    "        skip_none = True\n",
    "        repr_string = type(self).__name__ + \" [\"\n",
    "        except_list = \"model\"\n",
    "\n",
    "        elements = [e for e in dir(self) if str(e) not in except_list]\n",
    "        for e in elements:\n",
    "            # Make sure we only display \"public\" fields; skip anything private (_*), that is a method/function, or that is a module.\n",
    "            if not e.startswith(\"_\") and eval('type(self.{0}).__name__'.format(e)) not in ['DataFrame', 'function', 'method', 'builtin_function_or_method', 'module', 'instancemethod']:\n",
    "                    value = eval(\"self.\" + e)\n",
    "                    if value != None and skip_none == True:\n",
    "                        repr_string += \"{0}={1}, \".format(e, value)\n",
    "\n",
    "        # Clean up trailing space and comma.\n",
    "        return repr_string.strip(\" \").strip(\",\") + \"]\"\n",
    "        "
   ]
  },
  {
   "cell_type": "code",
   "execution_count": 46,
   "metadata": {
    "collapsed": false
   },
   "outputs": [
    {
     "name": "stdout",
     "output_type": "stream",
     "text": [
      "[<networkx.classes.graph.Graph object at 0x0000000013815B00>]\n",
      "[<networkx.classes.graph.Graph object at 0x0000000013815B00>, <networkx.classes.graph.Graph object at 0x0000000013815BE0>]\n",
      "world ['world', 'hi']\n",
      "hi ['world', 'hi']\n",
      "E [('!', {'num': 1}), ('world', {}), ('hi', {'srs': 'no'})]\n",
      "I [('!', {'num': 1}), ('world', {}), ('hi', {'srs': 'no'})]\n"
     ]
    }
   ],
   "source": [
    "gs=MultiPlex()\n",
    "gs.add_plex('E')\n",
    "gs.add_plex_node('hi')\n",
    "gs.add_plex_node('world')\n",
    "gs.add_plex('I')\n",
    "gs.add_plex_node('!',{'num': 1})\n",
    "gs.edit_plex_node('hi',{'srs': 'no'})\n",
    "gs.__repr__()\n",
    "for index in range(len(gs.plex)):\n",
    "    print gs.names[index],gs.plex[index].nodes(data=True)"
   ]
  },
  {
   "cell_type": "code",
   "execution_count": 20,
   "metadata": {
    "collapsed": false
   },
   "outputs": [
    {
     "name": "stdout",
     "output_type": "stream",
     "text": [
      "[('hi', {'char': 'l', 'num': 0})]\n",
      "[('hi', {'char': 'l', 'num': 0})]\n"
     ]
    },
    {
     "data": {
      "text/plain": [
       "True"
      ]
     },
     "execution_count": 20,
     "metadata": {},
     "output_type": "execute_result"
    }
   ],
   "source": [
    "g=nx.Graph()\n",
    "g.add_node('hi',char='l',num=0)\n",
    "print g.nodes(data=True)\n",
    "gt=nx.Graph()\n",
    "for n,n_d in g.nodes(data=True):\n",
    "    gt.add_node(n,g.node[n])\n",
    "    \n",
    "print gt.nodes(data=True)\n",
    "gt.node['hi']==g.node['hi']"
   ]
  },
  {
   "cell_type": "code",
   "execution_count": 16,
   "metadata": {
    "collapsed": false
   },
   "outputs": [
    {
     "name": "stdout",
     "output_type": "stream",
     "text": [
      "t\n"
     ]
    }
   ],
   "source": []
  },
  {
   "cell_type": "code",
   "execution_count": null,
   "metadata": {
    "collapsed": true
   },
   "outputs": [],
   "source": []
  }
 ],
 "metadata": {
  "kernelspec": {
   "display_name": "Python 2",
   "name": "python2"
  },
  "language_info": {
   "codemirror_mode": {
    "name": "ipython",
    "version": 2
   },
   "file_extension": ".py",
   "mimetype": "text/x-python",
   "name": "python",
   "nbconvert_exporter": "python",
   "pygments_lexer": "ipython2",
   "version": "2.7.8"
  }
 },
 "nbformat": 4,
 "nbformat_minor": 0
}
