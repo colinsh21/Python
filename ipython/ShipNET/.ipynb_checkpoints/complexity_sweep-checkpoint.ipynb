{
 "cells": [
  {
   "cell_type": "code",
   "execution_count": 2,
   "metadata": {
    "collapsed": false
   },
   "outputs": [
    {
     "ename": "ImportError",
     "evalue": "cannot import name Multiplex",
     "output_type": "error",
     "traceback": [
      "\u001b[1;31m---------------------------------------------------------------------------\u001b[0m",
      "\u001b[1;31mImportError\u001b[0m                               Traceback (most recent call last)",
      "\u001b[1;32m<ipython-input-2-714f8763e157>\u001b[0m in \u001b[0;36m<module>\u001b[1;34m()\u001b[0m\n\u001b[0;32m      1\u001b[0m \u001b[1;31m# Imports\u001b[0m\u001b[1;33m\u001b[0m\u001b[1;33m\u001b[0m\u001b[0m\n\u001b[1;32m----> 2\u001b[1;33m \u001b[1;32mfrom\u001b[0m \u001b[0mshipnetv1\u001b[0m \u001b[1;32mimport\u001b[0m \u001b[0mMultiplex\u001b[0m\u001b[1;33m\u001b[0m\u001b[0m\n\u001b[0m\u001b[0;32m      3\u001b[0m \u001b[1;33m\u001b[0m\u001b[0m\n\u001b[0;32m      4\u001b[0m \u001b[1;33m\u001b[0m\u001b[0m\n\u001b[0;32m      5\u001b[0m \u001b[1;32mimport\u001b[0m \u001b[0mdatetime\u001b[0m\u001b[1;33m\u001b[0m\u001b[0m\n",
      "\u001b[1;31mImportError\u001b[0m: cannot import name Multiplex"
     ]
    }
   ],
   "source": [
    "# Imports\n",
    "from shipnetv1 import Multiplex\n",
    "\n",
    "\n",
    "import datetime\n",
    "import os\n",
    "import time\n",
    "\n",
    "# Scientific computing imports\n",
    "import numpy\n",
    "import matplotlib.pyplot as plt\n",
    "import networkx as nx\n",
    "import pandas\n",
    "import seaborn; seaborn.set()"
   ]
  },
  {
   "cell_type": "code",
   "execution_count": null,
   "metadata": {
    "collapsed": true
   },
   "outputs": [],
   "source": [
    "# set directory\n",
    "os.chdir(\"C:\\Users\\colinsh\\Box Sync\\Winter 2015\\IOE 513\\IOE 513 Data\")\n",
    "os.listdir(\"./\")"
   ]
  },
  {
   "cell_type": "code",
   "execution_count": null,
   "metadata": {
    "collapsed": true
   },
   "outputs": [],
   "source": [
    "# Now, we'll define our methods to store a model's output\n",
    "\n",
    "def store_model_parameters(model, run_output_path):\n",
    "    \"\"\"\n",
    "    Store model parameters from a model to the run output path.\n",
    "    \"\"\"\n",
    "    # Create parameters dictionary\n",
    "    model_parameters = {\"num_bh\": model.num_bh,\n",
    "                        \"height_dc\": model.height_dc,\n",
    "                        \"redundancy\": model.redundancy,\n",
    "                        \"num_paths\": model.num_paths\n",
    "                        \"method\": model.method,\n",
    "                       }\n",
    "    # Convert to dataframe and save\n",
    "    model_parameters_df = pandas.DataFrame(model_parameters.items(),\n",
    "                             columns=[\"parameter\", \"value\"])\n",
    "    model_parameters_df.to_csv(os.path.join(run_output_path, \"parameters.csv\"),index=False)\n",
    "    \n",
    "\n",
    "def store_model_csv(model, run_output_path):\n",
    "    \"\"\"\n",
    "    Store CSV data from a model to the run output path.\n",
    "    \"\"\"\n",
    "    # Create interaction dataframe\n",
    "    \n",
    "    # Save the dataframes\n",
    "    model.self.arr_a_list[0].to_csv(os.path.join(run_output_path, \"affordance_incidence.csv\"),index=False)\n",
    "    model.self.arr_ae_list[0].to_csv(os.path.join(run_output_path, \"affordance_edge_incidence.csv\"),index=False)\n",
    "    model.self.arr_n_cmplx_list[0].to_csv(os.path.join(run_output_path, \"node_complexity.csv\"),index=False)\n",
    "    model.self.arr_a_cmplx_list[0].to_csv(os.path.join(run_output_path, \"affordance_complexity.csv\"),index=False)\n",
    "    model.self.total_int_list[0].to_csv(os.path.join(run_output_path, \"total_interactions.csv\"),index=False)\n",
    "    model.arr_e_list_method[0].to_csv(os.path.join(run_output_path, \"route.csv\"),index=False)\n",
    "    model.arr_n_list_method[0].to_csv(os.path.join(run_output_path, \"location.csv\"),index=False)\n",
    "    #tsdata_df.to_csv(os.path.join(run_output_path, \"timeseries.csv\"))\n",
    "    \n",
    "\n",
    "def store_model(model, output_path=\"output\"):\n",
    "    \"\"\"\n",
    "    Store a model to the model output path.\n",
    "    \"\"\"\n",
    "    # First, we need to make sure the directory exists.\n",
    "    try:\n",
    "        os.makedirs(output_path)\n",
    "    except:\n",
    "        pass\n",
    "    \n",
    "    \"\"\"\n",
    "    Next, we need to create a unique timestamp for the model.\n",
    "    We'll do that using a timestamp of the form: YYYYMMDD-Run#\n",
    "    \n",
    "    We then need to create that directory too.\n",
    "    \"\"\"\n",
    "    \n",
    "    timestamp_suffix = time.strftime(\"%Y%m%d\")\n",
    "    \n",
    "    run_id = 0\n",
    "    run_output_path = os.path.join(output_path,\n",
    "                                 \"run-{0}-{1}\".format(timestamp_suffix,\n",
    "                                                     run_id))\n",
    "    # Get a unique run #\n",
    "    while os.path.exists(run_output_path):\n",
    "        run_id += 1\n",
    "        run_output_path = os.path.join(output_path,\n",
    "                                 \"run-{0}-{1}\".format(timestamp_suffix,\n",
    "                                                     run_id))        \n",
    "\n",
    "    try:\n",
    "        os.makedirs(run_output_path)\n",
    "    except:\n",
    "        pass\n",
    "    \n",
    "    \"\"\"\n",
    "    Finally, we need to store data and figures to the path.\n",
    "    \"\"\"\n",
    "    store_model_parameters(model, run_output_path)\n",
    "    store_model_csv(model, run_output_path)\n",
    "    "
   ]
  }
 ],
 "metadata": {
  "kernelspec": {
   "display_name": "Python 2",
   "language": "python",
   "name": "python2"
  },
  "language_info": {
   "codemirror_mode": {
    "name": "ipython",
    "version": 2
   },
   "file_extension": ".py",
   "mimetype": "text/x-python",
   "name": "python",
   "nbconvert_exporter": "python",
   "pygments_lexer": "ipython2",
   "version": "2.7.8"
  }
 },
 "nbformat": 4,
 "nbformat_minor": 0
}
