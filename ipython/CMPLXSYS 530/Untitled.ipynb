{
 "cells": [
  {
   "cell_type": "raw",
   "metadata": {},
   "source": [
    "2/6/15\n",
    "Agent Space\n",
    "1) Conception\n",
    "    a) Space(s)\n",
    "    b) Agent(s)\n",
    "    c) Norm/Institution\n",
    "    \n",
    "2) Initial condition\n",
    "    a) Fixed\n",
    "    b) Rules and Random\n",
    "    \n",
    "3) Steps/Dynamics\n",
    "    a) Space(s)\n",
    "    b) Agent(s)\n",
    "    c) Norm/Institution"
   ]
  }
 ],
 "metadata": {
  "kernelspec": {
   "display_name": "Python 2",
   "name": "python2"
  },
  "language_info": {
   "codemirror_mode": {
    "name": "ipython",
    "version": 2
   },
   "file_extension": ".py",
   "mimetype": "text/x-python",
   "name": "python",
   "nbconvert_exporter": "python",
   "pygments_lexer": "ipython2",
   "version": "2.7.8"
  }
 },
 "nbformat": 4,
 "nbformat_minor": 0
}
