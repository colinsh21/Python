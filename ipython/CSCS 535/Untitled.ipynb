{
 "cells": [
  {
   "cell_type": "code",
   "execution_count": 6,
   "metadata": {
    "collapsed": true
   },
   "outputs": [],
   "source": [
    "import networkx as nx\n",
    "import numpy as np"
   ]
  },
  {
   "cell_type": "code",
   "execution_count": 2,
   "metadata": {
    "collapsed": false
   },
   "outputs": [],
   "source": [
    "def random_graph(n,m):\n",
    "    G=nx.Graph()\n",
    "    G.add_nodes_from(range(n))\n",
    "    nodes=G.nodes()\n",
    "    num_edges=0\n",
    "    while num_edges<m:\n",
    "        if num_edges==(n*(n-1))/2: #check if maximal graph\n",
    "            break\n",
    "        n1,n2=list(np.random.choice(nodes,2,replace=False))\n",
    "        if G.has_edge(n1,n2):\n",
    "            continue\n",
    "        else:\n",
    "            G.add_edge(n1,n2)\n",
    "            num_edges=num_edges+1\n",
    "    return G\n",
    "\n",
    "def components(G): #Used networkx connected_components as basis\n",
    "    visited={}\n",
    "    comps=[]\n",
    "    for n in G:\n",
    "        if n not in visited:\n",
    "            lengths=nx.single_source_shortest_path_length(G,n)\n",
    "            comps.append(list(lengths))\n",
    "            visited.update(lengths)\n",
    "    return comps            "
   ]
  },
  {
   "cell_type": "code",
   "execution_count": 5,
   "metadata": {
    "collapsed": false
   },
   "outputs": [
    {
     "name": "stdout",
     "output_type": "stream",
     "text": [
      "0.49886\n"
     ]
    }
   ],
   "source": [
    "n=100000\n",
    "c=2*np.log(2)\n",
    "m=round(n*c/2)\n",
    "G=random_graph(n,m)\n",
    "comps=components(G)\n",
    "S=len(sorted(comps,key=len,reverse=True)[0])/float(n)\n",
    "print S"
   ]
  },
  {
   "cell_type": "code",
   "execution_count": 67,
   "metadata": {
    "collapsed": false
   },
   "outputs": [
    {
     "name": "stdout",
     "output_type": "stream",
     "text": [
      "0.0\n"
     ]
    }
   ],
   "source": [
    "print S"
   ]
  },
  {
   "cell_type": "code",
   "execution_count": 64,
   "metadata": {
    "collapsed": false
   },
   "outputs": [
    {
     "data": {
      "text/plain": [
       "[0, 4, 5]"
      ]
     },
     "execution_count": 64,
     "metadata": {},
     "output_type": "execute_result"
    }
   ],
   "source": [
    "sorted([[0,4,5],[1],[2,3]],key=len,reverse=True)[0]"
   ]
  },
  {
   "cell_type": "code",
   "execution_count": null,
   "metadata": {
    "collapsed": true
   },
   "outputs": [],
   "source": []
  }
 ],
 "metadata": {
  "kernelspec": {
   "display_name": "Python 2",
   "language": "python",
   "name": "python2"
  },
  "language_info": {
   "codemirror_mode": {
    "name": "ipython",
    "version": 2
   },
   "file_extension": ".py",
   "mimetype": "text/x-python",
   "name": "python",
   "nbconvert_exporter": "python",
   "pygments_lexer": "ipython2",
   "version": "2.7.8"
  }
 },
 "nbformat": 4,
 "nbformat_minor": 0
}
