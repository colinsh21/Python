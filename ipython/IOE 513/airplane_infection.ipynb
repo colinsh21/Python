{
 "cells": [
  {
   "cell_type": "code",
   "execution_count": 2,
   "metadata": {
    "collapsed": true
   },
   "outputs": [],
   "source": [
    "# Imports\n",
    "import copy\n",
    "import networkx as nx\n",
    "import numpy as np\n",
    "import pandas\n",
    "import seaborn; seaborn.set()"
   ]
  },
  {
   "cell_type": "code",
   "execution_count": 79,
   "metadata": {
    "collapsed": false
   },
   "outputs": [],
   "source": [
    "class Model(object):\n",
    "    def __init__(self,graph,initial_infected=[[366],[1000]],reproduction_number=.65,effective_contacts=15,prob_of_flying_day=.0005,passengers_per_flight=150):\n",
    "        #set pararms\n",
    "        self.g=graph\n",
    "        self.initial_infected=initial_infected\n",
    "        self.reproduction_number=reproduction_number\n",
    "        self.prob_of_flying_day=prob_of_flying_day\n",
    "        self.prob_of_flying=1-(1-self.prob_of_flying_day)**30\n",
    "        self.effective_contacts=effective_contacts\n",
    "        self.transmission_rate=self.reproduction_number/self.effective_contacts\n",
    "        self.passengers_per_flight=passengers_per_flight\n",
    "        \n",
    "        #set state variables\n",
    "        self.t=0\n",
    "        self.history_infected=[]\n",
    "        self.history_cities_infected=[]\n",
    "        self.history_infected_interactions=[]\n",
    "        self.history_space=[]\n",
    "        \n",
    "        #self call setup\n",
    "        self.setup_space()\n",
    "        \n",
    "    def setup_space(self):\n",
    "        self.num_infected=0\n",
    "        self.num_hosts_infected=0\n",
    "        for node_id in self.g.nodes():\n",
    "            if node_id in self.initial_infected[0]:\n",
    "                self.g.node[node_id]['infected']=self.initial_infected[1][0]\n",
    "                self.g.node[node_id][\"state\"] = \"I\"\n",
    "                self.num_hosts_infected+=1\n",
    "                self.num_infected+=self.g.node[node_id]['infected']\n",
    "            else:\n",
    "                self.g.node[node_id]['infected']=0\n",
    "                self.g.node[node_id][\"state\"] = \"S\"\n",
    "        \n",
    "        # Track the latest step\n",
    "        self.history_space.append(copy.deepcopy(self.g))\n",
    "        self.history_infected.append(self.num_infected)\n",
    "        self.history_cities_infected.append(self.num_hosts_infected)\n",
    "        self.history_infected_interactions=[]\n",
    "        \n",
    "    def step(self):\n",
    "        #self.g_step=self.history_space[-1]\n",
    "        self.g_step=self.g\n",
    "        # Iterate over I and infect any S neighbors\n",
    "        for self.node_id in self.g.nodes():\n",
    "            if self.g.node[self.node_id][\"state\"] == \"I\":\n",
    "\n",
    "                # Decide how many infected are traveling\n",
    "                self.infected_traveling=np.random.binomial(self.g.node[self.node_id]['infected'],self.prob_of_flying)\n",
    "\n",
    "                #check\n",
    "                if self.infected_traveling>self.g.node[self.node_id]['infected']:\n",
    "                    self.infected_traveling=self.g.node[self.node_id]['infected']\n",
    "                    \n",
    "                # Get travel options\n",
    "                self.neighbors = self.g.neighbors(self.node_id)\n",
    "                #print('neighbors',neighbors)\n",
    "                self.passenger_list=[]\n",
    "                for self.neighbor_id in self.neighbors:\n",
    "                    self.passenger_list.append(self.g.edge[self.node_id][self.neighbor_id]['weight'])\n",
    "\n",
    "                #print('passenger_list',passenger_list)\n",
    "                # Create passenger distribution\n",
    "                self.percent_list = [float(i)/sum(self.passenger_list) for i in self.passenger_list]\n",
    "\n",
    "                #passenger_dist=np.cumsum(percent_list)\n",
    "                #print('passenger_dist',percent_list)\n",
    "\n",
    "                # Create travel distribution\n",
    "                self.travel_dist=np.random.multinomial(self.infected_traveling, self.percent_list)\n",
    "                #print('travel_dist',travel_dist)\n",
    "\n",
    "                # Convert number of travels to infection\n",
    "                self.infected_travelers=[]\n",
    "                for i in xrange(len(self.travel_dist)):\n",
    "                    self.moving_passengers=self.travel_dist[i]\n",
    "                    self.max_passengers=self.g.edge[self.node_id][self.neighbors[i]]['weight']\n",
    "                    self.moving_passengers*=self.transmission_rate*self.passengers_per_flight*np.random.normal(1,.15,1)\n",
    "                    self.moving_passengers=int(self.moving_passengers)\n",
    "                    if self.moving_passengers>self.max_passengers:\n",
    "                        self.moving_passengers=self.max_passengers\n",
    "                        \n",
    "                    self.infected_travelers.append(self.moving_passengers)    \n",
    "                #print self.infected_travelers\n",
    "                \n",
    "                # Node update\n",
    "                # Calculate in host spread\n",
    "                #print self.node_id,'initial',self.g.node[self.node_id]['infected']\n",
    "                self.new_infected=int(self.g.node[self.node_id]['infected']*self.reproduction_number)\n",
    "                #print self.node_id,'spread',self.new_infected\n",
    "                # Calculate in host death\n",
    "                self.removed_infected=self.g.node[self.node_id]['infected']\n",
    "                #print self.node_id,'removed',self.removed_infected\n",
    "                #print self.node_id,'flying',sum(self.infected_travelers)\n",
    "                # Spread to neighbors\n",
    "                for i in xrange(len(self.neighbors)):\n",
    "                    self.neighbor_id=self.neighbors[i]\n",
    "\n",
    "                    # Move Infected\n",
    "                    self.num_infected_at_neighbor=self.g.node[self.neighbor_id]['infected']\n",
    "                    self.g_step.node[self.neighbor_id]['infected']=self.num_infected_at_neighbor+self.infected_travelers[i]\n",
    "                    if self.infected_travelers[i]>0:\n",
    "                        self.history_infected_interactions.append((self.t,self.node_id,self.neighbor_id,self.travel_dist[i],self.infected_travelers[i]))\n",
    "                    #self.g_step.node[self.node_id]['infected']=self.g.node[self.node_id]['infected']-self.infected_travelers[i]\n",
    "\n",
    "                # Sum new infection change\n",
    "                self.new_infected_total=int(max(self.g.node[self.node_id]['infected']+self.new_infected-self.removed_infected,0))\n",
    "                self.g_step.node[self.node_id]['infected']=int(self.new_infected_total)\n",
    "                #print self.node_id,'new infected total',self.new_infected_total\n",
    "                #print self.node_id,'new infected total graph',self.g_step.node[self.node_id]['infected']\n",
    "                \n",
    "        # Update graph\n",
    "        self.num_infected=0\n",
    "        self.num_hosts_infected=0\n",
    "        for self.node_id in self.g_step.nodes():\n",
    "            if self.g_step.node[self.node_id]['infected']>0:\n",
    "                #print self.node_id,'END pre-count number infected',self.g_step.node[self.node_id]['infected']\n",
    "                self.g_step.node[self.node_id][\"state\"] = \"I\"\n",
    "                self.num_hosts_infected+=1\n",
    "                self.num_infected+=self.g_step.node[self.node_id]['infected']\n",
    "                #print self.node_id,'number infected',self.g_step.node[self.node_id]['infected']\n",
    "            else:\n",
    "                self.g_step.node[self.node_id][\"state\"] = \"S\"\n",
    "\n",
    "        # Resolve g_step to g ***Not Resolving***\n",
    "        self.g=self.g_step\n",
    "\n",
    "        # Track the latest step\n",
    "        self.history_space.append(copy.deepcopy(self.g))\n",
    "        self.t+=1\n",
    "        self.history_infected.append(self.num_infected)\n",
    "        self.history_cities_infected.append(self.num_hosts_infected)\n",
    "        \n"
   ]
  },
  {
   "cell_type": "code",
   "execution_count": 80,
   "metadata": {
    "collapsed": false
   },
   "outputs": [
    {
     "name": "stdout",
     "output_type": "stream",
     "text": [
      "time step 0 has 1000 infected in 1 city\n",
      "time step 1 has 680 infected in 3 city\n",
      "time step 2 has 443 infected in 6 city\n",
      "time step 3 has 304 infected in 8 city\n",
      "time step 4 has 183 infected in 8 city\n",
      "time step 5 has 120 infected in 7 city\n",
      "time step 6 has 88 infected in 6 city\n",
      "time step 7 has 50 infected in 5 city\n",
      "time step 8 has 36 infected in 7 city\n",
      "time step 9 has 21 infected in 5 city\n",
      "time step 10 has 13 infected in 4 city\n",
      "time step 11 has 7 infected in 3 city\n",
      "time step 12 has 2 infected in 2 city\n",
      "History: [1000, 680, 443, 304, 183, 120, 88, 50, 36, 21, 13, 7, 2, 0]\n"
     ]
    }
   ],
   "source": [
    "#TEST\n",
    "# Initialize Space\n",
    "g=nx.read_weighted_edgelist(\"2010citytocity_monthly.csv\",nodetype=str,delimiter=',')\n",
    "g=nx.convert_node_labels_to_integers(g,label_attribute='old_label')\n",
    "g=g.to_directed()\n",
    "\n",
    "m=Model(g,reproduction_number=.6)\n",
    "loop=0\n",
    "while m.history_infected[-1]>0 and loop<50:\n",
    "    print 'time step',m.t,'has',m.history_infected[-1], 'infected in',m.history_cities_infected[-1], 'city'\n",
    "    m.step()\n",
    "    loop+=1\n",
    "print 'History:',m.history_infected"
   ]
  },
  {
   "cell_type": "code",
   "execution_count": 81,
   "metadata": {
    "collapsed": false
   },
   "outputs": [
    {
     "name": "stdout",
     "output_type": "stream",
     "text": [
      "[(0, 366, 396, 7, 38), (0, 366, 212, 8, 42), (1, 212, 565, 1, 5), (1, 212, 200, 1, 7), (1, 366, 396, 2, 10), (1, 366, 212, 2, 13), (1, 396, 160, 1, 5), (2, 212, 255, 1, 6), (2, 212, 273, 1, 7), (2, 366, 396, 3, 20), (2, 366, 212, 3, 15), (3, 366, 396, 1, 7), (4, 366, 212, 1, 7), (4, 396, 370, 1, 7), (5, 366, 212, 2, 12), (5, 396, 255, 1, 6), (7, 212, 63, 1, 5), (7, 396, 627, 1, 3), (8, 366, 396, 1, 6), (9, 366, 396, 1, 5)]\n"
     ]
    }
   ],
   "source": [
    "print m.history_infected_interactions"
   ]
  },
  {
   "cell_type": "code",
   "execution_count": 78,
   "metadata": {
    "collapsed": false
   },
   "outputs": [
    {
     "data": {
      "text/plain": [
       "array([ 0.99288702,  1.14164601,  1.17401454,  1.04458394,  0.91075185])"
      ]
     },
     "execution_count": 78,
     "metadata": {},
     "output_type": "execute_result"
    }
   ],
   "source": [
    "np.random.normal(1,.1,5)"
   ]
  },
  {
   "cell_type": "code",
   "execution_count": null,
   "metadata": {
    "collapsed": true
   },
   "outputs": [],
   "source": []
  }
 ],
 "metadata": {
  "kernelspec": {
   "display_name": "Python 2",
   "name": "python2"
  },
  "language_info": {
   "codemirror_mode": {
    "name": "ipython",
    "version": 2
   },
   "file_extension": ".py",
   "mimetype": "text/x-python",
   "name": "python",
   "nbconvert_exporter": "python",
   "pygments_lexer": "ipython2",
   "version": "2.7.8"
  }
 },
 "nbformat": 4,
 "nbformat_minor": 0
}
