{
 "cells": [
  {
   "cell_type": "code",
   "execution_count": 3,
   "metadata": {
    "collapsed": true
   },
   "outputs": [],
   "source": [
    "# Imports\n",
    "import copy\n",
    "import networkx as nx\n",
    "import numpy as np\n",
    "import pandas\n",
    "import seaborn; seaborn.set()"
   ]
  },
  {
   "cell_type": "code",
   "execution_count": 27,
   "metadata": {
    "collapsed": false
   },
   "outputs": [],
   "source": [
    "class Model(object):\n",
    "    def __init__(self,graph,initial_infected=[[366],[1000]],reproduction_number=.65,effective_contacts=15,prob_of_flying_day=.0005,passengers_per_flight=150):\n",
    "        #set pararms\n",
    "        self.g=graph\n",
    "        self.initial_infected=initial_infected\n",
    "        self.reproduction_number=reproduction_number\n",
    "        self.prob_of_flying_day=prob_of_flying_day\n",
    "        self.prob_of_flying=1-(1-self.prob_of_flying_day)**30\n",
    "        self.effective_contacts=effective_contacts\n",
    "        self.transmission_rate=self.reproduction_number/self.effective_contacts\n",
    "        self.passengers_per_flight=passengers_per_flight\n",
    "        \n",
    "        #set state variables\n",
    "        self.t=0\n",
    "        self.history_infected=[]\n",
    "        self.history_cities_infected=[]\n",
    "        self.history_infected_interactions=[]\n",
    "        self.history_space=[]\n",
    "        self.history_infected_interactions=[]\n",
    "        self.num_interactions=0\n",
    "        self.history_num_interactions=[]\n",
    "        self.time_series_data=[]\n",
    "        #self call setup\n",
    "        self.setup_space()\n",
    "        \n",
    "    def setup_space(self):\n",
    "        self.num_infected=0\n",
    "        self.num_hosts_infected=0\n",
    "        for node_id in self.g.nodes():\n",
    "            if node_id in self.initial_infected[0]:\n",
    "                self.g.node[node_id]['infected']=self.initial_infected[1][0]\n",
    "                self.g.node[node_id][\"state\"] = \"I\"\n",
    "                self.num_hosts_infected+=1\n",
    "                self.num_infected+=self.g.node[node_id]['infected']\n",
    "            else:\n",
    "                self.g.node[node_id]['infected']=0\n",
    "                self.g.node[node_id][\"state\"] = \"S\"\n",
    "        \n",
    "        # Track the latest step\n",
    "        self.history_space.append(copy.deepcopy(self.g))\n",
    "        self.history_infected.append(self.num_infected)\n",
    "        self.history_cities_infected.append(self.num_hosts_infected)\n",
    "        self.num_interactions=0\n",
    "        self.time_series_data.append((self.num_infected,self.num_hosts_infected,self.num_interactions))\n",
    "        \n",
    "        \n",
    "    def step(self):\n",
    "        #self.g_step=self.history_space[-1]\n",
    "        self.g_step=self.g\n",
    "        self.num_interactions=0\n",
    "        # Iterate over I and infect any S neighbors\n",
    "        for self.node_id in self.g.nodes():\n",
    "            if self.g.node[self.node_id][\"state\"] == \"I\":\n",
    "\n",
    "                # Decide how many infected are traveling\n",
    "                self.infected_traveling=np.random.binomial(self.g.node[self.node_id]['infected'],self.prob_of_flying)\n",
    "\n",
    "                #check\n",
    "                if self.infected_traveling>self.g.node[self.node_id]['infected']:\n",
    "                    self.infected_traveling=self.g.node[self.node_id]['infected']\n",
    "                    \n",
    "                # Get travel options\n",
    "                self.neighbors = self.g.neighbors(self.node_id)\n",
    "                #print('neighbors',neighbors)\n",
    "                self.passenger_list=[]\n",
    "                for self.neighbor_id in self.neighbors:\n",
    "                    self.passenger_list.append(self.g.edge[self.node_id][self.neighbor_id]['weight'])\n",
    "\n",
    "                #print('passenger_list',passenger_list)\n",
    "                # Create passenger distribution\n",
    "                self.percent_list = [float(i)/sum(self.passenger_list) for i in self.passenger_list]\n",
    "\n",
    "                #passenger_dist=np.cumsum(percent_list)\n",
    "                #print('passenger_dist',percent_list)\n",
    "\n",
    "                # Create travel distribution\n",
    "                self.travel_dist=np.random.multinomial(self.infected_traveling, self.percent_list)\n",
    "                #print('travel_dist',travel_dist)\n",
    "\n",
    "                # Convert number of travels to infection\n",
    "                self.infected_travelers=[]\n",
    "                for i in xrange(len(self.travel_dist)):\n",
    "                    self.moving_passengers=self.travel_dist[i]\n",
    "                    self.max_passengers=self.g.edge[self.node_id][self.neighbors[i]]['weight']\n",
    "                    self.moving_passengers*=self.transmission_rate*self.passengers_per_flight*np.random.normal(1,.15,1)\n",
    "                    self.moving_passengers=int(self.moving_passengers)\n",
    "                    if self.moving_passengers>self.max_passengers:\n",
    "                        self.moving_passengers=self.max_passengers\n",
    "                        \n",
    "                    self.infected_travelers.append(self.moving_passengers)    \n",
    "                #print self.infected_travelers\n",
    "                \n",
    "                # Node update\n",
    "                # Calculate in host spread\n",
    "                #print self.node_id,'initial',self.g.node[self.node_id]['infected']\n",
    "                self.new_infected=int(self.g.node[self.node_id]['infected']*self.reproduction_number)\n",
    "                #print self.node_id,'spread',self.new_infected\n",
    "                # Calculate in host death\n",
    "                self.removed_infected=self.g.node[self.node_id]['infected']\n",
    "                #print self.node_id,'removed',self.removed_infected\n",
    "                #print self.node_id,'flying',sum(self.infected_travelers)\n",
    "                # Spread to neighbors\n",
    "                for i in xrange(len(self.neighbors)):\n",
    "                    self.neighbor_id=self.neighbors[i]\n",
    "\n",
    "                    # Move Infected\n",
    "                    self.num_infected_at_neighbor=self.g.node[self.neighbor_id]['infected']\n",
    "                    self.g_step.node[self.neighbor_id]['infected']=self.num_infected_at_neighbor+self.infected_travelers[i]\n",
    "                    if self.infected_travelers[i]>0:\n",
    "                        self.history_infected_interactions.append((self.t,self.node_id,self.neighbor_id,self.travel_dist[i],self.infected_travelers[i]))\n",
    "                        self.num_interactions+=1\n",
    "                    #self.g_step.node[self.node_id]['infected']=self.g.node[self.node_id]['infected']-self.infected_travelers[i]\n",
    "\n",
    "                # Sum new infection change\n",
    "                self.new_infected_total=int(max(self.g.node[self.node_id]['infected']+self.new_infected-self.removed_infected,0))\n",
    "                self.g_step.node[self.node_id]['infected']=int(self.new_infected_total)\n",
    "                #print self.node_id,'new infected total',self.new_infected_total\n",
    "                #print self.node_id,'new infected total graph',self.g_step.node[self.node_id]['infected']\n",
    "                \n",
    "        # Update graph\n",
    "        self.num_infected=0\n",
    "        self.num_hosts_infected=0\n",
    "        for self.node_id in self.g_step.nodes():\n",
    "            if self.g_step.node[self.node_id]['infected']>0:\n",
    "                #print self.node_id,'END pre-count number infected',self.g_step.node[self.node_id]['infected']\n",
    "                self.g_step.node[self.node_id][\"state\"] = \"I\"\n",
    "                self.num_hosts_infected+=1\n",
    "                self.num_infected+=self.g_step.node[self.node_id]['infected']\n",
    "                #print self.node_id,'number infected',self.g_step.node[self.node_id]['infected']\n",
    "            else:\n",
    "                self.g_step.node[self.node_id][\"state\"] = \"S\"\n",
    "\n",
    "        # Resolve g_step to g ***Not Resolving***\n",
    "        self.g=self.g_step\n",
    "\n",
    "        # Track the latest step\n",
    "        self.history_space.append(copy.deepcopy(self.g))\n",
    "        self.t+=1\n",
    "        self.history_infected.append(self.num_infected)\n",
    "        self.history_cities_infected.append(self.num_hosts_infected)\n",
    "        self.history_num_interactions.append(self.num_interactions)\n",
    "        self.time_series_data.append((self.num_infected,self.num_hosts_infected,self.num_interactions))\n",
    "        \n"
   ]
  },
  {
   "cell_type": "code",
   "execution_count": 28,
   "metadata": {
    "collapsed": false
   },
   "outputs": [
    {
     "name": "stdout",
     "output_type": "stream",
     "text": [
      "time step 0 has 1000 infected in 1 city\n",
      "number of interactions 0\n",
      "time step 1 has 701 infected in 3 city\n",
      "number of interactions 2\n",
      "time step 2 has 493 infected in 6 city\n",
      "number of interactions 5\n",
      "time step 3 has 326 infected in 7 city\n",
      "number of interactions 3\n",
      "time step 4 has 217 infected in 9 city\n",
      "number of interactions 5\n",
      "time step 5 has 133 infected in 7 city\n",
      "number of interactions 2\n",
      "time step 6 has 78 infected in 6 city\n",
      "number of interactions 0\n",
      "time step 7 has 54 infected in 3 city\n",
      "number of interactions 1\n",
      "time step 8 has 34 infected in 3 city\n",
      "number of interactions 1\n",
      "time step 9 has 19 infected in 3 city\n",
      "number of interactions 0\n",
      "time step 10 has 16 infected in 4 city\n",
      "number of interactions 1\n",
      "time step 11 has 15 infected in 4 city\n",
      "number of interactions 1\n",
      "time step 12 has 7 infected in 4 city\n",
      "number of interactions 0\n",
      "time step 13 has 2 infected in 1 city\n",
      "number of interactions 0\n",
      "time step 14 has 1 infected in 1 city\n",
      "number of interactions 0\n",
      "History: [1000, 701, 493, 326, 217, 133, 78, 54, 34, 19, 16, 15, 7, 2, 1, 0]\n"
     ]
    }
   ],
   "source": [
    "#TEST\n",
    "# Initialize Space\n",
    "g=nx.read_weighted_edgelist(\"2010citytocity_monthly.csv\",nodetype=str,delimiter=',')\n",
    "g=nx.convert_node_labels_to_integers(g,label_attribute='old_label')\n",
    "g=g.to_directed()\n",
    "\n",
    "m=Model(g,reproduction_number=.6)\n",
    "loop=0\n",
    "while m.history_infected[-1]>0 and loop<50:\n",
    "    print 'time step',m.t,'has',m.history_infected[-1], 'infected in',m.history_cities_infected[-1], 'city'\n",
    "    print 'number of interactions',m.num_interactions\n",
    "    m.step()\n",
    "    loop+=1\n",
    "print 'History:',m.history_infected"
   ]
  },
  {
   "cell_type": "code",
   "execution_count": 23,
   "metadata": {
    "collapsed": false
   },
   "outputs": [
    {
     "name": "stdout",
     "output_type": "stream",
     "text": [
      "[2, 2, 3, 3, 2, 1, 1, 1, 0, 0, 1, 0, 0, 0]\n",
      "[(0, 366, 396, 13, 81), (0, 366, 212, 8, 63), (1, 366, 396, 4, 26), (1, 366, 212, 4, 22), (2, 212, 63, 1, 7), (2, 366, 396, 1, 6), (2, 366, 212, 2, 16), (3, 366, 396, 1, 5), (3, 396, 276, 1, 6), (3, 396, 495, 1, 6), (4, 276, 501, 1, 4), (4, 366, 212, 1, 5), (5, 212, 25, 1, 6), (6, 366, 212, 1, 7), (7, 212, 238, 1, 5), (10, 212, 215, 1, 5)]\n"
     ]
    }
   ],
   "source": [
    "print m.history_num_interactions\n",
    "print m.history_infected_interactions"
   ]
  },
  {
   "cell_type": "code",
   "execution_count": 29,
   "metadata": {
    "collapsed": false
   },
   "outputs": [
    {
     "name": "stdout",
     "output_type": "stream",
     "text": [
      "[(1000, 1, 0), (701, 3, 2), (493, 6, 5), (326, 7, 3), (217, 9, 5), (133, 7, 2), (78, 6, 0), (54, 3, 1), (34, 3, 1), (19, 3, 0), (16, 4, 1), (15, 4, 1), (7, 4, 0), (2, 1, 0), (1, 1, 0), (0, 0, 0)]\n"
     ]
    }
   ],
   "source": [
    "print m.time_series_data"
   ]
  },
  {
   "cell_type": "code",
   "execution_count": null,
   "metadata": {
    "collapsed": true
   },
   "outputs": [],
   "source": []
  }
 ],
 "metadata": {
  "kernelspec": {
   "display_name": "Python 2",
   "language": "python",
   "name": "python2"
  },
  "language_info": {
   "codemirror_mode": {
    "name": "ipython",
    "version": 2
   },
   "file_extension": ".py",
   "mimetype": "text/x-python",
   "name": "python",
   "nbconvert_exporter": "python",
   "pygments_lexer": "ipython2",
   "version": "2.7.8"
  }
 },
 "nbformat": 4,
 "nbformat_minor": 0
}
