{
 "cells": [
  {
   "cell_type": "code",
   "execution_count": 1,
   "metadata": {
    "collapsed": false
   },
   "outputs": [
    {
     "name": "stderr",
     "output_type": "stream",
     "text": [
      ":0: FutureWarning: IPython widgets are experimental and may change in the future.\n"
     ]
    }
   ],
   "source": [
    "%matplotlib inline\n",
    "\n",
    "# Imports\n",
    "import copy\n",
    "import networkx as nx\n",
    "import numpy as np\n",
    "import matplotlib.pyplot as plt\n",
    "import pandas\n",
    "\n",
    "import seaborn; seaborn.set()\n",
    "\n",
    "# Import widget methods\n",
    "from IPython.html.widgets import *\n",
    "\n",
    "\n"
   ]
  },
  {
   "cell_type": "code",
   "execution_count": 2,
   "metadata": {
    "collapsed": false
   },
   "outputs": [],
   "source": [
    "# Initialize Space\n",
    "g=nx.read_weighted_edgelist(\"2010citytocity.csv\",nodetype=str,delimiter=',')\n",
    "g=nx.convert_node_labels_to_integers(g,label_attribute='old_label')\n",
    "g=g.to_directed()\n",
    "\n",
    "\n",
    "# Draw Space\n",
    "#g_layout = nx.spring_layout(g, iterations=100)\n",
    "#nx.draw_networkx(g, pos=flights_layout, node_color='#dddddd')"
   ]
  },
  {
   "cell_type": "code",
   "execution_count": 58,
   "metadata": {
    "collapsed": false
   },
   "outputs": [
    {
     "name": "stdout",
     "output_type": "stream",
     "text": [
      "643\n"
     ]
    },
    {
     "data": {
      "text/plain": [
       "'Jeddah:Saudi Arabia'"
      ]
     },
     "execution_count": 58,
     "metadata": {},
     "output_type": "execute_result"
    }
   ],
   "source": [
    "g.node\n",
    "names=nx.get_node_attributes(g,'old_label')\n",
    "searchFor='Jeddah'\n",
    "for key in names:\n",
    "    if searchFor in names[key]:\n",
    "        initial_infected=key\n",
    "        break\n",
    "        \n",
    "names[643]"
   ]
  },
  {
   "cell_type": "code",
   "execution_count": 13,
   "metadata": {
    "collapsed": false
   },
   "outputs": [
    {
     "name": "stdout",
     "output_type": "stream",
     "text": [
      "[366]\n",
      "R0=0.65 and B=0.0433333333333\n",
      "0.0148917557916\n",
      "('check', 1000)\n",
      "Step 0 has 1000 infected people in 1 cities\n",
      "Step 1 has 676 infected people in 3 cities\n",
      "Step 2 has 451 infected people in 6 cities\n",
      "Step 3 has 297 infected people in 6 cities\n",
      "Step 4 has 200 infected people in 7 cities\n",
      "Step 5 has 127 infected people in 6 cities\n",
      "Step 6 has 82 infected people in 7 cities\n",
      "Step 7 has 49 infected people in 5 cities\n",
      "Step 8 has 31 infected people in 6 cities\n",
      "Step 9 has 22 infected people in 4 cities\n",
      "Step 10 has 11 infected people in 4 cities\n",
      "Step 11 has 4 infected people in 3 cities\n",
      "Step 12 has 7 infected people in 2 cities\n",
      "Step 13 has 3 infected people in 1 cities\n",
      "Step 14 has 1 infected people in 1 cities\n",
      "No Disease\n"
     ]
    }
   ],
   "source": [
    "# Initialize Space\n",
    "g=nx.read_weighted_edgelist(\"2010citytocity_monthly.csv\",nodetype=str,delimiter=',')\n",
    "g=nx.convert_node_labels_to_integers(g,label_attribute='old_label')\n",
    "g=g.to_directed()\n",
    "\n",
    "\n",
    "# Pick a city to infect initially\n",
    "names=nx.get_node_attributes(g,'old_label')\n",
    "searchFor='Jeddah'\n",
    "for key in names:\n",
    "    if searchFor in names[key]:\n",
    "        initial_infected=[key]\n",
    "        print initial_infected\n",
    "        break\n",
    "#np.random.choice(g.nodes())\n",
    "#print(initial_infected)\n",
    "# Setup initial S/I/R states\n",
    "num_hosts_infected=0\n",
    "num_infected=0\n",
    "for node_id in g.nodes():\n",
    "    if node_id in initial_infected:\n",
    "        g.node[node_id]['infected']=1000 #int(np.random.normal(mu,sigma/100))\n",
    "        g.node[node_id][\"state\"] = \"I\"\n",
    "        num_hosts_infected+=1\n",
    "        num_infected+=g.node[node_id]['infected']\n",
    "    else:\n",
    "        g.node[node_id]['infected']=0\n",
    "        g.node[node_id][\"state\"] = \"S\"\n",
    "\n",
    "# Probability of infection per edge\n",
    "reproduction_number=.65\n",
    "#transmission_rate = 0.2\n",
    "effective_contacts=15 #reproduction_number/transmission_rate\n",
    "#reproduction_number=effective_contacts*transmission_rate\n",
    "transmission_rate=reproduction_number/effective_contacts\n",
    "print('R0={0} and B={1}'.format(reproduction_number,transmission_rate))\n",
    "passengers_per_flight=150\n",
    "prob_of_flying_day=.0005\n",
    "prob_of_flying=1-(1-prob_of_flying_day)**30\n",
    "print prob_of_flying\n",
    "print('check',g.node[initial_infected[0]]['infected'])\n",
    "\n",
    "\n",
    "# Track graph history\n",
    "g_history = [copy.deepcopy(g)]\n",
    "\n",
    "# Now run the model \n",
    "max_steps = 50\n",
    "for step in xrange(max_steps):\n",
    "    # Store changes\n",
    "    g_step=g\n",
    "    print('Step {0} has {1} infected people in {2} cities'.format(step,num_infected,num_hosts_infected))\n",
    "    \n",
    "    # Iterate over I and infect any S neighbors\n",
    "    for node_id in g.nodes():\n",
    "        if g.node[node_id][\"state\"] == \"I\":\n",
    "            #print('ID',node_id)\n",
    "            #print('Infected at node',g.node[node_id]['infected'])\n",
    "            \n",
    "            # Decide how many infected are traveling\n",
    "            infected_traveling=np.random.binomial(g.node[node_id]['infected'],prob_of_flying)\n",
    "                \n",
    "            if infected_traveling>g.node[node_id]['infected']:\n",
    "                infected_traveling=g.node[node_id]['infected']\n",
    "            #print('infected_traveling',infected_traveling)\n",
    "            \n",
    "            # Get travel options\n",
    "            neighbors = g.neighbors(node_id)\n",
    "            #print('neighbors',neighbors)\n",
    "            passenger_list=[]\n",
    "            for neighbor_id in neighbors:\n",
    "                passenger_list.append(g.edge[node_id][neighbor_id]['weight'])\n",
    "            \n",
    "            #print('passenger_list',passenger_list)\n",
    "            # Create passenger distribution\n",
    "            percent_list = [float(i)/sum(passenger_list) for i in passenger_list]\n",
    "\n",
    "            #passenger_dist=np.cumsum(percent_list)\n",
    "            #print('passenger_dist',percent_list)\n",
    "            \n",
    "            # Create travel distribution\n",
    "            travel_dist=np.random.multinomial(infected_traveling, percent_list)\n",
    "            #print('travel_dist',travel_dist)\n",
    "            \n",
    "            # Convert number of travels to infection\n",
    "            infected_travelers=[]\n",
    "            for i in xrange(len(travel_dist)):\n",
    "                moving_passengers=travel_dist[i]\n",
    "                max_passengers=g.edge[node_id][neighbors[i]]['weight']\n",
    "                moving_passengers*=transmission_rate*passengers_per_flight\n",
    "                moving_passengers=int(moving_passengers)\n",
    "                if moving_passengers>max_passengers:\n",
    "                    moving_passengers=max_passengers\n",
    "                \n",
    "                    \n",
    "                infected_travelers.append(moving_passengers)\n",
    "            \n",
    "            # Node update\n",
    "            for i in xrange(len(neighbors)):\n",
    "                neighbor_id=neighbors[i]\n",
    "                #print('Infected at neighbor',neighbor_id,g.node[neighbor_id]['infected'], 'Recieving', infected_travelers[i])\n",
    "                \n",
    "                # Move Infected\n",
    "                num_infected_at_neighbor=g.node[neighbor_id]['infected']\n",
    "                g_step.node[neighbor_id]['infected']=num_infected_at_neighbor+infected_travelers[i]\n",
    "                g_step.node[node_id]['infected']=g.node[node_id]['infected']-infected_travelers[i]\n",
    "            \n",
    "            # Calculate in host spread\n",
    "            new_infected=int(g.node[node_id]['infected']*reproduction_number)\n",
    "\n",
    "            # Calculate in host death\n",
    "            removed_infected=g.node[node_id]['infected']\n",
    "            #print removed_infected\n",
    "\n",
    "            # Sum new infection change\n",
    "            new_infected_total=int(max(g.node[node_id]['infected']+new_infected-removed_infected,0))\n",
    "            g_step.node[node_id]['infected']=int(new_infected_total)\n",
    "                \n",
    "                \n",
    "                                                            \n",
    "            \n",
    "    \n",
    "    # Update graph\n",
    "    num_infected=0\n",
    "    num_hosts_infected=0\n",
    "    for node_id in g_step.nodes():\n",
    "        if g_step.node[node_id]['infected']>0:\n",
    "            g_step.node[node_id][\"state\"] = \"I\"\n",
    "            num_hosts_infected+=1\n",
    "            num_infected+=g_step.node[node_id]['infected']\n",
    "        else:\n",
    "            g_step.node[node_id][\"state\"] = \"S\"\n",
    "                                       \n",
    "    # Resolve g_step to g\n",
    "    g=g_step\n",
    "                                       \n",
    "    # Track the latest step\n",
    "    g_history.append(copy.deepcopy(g))\n",
    "    \n",
    "    # End if no infections\n",
    "    if num_hosts_infected==0:\n",
    "        print('No Disease')\n",
    "        break\n",
    "        \n",
    "#display_graph_step()\n",
    "#interact(display_graph_step,step=IntSliderWidget(min=0, max=len(g_history)-1,step=1))\n",
    "#print('R0',reproduction_number)"
   ]
  },
  {
   "cell_type": "code",
   "execution_count": 11,
   "metadata": {
    "collapsed": true
   },
   "outputs": [],
   "source": []
  },
  {
   "cell_type": "code",
   "execution_count": null,
   "metadata": {
    "collapsed": true
   },
   "outputs": [],
   "source": []
  }
 ],
 "metadata": {
  "kernelspec": {
   "display_name": "Python 2",
   "name": "python2"
  },
  "language_info": {
   "codemirror_mode": {
    "name": "ipython",
    "version": 2
   },
   "file_extension": ".py",
   "mimetype": "text/x-python",
   "name": "python",
   "nbconvert_exporter": "python",
   "pygments_lexer": "ipython2",
   "version": "2.7.8"
  }
 },
 "nbformat": 4,
 "nbformat_minor": 0
}
