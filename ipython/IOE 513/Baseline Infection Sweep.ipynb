{
 "cells": [
  {
   "cell_type": "code",
   "execution_count": 2,
   "metadata": {
    "collapsed": false
   },
   "outputs": [
    {
     "name": "stderr",
     "output_type": "stream",
     "text": [
      ":0: FutureWarning: IPython widgets are experimental and may change in the future.\n"
     ]
    }
   ],
   "source": [
    "# Imports\n",
    "from airplane_infection import Model\n",
    "\n",
    "\n",
    "import datetime\n",
    "import os\n",
    "import time\n",
    "\n",
    "# Scientific computing imports\n",
    "import numpy\n",
    "import matplotlib.pyplot as plt\n",
    "import networkx as nx\n",
    "import pandas\n",
    "import seaborn; seaborn.set()\n",
    "\n",
    "# Import widget methods\n",
    "from IPython.html.widgets import *"
   ]
  },
  {
   "cell_type": "code",
   "execution_count": 3,
   "metadata": {
    "collapsed": false
   },
   "outputs": [],
   "source": [
    "# Create our test model\n",
    "# Initialize Space\n",
    "g=nx.read_weighted_edgelist(\"2010citytocity_monthly.csv\",nodetype=str,delimiter=',')\n",
    "g=nx.convert_node_labels_to_integers(g,label_attribute='old_label')\n",
    "g=g.to_directed()\n",
    "\n",
    "m = Model(g)\n",
    "for t in xrange(10):\n",
    "    m.step()"
   ]
  },
  {
   "cell_type": "code",
   "execution_count": 4,
   "metadata": {
    "collapsed": false
   },
   "outputs": [
    {
     "name": "stdout",
     "output_type": "stream",
     "text": [
      "[2, 4, 6, 3, 5, 1, 0, 0, 1, 1]\n",
      "[(1000, 1, 0), (721, 3, 2), (537, 4, 4), (387, 8, 6), (284, 8, 3), (215, 10, 5), (139, 7, 1), (86, 6, 0), (53, 3, 0), (39, 3, 1), (31, 3, 1)]\n"
     ]
    }
   ],
   "source": [
    "print m.history_num_interactions\n",
    "print m.time_series_data"
   ]
  },
  {
   "cell_type": "code",
   "execution_count": 27,
   "metadata": {
    "collapsed": false
   },
   "outputs": [],
   "source": [
    "# Now, we'll define our methods to store a model's output\n",
    "\n",
    "def store_model_parameters(model, run_output_path):\n",
    "    \"\"\"\n",
    "    Store model parameters from a model to the run output path.\n",
    "    \"\"\"\n",
    "    # Create parameters dictionary\n",
    "    model_parameters = {\"initial_infected\": model.initial_infected,\n",
    "                        \"reproduction_number\": model.reproduction_number,\n",
    "                        \"probability_of_flying_day\": model.prob_of_flying_day,\n",
    "                        \"probability_of_flying\": model.prob_of_flying,\n",
    "                        \"effective_contacts\": model.effective_contacts,\n",
    "                        \"transmission_rate\": model.transmission_rate,\n",
    "                        \"passengers_per_flight\": model.passengers_per_flight,\n",
    "                       }\n",
    "    # Convert to dataframe and save\n",
    "    model_parameters_df = pandas.DataFrame(model_parameters.items(),\n",
    "                             columns=[\"parameter\", \"value\"])\n",
    "    model_parameters_df.to_csv(os.path.join(run_output_path, \"parameters.csv\"))\n",
    "    \n",
    "\n",
    "def store_model_csv(model, run_output_path):\n",
    "    \"\"\"\n",
    "    Store CSV data from a model to the run output path.\n",
    "    \"\"\"\n",
    "    # Create interaction dataframe\n",
    "    try:\n",
    "        interaction_df = pandas.DataFrame(model.history_infected_interactions,\n",
    "                     columns=[\"time\", \"departure_city\", \"arrival_city\", \"departing_infected\", \"arriving_infected\"])\n",
    "    except ValueError:\n",
    "        # Sometimes, we have no interactions in \"sparse\" parameter configurations.\n",
    "        interaction_df = pandas.DataFrame(columns=[\"time\", \"departure_city\", \"arrival_city\", \"departing_infected\", \"arriving_infected\"])\n",
    "    \n",
    "    # Create time series data frame\n",
    "    tsdata_df = pandas.DataFrame(model.time_series_data,\n",
    "                            columns=[\"num_infected\",\"cities_infected\",\"num_interactions\"])\n",
    "    #tsdata_df[\"num_interactions\"] = model.history_num_interactions\n",
    "    #tsdata_df[\"num_interactions_condoms\"] = model.history_num_interactions_condoms\n",
    "    \n",
    "    # Save the dataframes\n",
    "    interaction_df.to_csv(os.path.join(run_output_path, \"interactions.csv\"))\n",
    "    tsdata_df.to_csv(os.path.join(run_output_path, \"timeseries.csv\"))\n",
    "\n",
    "    \n",
    "def store_model_figures(model, run_output_path):\n",
    "    \"\"\"\n",
    "    Store figures data from a model to the run output path.\n",
    "    \"\"\"\n",
    "    # Plot time series of infections and interactions.\n",
    "    f = plt.figure(figsize=(10, 8))\n",
    "    \n",
    "    # Create our top panel\n",
    "    plt.subplot(211)\n",
    "    plt.plot(model.history_infected)\n",
    "    plt.legend(('Number of infections',), loc=\"best\")\n",
    "    \n",
    "    \n",
    "    \n",
    "    # Create our bottom panel and add the legend\n",
    "    plt.subplot(212)\n",
    "    plt.plot(model.history_num_interactions)\n",
    "    plt.plot(model.history_cities_infected)\n",
    "    plt.legend((\"Number of interactions\",\"Number of cities infected\"), loc=\"best\")\n",
    "    plt.tight_layout()\n",
    "    \n",
    "    # Save\n",
    "    plt.savefig(os.path.join(run_output_path, \"infections_interactions.png\"))\n",
    "    \n",
    "    # Next, plot the initial and final space timesteps.\n",
    "    \n",
    "    # Get colormap\n",
    "    cmap = seaborn.cubehelix_palette(light=1, as_cmap=True)\n",
    "\n",
    "    # Plot initial step.\n",
    "    #f = plt.figure(figsize=(10, 10))\n",
    "    #plt.title(\"Infected space at t={0}\".format(0))\n",
    "    #plt.pcolor(model.get_space_infected(0), vmin=-1, vmax=1, cmap=cmap)\n",
    "    #ax = f.gca()\n",
    "    #ax.set_aspect(1./ax.get_data_ratio())   \n",
    "    #plt.tight_layout()\n",
    "    #plt.colorbar()\n",
    "    \n",
    "    # Save\n",
    "    #plt.savefig(os.path.join(run_output_path, \"space_initial.png\"))\n",
    "    \n",
    "    # Plot final step\n",
    "    #plt.title(\"Infected space at t={0}\".format(model.t-1))\n",
    "    #plt.pcolor(model.get_space_infected(model.t-1), vmin=-1, vmax=1, cmap=cmap)\n",
    "    #ax = f.gca()\n",
    "    #ax.set_aspect(1./ax.get_data_ratio())   \n",
    "    #plt.tight_layout()\n",
    "    #plt.colorbar()\n",
    "    \n",
    "    # Save\n",
    "    #plt.savefig(os.path.join(run_output_path, \"space_final.png\"))    \n",
    "    \n",
    "\n",
    "def store_model(model, output_path=\"output\"):\n",
    "    \"\"\"\n",
    "    Store a model to the model output path.\n",
    "    \"\"\"\n",
    "    # First, we need to make sure the directory exists.\n",
    "    try:\n",
    "        os.makedirs(output_path)\n",
    "    except:\n",
    "        pass\n",
    "    \n",
    "    \"\"\"\n",
    "    Next, we need to create a unique timestamp for the model.\n",
    "    We'll do that using a timestamp of the form: YYYYMMDD-Run#\n",
    "    \n",
    "    We then need to create that directory too.\n",
    "    \"\"\"\n",
    "    timestamp_suffix = time.strftime(\"%Y%m%d\")\n",
    "    \n",
    "    run_id = 0\n",
    "    run_output_path = os.path.join(output_path,\n",
    "                                 \"run-{0}-{1}\".format(timestamp_suffix,\n",
    "                                                     run_id))\n",
    "    # Get a unique run #\n",
    "    while os.path.exists(run_output_path):\n",
    "        run_id += 1\n",
    "        run_output_path = os.path.join(output_path,\n",
    "                                 \"run-{0}-{1}\".format(timestamp_suffix,\n",
    "                                                     run_id))        \n",
    "\n",
    "    try:\n",
    "        os.makedirs(run_output_path)\n",
    "    except:\n",
    "        pass\n",
    "    \n",
    "    \"\"\"\n",
    "    Finally, we need to store data and figures to the path.\n",
    "    \"\"\"\n",
    "    store_model_parameters(model, run_output_path)\n",
    "    store_model_csv(model, run_output_path)\n",
    "    store_model_figures(model, run_output_path)"
   ]
  },
  {
   "cell_type": "code",
   "execution_count": 28,
   "metadata": {
    "collapsed": false
   },
   "outputs": [],
   "source": [
    "# Finally, test our output method with the model.\n",
    "store_model(m)"
   ]
  },
  {
   "cell_type": "code",
   "execution_count": 31,
   "metadata": {
    "collapsed": false
   },
   "outputs": [
    {
     "name": "stdout",
     "output_type": "stream",
     "text": [
      "Running 20 samples for initial infection 1000, reproduction number 0.6\n",
      "Running 20 samples for initial infection 1000, reproduction number 0.65\n",
      "Running 20 samples for initial infection 1000, reproduction number 0.7\n",
      "Running 20 samples for initial infection 1000, reproduction number 0.75\n",
      "Running 20 samples for initial infection 1000, reproduction number 0.8\n",
      "Running 20 samples for initial infection 1000, reproduction number 0.85\n",
      "Running 20 samples for initial infection 1000, reproduction number 0.9\n",
      "Running 20 samples for initial infection 1000, reproduction number 0.95\n",
      "Running 20 samples for initial infection 1000, reproduction number 1\n",
      "Running 20 samples for initial infection 1000, reproduction number 1.05\n",
      "Running 20 samples for initial infection 2000, reproduction number 0.6\n",
      "Running 20 samples for initial infection 2000, reproduction number 0.65\n",
      "Running 20 samples for initial infection 2000, reproduction number 0.7\n",
      "Running 20 samples for initial infection 2000, reproduction number 0.75\n",
      "Running 20 samples for initial infection 2000, reproduction number 0.8\n",
      "Running 20 samples for initial infection 2000, reproduction number 0.85\n",
      "Running 20 samples for initial infection 2000, reproduction number 0.9\n",
      "Running 20 samples for initial infection 2000, reproduction number 0.95\n",
      "Running 20 samples for initial infection 2000, reproduction number 1\n",
      "Running 20 samples for initial infection 2000, reproduction number 1.05\n",
      "Running 20 samples for initial infection 3000, reproduction number 0.6\n",
      "Running 20 samples for initial infection 3000, reproduction number 0.65\n",
      "Running 20 samples for initial infection 3000, reproduction number 0.7\n",
      "Running 20 samples for initial infection 3000, reproduction number 0.75\n",
      "Running 20 samples for initial infection 3000, reproduction number 0.8\n",
      "Running 20 samples for initial infection 3000, reproduction number 0.85\n",
      "Running 20 samples for initial infection 3000, reproduction number 0.9\n",
      "Running 20 samples for initial infection 3000, reproduction number 0.95\n",
      "Running 20 samples for initial infection 3000, reproduction number 1\n",
      "Running 20 samples for initial infection 3000, reproduction number 1.05\n",
      "Running 20 samples for initial infection 4000, reproduction number 0.6\n",
      "Running 20 samples for initial infection 4000, reproduction number 0.65\n",
      "Running 20 samples for initial infection 4000, reproduction number 0.7\n",
      "Running 20 samples for initial infection 4000, reproduction number 0.75\n",
      "Running 20 samples for initial infection 4000, reproduction number 0.8\n",
      "Running 20 samples for initial infection 4000, reproduction number 0.85\n",
      "Running 20 samples for initial infection 4000, reproduction number 0.9\n",
      "Running 20 samples for initial infection 4000, reproduction number 0.95\n",
      "Running 20 samples for initial infection 4000, reproduction number 1\n",
      "Running 20 samples for initial infection 4000, reproduction number 1.05\n",
      "Running 20 samples for initial infection 5000, reproduction number 0.6\n",
      "Running 20 samples for initial infection 5000, reproduction number 0.65\n",
      "Running 20 samples for initial infection 5000, reproduction number 0.7\n",
      "Running 20 samples for initial infection 5000, reproduction number 0.75\n",
      "Running 20 samples for initial infection 5000, reproduction number 0.8\n",
      "Running 20 samples for initial infection 5000, reproduction number 0.85\n",
      "Running 20 samples for initial infection 5000, reproduction number 0.9\n",
      "Running 20 samples for initial infection 5000, reproduction number 0.95\n",
      "Running 20 samples for initial infection 5000, reproduction number 1\n",
      "Running 20 samples for initial infection 5000, reproduction number 1.05\n"
     ]
    },
    {
     "name": "stderr",
     "output_type": "stream",
     "text": [
      "C:\\Anaconda\\lib\\site-packages\\matplotlib\\pyplot.py:423: RuntimeWarning: More than 20 figures have been opened. Figures created through the pyplot interface (`matplotlib.pyplot.figure`) are retained until explicitly closed and may consume too much memory. (To control this warning, see the rcParam `figure.max_num_figures`).\n",
      "  max_open_warning, RuntimeWarning)\n"
     ]
    }
   ],
   "source": [
    "#Running Parameter Sweep\n",
    "# Initialize Space\n",
    "g=nx.read_weighted_edgelist(\"2010citytocity_monthly.csv\",nodetype=str,delimiter=',')\n",
    "g=nx.convert_node_labels_to_integers(g,label_attribute='old_label')\n",
    "g=g.to_directed()\n",
    "\n",
    "# Set sweep parameters\n",
    "initial_infection_sweep_values=[1000,2000,3000,4000,5000]\n",
    "reproduction_number_sweep_values=[.6,.65,.7,.75,.8,.85,.9,.95,1,1.05]\n",
    "\n",
    "num_samples=20\n",
    "num_steps=36\n",
    "\n",
    "# Iterate over initial infection\n",
    "for infection in initial_infection_sweep_values:\n",
    "    # Iterate over reproduction number\n",
    "    for r_0 in reproduction_number_sweep_values:\n",
    "        print(\"Running {0} samples for initial infection {1}, reproduction number {2}\".format(num_samples,infection,r_0))\n",
    "        for n in xrange(num_samples):\n",
    "            # Output info\n",
    "            m=Model(g,reproduction_number=r_0,initial_infected=[[366],[infection]])\n",
    "            \n",
    "            # Run the modle for num_steps\n",
    "            for t in xrange(num_steps):\n",
    "                m.step()\n",
    "                \n",
    "            #Output the model\n",
    "            store_model(m)\n",
    "        \n",
    "        \n",
    "        \n",
    "        "
   ]
  },
  {
   "cell_type": "code",
   "execution_count": null,
   "metadata": {
    "collapsed": true
   },
   "outputs": [],
   "source": []
  }
 ],
 "metadata": {
  "kernelspec": {
   "display_name": "Python 2",
   "language": "python",
   "name": "python2"
  },
  "language_info": {
   "codemirror_mode": {
    "name": "ipython",
    "version": 2
   },
   "file_extension": ".py",
   "mimetype": "text/x-python",
   "name": "python",
   "nbconvert_exporter": "python",
   "pygments_lexer": "ipython2",
   "version": "2.7.8"
  }
 },
 "nbformat": 4,
 "nbformat_minor": 0
}
