{
 "cells": [
  {
   "cell_type": "code",
   "execution_count": 17,
   "metadata": {
    "collapsed": false
   },
   "outputs": [],
   "source": [
    "# Imports\n",
    "from airplane_infection import Model\n",
    "\n",
    "\n",
    "import datetime\n",
    "import os\n",
    "import time\n",
    "\n",
    "# Scientific computing imports\n",
    "import numpy\n",
    "import matplotlib.pyplot as plt\n",
    "import networkx as nx\n",
    "import pandas\n",
    "import seaborn; seaborn.set()\n",
    "\n",
    "# Import widget methods\n",
    "from IPython.html.widgets import *"
   ]
  },
  {
   "cell_type": "code",
   "execution_count": 18,
   "metadata": {
    "collapsed": false
   },
   "outputs": [],
   "source": [
    "# Create our test model\n",
    "# Initialize Space\n",
    "g=nx.read_weighted_edgelist(\"2010citytocity_monthly.csv\",nodetype=str,delimiter=',')\n",
    "g=nx.convert_node_labels_to_integers(g,label_attribute='old_label')\n",
    "g=g.to_directed()\n",
    "\n",
    "m = Model(g)\n",
    "for t in xrange(10):\n",
    "    m.step()"
   ]
  },
  {
   "cell_type": "code",
   "execution_count": 23,
   "metadata": {
    "collapsed": false
   },
   "outputs": [
    {
     "ename": "AttributeError",
     "evalue": "'Model' object has no attribute 'history_num_interactions'",
     "output_type": "error",
     "traceback": [
      "\u001b[1;31m---------------------------------------------------------------------------\u001b[0m",
      "\u001b[1;31mAttributeError\u001b[0m                            Traceback (most recent call last)",
      "\u001b[1;32m<ipython-input-23-c224ba0bc0d4>\u001b[0m in \u001b[0;36m<module>\u001b[1;34m()\u001b[0m\n\u001b[1;32m----> 1\u001b[1;33m \u001b[1;32mprint\u001b[0m \u001b[0mm\u001b[0m\u001b[1;33m.\u001b[0m\u001b[0mhistory_num_interactions\u001b[0m\u001b[1;33m\u001b[0m\u001b[0m\n\u001b[0m",
      "\u001b[1;31mAttributeError\u001b[0m: 'Model' object has no attribute 'history_num_interactions'"
     ]
    }
   ],
   "source": [
    "print m.history_num_interactions"
   ]
  },
  {
   "cell_type": "code",
   "execution_count": 21,
   "metadata": {
    "collapsed": true
   },
   "outputs": [],
   "source": [
    "# Now, we'll define our methods to store a model's output\n",
    "\n",
    "def store_model_parameters(model, run_output_path):\n",
    "    \"\"\"\n",
    "    Store model parameters from a model to the run output path.\n",
    "    \"\"\"\n",
    "    # Create parameters dictionary\n",
    "    model_parameters = {\"initial_infected\": model.initial_infected,\n",
    "                        \"reproduction_number\": model.reproduction_number,\n",
    "                        \"probability_of_flying_day\": model.prob_of_flying_day,\n",
    "                        \"probability_of_flying\": model.prob_of_flying,\n",
    "                        \"effective_contacts\": model.effective_contacts,\n",
    "                        \"transmission_rate\": model.transmission_rate,\n",
    "                        \"passengers_per_flight\": model.passengers_per_flight,\n",
    "                       }\n",
    "    # Convert to dataframe and save\n",
    "    model_parameters_df = pandas.DataFrame(model_parameters.items(),\n",
    "                             columns=[\"parameter\", \"value\"])\n",
    "    model_parameters_df.to_csv(os.path.join(run_output_path, \"parameters.csv\"))\n",
    "    \n",
    "\n",
    "def store_model_csv(model, run_output_path):\n",
    "    \"\"\"\n",
    "    Store CSV data from a model to the run output path.\n",
    "    \"\"\"\n",
    "    # Create interaction dataframe\n",
    "    try:\n",
    "        interaction_df = pandas.DataFrame(model.history_infected_interactions,\n",
    "                     columns=[\"time\", \"departure_city\", \"arrival_city\", \"departing_infected\", \"arriving_infected\"])\n",
    "    except ValueError:\n",
    "        # Sometimes, we have no interactions in \"sparse\" parameter configurations.\n",
    "        interaction_df = pandas.DataFrame(columns=[\"time\", \"departure_city\", \"arrival_city\", \"departing_infected\", \"arriving_infected\"])\n",
    "    \n",
    "    # Create time series data frame\n",
    "    tsdata_df = pandas.DataFrame(model.history_infected,\n",
    "                            columns=[\"num_infected\"])\n",
    "    tsdata_df[\"num_interactions\"] = model.history_num_interactions\n",
    "    #tsdata_df[\"num_interactions_condoms\"] = model.history_num_interactions_condoms\n",
    "    \n",
    "    # Save the dataframes\n",
    "    interaction_df.to_csv(os.path.join(run_output_path, \"interactions.csv\"))\n",
    "    tsdata_df.to_csv(os.path.join(run_output_path, \"timeseries.csv\"))\n",
    "\n",
    "    \n",
    "def store_model_figures(model, run_output_path):\n",
    "    \"\"\"\n",
    "    Store figures data from a model to the run output path.\n",
    "    \"\"\"\n",
    "    # Plot time series of infections and interactions.\n",
    "    f = plt.figure(figsize=(10, 8))\n",
    "    \n",
    "    # Create our top panel\n",
    "    plt.subplot(211)\n",
    "    plt.plot(model.history_num_infected)\n",
    "    plt.legend((\"Number of infections\"), loc=\"best\")\n",
    "    \n",
    "    # Create our bottom panel and add the legend\n",
    "    plt.subplot(212)\n",
    "    plt.plot(numpy.array(model.history_num_interactions) - numpy.array(model.history_num_interactions_condoms))\n",
    "    plt.plot(model.history_num_interactions_condoms)\n",
    "    plt.legend((\"Number of interactions without condoms\",\n",
    "               \"Number of interactions with condoms\"),\n",
    "              loc=\"best\")\n",
    "    plt.tight_layout()\n",
    "    \n",
    "    # Save\n",
    "    plt.savefig(os.path.join(run_output_path, \"infections_interactions.png\"))\n",
    "    \n",
    "    # Next, plot the initial and final space timesteps.\n",
    "    \n",
    "    # Get colormap\n",
    "    cmap = seaborn.cubehelix_palette(light=1, as_cmap=True)\n",
    "\n",
    "    # Plot initial step.\n",
    "    f = plt.figure(figsize=(10, 10))\n",
    "    plt.title(\"Infected space at t={0}\".format(0))\n",
    "    plt.pcolor(model.get_space_infected(0), vmin=-1, vmax=1, cmap=cmap)\n",
    "    ax = f.gca()\n",
    "    ax.set_aspect(1./ax.get_data_ratio())   \n",
    "    plt.tight_layout()\n",
    "    plt.colorbar()\n",
    "    \n",
    "    # Save\n",
    "    plt.savefig(os.path.join(run_output_path, \"space_initial.png\"))\n",
    "    \n",
    "    # Plot final step\n",
    "    plt.title(\"Infected space at t={0}\".format(model.t-1))\n",
    "    plt.pcolor(model.get_space_infected(model.t-1), vmin=-1, vmax=1, cmap=cmap)\n",
    "    ax = f.gca()\n",
    "    ax.set_aspect(1./ax.get_data_ratio())   \n",
    "    plt.tight_layout()\n",
    "    plt.colorbar()\n",
    "    \n",
    "    # Save\n",
    "    plt.savefig(os.path.join(run_output_path, \"space_final.png\"))    \n",
    "    \n",
    "\n",
    "def store_model(model, output_path=\"output\"):\n",
    "    \"\"\"\n",
    "    Store a model to the model output path.\n",
    "    \"\"\"\n",
    "    # First, we need to make sure the directory exists.\n",
    "    try:\n",
    "        os.makedirs(output_path)\n",
    "    except:\n",
    "        pass\n",
    "    \n",
    "    \"\"\"\n",
    "    Next, we need to create a unique timestamp for the model.\n",
    "    We'll do that using a timestamp of the form: YYYYMMDD-Run#\n",
    "    \n",
    "    We then need to create that directory too.\n",
    "    \"\"\"\n",
    "    timestamp_suffix = time.strftime(\"%Y%m%d\")\n",
    "    \n",
    "    run_id = 0\n",
    "    run_output_path = os.path.join(output_path,\n",
    "                                 \"run-{0}-{1}\".format(timestamp_suffix,\n",
    "                                                     run_id))\n",
    "    # Get a unique run #\n",
    "    while os.path.exists(run_output_path):\n",
    "        run_id += 1\n",
    "        run_output_path = os.path.join(output_path,\n",
    "                                 \"run-{0}-{1}\".format(timestamp_suffix,\n",
    "                                                     run_id))        \n",
    "\n",
    "    try:\n",
    "        os.makedirs(run_output_path)\n",
    "    except:\n",
    "        pass\n",
    "    \n",
    "    \"\"\"\n",
    "    Finally, we need to store data and figures to the path.\n",
    "    \"\"\"\n",
    "    store_model_parameters(model, run_output_path)\n",
    "    store_model_csv(model, run_output_path)\n",
    "    #store_model_figures(model, run_output_path)"
   ]
  },
  {
   "cell_type": "code",
   "execution_count": 22,
   "metadata": {
    "collapsed": false
   },
   "outputs": [
    {
     "ename": "AttributeError",
     "evalue": "'Model' object has no attribute 'history_num_interactions'",
     "output_type": "error",
     "traceback": [
      "\u001b[1;31m---------------------------------------------------------------------------\u001b[0m",
      "\u001b[1;31mAttributeError\u001b[0m                            Traceback (most recent call last)",
      "\u001b[1;32m<ipython-input-22-1ca87808a2e5>\u001b[0m in \u001b[0;36m<module>\u001b[1;34m()\u001b[0m\n\u001b[0;32m      1\u001b[0m \u001b[1;31m# Finally, test our output method with the model.\u001b[0m\u001b[1;33m\u001b[0m\u001b[1;33m\u001b[0m\u001b[0m\n\u001b[1;32m----> 2\u001b[1;33m \u001b[0mstore_model\u001b[0m\u001b[1;33m(\u001b[0m\u001b[0mm\u001b[0m\u001b[1;33m)\u001b[0m\u001b[1;33m\u001b[0m\u001b[0m\n\u001b[0m",
      "\u001b[1;32m<ipython-input-21-aebff2872472>\u001b[0m in \u001b[0;36mstore_model\u001b[1;34m(model, output_path)\u001b[0m\n\u001b[0;32m    134\u001b[0m     \"\"\"\n\u001b[0;32m    135\u001b[0m     \u001b[0mstore_model_parameters\u001b[0m\u001b[1;33m(\u001b[0m\u001b[0mmodel\u001b[0m\u001b[1;33m,\u001b[0m \u001b[0mrun_output_path\u001b[0m\u001b[1;33m)\u001b[0m\u001b[1;33m\u001b[0m\u001b[0m\n\u001b[1;32m--> 136\u001b[1;33m     \u001b[0mstore_model_csv\u001b[0m\u001b[1;33m(\u001b[0m\u001b[0mmodel\u001b[0m\u001b[1;33m,\u001b[0m \u001b[0mrun_output_path\u001b[0m\u001b[1;33m)\u001b[0m\u001b[1;33m\u001b[0m\u001b[0m\n\u001b[0m\u001b[0;32m    137\u001b[0m     \u001b[1;31m#store_model_figures(model, run_output_path)\u001b[0m\u001b[1;33m\u001b[0m\u001b[1;33m\u001b[0m\u001b[0m\n",
      "\u001b[1;32m<ipython-input-21-aebff2872472>\u001b[0m in \u001b[0;36mstore_model_csv\u001b[1;34m(model, run_output_path)\u001b[0m\n\u001b[0;32m     35\u001b[0m     tsdata_df = pandas.DataFrame(model.history_infected,\n\u001b[0;32m     36\u001b[0m                             columns=[\"num_infected\"])\n\u001b[1;32m---> 37\u001b[1;33m     \u001b[0mtsdata_df\u001b[0m\u001b[1;33m[\u001b[0m\u001b[1;34m\"num_interactions\"\u001b[0m\u001b[1;33m]\u001b[0m \u001b[1;33m=\u001b[0m \u001b[0mmodel\u001b[0m\u001b[1;33m.\u001b[0m\u001b[0mhistory_num_interactions\u001b[0m\u001b[1;33m\u001b[0m\u001b[0m\n\u001b[0m\u001b[0;32m     38\u001b[0m     \u001b[1;31m#tsdata_df[\"num_interactions_condoms\"] = model.history_num_interactions_condoms\u001b[0m\u001b[1;33m\u001b[0m\u001b[1;33m\u001b[0m\u001b[0m\n\u001b[0;32m     39\u001b[0m \u001b[1;33m\u001b[0m\u001b[0m\n",
      "\u001b[1;31mAttributeError\u001b[0m: 'Model' object has no attribute 'history_num_interactions'"
     ]
    }
   ],
   "source": [
    "# Finally, test our output method with the model.\n",
    "store_model(m)"
   ]
  },
  {
   "cell_type": "code",
   "execution_count": null,
   "metadata": {
    "collapsed": true
   },
   "outputs": [],
   "source": []
  }
 ],
 "metadata": {
  "kernelspec": {
   "display_name": "Python 2",
   "language": "python",
   "name": "python2"
  },
  "language_info": {
   "codemirror_mode": {
    "name": "ipython",
    "version": 2
   },
   "file_extension": ".py",
   "mimetype": "text/x-python",
   "name": "python",
   "nbconvert_exporter": "python",
   "pygments_lexer": "ipython2",
   "version": "2.7.8"
  }
 },
 "nbformat": 4,
 "nbformat_minor": 0
}
