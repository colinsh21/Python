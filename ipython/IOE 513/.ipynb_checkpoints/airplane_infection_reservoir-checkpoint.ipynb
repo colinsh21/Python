{
 "cells": [
  {
   "cell_type": "code",
   "execution_count": 27,
   "metadata": {
    "collapsed": true
   },
   "outputs": [],
   "source": [
    "# Imports\n",
    "import copy\n",
    "import networkx as nx\n",
    "import numpy as np\n",
    "import scipy as sc\n",
    "import pandas\n",
    "import seaborn; seaborn.set()"
   ]
  },
  {
   "cell_type": "code",
   "execution_count": 46,
   "metadata": {
    "collapsed": false
   },
   "outputs": [
    {
     "ename": "SyntaxError",
     "evalue": "invalid syntax (<ipython-input-46-6048d0601466>, line 98)",
     "output_type": "error",
     "traceback": [
      "\u001b[1;36m  File \u001b[1;32m\"<ipython-input-46-6048d0601466>\"\u001b[1;36m, line \u001b[1;32m98\u001b[0m\n\u001b[1;33m    arriving_infected_total+=arriving_infected_plane\u001b[0m\n\u001b[1;37m                          ^\u001b[0m\n\u001b[1;31mSyntaxError\u001b[0m\u001b[1;31m:\u001b[0m invalid syntax\n"
     ]
    }
   ],
   "source": [
    "class Model(object):\n",
    "    def __init__(self,graph,initial_infected=[[366],[1000]],reproduction_number=.65,effective_contacts=15,prob_of_flying_day=.0005,passengers_per_flight=150):\n",
    "        #set pararms\n",
    "        self.g=graph\n",
    "        self.initial_infected=initial_infected\n",
    "        self.reproduction_number=reproduction_number\n",
    "        self.prob_of_flying_day=prob_of_flying_day\n",
    "        self.prob_of_flying=1-(1-self.prob_of_flying_day)**30\n",
    "        self.effective_contacts=effective_contacts\n",
    "        self.transmission_rate=self.reproduction_number/self.effective_contacts\n",
    "        self.passengers_per_flight=passengers_per_flight\n",
    "        \n",
    "        #set state variables\n",
    "        self.t=0\n",
    "        self.history_infected=[]\n",
    "        self.history_cities_infected=[]\n",
    "        self.history_infected_interactions=[]\n",
    "        self.history_space=[]\n",
    "        self.history_infected_interactions=[]\n",
    "        self.num_interactions=0\n",
    "        self.history_num_interactions=[]\n",
    "        self.time_series_data=[]\n",
    "        #self call setup\n",
    "        self.setup_space()\n",
    "        \n",
    "    def setup_space(self):\n",
    "        self.num_infected=0\n",
    "        self.num_hosts_infected=0\n",
    "        for node_id in self.g.nodes():\n",
    "            if node_id in self.initial_infected[0]:\n",
    "                self.g.node[node_id]['infected']=self.initial_infected[1][0]\n",
    "                self.g.node[node_id][\"state\"] = \"I\"\n",
    "                self.num_hosts_infected+=1\n",
    "                self.num_infected+=self.g.node[node_id]['infected']\n",
    "            else:\n",
    "                self.g.node[node_id]['infected']=0\n",
    "                self.g.node[node_id][\"state\"] = \"S\"\n",
    "        \n",
    "        # Track the latest step\n",
    "        self.history_space.append(copy.deepcopy(self.g))\n",
    "        self.history_infected.append(self.num_infected)\n",
    "        self.history_cities_infected.append(self.num_hosts_infected)\n",
    "        self.num_interactions=0\n",
    "        self.time_series_data.append((self.num_infected,self.num_hosts_infected,self.num_interactions))\n",
    "        \n",
    "        \n",
    "    def step(self):\n",
    "        #self.g_step=self.history_space[-1]\n",
    "        self.g_step=self.g\n",
    "        self.num_interactions=0\n",
    "        # Iterate over I and infect any S neighbors\n",
    "        for self.node_id in self.g.nodes():\n",
    "            if self.g.node[self.node_id][\"state\"] == \"I\":\n",
    "\n",
    "                # Decide how many infected are traveling\n",
    "                self.infected_traveling=np.random.binomial(self.g.node[self.node_id]['infected'],self.prob_of_flying)\n",
    "\n",
    "                #check\n",
    "                if self.infected_traveling>self.g.node[self.node_id]['infected']:\n",
    "                    self.infected_traveling=self.g.node[self.node_id]['infected']\n",
    "                    \n",
    "                # Get travel options\n",
    "                self.neighbors = self.g.neighbors(self.node_id)\n",
    "                #print('neighbors',neighbors)\n",
    "                self.passenger_list=[] #list of passengers on each route\n",
    "                self.plane_list=[] #list of planes on each route\n",
    "                for self.neighbor_id in self.neighbors:\n",
    "                    route_passengers=self.g.edge[self.node_id][self.neighbor_id]['weight']\n",
    "                    self.passenger_list.append(route_passengers)\n",
    "                    num_planes=int(np.ceil(float(route_passengers)/self.passengers_per_flight))\n",
    "                    self.plane_list.append([float(1/num_planes)]*num_planes) #probablity of taking a plane\n",
    "                    \n",
    "                                  \n",
    "\n",
    "                #print('passenger_list',passenger_list)\n",
    "                # Create passenger distribution\n",
    "                self.percent_list = [float(i)/sum(self.passenger_list) for i in self.passenger_list]\n",
    "\n",
    "                #passenger_dist=np.cumsum(percent_list)\n",
    "                #print('passenger_dist',percent_list)\n",
    "\n",
    "                # Create travel distribution\n",
    "                self.travel_dist=np.random.multinomial(self.infected_traveling, self.percent_list)\n",
    "                #print('travel_dist',travel_dist)\n",
    "\n",
    "                # Convert number of travelers to infection\n",
    "                self.infected_travelers=[]\n",
    "                for i in xrange(len(self.travel_dist)):\n",
    "                    self.moving_passengers=self.travel_dist[i]\n",
    "                    passenger_dist=np.random.multinomial(self.moving_passengers,self.plane_list[i]) #number of infected passengers per plane\n",
    "                    arriving_infected_total=0\n",
    "                    for j in xrange(len(passenger_dist)):\n",
    "                        p_in_ex=0 #probability a single uninfected passenger gets infected based number of infected on plane\n",
    "                        num_infected_plane=passenger_dist[j]\n",
    "                        for k in xrange(num_infected_plane):\n",
    "                            p_in_ex+=sc.misc.comb((self.passengers_per_flight-num_infected_plane),k)*self.transmission_rate**k*(-1)**(k+1)\n",
    "                        arriving_infected_plane=int(self.passengers_per_flight*p_in_ex#*np.random.normal(1,.15,1))\n",
    "                        arriving_infected_total+=arriving_infected_plane\n",
    "                    \n",
    "                    self.infected_travelers.append(arriving_infected_total)\n",
    "                        \n",
    "                \n",
    "                    #self.max_passengers=self.g.edge[self.node_id][self.neighbors[i]]['weight']\n",
    "                    #self.moving_passengers*=self.transmission_rate*self.passengers_per_flight*np.random.normal(1,.15,1)\n",
    "                    #self.moving_passengers=int(self.moving_passengers)\n",
    "                    #if self.moving_passengers>self.max_passengers:\n",
    "                        #self.moving_passengers=self.max_passengers\n",
    "                        \n",
    "                    #self.infected_travelers.append(self.moving_passengers)    \n",
    "                print self.infected_travelers\n",
    "                \n",
    "                # Node update\n",
    "                # Calculate in host spread\n",
    "                #print self.node_id,'initial',self.g.node[self.node_id]['infected']\n",
    "                self.new_infected=int(self.g.node[self.node_id]['infected']*self.reproduction_number)\n",
    "                #print self.node_id,'spread',self.new_infected\n",
    "                # Calculate in host death\n",
    "                self.removed_infected=self.g.node[self.node_id]['infected']\n",
    "                #print self.node_id,'removed',self.removed_infected\n",
    "                #print self.node_id,'flying',sum(self.infected_travelers)\n",
    "                # Spread to neighbors\n",
    "                for i in xrange(len(self.neighbors)):\n",
    "                    self.neighbor_id=self.neighbors[i]\n",
    "\n",
    "                    # Move Infected\n",
    "                    self.num_infected_at_neighbor=self.g.node[self.neighbor_id]['infected']\n",
    "                    self.g_step.node[self.neighbor_id]['infected']=self.num_infected_at_neighbor+self.infected_travelers[i]\n",
    "                    if self.infected_travelers[i]>0:\n",
    "                        self.history_infected_interactions.append((self.t,self.node_id,self.neighbor_id,self.travel_dist[i],self.infected_travelers[i]))\n",
    "                        self.num_interactions+=1\n",
    "                    #self.g_step.node[self.node_id]['infected']=self.g.node[self.node_id]['infected']-self.infected_travelers[i]\n",
    "\n",
    "                # Sum new infection change\n",
    "                self.new_infected_total=int(max(self.g.node[self.node_id]['infected']+self.new_infected-self.removed_infected,0))\n",
    "                \n",
    "                #maintain resevoir of infection               \n",
    "                if self.node_id == self.initial_infected[0][0] and self.new_infected_total<self.initial_infected[1][0]:\n",
    "                    self.new_infected_total=self.initial_infected[1][0]\n",
    "                    print 'resevoir maintenance'\n",
    "                    \n",
    "                self.g_step.node[self.node_id]['infected']=int(self.new_infected_total)\n",
    "                #print self.node_id,'new infected total',self.new_infected_total\n",
    "                #print self.node_id,'new infected total graph',self.g_step.node[self.node_id]['infected']\n",
    "                \n",
    "        # Update graph\n",
    "        self.num_infected=0\n",
    "        self.num_hosts_infected=0\n",
    "        for self.node_id in self.g_step.nodes():\n",
    "            if self.g_step.node[self.node_id]['infected']>0:\n",
    "                #print self.node_id,'END pre-count number infected',self.g_step.node[self.node_id]['infected']\n",
    "                self.g_step.node[self.node_id][\"state\"] = \"I\"\n",
    "                self.num_hosts_infected+=1\n",
    "                self.num_infected+=int(self.g_step.node[self.node_id]['infected'])\n",
    "                #print self.node_id,'number infected',self.g_step.node[self.node_id]['infected']\n",
    "            else:\n",
    "                self.g_step.node[self.node_id][\"state\"] = \"S\"\n",
    "\n",
    "        # Resolve g_step to g ***Not Resolving***\n",
    "        self.g=self.g_step\n",
    "\n",
    "        # Track the latest step\n",
    "        self.history_space.append(copy.deepcopy(self.g))\n",
    "        self.t+=1\n",
    "        self.history_infected.append(self.num_infected)\n",
    "        self.history_cities_infected.append(self.num_hosts_infected)\n",
    "        self.history_num_interactions.append(self.num_interactions)\n",
    "        self.time_series_data.append((self.num_infected,self.num_hosts_infected,self.num_interactions))\n",
    "        \n"
   ]
  },
  {
   "cell_type": "code",
   "execution_count": 47,
   "metadata": {
    "collapsed": false
   },
   "outputs": [
    {
     "name": "stdout",
     "output_type": "stream",
     "text": [
      "time step 0 has 1000 infected in 1 city\n",
      "number of interactions 0\n",
      "[0, 0, 2991, 2126, 0]\n",
      "resevoir maintenance\n",
      "time step 1 has 6117 infected in 3 city\n",
      "number of interactions 2\n",
      "[0, 0, 0, 0, 0, 0, 0, 0, 0, 0, 0, 0, -166, 0, 0, 0, 0, -206, 0, 0, 0, 0, 0, 0, 0, 0, 0, 0, 0, -143, 0, 0, 0, 0, -187, 0, 0, 0, 0, 0, 0, 0, 0, 0, 0, 0, -153, 0, 0, 0, 0, 0, 867, 0, 0, 0, -2058, 0, 0, 0, -139, 0, 0, 0, 0, -188, 0, 0, 0, -163, 0, 0, 0, 0, 0, 0, 0, 0, 0, 0, 0, 0, 0, 0, 0, 0, 0, 0, 0, 0, 0, 0, 0, 0, 0, -1757, 0, 0, -140, 0, -119, 0, 0, 0, 0, 0, -162, 0, 0, 0, 0, 0, 0, -164, 0, 0, 0, 0, 0, 0, 0, 0, 0, 0, 0, 0, 0, 0, 0, -195, 0, 0, 0, 0, 0, 0, 0, 0, 0, -136, 0, -157, 0, 0, 0, 0, 0, 0, 0, 0, 676, 0, 0, -141, 0, -165, 0, 0, -142, 0, 0, 0, 0, -156, 0, 0, 0]\n",
      "[0, 0, -3086, 1588, 0]\n",
      "resevoir maintenance\n"
     ]
    },
    {
     "ename": "ValueError",
     "evalue": "n < 0",
     "output_type": "error",
     "traceback": [
      "\u001b[1;31m---------------------------------------------------------------------------\u001b[0m",
      "\u001b[1;31mValueError\u001b[0m                                Traceback (most recent call last)",
      "\u001b[1;32m<ipython-input-47-377a2b3c04b9>\u001b[0m in \u001b[0;36m<module>\u001b[1;34m()\u001b[0m\n\u001b[0;32m     10\u001b[0m     \u001b[1;32mprint\u001b[0m \u001b[1;34m'time step'\u001b[0m\u001b[1;33m,\u001b[0m\u001b[0mm\u001b[0m\u001b[1;33m.\u001b[0m\u001b[0mt\u001b[0m\u001b[1;33m,\u001b[0m\u001b[1;34m'has'\u001b[0m\u001b[1;33m,\u001b[0m\u001b[0mm\u001b[0m\u001b[1;33m.\u001b[0m\u001b[0mhistory_infected\u001b[0m\u001b[1;33m[\u001b[0m\u001b[1;33m-\u001b[0m\u001b[1;36m1\u001b[0m\u001b[1;33m]\u001b[0m\u001b[1;33m,\u001b[0m \u001b[1;34m'infected in'\u001b[0m\u001b[1;33m,\u001b[0m\u001b[0mm\u001b[0m\u001b[1;33m.\u001b[0m\u001b[0mhistory_cities_infected\u001b[0m\u001b[1;33m[\u001b[0m\u001b[1;33m-\u001b[0m\u001b[1;36m1\u001b[0m\u001b[1;33m]\u001b[0m\u001b[1;33m,\u001b[0m \u001b[1;34m'city'\u001b[0m\u001b[1;33m\u001b[0m\u001b[0m\n\u001b[0;32m     11\u001b[0m     \u001b[1;32mprint\u001b[0m \u001b[1;34m'number of interactions'\u001b[0m\u001b[1;33m,\u001b[0m\u001b[0mm\u001b[0m\u001b[1;33m.\u001b[0m\u001b[0mnum_interactions\u001b[0m\u001b[1;33m\u001b[0m\u001b[0m\n\u001b[1;32m---> 12\u001b[1;33m     \u001b[0mm\u001b[0m\u001b[1;33m.\u001b[0m\u001b[0mstep\u001b[0m\u001b[1;33m(\u001b[0m\u001b[1;33m)\u001b[0m\u001b[1;33m\u001b[0m\u001b[0m\n\u001b[0m\u001b[0;32m     13\u001b[0m     \u001b[0mloop\u001b[0m\u001b[1;33m+=\u001b[0m\u001b[1;36m1\u001b[0m\u001b[1;33m\u001b[0m\u001b[0m\n\u001b[0;32m     14\u001b[0m \u001b[1;32mprint\u001b[0m \u001b[1;34m'History:'\u001b[0m\u001b[1;33m,\u001b[0m\u001b[0mm\u001b[0m\u001b[1;33m.\u001b[0m\u001b[0mhistory_infected\u001b[0m\u001b[1;33m\u001b[0m\u001b[0m\n",
      "\u001b[1;32m<ipython-input-44-3dc5b1ac6236>\u001b[0m in \u001b[0;36mstep\u001b[1;34m(self)\u001b[0m\n\u001b[0;32m     54\u001b[0m \u001b[1;33m\u001b[0m\u001b[0m\n\u001b[0;32m     55\u001b[0m                 \u001b[1;31m# Decide how many infected are traveling\u001b[0m\u001b[1;33m\u001b[0m\u001b[1;33m\u001b[0m\u001b[0m\n\u001b[1;32m---> 56\u001b[1;33m                 \u001b[0mself\u001b[0m\u001b[1;33m.\u001b[0m\u001b[0minfected_traveling\u001b[0m\u001b[1;33m=\u001b[0m\u001b[0mnp\u001b[0m\u001b[1;33m.\u001b[0m\u001b[0mrandom\u001b[0m\u001b[1;33m.\u001b[0m\u001b[0mbinomial\u001b[0m\u001b[1;33m(\u001b[0m\u001b[0mself\u001b[0m\u001b[1;33m.\u001b[0m\u001b[0mg\u001b[0m\u001b[1;33m.\u001b[0m\u001b[0mnode\u001b[0m\u001b[1;33m[\u001b[0m\u001b[0mself\u001b[0m\u001b[1;33m.\u001b[0m\u001b[0mnode_id\u001b[0m\u001b[1;33m]\u001b[0m\u001b[1;33m[\u001b[0m\u001b[1;34m'infected'\u001b[0m\u001b[1;33m]\u001b[0m\u001b[1;33m,\u001b[0m\u001b[0mself\u001b[0m\u001b[1;33m.\u001b[0m\u001b[0mprob_of_flying\u001b[0m\u001b[1;33m)\u001b[0m\u001b[1;33m\u001b[0m\u001b[0m\n\u001b[0m\u001b[0;32m     57\u001b[0m \u001b[1;33m\u001b[0m\u001b[0m\n\u001b[0;32m     58\u001b[0m                 \u001b[1;31m#check\u001b[0m\u001b[1;33m\u001b[0m\u001b[1;33m\u001b[0m\u001b[0m\n",
      "\u001b[1;32mmtrand.pyx\u001b[0m in \u001b[0;36mmtrand.RandomState.binomial (numpy\\random\\mtrand\\mtrand.c:19812)\u001b[1;34m()\u001b[0m\n",
      "\u001b[1;31mValueError\u001b[0m: n < 0"
     ]
    }
   ],
   "source": [
    "#TEST\n",
    "# Initialize Space\n",
    "g=nx.read_weighted_edgelist(\"2010citytocity_monthly.csv\",nodetype=str,delimiter=',')\n",
    "g=nx.convert_node_labels_to_integers(g,label_attribute='old_label')\n",
    "g=g.to_directed()\n",
    "\n",
    "m=Model(g,reproduction_number=.6)\n",
    "loop=0\n",
    "while m.history_infected[-1]>0 and loop<50:\n",
    "    print 'time step',m.t,'has',m.history_infected[-1], 'infected in',m.history_cities_infected[-1], 'city'\n",
    "    print 'number of interactions',m.num_interactions\n",
    "    m.step()\n",
    "    loop+=1\n",
    "print 'History:',m.history_infected"
   ]
  },
  {
   "cell_type": "code",
   "execution_count": 26,
   "metadata": {
    "collapsed": false
   },
   "outputs": [
    {
     "data": {
      "text/plain": [
       "[0.1, 0.1]"
      ]
     },
     "execution_count": 26,
     "metadata": {},
     "output_type": "execute_result"
    }
   ],
   "source": [
    "[.1]*2"
   ]
  },
  {
   "cell_type": "code",
   "execution_count": 30,
   "metadata": {
    "collapsed": false
   },
   "outputs": [
    {
     "data": {
      "text/plain": [
       "0.0"
      ]
     },
     "execution_count": 30,
     "metadata": {},
     "output_type": "execute_result"
    }
   ],
   "source": [
    "sc.misc.comb(-4,2)\n"
   ]
  },
  {
   "cell_type": "code",
   "execution_count": null,
   "metadata": {
    "collapsed": true
   },
   "outputs": [],
   "source": []
  }
 ],
 "metadata": {
  "kernelspec": {
   "display_name": "Python 2",
   "language": "python",
   "name": "python2"
  },
  "language_info": {
   "codemirror_mode": {
    "name": "ipython",
    "version": 2
   },
   "file_extension": ".py",
   "mimetype": "text/x-python",
   "name": "python",
   "nbconvert_exporter": "python",
   "pygments_lexer": "ipython2",
   "version": "2.7.8"
  }
 },
 "nbformat": 4,
 "nbformat_minor": 0
}
