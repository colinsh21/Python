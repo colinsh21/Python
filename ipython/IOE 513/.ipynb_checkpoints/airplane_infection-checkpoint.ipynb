{
 "cells": [
  {
   "cell_type": "code",
   "execution_count": 1,
   "metadata": {
    "collapsed": true
   },
   "outputs": [],
   "source": [
    "# Imports\n",
    "import copy\n",
    "import networkx as nx\n",
    "import numpy as np\n",
    "import pandas\n",
    "import seaborn; seaborn.set()"
   ]
  },
  {
   "cell_type": "code",
   "execution_count": 73,
   "metadata": {
    "collapsed": false
   },
   "outputs": [
    {
     "name": "stdout",
     "output_type": "stream",
     "text": [
      "\n"
     ]
    }
   ],
   "source": [
    "class Model(object):\n",
    "    def __init__(self,graph,initial_infected=[[366],[1000]],reproduction_number=.65,effective_contacts=15,prob_of_flying_day=.0005,passengers_per_flight=150):\n",
    "        #set pararms\n",
    "        self.g=graph\n",
    "        self.initial_infected=initial_infected\n",
    "        self.reproduction_number=reproduction_number\n",
    "        self.prob_of_flying_day=prob_of_flying_day\n",
    "        self.prob_of_flying=1-(1-self.prob_of_flying_day)**30\n",
    "        self.effective_contacts=effective_contacts\n",
    "        self.transmission_rate=self.reproduction_number/self.effective_contacts\n",
    "        self.passengers_per_flight=passengers_per_flight\n",
    "        \n",
    "        #set state variables\n",
    "        self.t=0\n",
    "        self.history_infected=[]\n",
    "        self.history_cities_infected=[]\n",
    "        self.history_infected_interactions=[]\n",
    "        self.history_space=[]\n",
    "        \n",
    "        #self call setup\n",
    "        self.setup_space()\n",
    "        \n",
    "    def setup_space(self):\n",
    "        self.num_infected=0\n",
    "        self.num_hosts_infected=0\n",
    "        for node_id in self.g.nodes():\n",
    "            if node_id in self.initial_infected[0]:\n",
    "                self.g.node[node_id]['infected']=self.initial_infected[1][0]\n",
    "                self.g.node[node_id][\"state\"] = \"I\"\n",
    "                self.num_hosts_infected+=1\n",
    "                self.num_infected+=self.g.node[node_id]['infected']\n",
    "            else:\n",
    "                self.g.node[node_id]['infected']=0\n",
    "                self.g.node[node_id][\"state\"] = \"S\"\n",
    "        \n",
    "        # Track the latest step\n",
    "        self.history_space.append(copy.deepcopy(self.g))\n",
    "        self.history_infected.append(self.num_infected)\n",
    "        self.history_cities_infected.append(self.num_hosts_infected)\n",
    "        self.history_infected_interactions=[]\n",
    "        \n",
    "    def step(self):\n",
    "        self.g_step=copy.deepcopy(self.g)\n",
    "        # Iterate over I and infect any S neighbors\n",
    "        for self.node_id in self.g.nodes():\n",
    "            if self.g.node[self.node_id][\"state\"] == \"I\":\n",
    "                #print self.node_id\n",
    "                # Decide how many infected are traveling\n",
    "                self.infected_traveling=np.random.binomial(self.g.node[self.node_id]['infected'],self.prob_of_flying)\n",
    "                #check\n",
    "                if self.infected_traveling>self.g.node[self.node_id]['infected']:\n",
    "                    self.infected_traveling=self.g.node[self.node_id]['infected']\n",
    "                    \n",
    "                # Get travel options\n",
    "                self.neighbors = self.g.neighbors(self.node_id)\n",
    "                #print('neighbors',neighbors)\n",
    "                self.passenger_list=[]\n",
    "                for self.neighbor_id in self.neighbors:\n",
    "                    self.passenger_list.append(self.g.edge[self.node_id][self.neighbor_id]['weight'])\n",
    "\n",
    "                #print('passenger_list',passenger_list)\n",
    "                # Create passenger distribution\n",
    "                self.percent_list = [float(i)/sum(self.passenger_list) for i in self.passenger_list]\n",
    "\n",
    "                #passenger_dist=np.cumsum(percent_list)\n",
    "                #print('passenger_dist',percent_list)\n",
    "\n",
    "                # Create travel distribution\n",
    "                self.travel_dist=np.random.multinomial(self.infected_traveling, self.percent_list)\n",
    "                #print('travel_dist',travel_dist)\n",
    "\n",
    "                # Convert number of travels to infection\n",
    "                self.infected_travelers=[]\n",
    "                for i in xrange(len(self.travel_dist)):\n",
    "                    self.moving_passengers=self.travel_dist[i]\n",
    "                    self.max_passengers=self.g.edge[self.node_id][self.neighbors[i]]['weight']\n",
    "                    self.moving_passengers*=self.transmission_rate*self.passengers_per_flight\n",
    "                    self.moving_passengers=int(self.moving_passengers)\n",
    "                    if self.moving_passengers>self.max_passengers:\n",
    "                        self.moving_passengers=self.max_passengers\n",
    "                        \n",
    "                    self.infected_travelers.append(self.moving_passengers)    \n",
    "                #print self.infected_travelers\n",
    "                # Node update\n",
    "                # Calculate in host spread\n",
    "                self.new_infected=int(self.g.node[self.node_id]['infected']*self.reproduction_number)\n",
    "\n",
    "                # Calculate in host death\n",
    "                self.removed_infected=self.g.node[self.node_id]['infected']\n",
    "                print self.node_id,'removed',self.removed_infected\n",
    "                \n",
    "                # Spread to neighbors\n",
    "                for i in xrange(len(self.neighbors)):\n",
    "                    self.neighbor_id=self.neighbors[i]\n",
    "\n",
    "                    # Move Infected\n",
    "                    self.num_infected_at_neighbor=self.g.node[self.neighbor_id]['infected']\n",
    "                    self.g_step.node[self.neighbor_id]['infected']=self.num_infected_at_neighbor+self.infected_travelers[i]\n",
    "                    self.g_step.node[self.node_id]['infected']=self.g.node[self.node_id]['infected']-self.infected_travelers[i]\n",
    "\n",
    "                # Sum new infection change\n",
    "                self.new_infected_total=int(max(self.g.node[self.node_id]['infected']+self.new_infected-self.removed_infected,0))\n",
    "                self.g_step.node[self.node_id]['infected']=int(self.new_infected_total)\n",
    "                print self.node_id,'new infected total',self.new_infected_total\n",
    "                \n",
    "        # Update graph\n",
    "        self.num_infected=0\n",
    "        self.num_hosts_infected=0\n",
    "        for self.node_id in self.g_step.nodes():\n",
    "            if self.g_step.node[self.node_id]['infected']>0:\n",
    "                self.g_step.node[self.node_id][\"state\"] = \"I\"\n",
    "                self.num_hosts_infected+=1\n",
    "                self.num_infected+=self.g_step.node[self.node_id]['infected']\n",
    "                print self.node_id,'number infected',self.g_step.node[self.node_id]['infected']\n",
    "            else:\n",
    "                self.g_step.node[self.node_id][\"state\"] = \"S\"\n",
    "\n",
    "        # Resolve g_step to g\n",
    "        self.g=copy.deepcopy(self.g_step)\n",
    "\n",
    "        # Track the latest step\n",
    "        self.history_space.append(copy.deepcopy(self.g))\n",
    "        self.t+=1\n",
    "        self.history_infected.append(self.num_infected)\n",
    "        self.history_cities_infected.append(self.num_hosts_infected)\n",
    "        self.history_infected_interactions=[]\n",
    "        \n"
   ]
  },
  {
   "cell_type": "code",
   "execution_count": 74,
   "metadata": {
    "collapsed": false
   },
   "outputs": [
    {
     "name": "stdout",
     "output_type": "stream",
     "text": [
      "366 removed 1000\n",
      "366 new infected total 400\n",
      "212 number infected 40\n",
      "366 number infected 400\n",
      "396 number infected 32\n",
      "[1000, 472]\n"
     ]
    }
   ],
   "source": [
    "#TEST\n",
    "# Initialize Space\n",
    "g=nx.read_weighted_edgelist(\"2010citytocity_monthly.csv\",nodetype=str,delimiter=',')\n",
    "g=nx.convert_node_labels_to_integers(g,label_attribute='old_label')\n",
    "g=g.to_directed()\n",
    "\n",
    "m=Model(g,reproduction_number=.4)\n",
    "m.step()\n",
    "print m.history_infected\n"
   ]
  },
  {
   "cell_type": "code",
   "execution_count": 76,
   "metadata": {
    "collapsed": false
   },
   "outputs": [
    {
     "name": "stdout",
     "output_type": "stream",
     "text": [
      "212 removed 44\n",
      "212 new infected total 17\n",
      "366 removed 400\n",
      "366 new infected total 160\n",
      "396 removed 12\n",
      "396 new infected total 4\n",
      "212 number infected 48\n",
      "366 number infected 400\n",
      "396 number infected 4\n",
      "405 number infected 4\n",
      "[1000, 472, 456, 456]\n"
     ]
    }
   ],
   "source": [
    "m.step()\n",
    "print m.history_infected"
   ]
  },
  {
   "cell_type": "code",
   "execution_count": 49,
   "metadata": {
    "collapsed": true
   },
   "outputs": [],
   "source": []
  },
  {
   "cell_type": "code",
   "execution_count": null,
   "metadata": {
    "collapsed": true
   },
   "outputs": [],
   "source": []
  }
 ],
 "metadata": {
  "kernelspec": {
   "display_name": "Python 2",
   "name": "python2"
  },
  "language_info": {
   "codemirror_mode": {
    "name": "ipython",
    "version": 2
   },
   "file_extension": ".py",
   "mimetype": "text/x-python",
   "name": "python",
   "nbconvert_exporter": "python",
   "pygments_lexer": "ipython2",
   "version": "2.7.8"
  }
 },
 "nbformat": 4,
 "nbformat_minor": 0
}
