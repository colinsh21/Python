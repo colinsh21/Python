{
 "cells": [
  {
   "cell_type": "code",
   "execution_count": 1,
   "metadata": {
    "collapsed": true
   },
   "outputs": [],
   "source": [
    "import networkx as nx\n",
    "import numpy as np\n",
    "import matplotlib.pyplot as plt\n",
    "import random\n",
    "import operator\n",
    "from bisect import bisect\n",
    "%matplotlib inline\n",
    "\n",
    "\"\"\"\n",
    "1) tracking in single dict\n",
    "2) pre-populate k nodes\n",
    "3) asymmetric pheromone edges?\n",
    "\"\"\""
   ]
  },
  {
   "cell_type": "code",
   "execution_count": 61,
   "metadata": {
    "collapsed": true
   },
   "outputs": [],
   "source": [
    "class TSP(object):\n",
    "    def __init__(self,start=1,dissipation=.2,tolerance=.2,alpha=1.0,beta=1.0):\n",
    "        #inputs\n",
    "        self.dissipation=dissipation\n",
    "        self.tolerance=tolerance\n",
    "        self.alpha=alpha\n",
    "        self.beta=beta\n",
    "        self.start=start\n",
    "        self.step=0\n",
    "        \n",
    "        #setup\n",
    "        self.history_d={} #holds decisions about node order\n",
    "        self.history_k={}\n",
    "        self.history_s={}\n",
    "        self.tsp=self.init_tsp()\n",
    "        \n",
    "        #Tracking - last[type][element][node history]\n",
    "        ##type - p, dist, score, route, dec\n",
    "        ##element - edge, edge, step, none, none\n",
    "        self.last={'p':{},'dist':{},'score':{},'route':{}}\n",
    "        for e in self.tsp.edges():\n",
    "            self.last['p'][e]=[]\n",
    "            self.last['dist'][e]=[]\n",
    "        for i in xrange(self.tsp.number_of_nodes()-1):\n",
    "            self.last['route'][i]=[]\n",
    "        self.last['score']=[]\n",
    "        self.last['dec']=[]\n",
    "        \n",
    "        self.d=[self.start]\n",
    "        self.history_d[self.step]=list(self.d)\n",
    "        self.state=self.init_graph(self.tsp)\n",
    "        self.history_s[self.step]=self.state.copy()\n",
    "        self.k=self.init_k(self.state)\n",
    "        #self.last_solution={}\n",
    "        \n",
    "        \n",
    "    \n",
    "    def init_tsp(self):\n",
    "        tsp=nx.DiGraph()\n",
    "        tsp.add_edge(1,2,dist=1.0)\n",
    "        tsp.add_edge(2,1,dist=1.0)\n",
    "        tsp.add_edge(1,3,dist=1.0)\n",
    "        tsp.add_edge(3,1,dist=1.0)        \n",
    "        tsp.add_edge(1,4,dist=2.0)\n",
    "        tsp.add_edge(4,1,dist=2.0)\n",
    "        tsp.add_edge(2,3,dist=3.0)\n",
    "        tsp.add_edge(3,2,dist=3.0)\n",
    "        tsp.add_edge(2,4,dist=4.0)\n",
    "        tsp.add_edge(4,2,dist=4.0)\n",
    "        tsp.add_edge(3,4,dist=2.0)\n",
    "        tsp.add_edge(4,3,dist=2.0)\n",
    "        \n",
    "        return tsp\n",
    "        \n",
    "    def init_graph(self,tsp):\n",
    "        g=tsp.copy()\n",
    "        for u,v in g.edges():\n",
    "            g[u][v]['p']=0.5\n",
    "            g[u][v]['dist']=0.0\n",
    "\n",
    "        #print g.edges(data=True)\n",
    "\n",
    "        return g\n",
    "\n",
    "    def init_k(self,g):\n",
    "        k=nx.DiGraph()\n",
    "        last_visited={}\n",
    "        \n",
    "        #k for edge data\n",
    "        for u,v,d in g.edges(data=True):\n",
    "            last_visited[(u,v)]={}\n",
    "            n_label=k.number_of_nodes()+1\n",
    "            k.add_node(n_label,label=(u,v),p=float(d['p']),step=self.step)\n",
    "            self.last['p'][(u,v)].append(n_label)\n",
    "            n_label=k.number_of_nodes()+1\n",
    "            k.add_node(n_label,label=(u,v),dist=float(d['dist']),step=self.step)\n",
    "            self.last['dist'][(u,v)].append(n_label)\n",
    "            \n",
    "        #k for decision\n",
    "        n_label=k.number_of_nodes()+1\n",
    "        k.add_node(n_label,label='decision', d=list(self.d), step=self.step)\n",
    "        self.last['dec'].append(n_label)\n",
    "        \n",
    "        self.history_k[self.step]=k.copy()\n",
    "        self.step+=1\n",
    "\n",
    "        return k #,last_visited\n",
    "    \n",
    "    def walk(self):\n",
    "        #initialize\n",
    "        g=self.state.copy()\n",
    "        tsp=self.tsp.copy()\n",
    "        tabu=[int(self.start)]\n",
    "\n",
    "        for i in xrange(g.number_of_nodes()-1):\n",
    "            #get pheromone list\n",
    "            n_l=[]\n",
    "            p_l=[]\n",
    "            h_l=[]\n",
    "            dec_point=False #checks if this step is affected by a decision\n",
    "            for n in g.nodes():\n",
    "                if n not in tabu:\n",
    "                    n_l.append(n)\n",
    "                    \n",
    "                    if g[tabu[-1]][n]['p']==0.0:\n",
    "                        dec_point=True\n",
    "                    p_l.append(g[tabu[-1]][n]['p'])\n",
    "                    \n",
    "                    if g[tabu[-1]][n]['dist']==0.0:\n",
    "                        h_l.append(10.0)\n",
    "                    else:\n",
    "                        h_l.append(1.0/g[tabu[-1]][n]['dist'])\n",
    "                    \n",
    "            c_l=np.power(p_l,self.alpha)*np.power(h_l,self.beta)\n",
    "            n_index=self.make_decision(c_l)\n",
    "            new_n=n_l[n_index]\n",
    "                \n",
    "            #update k with edge from tau and dist to edge selection\n",
    "            n_label=self.k.number_of_nodes()+1\n",
    "            \n",
    "            #label is edge number in solution, e is edge added\n",
    "            self.k.add_node(n_label,label='selection',i=i,e=(tabu[-1],new_n),step=self.step)\n",
    "            self.last['route'][i].append(n_label)\n",
    "            \n",
    "            for e_i in xrange(len(tabu)-1): #iterate through added edges\n",
    "                #add constraining \n",
    "                last=self.last['route'][e_i][-1]\n",
    "                self.k.add_edge(last,n_label,step=self.step,t=1)\n",
    "            \n",
    "            #if influenced by decision, edge from decision not other edge info\n",
    "            if dec_point:\n",
    "                #only edge from decision\n",
    "                self.k.add_edge(self.last['dec'][-1],n_label,step=self.step, t=1)\n",
    "                \n",
    "            else:\n",
    "                for n in n_l: #g.nodes():\n",
    "                    #if n not in tabu: #only non tabu\n",
    "                    if n != tabu[-1]: #no self-edge\n",
    "                        e=(tabu[-1],n)\n",
    "                        if (e[0],e[1]) not in self.tsp.edges(): #self.last_visited.keys():\n",
    "                            e=(e[1],e[0])\n",
    "\n",
    "                        self.k.add_edge(self.last['p'][e][-1],n_label,step=self.step, t=2)\n",
    "                        self.k.add_edge(self.last['dist'][e][-1],n_label,step=self.step, t=2)\n",
    "                    \n",
    "\n",
    "                \n",
    "            #append new node\n",
    "            tabu.append(new_n)\n",
    "\n",
    "        score=0.0\n",
    "        e_r=[tuple(tabu[i:i+2]) for i in xrange(0,len(tabu), 1)]\n",
    "        del e_r[-1]\n",
    "\n",
    "        for e in e_r:\n",
    "            score+=float(tsp[e[0]][e[1]]['dist'])\n",
    "\n",
    "        return tuple(tabu), score\n",
    "\n",
    "    def update_edges(self,route,score):\n",
    "        g_t=self.state.copy()\n",
    "        g=self.state.copy()\n",
    "        p=float(self.dissipation)\n",
    "        tsp=self.tsp.copy()\n",
    "        \n",
    "        #print 'before', g_t.edges(data=True)\n",
    "        #print 'reduction', p\n",
    "        \n",
    "        #update k with rout\n",
    "        #n_label=self.k.number_of_nodes()+1\n",
    "        #self.k.add_node(n_label,label=route,step=self.step)\n",
    "        #self.last_solution['route']=n_label\n",
    "        \n",
    "        # k edges from tsp edge info to route - now handled in walk\n",
    "        #for e in self.last_visited:\n",
    "            #self.k.add_edge(self.last_visited[e]['p'],n_label,step=self.step)\n",
    "            #self.k.add_edge(self.last_visited[e]['dist'],n_label,step=self.step)\n",
    "            \n",
    "        \n",
    "        e_r=[tuple(route[i:i+2]) for i in xrange(0,len(route), 1)]\n",
    "        del e_r[-1]\n",
    "        \n",
    "        #update distances\n",
    "        for e in e_r:\n",
    "            sel_index=e_r.index(e)\n",
    "            #check ordering\n",
    "            if (e[0],e[1]) not in self.tsp.edges():\n",
    "                e=(e[1],e[0])\n",
    "            \n",
    "            #update dist in k\n",
    "            if g_t[e[0]][e[1]]['dist']==0.0:\n",
    "                dist=float(tsp[e[0]][e[1]]['dist'])\n",
    "                g_t[e[0]][e[1]]['dist']=dist\n",
    "                \n",
    "                #update k for changed distance\n",
    "                n_label=self.k.number_of_nodes()+1\n",
    "                last_n=self.last['dist'][(e[0],e[1])][-1]\n",
    "                self.k.add_node(n_label,label=(e[0],e[1]),dist=float(dist),step=self.step)\n",
    "                self.k.add_edge(last_n,n_label,step=self.step,t=2)\n",
    "                self.k.add_edge(self.last['route'][sel_index][-1],n_label,step=self.step,t=1)\n",
    "                \n",
    "                self.last['dist'][(e[0],e[1])].append(n_label)\n",
    "                \n",
    "\n",
    "        #add k for score\n",
    "        n_label=self.k.number_of_nodes()+1\n",
    "        self.k.add_node(n_label,label='score',score=score,step=self.step)\n",
    "        \n",
    "        #add k from route selections to score\n",
    "        for sel,n_list in self.last['route'].iteritems():\n",
    "                self.k.add_edge(n_list[-1],n_label,step=self.step,t=1)\n",
    "        \n",
    "        self.last['score'].append(n_label)\n",
    "        \n",
    "        t_update=1.0/score\n",
    "        for u,v,d in g_t.edges(data=True):\n",
    "            #update pheromone\n",
    "            g_t[u][v]['p']=float(g[u][v]['p'])*(1.0-p)\n",
    "            \n",
    "            #update k for pheromone reduction\n",
    "            last_n=self.last['p'][(u,v)][-1]\n",
    "            n_label=self.k.number_of_nodes()+1\n",
    "            self.k.add_node(n_label,label=(u,v),p=float(d['p']),step=self.step)\n",
    "            self.k.add_edge(last_n,n_label,step=self.step,t=2)\n",
    "            self.last['p'][(u,v)].append(n_label)\n",
    "        \n",
    "        \n",
    "        \n",
    "        for e in e_r:\n",
    "            sel_index=e_r.index(e)\n",
    "            #check ordering\n",
    "            if (e[0],e[1]) not in self.tsp.edges():\n",
    "                e=(e[1],e[0])\n",
    "            \n",
    "            #update k for route score for distance\n",
    "            last_n=self.last['dist'][(e[0],e[1])][-1]\n",
    "            self.k.add_edge(last_n,self.last['score'][-1],step=self.step,t=1)\n",
    "                \n",
    "                \n",
    "            #update pheromones on included edges    \n",
    "            g_t[e[0]][e[1]]['p']=float(g_t[e[0]][e[1]]['p'])+t_update*p\n",
    "            \n",
    "            #update k for pheromone addition - add edge for walk update\n",
    "            last_n=self.last['p'][(e[0],e[1])][-1]\n",
    "            self.k.node[last_n]['p']=float(g_t[e[0]][e[1]]['p'])\n",
    "            #n_label=self.k.number_of_nodes()+1\n",
    "            #self.k.add_node(n_label,label=(e[0],e[1]),p=float(g_t[e[0]][e[1]]['p']),step=self.step)\n",
    "            #self.k.add_edge(last_n,n_label,step=self.step)\n",
    "            self.k.add_edge(self.last['route'][sel_index][-1],last_n,step=self.step,t=2)\n",
    "            self.k.add_edge(self.last['score'][-1],last_n,step=self.step,t=2)\n",
    "            #self.last_visited[(e[0],e[1])]['p']=n_label\n",
    "        \n",
    "        g_t=self.design(g_t,tolerance=self.tolerance)\n",
    "        \n",
    "        self.history_d[self.step]=list(self.d)\n",
    "        self.history_k[self.step]=self.k.copy()\n",
    "        self.history_s[self.step]=g_t.copy()\n",
    "        self.step+=1\n",
    "        #print 'after', g_t.edges(data=True)    \n",
    "        return g_t\n",
    "\n",
    "    def design(self,g,tolerance):\n",
    "        #makes locks-in step in walk if p(1st node)-p(2nd node)\n",
    "        #g=self.state.copy()\n",
    "        g_t=g.copy()\n",
    "        \n",
    "        while True:\n",
    "            if len(self.d)==(g.number_of_nodes()):\n",
    "                break\n",
    "            dec_node=self.d[-1]\n",
    "        \n",
    "            #Get probabilities\n",
    "            #get pheromone list\n",
    "            n_l=[]\n",
    "            p_l=[]\n",
    "            h_l=[]\n",
    "            for n in g.nodes():\n",
    "                if (n not in self.d):\n",
    "                    n_l.append(n)\n",
    "                    p_l.append(g[self.d[-1]][n]['p'])\n",
    "                    \n",
    "                    if g[self.d[-1]][n]['dist']==0.0: #only look at edges nodes\n",
    "                        h_l.append(0.0)\n",
    "                    else:\n",
    "                        h_l.append(1.0/g[self.d[-1]][n]['dist'])\n",
    "                    \n",
    "            ph_l=np.power(p_l,self.alpha)*np.power(h_l,0.0) #only use pheromone preference\n",
    "            if sum(ph_l)==0.0:\n",
    "                perc_l=[1.0/len(ph_l)]*len(ph_l)\n",
    "            else:\n",
    "                perc_l=[float(i)/sum(ph_l) for i in ph_l]\n",
    "            l=list(perc_l)\n",
    "            #print perc_l\n",
    "            m_1=l.pop(l.index(max(l)))\n",
    "            #print l,m_1\n",
    "            #print m_1-max(l)\n",
    "            \n",
    "            if not l: #only one option\n",
    "                #print 'decision'\n",
    "                dec_index=perc_l.index(max(perc_l)) #decision index\n",
    "                node=n_l[dec_index]\n",
    "                self.d.append(node) #add node to decisions\n",
    "            \n",
    "                #Eliminate other edge options\n",
    "                for n in g.nodes():\n",
    "                    if n not in self.d:\n",
    "                        g_t[dec_node][n]['p']=0.0 #now prob of taking that edges is 0\n",
    "                        \n",
    "                #update k for decision\n",
    "                n_label=self.k.number_of_nodes()+1\n",
    "                self.k.add_node(n_label,label='dec',d=list(self.d),step=self.step)\n",
    "                self.k.add_edge(self.last['dec'][-1],n_label,step=self.step,t=3)\n",
    "                self.last['dec'].append(n_label)\n",
    "                \n",
    "            elif (m_1-max(l))>=tolerance: #prob gap is larger than tolerance \n",
    "                #print 'decision'\n",
    "                dec_index=perc_l.index(max(perc_l)) #decision index\n",
    "                node=n_l[dec_index]\n",
    "                self.d.append(node) #add node to decisions\n",
    "            \n",
    "                #Eliminate other edge options\n",
    "                for n in g.nodes():\n",
    "                    if n not in self.d:\n",
    "                        g_t[dec_node][n]['p']=0.0 #now prob of taking that edges is 0\n",
    "                        \n",
    "                #update k for decision\n",
    "                n_label=self.k.number_of_nodes()+1\n",
    "                self.k.add_node(n_label,label='dec',d=list(self.d),step=self.step)\n",
    "                self.k.add_edge(self.last['dec'][-1],n_label,step=self.step,t=3)\n",
    "                self.last['dec'].append(n_label)\n",
    "                for n in n_l:\n",
    "                    e=(dec_node,n)\n",
    "                    self.k.add_edge(self.last['p'][e][-1],n_label,step=self.step,t=2)\n",
    "\n",
    "                #break\n",
    "            else:\n",
    "                break\n",
    "                \n",
    "        #self.history_d[self.step]=self.d\n",
    "            \n",
    "        return g_t\n",
    "                \n",
    "            \n",
    "        \n",
    "\n",
    "    def make_decision(self,ph_l):\n",
    "        \"\"\"\n",
    "        Return decision index, based on pheromone list.\n",
    "        \"\"\"\n",
    "        #convert pheromones to percentage\n",
    "        if sum(ph_l)==0.0:\n",
    "            percent_list=[1.0/len(ph_l)]*len(ph_l)\n",
    "        else:\n",
    "            percent_list = [float(i)/sum(ph_l) for i in ph_l]   \n",
    "        cumulative_percent=np.cumsum(percent_list)\n",
    "        #print cumulative_percent\n",
    "\n",
    "        #Choose decision index\n",
    "        select_index=bisect(cumulative_percent,np.random.uniform(0,1,1))\n",
    "\n",
    "        return select_index\n",
    "\n",
    "\n",
    "\n",
    "\n",
    "    def k_step(k,t_new,t_old,route,last_visited,changed_d):\n",
    "        #get step number\n",
    "\n",
    "        #route\n",
    "        n_label=k.number_of_nodes()+1\n",
    "        k.add_node(n_label,r=tuple(route),step=step)\n",
    "\n",
    "        #changed distance\n",
    "        for e in changed_d:\n",
    "            n_label=k.number_of_nodes()+1\n",
    "            k.add_node(n_label,)\n",
    "\n",
    "        for e,d in last_visited.iteritems():\n",
    "            print 'hi'\n",
    "\n",
    "\n"
   ]
  },
  {
   "cell_type": "code",
   "execution_count": 71,
   "metadata": {
    "collapsed": false
   },
   "outputs": [
    {
     "name": "stdout",
     "output_type": "stream",
     "text": [
      "[(1, 2, {'p': 0.21591172062256986, 'dist': 1.0}), (1, 3, {'p': 0.020156712587383982, 'dist': 1.0}), (1, 4, {'p': 0.0046116860184273935, 'dist': 0.0}), (2, 1, {'p': 0.01746911443229065, 'dist': 1.0}), (2, 3, {'p': 0.006250996282790255, 'dist': 3.0}), (2, 4, {'p': 0.0046116860184273935, 'dist': 0.0}), (3, 1, {'p': 0.21484887111051043, 'dist': 1.0}), (3, 2, {'p': 0.0, 'dist': 3.0}), (3, 4, {'p': 0.0046116860184273935, 'dist': 0.0}), (4, 1, {'p': 0.0, 'dist': 2.0}), (4, 2, {'p': 0.0, 'dist': 4.0}), (4, 3, {'p': 0.22244369529222535, 'dist': 2.0})]\n",
      "[4, 3, 1, 2]\n"
     ]
    },
    {
     "data": {
      "image/png": "[encoded data removed]",
      "text/plain": [
       "<matplotlib.figure.Figure at 0x411ea90>"
      ]
     },
     "metadata": {},
     "output_type": "display_data"
    }
   ],
   "source": [
    "t=TSP(start=4,tolerance=0.8)\n",
    "\n",
    "routes=[]\n",
    "for i in xrange(100):\n",
    "    r,s=t.walk()\n",
    "    routes.append((r,s))\n",
    "    t.state=t.update_edges(r,s)\n",
    "    if len(t.d)==t.state.number_of_nodes():\n",
    "        break\n",
    "    #print t.edges(data=True)\n",
    "                  \n",
    "#print routes\n",
    "print t.state.edges(data=True)\n",
    "print t.d\n",
    "\n",
    "s=[i[1] for i in routes]\n",
    "gen=xrange(len(s))\n",
    "plt.scatter(gen,s)\n",
    "_=plt.ylim([0.0,max(s)+1.0])"
   ]
  },
  {
   "cell_type": "code",
   "execution_count": 53,
   "metadata": {
    "collapsed": false
   },
   "outputs": [
    {
     "name": "stdout",
     "output_type": "stream",
     "text": [
      "1 {'p': 0.5, 'step': 0, 'label': (1, 2)}\n",
      "2 {'step': 0, 'dist': 0.0, 'label': (1, 2)}\n",
      "3 {'p': 0.5, 'step': 0, 'label': (1, 3)}\n",
      "4 {'step': 0, 'dist': 0.0, 'label': (1, 3)}\n",
      "5 {'p': 0.5, 'step': 0, 'label': (1, 4)}\n",
      "6 {'step': 0, 'dist': 0.0, 'label': (1, 4)}\n",
      "7 {'p': 0.5, 'step': 0, 'label': (2, 1)}\n",
      "8 {'step': 0, 'dist': 0.0, 'label': (2, 1)}\n",
      "9 {'p': 0.5, 'step': 0, 'label': (2, 3)}\n",
      "10 {'step': 0, 'dist': 0.0, 'label': (2, 3)}\n",
      "11 {'p': 0.5, 'step': 0, 'label': (2, 4)}\n",
      "12 {'step': 0, 'dist': 0.0, 'label': (2, 4)}\n",
      "13 {'p': 0.5, 'step': 0, 'label': (3, 1)}\n",
      "14 {'step': 0, 'dist': 0.0, 'label': (3, 1)}\n",
      "15 {'p': 0.5, 'step': 0, 'label': (3, 2)}\n",
      "16 {'step': 0, 'dist': 0.0, 'label': (3, 2)}\n",
      "17 {'p': 0.5, 'step': 0, 'label': (3, 4)}\n",
      "18 {'step': 0, 'dist': 0.0, 'label': (3, 4)}\n",
      "19 {'p': 0.5, 'step': 0, 'label': (4, 1)}\n",
      "20 {'step': 0, 'dist': 0.0, 'label': (4, 1)}\n",
      "21 {'p': 0.5, 'step': 0, 'label': (4, 2)}\n",
      "22 {'step': 0, 'dist': 0.0, 'label': (4, 2)}\n",
      "23 {'p': 0.5, 'step': 0, 'label': (4, 3)}\n",
      "24 {'step': 0, 'dist': 0.0, 'label': (4, 3)}\n",
      "25 {'step': 0, 'd': [4], 'label': 'decision'}\n",
      "26 {'i': 0, 'step': 1, 'e': (4, 2), 'label': 'selection'}\n",
      "27 {'i': 1, 'step': 1, 'e': (2, 1), 'label': 'selection'}\n",
      "28 {'i': 2, 'step': 1, 'e': (1, 3), 'label': 'selection'}\n",
      "29 {'step': 1, 'dist': 4.0, 'label': (4, 2)}\n",
      "30 {'step': 1, 'dist': 1.0, 'label': (2, 1)}\n",
      "31 {'step': 1, 'dist': 1.0, 'label': (1, 3)}\n",
      "32 {'step': 1, 'score': 6.0, 'label': 'score'}\n",
      "33 {'p': 0.4, 'step': 1, 'label': (1, 2)}\n",
      "34 {'p': 0.43333333333333335, 'step': 1, 'label': (1, 3)}\n",
      "35 {'p': 0.4, 'step': 1, 'label': (1, 4)}\n",
      "36 {'p': 0.43333333333333335, 'step': 1, 'label': (2, 1)}\n",
      "37 {'p': 0.4, 'step': 1, 'label': (2, 3)}\n",
      "38 {'p': 0.4, 'step': 1, 'label': (2, 4)}\n",
      "39 {'p': 0.4, 'step': 1, 'label': (3, 1)}\n",
      "40 {'p': 0.4, 'step': 1, 'label': (3, 2)}\n",
      "41 {'p': 0.4, 'step': 1, 'label': (3, 4)}\n",
      "42 {'p': 0.4, 'step': 1, 'label': (4, 1)}\n",
      "43 {'p': 0.43333333333333335, 'step': 1, 'label': (4, 2)}\n",
      "44 {'p': 0.4, 'step': 1, 'label': (4, 3)}\n"
     ]
    }
   ],
   "source": [
    "for n, d in t.k.nodes(data=True):\n",
    "    print n,d"
   ]
  },
  {
   "cell_type": "code",
   "execution_count": 59,
   "metadata": {
    "collapsed": false
   },
   "outputs": [
    {
     "name": "stdout",
     "output_type": "stream",
     "text": [
      "32 {'step': 1, 'score': 4.0, 'label': 'score'}\n",
      "(26, 32) {'step': 1, 't': 1}\n",
      "{'i': 0, 'step': 1, 'e': (4, 3), 'label': 'selection'}\n",
      "(27, 32) {'step': 1, 't': 1}\n",
      "{'i': 1, 'step': 1, 'e': (3, 1), 'label': 'selection'}\n",
      "(28, 32) {'step': 1, 't': 1}\n",
      "{'i': 2, 'step': 1, 'e': (1, 2), 'label': 'selection'}\n",
      "(29, 32) {'step': 1, 't': 1}\n",
      "{'step': 1, 'dist': 2.0, 'label': (4, 3)}\n",
      "(30, 32) {'step': 1, 't': 1}\n",
      "{'step': 1, 'dist': 1.0, 'label': (3, 1)}\n",
      "(31, 32) {'step': 1, 't': 1}\n",
      "{'step': 1, 'dist': 1.0, 'label': (1, 2)}\n"
     ]
    }
   ],
   "source": [
    "n=32\n",
    "print n, t.k.node[n]\n",
    "\n",
    "for u,v, d in t.k.edges(data=True):\n",
    "    if v==n:\n",
    "        print (u,v),d\n",
    "        print t.k.node[u]"
   ]
  },
  {
   "cell_type": "code",
   "execution_count": 26,
   "metadata": {
    "collapsed": false
   },
   "outputs": [],
   "source": [
    "#for u,v, d in t.k.edges(data=True):\n",
    "    #print (u,v),d"
   ]
  },
  {
   "cell_type": "code",
   "execution_count": 22,
   "metadata": {
    "collapsed": false
   },
   "outputs": [
    {
     "name": "stdout",
     "output_type": "stream",
     "text": [
      "(7, 28) {'step': 1, 't': 2}\n",
      "(8, 28) {'step': 1, 't': 2}\n",
      "(26, 28) {'step': 1, 't': 1}\n",
      "(27, 28) {'step': 1, 't': 1}\n"
     ]
    }
   ],
   "source": [
    "for u,v, d in t.k.edges(data=True):\n",
    "    if v==28:\n",
    "        print (u,v),d"
   ]
  },
  {
   "cell_type": "code",
   "execution_count": 38,
   "metadata": {
    "collapsed": false
   },
   "outputs": [
    {
     "data": {
      "text/plain": [
       "[25, 355, 356, 357]"
      ]
     },
     "execution_count": 38,
     "metadata": {},
     "output_type": "execute_result"
    }
   ],
   "source": [
    "t.last['dec']"
   ]
  },
  {
   "cell_type": "code",
   "execution_count": 72,
   "metadata": {
    "collapsed": false
   },
   "outputs": [
    {
     "name": "stdout",
     "output_type": "stream",
     "text": [
      "148\n",
      "0.0430829793277\n",
      "{'i': 2, 'step': 8, 'e': (3, 2), 'label': 'selection'}\n"
     ]
    }
   ],
   "source": [
    "bc=nx.betweenness_centrality(t.k)\n",
    "m_key=max(bc.iteritems(), key=operator.itemgetter(1))[0]\n",
    "print m_key\n",
    "print bc[m_key]\n",
    "print t.k.node[m_key]"
   ]
  },
  {
   "cell_type": "code",
   "execution_count": 73,
   "metadata": {
    "collapsed": false
   },
   "outputs": [
    {
     "name": "stdout",
     "output_type": "stream",
     "text": [
      "117\n",
      "0.0728626839524\n",
      "{'step': 6, 'score': 6.0, 'label': 'score'}\n"
     ]
    }
   ],
   "source": [
    "kc=nx.katz_centrality(t.k)\n",
    "m_key=max(kc.iteritems(), key=operator.itemgetter(1))[0]\n",
    "print m_key\n",
    "\n",
    "print kc[m_key]\n",
    "print t.k.node[m_key]"
   ]
  },
  {
   "cell_type": "code",
   "execution_count": 74,
   "metadata": {
    "collapsed": false
   },
   "outputs": [
    {
     "name": "stdout",
     "output_type": "stream",
     "text": [
      "29\n",
      "0.17763482904\n",
      "{'step': 1, 'dist': 4.0, 'label': (4, 2)}\n"
     ]
    }
   ],
   "source": [
    "cc=nx.closeness_centrality(t.k)\n",
    "m_key=max(cc.iteritems(), key=operator.itemgetter(1))[0]\n",
    "print m_key\n",
    "\n",
    "print cc[m_key]\n",
    "print t.k.node[m_key]"
   ]
  },
  {
   "cell_type": "code",
   "execution_count": 75,
   "metadata": {
    "collapsed": false
   },
   "outputs": [
    {
     "name": "stdout",
     "output_type": "stream",
     "text": [
      "[24, 48]\n"
     ]
    }
   ],
   "source": [
    "print t.last['dist'][(4,3)]"
   ]
  },
  {
   "cell_type": "code",
   "execution_count": null,
   "metadata": {
    "collapsed": true
   },
   "outputs": [],
   "source": []
  },
  {
   "cell_type": "code",
   "execution_count": null,
   "metadata": {
    "collapsed": true
   },
   "outputs": [],
   "source": []
  }
 ],
 "metadata": {
  "kernelspec": {
   "display_name": "Python 2",
   "language": "python",
   "name": "python2"
  },
  "language_info": {
   "codemirror_mode": {
    "name": "ipython",
    "version": 2
   },
   "file_extension": ".py",
   "mimetype": "text/x-python",
   "name": "python",
   "nbconvert_exporter": "python",
   "pygments_lexer": "ipython2",
   "version": "2.7.11"
  }
 },
 "nbformat": 4,
 "nbformat_minor": 0
}
