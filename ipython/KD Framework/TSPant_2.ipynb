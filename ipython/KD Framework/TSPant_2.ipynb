{
 "cells": [
  {
   "cell_type": "code",
   "execution_count": 1,
   "metadata": {
    "collapsed": true
   },
   "outputs": [],
   "source": [
    "import networkx as nx\n",
    "import numpy as np\n",
    "import matplotlib.pyplot as plt\n",
    "import random\n",
    "import operator\n",
    "from bisect import bisect\n",
    "%matplotlib inline"
   ]
  },
  {
   "cell_type": "code",
   "execution_count": 148,
   "metadata": {
    "collapsed": false
   },
   "outputs": [],
   "source": [
    "class TSP(object):\n",
    "    def __init__(self,start=1,dissipation=.2,alpha=1.0,beta=1.0):\n",
    "        #inputs\n",
    "        self.dissipation=dissipation\n",
    "        self.alpha=alpha\n",
    "        self.beta=beta\n",
    "        self.start=start\n",
    "        self.step=0\n",
    "        \n",
    "        #setup\n",
    "        self.history_k={}\n",
    "        self.history_s={}\n",
    "        self.tsp=self.init_tsp()\n",
    "\n",
    "        self.state=self.init_graph(self.tsp)\n",
    "        self.history_s[self.step]=self.state\n",
    "        self.k,self.last_visited=self.init_k(self.state)\n",
    "        self.last_solution={}\n",
    "        \n",
    "        \n",
    "    \n",
    "    def init_tsp(self):\n",
    "        tsp=nx.Graph()\n",
    "        tsp.add_edge(1,2,dist=1)\n",
    "        tsp.add_edge(1,3,dist=1)\n",
    "        tsp.add_edge(1,4,dist=2)\n",
    "        tsp.add_edge(2,3,dist=3)\n",
    "        tsp.add_edge(2,4,dist=4)\n",
    "        tsp.add_edge(3,4,dist=2)\n",
    "        \n",
    "        return tsp\n",
    "        \n",
    "    def init_graph(self,tsp):\n",
    "        g=tsp.copy()\n",
    "        for u,v in g.edges():\n",
    "            g[u][v]['p']=0.5\n",
    "            g[u][v]['dist']=0.0\n",
    "\n",
    "        #print g.edges(data=True)\n",
    "\n",
    "        return g\n",
    "\n",
    "    def init_k(self,g):\n",
    "        k=nx.DiGraph()\n",
    "        last_visited={}\n",
    "        \n",
    "        for u,v,d in g.edges(data=True):\n",
    "            last_visited[(u,v)]={}\n",
    "            n_label=k.number_of_nodes()+1\n",
    "            k.add_node(n_label,label=(u,v),p=float(d['p']),step=self.step)\n",
    "            last_visited[(u,v)]['p']=n_label\n",
    "            n_label=k.number_of_nodes()+1\n",
    "            k.add_node(n_label,label=(u,v),dist=float(d['dist']),step=self.step)\n",
    "            last_visited[(u,v)]['dist']=n_label\n",
    "            \n",
    "        self.history_k[self.step]=k.copy()\n",
    "        self.step+=1\n",
    "\n",
    "        return k,last_visited\n",
    "    \n",
    "    def walk(self):\n",
    "        #initialize\n",
    "        g=self.state.copy()\n",
    "        tsp=self.tsp.copy()\n",
    "        tabu=[int(self.start)]\n",
    "\n",
    "        for i in xrange(g.number_of_nodes()-1):\n",
    "            #get pheromone list\n",
    "            n_l=[]\n",
    "            p_l=[]\n",
    "            h_l=[]\n",
    "            for n in g.nodes():\n",
    "                if n not in tabu:\n",
    "                    n_l.append(n)\n",
    "                    p_l.append(g[tabu[-1]][n]['p'])\n",
    "                    if g[tabu[-1]][n]['dist']==0.0:\n",
    "                        h_l.append(10.0)\n",
    "                    else:\n",
    "                        h_l.append(1.0/g[tabu[-1]][n]['dist'])\n",
    "            c_l=np.power(p_l,self.alpha)*np.power(h_l,self.beta)\n",
    "            n_index=self.make_decision(c_l)\n",
    "            new_n=n_l[n_index]\n",
    "            tabu.append(new_n)\n",
    "\n",
    "        score=0.0\n",
    "        e_r=[tuple(tabu[i:i+2]) for i in xrange(0,len(tabu), 1)]\n",
    "        del e_r[-1]\n",
    "\n",
    "        for e in e_r:\n",
    "            score+=float(tsp[e[0]][e[1]]['dist'])\n",
    "\n",
    "        return tuple(tabu), score\n",
    "\n",
    "    def update_edges(self,route,score):\n",
    "        g_t=self.state.copy()\n",
    "        g=self.state.copy()\n",
    "        p=float(self.dissipation)\n",
    "        tsp=self.tsp.copy()\n",
    "        \n",
    "        #print 'before', g_t.edges(data=True)\n",
    "        #print 'reduction', p\n",
    "        \n",
    "        #update k with route\n",
    "        n_label=self.k.number_of_nodes()+1\n",
    "        self.k.add_node(n_label,label=route,step=self.step)\n",
    "        self.last_solution['route']=n_label\n",
    "        \n",
    "        # k edges from tsp edge info to route\n",
    "        for e in self.last_visited:\n",
    "            self.k.add_edge(self.last_visited[e]['p'],n_label,step=self.step)\n",
    "            self.k.add_edge(self.last_visited[e]['dist'],n_label,step=self.step)\n",
    "            \n",
    "        \n",
    "        e_r=[tuple(route[i:i+2]) for i in xrange(0,len(route), 1)]\n",
    "        del e_r[-1]\n",
    "        t_update=1.0/score\n",
    "        for u,v,d in g_t.edges(data=True):\n",
    "            #update pheromone\n",
    "            g_t[u][v]['p']=float(g[u][v]['p'])*(1.0-p)\n",
    "            \n",
    "            #update k for pheromone reduction\n",
    "            last_n=self.last_visited[(u,v)]['p']\n",
    "            n_label=self.k.number_of_nodes()+1\n",
    "            self.k.add_node(n_label,label=(u,v),p=float(d['p']),step=self.step)\n",
    "            self.k.add_edge(last_n,n_label,step=self.step)\n",
    "            self.last_visited[(u,v)]['p']=n_label\n",
    "        \n",
    "        #add k for score\n",
    "        n_label=self.k.number_of_nodes()+1\n",
    "        self.k.add_node(n_label,label=score,step=self.step)\n",
    "        self.k.add_edge(self.last_solution['route'],n_label,step=self.step)\n",
    "        self.last_solution['score']=n_label\n",
    "        \n",
    "        for e in e_r:\n",
    "            #check ordering\n",
    "            if (e[0],e[1]) not in self.last_visited.keys():\n",
    "                e=(e[1],e[0])\n",
    "            \n",
    "            #update dist\n",
    "            if g_t[e[0]][e[1]]['dist']==0.0:\n",
    "                g_t[e[0]][e[1]]['dist']=float(tsp[e[0]][e[1]]['dist'])\n",
    "                \n",
    "                #update k for changed distance\n",
    "                n_label=self.k.number_of_nodes()+1\n",
    "                last_n=self.last_visited[(e[0],e[1])]['dist']\n",
    "                self.k.add_node(n_label,label=(e[0],e[1]),p=float(d['dist']),step=self.step)\n",
    "                self.k.add_edge(last_n,n_label,step=self.step)\n",
    "                self.k.add_edge(self.last_solution['route'],n_label,step=self.step)\n",
    "                \n",
    "                #update k for route score\n",
    "                self.k.add_edge(n_label,self.last_solution['score'],step=self.step)\n",
    "                self.last_visited[(e[0],e[1])]['dist']=n_label\n",
    "            else:\n",
    "                #update k for route score\n",
    "                last_n=self.last_visited[(e[0],e[1])]['dist']\n",
    "                self.k.add_edge(last_n,self.last_solution['score'],step=self.step)\n",
    "                \n",
    "                \n",
    "                \n",
    "            g_t[e[0]][e[1]]['p']=float(g_t[e[0]][e[1]]['p'])+t_update*p\n",
    "            \n",
    "            #update k for pheromone addition\n",
    "            last_n=self.last_visited[(e[0],e[1])]['p']\n",
    "            n_label=self.k.number_of_nodes()+1\n",
    "            self.k.add_node(n_label,label=(e[0],e[1]),p=float(g_t[e[0]][e[1]]['p']),step=self.step)\n",
    "            self.k.add_edge(last_n,n_label,step=self.step)\n",
    "            self.k.add_edge(self.last_solution['route'],n_label,step=self.step)\n",
    "            self.k.add_edge(self.last_solution['score'],n_label,step=self.step)\n",
    "            self.last_visited[(e[0],e[1])]['p']=n_label\n",
    "        \n",
    "        self.history_k[self.step]=self.k.copy()\n",
    "        self.history_s[self.step]=g_t.copy()\n",
    "        self.step+=1\n",
    "        #print 'after', g_t.edges(data=True)    \n",
    "        return g_t\n",
    "\n",
    "\n",
    "\n",
    "    def make_decision(self,ph_l):\n",
    "        \"\"\"\n",
    "        Return decision index, based on pheromone list.\n",
    "        \"\"\"\n",
    "        #convert pheromones to percentage\n",
    "        if sum(ph_l)==0.0:\n",
    "            percent_list=[1.0/len(ph_l)]*len(ph_l)\n",
    "        else:\n",
    "            percent_list = [float(i)/sum(ph_l) for i in ph_l]   \n",
    "        cumulative_percent=np.cumsum(percent_list)\n",
    "        #print cumulative_percent\n",
    "\n",
    "        #Choose decision index\n",
    "        select_index=bisect(cumulative_percent,np.random.uniform(0,1,1))\n",
    "\n",
    "        return select_index\n",
    "\n",
    "\n",
    "\n",
    "\n",
    "    def k_step(k,t_new,t_old,route,last_visited,changed_d):\n",
    "        #get step number\n",
    "\n",
    "        #route\n",
    "        n_label=k.number_of_nodes()+1\n",
    "        k.add_node(n_label,r=tuple(route),step=step)\n",
    "\n",
    "        #changed distance\n",
    "        for e in changed_d:\n",
    "            n_label=k.number_of_nodes()+1\n",
    "            k.add_node(n_label,)\n",
    "\n",
    "        for e,d in last_visited.iteritems():\n",
    "            print 'hi'\n",
    "\n",
    "\n"
   ]
  },
  {
   "cell_type": "code",
   "execution_count": 149,
   "metadata": {
    "collapsed": false
   },
   "outputs": [],
   "source": [
    "t=TSP()"
   ]
  },
  {
   "cell_type": "code",
   "execution_count": 150,
   "metadata": {
    "collapsed": false
   },
   "outputs": [
    {
     "name": "stdout",
     "output_type": "stream",
     "text": [
      "k [(1, {'p': 0.5, 'step': 0, 'label': (1, 2)}), (2, {'step': 0, 'dist': 0.0, 'label': (1, 2)}), (3, {'p': 0.5, 'step': 0, 'label': (1, 3)}), (4, {'step': 0, 'dist': 0.0, 'label': (1, 3)}), (5, {'p': 0.5, 'step': 0, 'label': (1, 4)}), (6, {'step': 0, 'dist': 0.0, 'label': (1, 4)}), (7, {'p': 0.5, 'step': 0, 'label': (2, 3)}), (8, {'step': 0, 'dist': 0.0, 'label': (2, 3)}), (9, {'p': 0.5, 'step': 0, 'label': (2, 4)}), (10, {'step': 0, 'dist': 0.0, 'label': (2, 4)}), (11, {'p': 0.5, 'step': 0, 'label': (3, 4)}), (12, {'step': 0, 'dist': 0.0, 'label': (3, 4)})]\n",
      "tsp [(1, 2, {'dist': 1}), (1, 3, {'dist': 1}), (1, 4, {'dist': 2}), (2, 3, {'dist': 3}), (2, 4, {'dist': 4}), (3, 4, {'dist': 2})]\n",
      "state [(1, 2, {'p': 0.5, 'dist': 0.0}), (1, 3, {'p': 0.5, 'dist': 0.0}), (1, 4, {'p': 0.5, 'dist': 0.0}), (2, 3, {'p': 0.5, 'dist': 0.0}), (2, 4, {'p': 0.5, 'dist': 0.0}), (3, 4, {'p': 0.5, 'dist': 0.0})]\n"
     ]
    }
   ],
   "source": [
    "print 'k',t.k.nodes(data=True)\n",
    "print 'tsp', t.tsp.edges(data=True)\n",
    "print 'state',t.state.edges(data=True)"
   ]
  },
  {
   "cell_type": "code",
   "execution_count": 151,
   "metadata": {
    "collapsed": false
   },
   "outputs": [
    {
     "name": "stdout",
     "output_type": "stream",
     "text": [
      "{(1, 2): {'p': 1, 'dist': 2}, (1, 3): {'p': 3, 'dist': 4}, (1, 4): {'p': 5, 'dist': 6}, (2, 3): {'p': 7, 'dist': 8}, (3, 4): {'p': 11, 'dist': 12}, (2, 4): {'p': 9, 'dist': 10}}\n"
     ]
    }
   ],
   "source": [
    "print t.last_visited"
   ]
  },
  {
   "cell_type": "code",
   "execution_count": 152,
   "metadata": {
    "collapsed": false
   },
   "outputs": [
    {
     "name": "stdout",
     "output_type": "stream",
     "text": [
      "(1, 2, 3, 4) 6.0\n"
     ]
    }
   ],
   "source": [
    "r,s=t.walk()\n",
    "print r,s"
   ]
  },
  {
   "cell_type": "code",
   "execution_count": 123,
   "metadata": {
    "collapsed": false
   },
   "outputs": [],
   "source": [
    "state=t.update_edges(r,s)"
   ]
  },
  {
   "cell_type": "code",
   "execution_count": 124,
   "metadata": {
    "collapsed": false
   },
   "outputs": [
    {
     "name": "stdout",
     "output_type": "stream",
     "text": [
      "n [(1, {'p': 0.5, 'step': 0, 'label': (1, 2)}), (2, {'step': 0, 'dist': 0.0, 'label': (1, 2)}), (3, {'p': 0.5, 'step': 0, 'label': (1, 3)}), (4, {'step': 0, 'dist': 0.0, 'label': (1, 3)}), (5, {'p': 0.5, 'step': 0, 'label': (1, 4)}), (6, {'step': 0, 'dist': 0.0, 'label': (1, 4)}), (7, {'p': 0.5, 'step': 0, 'label': (2, 3)}), (8, {'step': 0, 'dist': 0.0, 'label': (2, 3)}), (9, {'p': 0.5, 'step': 0, 'label': (2, 4)}), (10, {'step': 0, 'dist': 0.0, 'label': (2, 4)}), (11, {'p': 0.5, 'step': 0, 'label': (3, 4)}), (12, {'step': 0, 'dist': 0.0, 'label': (3, 4)}), (13, {'step': 1, 'label': (1, 2, 4, 3)}), (14, {'p': 0.4, 'step': 1, 'label': (1, 2)}), (15, {'p': 0.4, 'step': 1, 'label': (1, 3)}), (16, {'p': 0.4, 'step': 1, 'label': (1, 4)}), (17, {'p': 0.4, 'step': 1, 'label': (2, 3)}), (18, {'p': 0.4, 'step': 1, 'label': (2, 4)}), (19, {'p': 0.4, 'step': 1, 'label': (3, 4)}), (20, {'step': 1, 'label': 7.0}), (21, {'p': 0.0, 'step': 1, 'label': (1, 2)}), (22, {'p': 0.4285714285714286, 'step': 1, 'label': (1, 2)}), (23, {'p': 0.0, 'step': 1, 'label': (2, 4)}), (24, {'p': 0.4285714285714286, 'step': 1, 'label': (2, 4)}), (25, {'p': 2.0, 'step': 1, 'label': (3, 4)}), (26, {'p': 0.4285714285714286, 'step': 1, 'label': (3, 4)})]\n"
     ]
    }
   ],
   "source": [
    "#print t.last_visited\n",
    "#print 'e',t.k.edges(data=True)\n",
    "print 'n',t.k.nodes(data=True)"
   ]
  },
  {
   "cell_type": "code",
   "execution_count": 90,
   "metadata": {
    "collapsed": false
   },
   "outputs": [
    {
     "name": "stdout",
     "output_type": "stream",
     "text": [
      "[(1, 2, {'p': 0.43333333333333335, 'dist': 1.0}), (1, 3, {'p': 0.4, 'dist': 0.0}), (1, 4, {'p': 0.4, 'dist': 0.0}), (2, 3, {'p': 0.43333333333333335, 'dist': 3.0}), (2, 4, {'p': 0.4, 'dist': 0.0}), (3, 4, {'p': 0.43333333333333335, 'dist': 2.0})]\n"
     ]
    }
   ],
   "source": [
    "print state.edges(data=True)"
   ]
  },
  {
   "cell_type": "code",
   "execution_count": 153,
   "metadata": {
    "collapsed": false
   },
   "outputs": [
    {
     "name": "stdout",
     "output_type": "stream",
     "text": [
      "[(1, 2, {'p': 0.23320766655120806, 'dist': 1.0}), (1, 3, {'p': 0.20518541028819098, 'dist': 1.0}), (1, 4, {'p': 0.016445052863680056, 'dist': 2.0}), (2, 3, {'p': 0.0307870035020073, 'dist': 3.0}), (2, 4, {'p': 6.146111044060452e-05, 'dist': 4.0}), (3, 4, {'p': 0.21809423055427785, 'dist': 2.0})]\n"
     ]
    },
    {
     "data": {
      "image/png": "[encoded data removed]",
      "text/plain": [
       "<matplotlib.figure.Figure at 0x7a72cc0>"
      ]
     },
     "metadata": {},
     "output_type": "display_data"
    }
   ],
   "source": [
    "t=TSP(start=4)\n",
    "\n",
    "routes=[]\n",
    "for i in xrange(50):\n",
    "    r,s=t.walk()\n",
    "    routes.append((r,s))\n",
    "    t.state=t.update_edges(r,s)\n",
    "    #print t.edges(data=True)\n",
    "                  \n",
    "#print routes\n",
    "print t.state.edges(data=True)\n",
    "\n",
    "s=[i[1] for i in routes]\n",
    "gen=xrange(len(s))\n",
    "plt.scatter(gen,s)\n",
    "_=plt.ylim([0.0,max(s)+1.0])"
   ]
  },
  {
   "cell_type": "code",
   "execution_count": 147,
   "metadata": {
    "collapsed": false
   },
   "outputs": [
    {
     "name": "stdout",
     "output_type": "stream",
     "text": [
      "n [(1, {'p': 0.5, 'step': 0, 'label': (1, 2)}), (2, {'step': 0, 'dist': 0.0, 'label': (1, 2)}), (3, {'p': 0.5, 'step': 0, 'label': (1, 3)}), (4, {'step': 0, 'dist': 0.0, 'label': (1, 3)}), (5, {'p': 0.5, 'step': 0, 'label': (1, 4)}), (6, {'step': 0, 'dist': 0.0, 'label': (1, 4)}), (7, {'p': 0.5, 'step': 0, 'label': (2, 3)}), (8, {'step': 0, 'dist': 0.0, 'label': (2, 3)}), (9, {'p': 0.5, 'step': 0, 'label': (2, 4)}), (10, {'step': 0, 'dist': 0.0, 'label': (2, 4)}), (11, {'p': 0.5, 'step': 0, 'label': (3, 4)}), (12, {'step': 0, 'dist': 0.0, 'label': (3, 4)}), (13, {'step': 1, 'label': (4, 1, 3, 2)}), (14, {'p': 0.4, 'step': 1, 'label': (1, 2)}), (15, {'p': 0.4, 'step': 1, 'label': (1, 3)}), (16, {'p': 0.4, 'step': 1, 'label': (1, 4)}), (17, {'p': 0.4, 'step': 1, 'label': (2, 3)}), (18, {'p': 0.4, 'step': 1, 'label': (2, 4)}), (19, {'p': 0.4, 'step': 1, 'label': (3, 4)}), (20, {'step': 1, 'label': 6.0}), (21, {'p': 0.0, 'step': 1, 'label': (1, 4)}), (22, {'p': 0.43333333333333335, 'step': 1, 'label': (1, 4)}), (23, {'p': 0.0, 'step': 1, 'label': (1, 3)}), (24, {'p': 0.43333333333333335, 'step': 1, 'label': (1, 3)}), (25, {'p': 0.0, 'step': 1, 'label': (2, 3)}), (26, {'p': 0.43333333333333335, 'step': 1, 'label': (2, 3)}), (27, {'step': 2, 'label': (4, 3, 1, 2)}), (28, {'p': 0.32000000000000006, 'step': 2, 'label': (1, 2)}), (29, {'p': 0.3466666666666667, 'step': 2, 'label': (1, 3)}), (30, {'p': 0.3466666666666667, 'step': 2, 'label': (1, 4)}), (31, {'p': 0.3466666666666667, 'step': 2, 'label': (2, 3)}), (32, {'p': 0.32000000000000006, 'step': 2, 'label': (2, 4)}), (33, {'p': 0.32000000000000006, 'step': 2, 'label': (3, 4)}), (34, {'step': 2, 'label': 4.0}), (35, {'p': 2.0, 'step': 2, 'label': (3, 4)}), (36, {'p': 0.37000000000000005, 'step': 2, 'label': (3, 4)}), (37, {'p': 0.39666666666666667, 'step': 2, 'label': (1, 3)}), (38, {'p': 2.0, 'step': 2, 'label': (1, 2)}), (39, {'p': 0.37000000000000005, 'step': 2, 'label': (1, 2)}), (40, {'step': 3, 'label': (4, 2, 1, 3)}), (41, {'p': 0.29600000000000004, 'step': 3, 'label': (1, 2)}), (42, {'p': 0.31733333333333336, 'step': 3, 'label': (1, 3)}), (43, {'p': 0.2773333333333334, 'step': 3, 'label': (1, 4)}), (44, {'p': 0.2773333333333334, 'step': 3, 'label': (2, 3)}), (45, {'p': 0.25600000000000006, 'step': 3, 'label': (2, 4)}), (46, {'p': 0.29600000000000004, 'step': 3, 'label': (3, 4)}), (47, {'step': 3, 'label': 6.0}), (48, {'p': 2.0, 'step': 3, 'label': (2, 4)}), (49, {'p': 0.2893333333333334, 'step': 3, 'label': (2, 4)}), (50, {'p': 0.32933333333333337, 'step': 3, 'label': (1, 2)}), (51, {'p': 0.3506666666666667, 'step': 3, 'label': (1, 3)}), (52, {'step': 4, 'label': (4, 3, 1, 2)}), (53, {'p': 0.2634666666666667, 'step': 4, 'label': (1, 2)}), (54, {'p': 0.28053333333333336, 'step': 4, 'label': (1, 3)}), (55, {'p': 0.2218666666666667, 'step': 4, 'label': (1, 4)}), (56, {'p': 0.2218666666666667, 'step': 4, 'label': (2, 3)}), (57, {'p': 0.2314666666666667, 'step': 4, 'label': (2, 4)}), (58, {'p': 0.23680000000000004, 'step': 4, 'label': (3, 4)}), (59, {'step': 4, 'label': 4.0}), (60, {'p': 0.28680000000000005, 'step': 4, 'label': (3, 4)}), (61, {'p': 0.33053333333333335, 'step': 4, 'label': (1, 3)}), (62, {'p': 0.31346666666666667, 'step': 4, 'label': (1, 2)}), (63, {'step': 5, 'label': (4, 3, 1, 2)}), (64, {'p': 0.25077333333333335, 'step': 5, 'label': (1, 2)}), (65, {'p': 0.2644266666666667, 'step': 5, 'label': (1, 3)}), (66, {'p': 0.1774933333333334, 'step': 5, 'label': (1, 4)}), (67, {'p': 0.1774933333333334, 'step': 5, 'label': (2, 3)}), (68, {'p': 0.18517333333333338, 'step': 5, 'label': (2, 4)}), (69, {'p': 0.22944000000000006, 'step': 5, 'label': (3, 4)}), (70, {'step': 5, 'label': 4.0}), (71, {'p': 0.2794400000000001, 'step': 5, 'label': (3, 4)}), (72, {'p': 0.3144266666666667, 'step': 5, 'label': (1, 3)}), (73, {'p': 0.30077333333333334, 'step': 5, 'label': (1, 2)}), (74, {'step': 6, 'label': (4, 3, 2, 1)}), (75, {'p': 0.24061866666666668, 'step': 6, 'label': (1, 2)}), (76, {'p': 0.25154133333333334, 'step': 6, 'label': (1, 3)}), (77, {'p': 0.1419946666666667, 'step': 6, 'label': (1, 4)}), (78, {'p': 0.1419946666666667, 'step': 6, 'label': (2, 3)}), (79, {'p': 0.14813866666666672, 'step': 6, 'label': (2, 4)}), (80, {'p': 0.22355200000000008, 'step': 6, 'label': (3, 4)}), (81, {'step': 6, 'label': 6.0}), (82, {'p': 0.2568853333333334, 'step': 6, 'label': (3, 4)}), (83, {'p': 0.17532800000000004, 'step': 6, 'label': (2, 3)}), (84, {'p': 0.27395200000000003, 'step': 6, 'label': (1, 2)}), (85, {'step': 7, 'label': (4, 2, 1, 3)}), (86, {'p': 0.21916160000000004, 'step': 7, 'label': (1, 2)}), (87, {'p': 0.20123306666666668, 'step': 7, 'label': (1, 3)}), (88, {'p': 0.11359573333333338, 'step': 7, 'label': (1, 4)}), (89, {'p': 0.14026240000000004, 'step': 7, 'label': (2, 3)}), (90, {'p': 0.11851093333333339, 'step': 7, 'label': (2, 4)}), (91, {'p': 0.20550826666666674, 'step': 7, 'label': (3, 4)}), (92, {'step': 7, 'label': 6.0}), (93, {'p': 0.15184426666666673, 'step': 7, 'label': (2, 4)}), (94, {'p': 0.2524949333333334, 'step': 7, 'label': (1, 2)}), (95, {'p': 0.2345664, 'step': 7, 'label': (1, 3)}), (96, {'step': 8, 'label': (4, 2, 3, 1)}), (97, {'p': 0.20199594666666673, 'step': 8, 'label': (1, 2)}), (98, {'p': 0.18765312, 'step': 8, 'label': (1, 3)}), (99, {'p': 0.0908765866666667, 'step': 8, 'label': (1, 4)}), (100, {'p': 0.11220992000000003, 'step': 8, 'label': (2, 3)}), (101, {'p': 0.12147541333333339, 'step': 8, 'label': (2, 4)}), (102, {'p': 0.1644066133333334, 'step': 8, 'label': (3, 4)}), (103, {'step': 8, 'label': 8.0}), (104, {'p': 0.1464754133333334, 'step': 8, 'label': (2, 4)}), (105, {'p': 0.13720992000000004, 'step': 8, 'label': (2, 3)}), (106, {'p': 0.21265312, 'step': 8, 'label': (1, 3)}), (107, {'step': 9, 'label': (4, 2, 3, 1)}), (108, {'p': 0.1615967573333334, 'step': 9, 'label': (1, 2)}), (109, {'p': 0.170122496, 'step': 9, 'label': (1, 3)}), (110, {'p': 0.07270126933333336, 'step': 9, 'label': (1, 4)}), (111, {'p': 0.10976793600000004, 'step': 9, 'label': (2, 3)}), (112, {'p': 0.11718033066666672, 'step': 9, 'label': (2, 4)}), (113, {'p': 0.1315252906666667, 'step': 9, 'label': (3, 4)}), (114, {'step': 9, 'label': 8.0}), (115, {'p': 0.14218033066666672, 'step': 9, 'label': (2, 4)}), (116, {'p': 0.13476793600000003, 'step': 9, 'label': (2, 3)}), (117, {'p': 0.195122496, 'step': 9, 'label': (1, 3)}), (118, {'step': 10, 'label': (4, 2, 1, 3)}), (119, {'p': 0.12927740586666672, 'step': 10, 'label': (1, 2)}), (120, {'p': 0.15609799680000003, 'step': 10, 'label': (1, 3)}), (121, {'p': 0.05816101546666669, 'step': 10, 'label': (1, 4)}), (122, {'p': 0.10781434880000003, 'step': 10, 'label': (2, 3)}), (123, {'p': 0.11374426453333338, 'step': 10, 'label': (2, 4)}), (124, {'p': 0.10522023253333337, 'step': 10, 'label': (3, 4)}), (125, {'step': 10, 'label': 6.0}), (126, {'p': 0.14707759786666671, 'step': 10, 'label': (2, 4)}), (127, {'p': 0.16261073920000005, 'step': 10, 'label': (1, 2)}), (128, {'p': 0.18943133013333335, 'step': 10, 'label': (1, 3)}), (129, {'step': 11, 'label': (4, 2, 1, 3)}), (130, {'p': 0.13008859136000003, 'step': 11, 'label': (1, 2)}), (131, {'p': 0.15154506410666668, 'step': 11, 'label': (1, 3)}), (132, {'p': 0.04652881237333335, 'step': 11, 'label': (1, 4)}), (133, {'p': 0.08625147904000002, 'step': 11, 'label': (2, 3)}), (134, {'p': 0.11766207829333337, 'step': 11, 'label': (2, 4)}), (135, {'p': 0.08417618602666671, 'step': 11, 'label': (3, 4)}), (136, {'step': 11, 'label': 6.0}), (137, {'p': 0.15099541162666671, 'step': 11, 'label': (2, 4)}), (138, {'p': 0.16342192469333336, 'step': 11, 'label': (1, 2)}), (139, {'p': 0.18487839744, 'step': 11, 'label': (1, 3)}), (140, {'step': 12, 'label': (4, 1, 3, 2)}), (141, {'p': 0.1307375397546667, 'step': 12, 'label': (1, 2)}), (142, {'p': 0.14790271795200002, 'step': 12, 'label': (1, 3)}), (143, {'p': 0.037223049898666684, 'step': 12, 'label': (1, 4)}), (144, {'p': 0.06900118323200002, 'step': 12, 'label': (2, 3)}), (145, {'p': 0.12079632930133338, 'step': 12, 'label': (2, 4)}), (146, {'p': 0.06734094882133337, 'step': 12, 'label': (3, 4)}), (147, {'step': 12, 'label': 6.0}), (148, {'p': 0.07055638323200002, 'step': 12, 'label': (1, 4)}), (149, {'p': 0.18123605128533335, 'step': 12, 'label': (1, 3)}), (150, {'p': 0.10233451656533335, 'step': 12, 'label': (2, 3)}), (151, {'step': 13, 'label': (4, 3, 1, 2)}), (152, {'p': 0.10459003180373337, 'step': 13, 'label': (1, 2)}), (153, {'p': 0.14498884102826667, 'step': 13, 'label': (1, 3)}), (154, {'p': 0.056445106585600015, 'step': 13, 'label': (1, 4)}), (155, {'p': 0.08186761325226669, 'step': 13, 'label': (2, 3)}), (156, {'p': 0.0966370634410667, 'step': 13, 'label': (2, 4)}), (157, {'p': 0.053872759057066705, 'step': 13, 'label': (3, 4)}), (158, {'step': 13, 'label': 4.0}), (159, {'p': 0.10387275905706671, 'step': 13, 'label': (3, 4)}), (160, {'p': 0.1949888410282667, 'step': 13, 'label': (1, 3)}), (161, {'p': 0.15459003180373337, 'step': 13, 'label': (1, 2)}), (162, {'step': 14, 'label': (4, 3, 1, 2)}), (163, {'p': 0.12367202544298671, 'step': 14, 'label': (1, 2)}), (164, {'p': 0.15599107282261337, 'step': 14, 'label': (1, 3)}), (165, {'p': 0.045156085268480015, 'step': 14, 'label': (1, 4)}), (166, {'p': 0.06549409060181335, 'step': 14, 'label': (2, 3)}), (167, {'p': 0.07730965075285337, 'step': 14, 'label': (2, 4)}), (168, {'p': 0.08309820724565337, 'step': 14, 'label': (3, 4)}), (169, {'step': 14, 'label': 4.0}), (170, {'p': 0.13309820724565335, 'step': 14, 'label': (3, 4)}), (171, {'p': 0.20599107282261336, 'step': 14, 'label': (1, 3)}), (172, {'p': 0.1736720254429867, 'step': 14, 'label': (1, 2)}), (173, {'step': 15, 'label': (4, 3, 1, 2)}), (174, {'p': 0.13893762035438936, 'step': 15, 'label': (1, 2)}), (175, {'p': 0.1647928582580907, 'step': 15, 'label': (1, 3)}), (176, {'p': 0.036124868214784014, 'step': 15, 'label': (1, 4)}), (177, {'p': 0.052395272481450685, 'step': 15, 'label': (2, 3)}), (178, {'p': 0.0618477206022827, 'step': 15, 'label': (2, 4)}), (179, {'p': 0.10647856579652269, 'step': 15, 'label': (3, 4)}), (180, {'step': 15, 'label': 4.0}), (181, {'p': 0.1564785657965227, 'step': 15, 'label': (3, 4)}), (182, {'p': 0.2147928582580907, 'step': 15, 'label': (1, 3)}), (183, {'p': 0.18893762035438938, 'step': 15, 'label': (1, 2)}), (184, {'step': 16, 'label': (4, 3, 1, 2)}), (185, {'p': 0.1511500962835115, 'step': 16, 'label': (1, 2)}), (186, {'p': 0.17183428660647257, 'step': 16, 'label': (1, 3)}), (187, {'p': 0.028899894571827213, 'step': 16, 'label': (1, 4)}), (188, {'p': 0.04191621798516055, 'step': 16, 'label': (2, 3)}), (189, {'p': 0.04947817648182616, 'step': 16, 'label': (2, 4)}), (190, {'p': 0.12518285263721815, 'step': 16, 'label': (3, 4)}), (191, {'step': 16, 'label': 4.0}), (192, {'p': 0.17518285263721817, 'step': 16, 'label': (3, 4)}), (193, {'p': 0.22183428660647259, 'step': 16, 'label': (1, 3)}), (194, {'p': 0.2011500962835115, 'step': 16, 'label': (1, 2)}), (195, {'step': 17, 'label': (4, 3, 1, 2)}), (196, {'p': 0.16092007702680922, 'step': 17, 'label': (1, 2)}), (197, {'p': 0.17746742928517809, 'step': 17, 'label': (1, 3)}), (198, {'p': 0.02311991565746177, 'step': 17, 'label': (1, 4)}), (199, {'p': 0.03353297438812844, 'step': 17, 'label': (2, 3)}), (200, {'p': 0.03958254118546093, 'step': 17, 'label': (2, 4)}), (201, {'p': 0.14014628210977453, 'step': 17, 'label': (3, 4)}), (202, {'step': 17, 'label': 4.0}), (203, {'p': 0.19014628210977452, 'step': 17, 'label': (3, 4)}), (204, {'p': 0.2274674292851781, 'step': 17, 'label': (1, 3)}), (205, {'p': 0.2109200770268092, 'step': 17, 'label': (1, 2)}), (206, {'step': 18, 'label': (4, 3, 1, 2)}), (207, {'p': 0.1687360616214474, 'step': 18, 'label': (1, 2)}), (208, {'p': 0.1819739434281425, 'step': 18, 'label': (1, 3)}), (209, {'p': 0.018495932525969417, 'step': 18, 'label': (1, 4)}), (210, {'p': 0.026826379510502752, 'step': 18, 'label': (2, 3)}), (211, {'p': 0.03166603294836875, 'step': 18, 'label': (2, 4)}), (212, {'p': 0.15211702568781962, 'step': 18, 'label': (3, 4)}), (213, {'step': 18, 'label': 4.0}), (214, {'p': 0.20211702568781964, 'step': 18, 'label': (3, 4)}), (215, {'p': 0.23197394342814248, 'step': 18, 'label': (1, 3)}), (216, {'p': 0.21873606162144738, 'step': 18, 'label': (1, 2)}), (217, {'step': 19, 'label': (4, 3, 1, 2)}), (218, {'p': 0.1749888492971579, 'step': 19, 'label': (1, 2)}), (219, {'p': 0.185579154742514, 'step': 19, 'label': (1, 3)}), (220, {'p': 0.014796746020775534, 'step': 19, 'label': (1, 4)}), (221, {'p': 0.021461103608402202, 'step': 19, 'label': (2, 3)}), (222, {'p': 0.025332826358695, 'step': 19, 'label': (2, 4)}), (223, {'p': 0.1616936205502557, 'step': 19, 'label': (3, 4)}), (224, {'step': 19, 'label': 4.0}), (225, {'p': 0.2116936205502557, 'step': 19, 'label': (3, 4)}), (226, {'p': 0.235579154742514, 'step': 19, 'label': (1, 3)}), (227, {'p': 0.2249888492971579, 'step': 19, 'label': (1, 2)}), (228, {'step': 20, 'label': (4, 3, 1, 2)}), (229, {'p': 0.17999107943772633, 'step': 20, 'label': (1, 2)}), (230, {'p': 0.1884633237940112, 'step': 20, 'label': (1, 3)}), (231, {'p': 0.011837396816620428, 'step': 20, 'label': (1, 4)}), (232, {'p': 0.017168882886721762, 'step': 20, 'label': (2, 3)}), (233, {'p': 0.020266261086956002, 'step': 20, 'label': (2, 4)}), (234, {'p': 0.16935489644020457, 'step': 20, 'label': (3, 4)}), (235, {'step': 20, 'label': 4.0}), (236, {'p': 0.21935489644020456, 'step': 20, 'label': (3, 4)}), (237, {'p': 0.2384633237940112, 'step': 20, 'label': (1, 3)}), (238, {'p': 0.22999107943772634, 'step': 20, 'label': (1, 2)}), (239, {'step': 21, 'label': (4, 3, 1, 2)}), (240, {'p': 0.18399286355018107, 'step': 21, 'label': (1, 2)}), (241, {'p': 0.19077065903520896, 'step': 21, 'label': (1, 3)}), (242, {'p': 0.009469917453296343, 'step': 21, 'label': (1, 4)}), (243, {'p': 0.01373510630937741, 'step': 21, 'label': (2, 3)}), (244, {'p': 0.016213008869564803, 'step': 21, 'label': (2, 4)}), (245, {'p': 0.17548391715216366, 'step': 21, 'label': (3, 4)}), (246, {'step': 21, 'label': 4.0}), (247, {'p': 0.22548391715216365, 'step': 21, 'label': (3, 4)}), (248, {'p': 0.24077065903520894, 'step': 21, 'label': (1, 3)}), (249, {'p': 0.23399286355018106, 'step': 21, 'label': (1, 2)}), (250, {'step': 22, 'label': (4, 3, 1, 2)}), (251, {'p': 0.18719429084014486, 'step': 22, 'label': (1, 2)}), (252, {'p': 0.19261652722816716, 'step': 22, 'label': (1, 3)}), (253, {'p': 0.007575933962637074, 'step': 22, 'label': (1, 4)}), (254, {'p': 0.010988085047501928, 'step': 22, 'label': (2, 3)}), (255, {'p': 0.012970407095651844, 'step': 22, 'label': (2, 4)}), (256, {'p': 0.18038713372173093, 'step': 22, 'label': (3, 4)}), (257, {'step': 22, 'label': 4.0}), (258, {'p': 0.23038713372173092, 'step': 22, 'label': (3, 4)}), (259, {'p': 0.24261652722816718, 'step': 22, 'label': (1, 3)}), (260, {'p': 0.23719429084014487, 'step': 22, 'label': (1, 2)}), (261, {'step': 23, 'label': (4, 3, 1, 2)}), (262, {'p': 0.18975543267211592, 'step': 23, 'label': (1, 2)}), (263, {'p': 0.19409322178253374, 'step': 23, 'label': (1, 3)}), (264, {'p': 0.00606074717010966, 'step': 23, 'label': (1, 4)}), (265, {'p': 0.008790468038001542, 'step': 23, 'label': (2, 3)}), (266, {'p': 0.010376325676521476, 'step': 23, 'label': (2, 4)}), (267, {'p': 0.18430970697738475, 'step': 23, 'label': (3, 4)}), (268, {'step': 23, 'label': 4.0}), (269, {'p': 0.23430970697738474, 'step': 23, 'label': (3, 4)}), (270, {'p': 0.24409322178253373, 'step': 23, 'label': (1, 3)}), (271, {'p': 0.2397554326721159, 'step': 23, 'label': (1, 2)}), (272, {'step': 24, 'label': (4, 3, 1, 2)}), (273, {'p': 0.19180434613769273, 'step': 24, 'label': (1, 2)}), (274, {'p': 0.195274577426027, 'step': 24, 'label': (1, 3)}), (275, {'p': 0.004848597736087729, 'step': 24, 'label': (1, 4)}), (276, {'p': 0.007032374430401234, 'step': 24, 'label': (2, 3)}), (277, {'p': 0.008301060541217181, 'step': 24, 'label': (2, 4)}), (278, {'p': 0.1874477655819078, 'step': 24, 'label': (3, 4)}), (279, {'step': 24, 'label': 4.0}), (280, {'p': 0.23744776558190778, 'step': 24, 'label': (3, 4)}), (281, {'p': 0.24527457742602699, 'step': 24, 'label': (1, 3)}), (282, {'p': 0.24180434613769275, 'step': 24, 'label': (1, 2)}), (283, {'step': 25, 'label': (4, 3, 1, 2)}), (284, {'p': 0.1934434769101542, 'step': 25, 'label': (1, 2)}), (285, {'p': 0.1962196619408216, 'step': 25, 'label': (1, 3)}), (286, {'p': 0.003878878188870183, 'step': 25, 'label': (1, 4)}), (287, {'p': 0.005625899544320988, 'step': 25, 'label': (2, 3)}), (288, {'p': 0.006640848432973745, 'step': 25, 'label': (2, 4)}), (289, {'p': 0.18995821246552624, 'step': 25, 'label': (3, 4)}), (290, {'step': 25, 'label': 4.0}), (291, {'p': 0.23995821246552623, 'step': 25, 'label': (3, 4)}), (292, {'p': 0.24621966194082162, 'step': 25, 'label': (1, 3)}), (293, {'p': 0.24344347691015422, 'step': 25, 'label': (1, 2)}), (294, {'step': 26, 'label': (4, 3, 1, 2)}), (295, {'p': 0.1947547815281234, 'step': 26, 'label': (1, 2)}), (296, {'p': 0.1969757295526573, 'step': 26, 'label': (1, 3)}), (297, {'p': 0.0031031025510961465, 'step': 26, 'label': (1, 4)}), (298, {'p': 0.004500719635456791, 'step': 26, 'label': (2, 3)}), (299, {'p': 0.005312678746378996, 'step': 26, 'label': (2, 4)}), (300, {'p': 0.191966569972421, 'step': 26, 'label': (3, 4)}), (301, {'step': 26, 'label': 4.0}), (302, {'p': 0.241966569972421, 'step': 26, 'label': (3, 4)}), (303, {'p': 0.24697572955265729, 'step': 26, 'label': (1, 3)}), (304, {'p': 0.2447547815281234, 'step': 26, 'label': (1, 2)}), (305, {'step': 27, 'label': (4, 3, 2, 1)}), (306, {'p': 0.19580382522249873, 'step': 27, 'label': (1, 2)}), (307, {'p': 0.19758058364212583, 'step': 27, 'label': (1, 3)}), (308, {'p': 0.0024824820408769176, 'step': 27, 'label': (1, 4)}), (309, {'p': 0.0036005757083654327, 'step': 27, 'label': (2, 3)}), (310, {'p': 0.004250142997103197, 'step': 27, 'label': (2, 4)}), (311, {'p': 0.19357325597793681, 'step': 27, 'label': (3, 4)}), (312, {'step': 27, 'label': 6.0}), (313, {'p': 0.22690658931127014, 'step': 27, 'label': (3, 4)}), (314, {'p': 0.03693390904169876, 'step': 27, 'label': (2, 3)}), (315, {'p': 0.22913715855583205, 'step': 27, 'label': (1, 2)}), (316, {'step': 28, 'label': (4, 3, 1, 2)}), (317, {'p': 0.18330972684466565, 'step': 28, 'label': (1, 2)}), (318, {'p': 0.15806446691370069, 'step': 28, 'label': (1, 3)}), (319, {'p': 0.001985985632701534, 'step': 28, 'label': (1, 4)}), (320, {'p': 0.029547127233359012, 'step': 28, 'label': (2, 3)}), (321, {'p': 0.003400114397682558, 'step': 28, 'label': (2, 4)}), (322, {'p': 0.18152527144901612, 'step': 28, 'label': (3, 4)}), (323, {'step': 28, 'label': 4.0}), (324, {'p': 0.23152527144901613, 'step': 28, 'label': (3, 4)}), (325, {'p': 0.20806446691370067, 'step': 28, 'label': (1, 3)}), (326, {'p': 0.23330972684466567, 'step': 28, 'label': (1, 2)}), (327, {'step': 29, 'label': (4, 3, 1, 2)}), (328, {'p': 0.18664778147573255, 'step': 29, 'label': (1, 2)}), (329, {'p': 0.16645157353096054, 'step': 29, 'label': (1, 3)}), (330, {'p': 0.0015887885061612273, 'step': 29, 'label': (1, 4)}), (331, {'p': 0.023637701786687212, 'step': 29, 'label': (2, 3)}), (332, {'p': 0.0027200915181460465, 'step': 29, 'label': (2, 4)}), (333, {'p': 0.1852202171592129, 'step': 29, 'label': (3, 4)}), (334, {'step': 29, 'label': 4.0}), (335, {'p': 0.23522021715921293, 'step': 29, 'label': (3, 4)}), (336, {'p': 0.21645157353096056, 'step': 29, 'label': (1, 3)}), (337, {'p': 0.23664778147573257, 'step': 29, 'label': (1, 2)}), (338, {'step': 30, 'label': (4, 3, 1, 2)}), (339, {'p': 0.18931822518058605, 'step': 30, 'label': (1, 2)}), (340, {'p': 0.17316125882476846, 'step': 30, 'label': (1, 3)}), (341, {'p': 0.001271030804928982, 'step': 30, 'label': (1, 4)}), (342, {'p': 0.018910161429349773, 'step': 30, 'label': (2, 3)}), (343, {'p': 0.002176073214516837, 'step': 30, 'label': (2, 4)}), (344, {'p': 0.18817617372737036, 'step': 30, 'label': (3, 4)}), (345, {'step': 30, 'label': 4.0}), (346, {'p': 0.23817617372737038, 'step': 30, 'label': (3, 4)}), (347, {'p': 0.22316125882476845, 'step': 30, 'label': (1, 3)}), (348, {'p': 0.23931822518058604, 'step': 30, 'label': (1, 2)}), (349, {'step': 31, 'label': (4, 3, 1, 2)}), (350, {'p': 0.19145458014446884, 'step': 31, 'label': (1, 2)}), (351, {'p': 0.17852900705981478, 'step': 31, 'label': (1, 3)}), (352, {'p': 0.0010168246439431856, 'step': 31, 'label': (1, 4)}), (353, {'p': 0.015128129143479819, 'step': 31, 'label': (2, 3)}), (354, {'p': 0.0017408585716134697, 'step': 31, 'label': (2, 4)}), (355, {'p': 0.1905409389818963, 'step': 31, 'label': (3, 4)}), (356, {'step': 31, 'label': 4.0}), (357, {'p': 0.24054093898189632, 'step': 31, 'label': (3, 4)}), (358, {'p': 0.22852900705981477, 'step': 31, 'label': (1, 3)}), (359, {'p': 0.24145458014446886, 'step': 31, 'label': (1, 2)}), (360, {'step': 32, 'label': (4, 3, 1, 2)}), (361, {'p': 0.1931636641155751, 'step': 32, 'label': (1, 2)}), (362, {'p': 0.18282320564785182, 'step': 32, 'label': (1, 3)}), (363, {'p': 0.0008134597151545485, 'step': 32, 'label': (1, 4)}), (364, {'p': 0.012102503314783856, 'step': 32, 'label': (2, 3)}), (365, {'p': 0.0013926868572907759, 'step': 32, 'label': (2, 4)}), (366, {'p': 0.19243275118551706, 'step': 32, 'label': (3, 4)}), (367, {'step': 32, 'label': 4.0}), (368, {'p': 0.24243275118551705, 'step': 32, 'label': (3, 4)}), (369, {'p': 0.2328232056478518, 'step': 32, 'label': (1, 3)}), (370, {'p': 0.2431636641155751, 'step': 32, 'label': (1, 2)}), (371, {'step': 33, 'label': (4, 3, 1, 2)}), (372, {'p': 0.1945309312924601, 'step': 33, 'label': (1, 2)}), (373, {'p': 0.18625856451828146, 'step': 33, 'label': (1, 3)}), (374, {'p': 0.0006507677721236389, 'step': 33, 'label': (1, 4)}), (375, {'p': 0.009682002651827086, 'step': 33, 'label': (2, 3)}), (376, {'p': 0.0011141494858326207, 'step': 33, 'label': (2, 4)}), (377, {'p': 0.19394620094841364, 'step': 33, 'label': (3, 4)}), (378, {'step': 33, 'label': 4.0}), (379, {'p': 0.24394620094841363, 'step': 33, 'label': (3, 4)}), (380, {'p': 0.23625856451828148, 'step': 33, 'label': (1, 3)}), (381, {'p': 0.24453093129246012, 'step': 33, 'label': (1, 2)}), (382, {'step': 34, 'label': (4, 3, 1, 2)}), (383, {'p': 0.1956247450339681, 'step': 34, 'label': (1, 2)}), (384, {'p': 0.1890068516146252, 'step': 34, 'label': (1, 3)}), (385, {'p': 0.0005206142176989112, 'step': 34, 'label': (1, 4)}), (386, {'p': 0.007745602121461669, 'step': 34, 'label': (2, 3)}), (387, {'p': 0.0008913195886660966, 'step': 34, 'label': (2, 4)}), (388, {'p': 0.1951569607587309, 'step': 34, 'label': (3, 4)}), (389, {'step': 34, 'label': 4.0}), (390, {'p': 0.2451569607587309, 'step': 34, 'label': (3, 4)}), (391, {'p': 0.2390068516146252, 'step': 34, 'label': (1, 3)}), (392, {'p': 0.24562474503396808, 'step': 34, 'label': (1, 2)}), (393, {'step': 35, 'label': (4, 3, 1, 2)}), (394, {'p': 0.1964997960271745, 'step': 35, 'label': (1, 2)}), (395, {'p': 0.19120548129170017, 'step': 35, 'label': (1, 3)}), (396, {'p': 0.000416491374159129, 'step': 35, 'label': (1, 4)}), (397, {'p': 0.0061964816971693355, 'step': 35, 'label': (2, 3)}), (398, {'p': 0.0007130556709328773, 'step': 35, 'label': (2, 4)}), (399, {'p': 0.1961255686069847, 'step': 35, 'label': (3, 4)}), (400, {'step': 35, 'label': 4.0}), (401, {'p': 0.2461255686069847, 'step': 35, 'label': (3, 4)}), (402, {'p': 0.24120548129170016, 'step': 35, 'label': (1, 3)}), (403, {'p': 0.24649979602717448, 'step': 35, 'label': (1, 2)}), (404, {'step': 36, 'label': (4, 3, 1, 2)}), (405, {'p': 0.19719983682173958, 'step': 36, 'label': (1, 2)}), (406, {'p': 0.19296438503336014, 'step': 36, 'label': (1, 3)}), (407, {'p': 0.0003331930993273032, 'step': 36, 'label': (1, 4)}), (408, {'p': 0.004957185357735469, 'step': 36, 'label': (2, 3)}), (409, {'p': 0.0005704445367463018, 'step': 36, 'label': (2, 4)}), (410, {'p': 0.19690045488558777, 'step': 36, 'label': (3, 4)}), (411, {'step': 36, 'label': 4.0}), (412, {'p': 0.24690045488558776, 'step': 36, 'label': (3, 4)}), (413, {'p': 0.24296438503336015, 'step': 36, 'label': (1, 3)}), (414, {'p': 0.24719983682173957, 'step': 36, 'label': (1, 2)}), (415, {'step': 37, 'label': (4, 3, 1, 2)}), (416, {'p': 0.19775986945739166, 'step': 37, 'label': (1, 2)}), (417, {'p': 0.19437150802668812, 'step': 37, 'label': (1, 3)}), (418, {'p': 0.0002665544794618426, 'step': 37, 'label': (1, 4)}), (419, {'p': 0.003965748286188376, 'step': 37, 'label': (2, 3)}), (420, {'p': 0.0004563556293970415, 'step': 37, 'label': (2, 4)}), (421, {'p': 0.19752036390847022, 'step': 37, 'label': (3, 4)}), (422, {'step': 37, 'label': 4.0}), (423, {'p': 0.2475203639084702, 'step': 37, 'label': (3, 4)}), (424, {'p': 0.2443715080266881, 'step': 37, 'label': (1, 3)}), (425, {'p': 0.24775986945739165, 'step': 37, 'label': (1, 2)}), (426, {'step': 38, 'label': (4, 3, 1, 2)}), (427, {'p': 0.19820789556591334, 'step': 38, 'label': (1, 2)}), (428, {'p': 0.1954972064213505, 'step': 38, 'label': (1, 3)}), (429, {'p': 0.00021324358356947408, 'step': 38, 'label': (1, 4)}), (430, {'p': 0.003172598628950701, 'step': 38, 'label': (2, 3)}), (431, {'p': 0.00036508450351763324, 'step': 38, 'label': (2, 4)}), (432, {'p': 0.19801629112677618, 'step': 38, 'label': (3, 4)}), (433, {'step': 38, 'label': 4.0}), (434, {'p': 0.2480162911267762, 'step': 38, 'label': (3, 4)}), (435, {'p': 0.24549720642135048, 'step': 38, 'label': (1, 3)}), (436, {'p': 0.24820789556591333, 'step': 38, 'label': (1, 2)}), (437, {'step': 39, 'label': (4, 3, 1, 2)}), (438, {'p': 0.19856631645273068, 'step': 39, 'label': (1, 2)}), (439, {'p': 0.1963977651370804, 'step': 39, 'label': (1, 3)}), (440, {'p': 0.00017059486685557927, 'step': 39, 'label': (1, 4)}), (441, {'p': 0.002538078903160561, 'step': 39, 'label': (2, 3)}), (442, {'p': 0.0002920676028141066, 'step': 39, 'label': (2, 4)}), (443, {'p': 0.19841303290142098, 'step': 39, 'label': (3, 4)}), (444, {'step': 39, 'label': 4.0}), (445, {'p': 0.24841303290142097, 'step': 39, 'label': (3, 4)}), (446, {'p': 0.2463977651370804, 'step': 39, 'label': (1, 3)}), (447, {'p': 0.2485663164527307, 'step': 39, 'label': (1, 2)}), (448, {'step': 40, 'label': (4, 3, 1, 2)}), (449, {'p': 0.19885305316218457, 'step': 40, 'label': (1, 2)}), (450, {'p': 0.19711821210966432, 'step': 40, 'label': (1, 3)}), (451, {'p': 0.00013647589348446341, 'step': 40, 'label': (1, 4)}), (452, {'p': 0.002030463122528449, 'step': 40, 'label': (2, 3)}), (453, {'p': 0.0002336540822512853, 'step': 40, 'label': (2, 4)}), (454, {'p': 0.1987304263211368, 'step': 40, 'label': (3, 4)}), (455, {'step': 40, 'label': 4.0}), (456, {'p': 0.2487304263211368, 'step': 40, 'label': (3, 4)}), (457, {'p': 0.24711821210966434, 'step': 40, 'label': (1, 3)}), (458, {'p': 0.2488530531621846, 'step': 40, 'label': (1, 2)}), (459, {'step': 41, 'label': (4, 3, 1, 2)}), (460, {'p': 0.1990824425297477, 'step': 41, 'label': (1, 2)}), (461, {'p': 0.19769456968773147, 'step': 41, 'label': (1, 3)}), (462, {'p': 0.00010918071478757073, 'step': 41, 'label': (1, 4)}), (463, {'p': 0.0016243704980227593, 'step': 41, 'label': (2, 3)}), (464, {'p': 0.00018692326580102824, 'step': 41, 'label': (2, 4)}), (465, {'p': 0.19898434105690943, 'step': 41, 'label': (3, 4)}), (466, {'step': 41, 'label': 4.0}), (467, {'p': 0.24898434105690942, 'step': 41, 'label': (3, 4)}), (468, {'p': 0.24769456968773146, 'step': 41, 'label': (1, 3)}), (469, {'p': 0.2490824425297477, 'step': 41, 'label': (1, 2)}), (470, {'step': 42, 'label': (4, 3, 1, 2)}), (471, {'p': 0.19926595402379818, 'step': 42, 'label': (1, 2)}), (472, {'p': 0.19815565575018518, 'step': 42, 'label': (1, 3)}), (473, {'p': 8.73445718300566e-05, 'step': 42, 'label': (1, 4)}), (474, {'p': 0.0012994963984182075, 'step': 42, 'label': (2, 3)}), (475, {'p': 0.0001495386126408226, 'step': 42, 'label': (2, 4)}), (476, {'p': 0.19918747284552754, 'step': 42, 'label': (3, 4)}), (477, {'step': 42, 'label': 4.0}), (478, {'p': 0.24918747284552756, 'step': 42, 'label': (3, 4)}), (479, {'p': 0.24815565575018517, 'step': 42, 'label': (1, 3)}), (480, {'p': 0.2492659540237982, 'step': 42, 'label': (1, 2)}), (481, {'step': 43, 'label': (4, 3, 1, 2)}), (482, {'p': 0.19941276321903856, 'step': 43, 'label': (1, 2)}), (483, {'p': 0.19852452460014813, 'step': 43, 'label': (1, 3)}), (484, {'p': 6.987565746404527e-05, 'step': 43, 'label': (1, 4)}), (485, {'p': 0.001039597118734566, 'step': 43, 'label': (2, 3)}), (486, {'p': 0.00011963089011265808, 'step': 43, 'label': (2, 4)}), (487, {'p': 0.19934997827642206, 'step': 43, 'label': (3, 4)}), (488, {'step': 43, 'label': 4.0}), (489, {'p': 0.24934997827642208, 'step': 43, 'label': (3, 4)}), (490, {'p': 0.24852452460014812, 'step': 43, 'label': (1, 3)}), (491, {'p': 0.24941276321903855, 'step': 43, 'label': (1, 2)}), (492, {'step': 44, 'label': (4, 3, 1, 2)}), (493, {'p': 0.19953021057523085, 'step': 44, 'label': (1, 2)}), (494, {'p': 0.19881961968011852, 'step': 44, 'label': (1, 3)}), (495, {'p': 5.590052597123622e-05, 'step': 44, 'label': (1, 4)}), (496, {'p': 0.0008316776949876528, 'step': 44, 'label': (2, 3)}), (497, {'p': 9.570471209012647e-05, 'step': 44, 'label': (2, 4)}), (498, {'p': 0.19947998262113767, 'step': 44, 'label': (3, 4)}), (499, {'step': 44, 'label': 4.0}), (500, {'p': 0.24947998262113769, 'step': 44, 'label': (3, 4)}), (501, {'p': 0.2488196196801185, 'step': 44, 'label': (1, 3)}), (502, {'p': 0.24953021057523084, 'step': 44, 'label': (1, 2)}), (503, {'step': 45, 'label': (4, 3, 1, 2)}), (504, {'p': 0.1996241684601847, 'step': 45, 'label': (1, 2)}), (505, {'p': 0.19905569574409482, 'step': 45, 'label': (1, 3)}), (506, {'p': 4.472042077698898e-05, 'step': 45, 'label': (1, 4)}), (507, {'p': 0.0006653421559901223, 'step': 45, 'label': (2, 3)}), (508, {'p': 7.656376967210118e-05, 'step': 45, 'label': (2, 4)}), (509, {'p': 0.19958398609691017, 'step': 45, 'label': (3, 4)}), (510, {'step': 45, 'label': 4.0}), (511, {'p': 0.24958398609691018, 'step': 45, 'label': (3, 4)}), (512, {'p': 0.2490556957440948, 'step': 45, 'label': (1, 3)}), (513, {'p': 0.2496241684601847, 'step': 45, 'label': (1, 2)}), (514, {'step': 46, 'label': (4, 3, 1, 2)}), (515, {'p': 0.19969933476814777, 'step': 46, 'label': (1, 2)}), (516, {'p': 0.19924455659527585, 'step': 46, 'label': (1, 3)}), (517, {'p': 3.577633662159119e-05, 'step': 46, 'label': (1, 4)}), (518, {'p': 0.0005322737247920979, 'step': 46, 'label': (2, 3)}), (519, {'p': 6.125101573768095e-05, 'step': 46, 'label': (2, 4)}), (520, {'p': 0.19966718887752816, 'step': 46, 'label': (3, 4)}), (521, {'step': 46, 'label': 4.0}), (522, {'p': 0.24966718887752815, 'step': 46, 'label': (3, 4)}), (523, {'p': 0.24924455659527583, 'step': 46, 'label': (1, 3)}), (524, {'p': 0.24969933476814776, 'step': 46, 'label': (1, 2)}), (525, {'step': 47, 'label': (4, 3, 1, 2)}), (526, {'p': 0.19975946781451823, 'step': 47, 'label': (1, 2)}), (527, {'p': 0.19939564527622067, 'step': 47, 'label': (1, 3)}), (528, {'p': 2.8621069297272953e-05, 'step': 47, 'label': (1, 4)}), (529, {'p': 0.0004258189798336783, 'step': 47, 'label': (2, 3)}), (530, {'p': 4.900081259014476e-05, 'step': 47, 'label': (2, 4)}), (531, {'p': 0.19973375110202252, 'step': 47, 'label': (3, 4)}), (532, {'step': 47, 'label': 4.0}), (533, {'p': 0.2497337511020225, 'step': 47, 'label': (3, 4)}), (534, {'p': 0.24939564527622066, 'step': 47, 'label': (1, 3)}), (535, {'p': 0.24975946781451824, 'step': 47, 'label': (1, 2)}), (536, {'step': 48, 'label': (4, 3, 1, 2)}), (537, {'p': 0.1998075742516146, 'step': 48, 'label': (1, 2)}), (538, {'p': 0.19951651622097655, 'step': 48, 'label': (1, 3)}), (539, {'p': 2.2896855437818365e-05, 'step': 48, 'label': (1, 4)}), (540, {'p': 0.00034065518386694265, 'step': 48, 'label': (2, 3)}), (541, {'p': 3.920065007211581e-05, 'step': 48, 'label': (2, 4)}), (542, {'p': 0.19978700088161802, 'step': 48, 'label': (3, 4)}), (543, {'step': 48, 'label': 4.0}), (544, {'p': 0.24978700088161804, 'step': 48, 'label': (3, 4)}), (545, {'p': 0.24951651622097654, 'step': 48, 'label': (1, 3)}), (546, {'p': 0.2498075742516146, 'step': 48, 'label': (1, 2)}), (547, {'step': 49, 'label': (4, 3, 1, 2)}), (548, {'p': 0.1998460594012917, 'step': 49, 'label': (1, 2)}), (549, {'p': 0.19961321297678125, 'step': 49, 'label': (1, 3)}), (550, {'p': 1.8317484350254695e-05, 'step': 49, 'label': (1, 4)}), (551, {'p': 0.00027252414709355414, 'step': 49, 'label': (2, 3)}), (552, {'p': 3.136052005769265e-05, 'step': 49, 'label': (2, 4)}), (553, {'p': 0.19982960070529443, 'step': 49, 'label': (3, 4)}), (554, {'step': 49, 'label': 4.0}), (555, {'p': 0.24982960070529442, 'step': 49, 'label': (3, 4)}), (556, {'p': 0.24961321297678124, 'step': 49, 'label': (1, 3)}), (557, {'p': 0.24984605940129168, 'step': 49, 'label': (1, 2)}), (558, {'step': 50, 'label': (4, 3, 1, 2)}), (559, {'p': 0.19987684752103335, 'step': 50, 'label': (1, 2)}), (560, {'p': 0.19969057038142501, 'step': 50, 'label': (1, 3)}), (561, {'p': 1.4653987480203757e-05, 'step': 50, 'label': (1, 4)}), (562, {'p': 0.00021801931767484331, 'step': 50, 'label': (2, 3)}), (563, {'p': 2.508841604615412e-05, 'step': 50, 'label': (2, 4)}), (564, {'p': 0.19986368056423554, 'step': 50, 'label': (3, 4)}), (565, {'step': 50, 'label': 4.0}), (566, {'p': 0.24986368056423552, 'step': 50, 'label': (3, 4)}), (567, {'p': 0.249690570381425, 'step': 50, 'label': (1, 3)}), (568, {'p': 0.24987684752103334, 'step': 50, 'label': (1, 2)})]\n"
     ]
    }
   ],
   "source": [
    "print 'n',t.k.nodes(data=True)"
   ]
  },
  {
   "cell_type": "code",
   "execution_count": 157,
   "metadata": {
    "collapsed": false
   },
   "outputs": [
    {
     "name": "stdout",
     "output_type": "stream",
     "text": [
      "247\n",
      "0.180432984011\n",
      "{'p': 0.03971831170503786, 'step': 21, 'label': (2, 4)}\n"
     ]
    }
   ],
   "source": [
    "bc=nx.betweenness_centrality(t.k)\n",
    "m_key=max(bc.iteritems(), key=operator.itemgetter(1))[0]\n",
    "print m_key\n",
    "print bc[m_key]\n",
    "print t.k.node[m_key]"
   ]
  },
  {
   "cell_type": "code",
   "execution_count": 158,
   "metadata": {
    "collapsed": false
   },
   "outputs": [
    {
     "name": "stdout",
     "output_type": "stream",
     "text": [
      "272\n",
      "0.0741101216067\n",
      "{'step': 24, 'label': (4, 3, 1, 2)}\n"
     ]
    }
   ],
   "source": [
    "kc=nx.katz_centrality(t.k)\n",
    "m_key=max(kc.iteritems(), key=operator.itemgetter(1))[0]\n",
    "print m_key\n",
    "\n",
    "print kc[m_key]\n",
    "print t.k.node[m_key]"
   ]
  },
  {
   "cell_type": "code",
   "execution_count": 156,
   "metadata": {
    "collapsed": false
   },
   "outputs": [
    {
     "name": "stdout",
     "output_type": "stream",
     "text": [
      "[1, 2, 3, 4, 5, 6, 7, 8, 9, 10, 11, 12, 13, 14, 15, 16, 17, 18, 19, 20, 21, 22, 23, 24, 25, 26, 27, 28, 29, 30, 31, 32, 33, 34, 35, 36, 37, 38, 39]\n",
      "[(1, 2, {'p': 0.3466666666666667, 'dist': 1.0}), (1, 3, {'p': 0.3533333333333334, 'dist': 1.0}), (1, 4, {'p': 0.3533333333333334, 'dist': 2.0}), (2, 3, {'p': 0.38, 'dist': 3.0}), (2, 4, {'p': 0.32000000000000006, 'dist': 0.0}), (3, 4, {'p': 0.3466666666666667, 'dist': 2.0})]\n"
     ]
    }
   ],
   "source": [
    "print t.history_k[2].nodes()\n",
    "print t.history_s[2].edges(data=True)"
   ]
  },
  {
   "cell_type": "code",
   "execution_count": null,
   "metadata": {
    "collapsed": true
   },
   "outputs": [],
   "source": []
  }
 ],
 "metadata": {
  "kernelspec": {
   "display_name": "Python 2",
   "language": "python",
   "name": "python2"
  },
  "language_info": {
   "codemirror_mode": {
    "name": "ipython",
    "version": 2
   },
   "file_extension": ".py",
   "mimetype": "text/x-python",
   "name": "python",
   "nbconvert_exporter": "python",
   "pygments_lexer": "ipython2",
   "version": "2.7.11"
  }
 },
 "nbformat": 4,
 "nbformat_minor": 0
}
