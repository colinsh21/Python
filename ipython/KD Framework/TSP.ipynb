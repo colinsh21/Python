{
 "cells": [
  {
   "cell_type": "code",
   "execution_count": 1,
   "metadata": {
    "collapsed": true
   },
   "outputs": [],
   "source": [
    "import networkx as nx\n",
    "import numpy as np\n",
    "import networkx.algorithms.isomorphism as iso\n",
    "import matplotlib.pyplot as plt\n",
    "%matplotlib inline\n"
   ]
  },
  {
   "cell_type": "code",
   "execution_count": 67,
   "metadata": {
    "collapsed": false
   },
   "outputs": [],
   "source": [
    "class Problem(object):\n",
    "    def __init__(self,n_cities):\n",
    "        self.tsp=self.setup_tsp(n_cities)\n",
    "        #self.a=agent()\n",
    "\n",
    "    def setup_tsp(self,n_cities):\n",
    "\n",
    "        #locations\n",
    "        x=np.random.permutation(range(0,n_cities))\n",
    "        y=np.random.permutation(range(0,n_cities))\n",
    "\n",
    "        #nodes\n",
    "        g=nx.Graph()\n",
    "        for i in range(0,n_cities):\n",
    "            g.add_node(i,loc=(x[i],y[i]))\n",
    "\n",
    "        #edges\n",
    "        cg=nx.complete_graph(n_cities)\n",
    "        for u,v in cg.edges():\n",
    "            #get distance\n",
    "            #d=((g.node[u]['loc'][0]-g.node[v]['loc'][0])**2+(g.node[u]['loc'][1]-g.node[v]['loc'][1])**2)**.5\n",
    "            #print u,v,d\n",
    "            g.add_edge(u,v) #g.add_edge(u,v,dist=d)\n",
    "        #plt.scatter(x,y)\n",
    "\n",
    "        return g\n",
    "    \n",
    "    "
   ]
  },
  {
   "cell_type": "code",
   "execution_count": 84,
   "metadata": {
    "collapsed": false
   },
   "outputs": [],
   "source": [
    "class agent(object):\n",
    "    def __init__(self,perspective):\n",
    "        self.k=nx.DiGraph()\n",
    "        self.score=perspective\n",
    "        self.landscape={}\n",
    "        \n",
    "    def solve(self,tsp):\n",
    "        #random route\n",
    "        r=np.random.permutation(tsp.nodes())\n",
    "        \n",
    "        #score route\n",
    "        s,k_r=self.score(r,tsp)\n",
    "        \n",
    "        #Save route and score\n",
    "        self.landscape[r]=s\n",
    "        \n",
    "        \n",
    "        \n",
    "        \n",
    "        \n",
    "        \n",
    "    "
   ]
  },
  {
   "cell_type": "code",
   "execution_count": 144,
   "metadata": {
    "collapsed": false
   },
   "outputs": [],
   "source": [
    "class KD_Graph(object):\n",
    "    def __init__(self,oracle=None):\n",
    "        self.k=nx.DiGraph()\n",
    "        self.d=nx.DiGraph()\n",
    "        self.l=[] #list of landscape nodes\n",
    "        self.tt={'t':0,'tau':0}\n",
    "        self.tau_marks={}\n",
    "        #self.tau=0\n",
    "        self.hist_k={self.tt['t']:self.k.copy()} #{time:k}\n",
    "        self.change_k={} #{time of change: edges added}\n",
    "        self.hist_d={self.tt['tau']:self.d.copy()} #{tau:d}\n",
    "        self.change_d={} #{time of change: edges added}\n",
    "        self.hist_l={self.tt['t']:list(self.l)} #{time:landscape nodes}\n",
    "        #self.oracle=self.test_kd\n",
    "        \n",
    "    def add_k(self,node,s,c=[], n_id=None, l=None, data=None): #s are constraining pred, c are coordinating preds\n",
    "        self.k.add_node(node, n_id=n_id, l=l, data=data, t=self.tt['t'])\n",
    "        e_list=[]\n",
    "        for n in s:\n",
    "            self.k.add_edge(n,node,e_type='s',t=self.tt['t'])\n",
    "            e_list.append((n,node))\n",
    "        for n in c:\n",
    "            self.k.add_edge(n,node,e_type='c',t=self.tt['t'])\n",
    "            e_list.append((n,node))\n",
    "        \n",
    "        if l:\n",
    "            self.l.append(node)\n",
    "            \n",
    "        self.hist_l[self.tt['t']]=list(self.l)\n",
    "        self.change_k[self.tt['t']]=list(e_list)\n",
    "        self.hist_k[self.tt['t']]=self.k.copy()\n",
    "        self.tau_marks[self.tt['t']]=self.tt['tau']\n",
    "        self.tt['t']+=1\n",
    "        \n",
    "    def add_d(self, node, s): #Makes decision - all edges (s[:],n) must be in k of type 's'\n",
    "        #is decision valid?\n",
    "        \n",
    "        accept=1\n",
    "        for n in s:\n",
    "            #in k?\n",
    "            if (n,node) not in self.k.edges():\n",
    "                # type 's'\n",
    "                accept=0\n",
    "                print '({},{}) not in k'.format(n,node)\n",
    "            elif self.k[n][node]['e_type']!='s':\n",
    "                accept=0\n",
    "                print '({},{}) is not constraining'.format(n,node)       \n",
    "                \n",
    "        if accept==1: #valid\n",
    "            e_list=[]\n",
    "            self.d.add_node(node,tau=self.tt['tau'],\n",
    "                            n_id=self.k.node[node]['n_id'],\n",
    "                            l=self.k.node[node]['l'],\n",
    "                            data=self.k.node[node]['data'])\n",
    "            for n in s:\n",
    "                self.d.add_edge(n,node,tau=self.tt['tau'])\n",
    "            \n",
    "            self.hist_l[self.tt['t']]=list(self.l)\n",
    "            self.hist_k[self.tt['t']]=self.k.copy()\n",
    "            self.hist_d[self.tt['tau']]=self.d.copy()\n",
    "            self.tau_marks[self.tt['t']]=self.tt['tau']+1\n",
    "            self.tt['t']+=1\n",
    "            self.tt['tau']+=1\n",
    "        else:\n",
    "            print 'decision not valid'\n",
    "            \n",
    "    def remove_d(self,node,s):\n",
    "        # is decision in  D?\n",
    "        accept=1\n",
    "        for n in s:\n",
    "            if (n,node) not in self.d.edges():\n",
    "                accept=0\n",
    "                print '({},{}) not in d'.format(n,node)\n",
    "        if accept==1: #valid\n",
    "            for n in s:\n",
    "                self.d.remove_edge(n,node)\n",
    "                \n",
    "            self.hist_l[self.tt['t']]=list(self.l)\n",
    "            self.hist_k[self.tt['t']]=self.k.copy()    \n",
    "            self.hist_d[self.tt['tau']]=self.d.copy()\n",
    "            self.tau_marks[self.tt['t']]=self.tt['tau']\n",
    "            self.tt['t']+=1\n",
    "            self.tt['tau']+=1\n",
    "        else:\n",
    "            print 'removal not valid'\n",
    "            \n",
    "#        for n in self.d: #remove dead\n",
    "#            if self.d.out_degree(n)==0 and self.d.in_degree(n)==0:\n",
    "#                self.d.remove_node(n)    \n",
    "    \n",
    "    #Add landscape parsing\n",
    "    def get_landscape(self,t,tau):\n",
    "        k=self.hist_k[t]\n",
    "        d=self.hist_d[tau]\n",
    "        l=self.hist_l[t]\n",
    "        \n",
    "        valid_l=[]\n",
    "        scores=[]\n",
    "        for n in l:\n",
    "            nodes=self.k.predecessors(n)\n",
    "            sub_g=self.k.subgraph(nodes).copy()\n",
    "            DiGM = iso.DiGraphMatcher(sub_g,d,node_match=nm)\n",
    "            if DiGM.subgraph_is_isomorphic():\n",
    "                valid_l.append(n)\n",
    "                scores.append(self.k.node[n]['l'])\n",
    "                \n",
    "            #if self.test_kd(sub_g,d)==1:\n",
    "                #valid_l.append(n)\n",
    "        plt.hist(scores)\n",
    "                \n",
    "        \n",
    "        \n",
    "                \n",
    "    def test_kd(self,s_g,d):\n",
    "        #get bunches\n",
    "        nm=iso.categorical_node_match('data',1)\n",
    "        k_bunch={}\n",
    "        for u,v,d in s_g.edges_iter(data=True):\n",
    "            t=d['t']\n",
    "            k_bunch.setdefault(t,[]).append((self.k.node[u]['data'],self.k.node[v]['data'])) #save data edges\n",
    "            \n",
    "        d_bunch={}\n",
    "        for u,v,d in d.edges_iter(data=True):\n",
    "            tau=d['tau']\n",
    "            d_bunch.setdefault(tau,[]).append((self.d.node[u]['data'],self.d.node[v]['data'])) #save data edges\n",
    "        \n",
    "\n",
    "        for tau,d in d_bunch.iteritems():\n",
    "            for t,k in k_bunch.iteritems():\n",
    "                DiGM = iso.DiGraphMatcher(k,d,node_match=nm)\n",
    "                #if DiGM.subgraph_is_isomorphic():\n",
    "                    \n",
    "                    \n",
    "                    \n",
    "                \n",
    "                                            \n",
    "        \n",
    "            \n",
    "        \n",
    "            \n",
    "            "
   ]
  },
  {
   "cell_type": "code",
   "execution_count": 85,
   "metadata": {
    "collapsed": true
   },
   "outputs": [],
   "source": [
    "def perspective(route,tsp):\n",
    "    s=0.0\n",
    "    k={}\n",
    "    for i in xrange(len(route)-1):\n",
    "        u=route[i]\n",
    "        v=route[i+1]\n",
    "        d=((g.node[u]['loc'][0]-g.node[v]['loc'][0])**2+(g.node[u]['loc'][1]-g.node[v]['loc'][1])**2)**.5\n",
    "        k[(u,v)]=d\n",
    "        s+=d\n",
    "        \n",
    "    return s,k\n",
    "    "
   ]
  },
  {
   "cell_type": "code",
   "execution_count": 4,
   "metadata": {
    "collapsed": false
   },
   "outputs": [
    {
     "name": "stdout",
     "output_type": "stream",
     "text": [
      "[0, 1, 2, 3]\n",
      "[(0, 1), (0, 2), (0, 3), (1, 2), (1, 3), (2, 3)]\n",
      "True\n"
     ]
    }
   ],
   "source": [
    "g=nx.complete_graph(4)\n",
    "print g.nodes()\n",
    "print g.edges()\n",
    "print (0,1) in g.edges()"
   ]
  },
  {
   "cell_type": "code",
   "execution_count": 11,
   "metadata": {
    "collapsed": false
   },
   "outputs": [
    {
     "data": {
      "text/plain": [
       "array([2, 3, 1, 0])"
      ]
     },
     "execution_count": 11,
     "metadata": {},
     "output_type": "execute_result"
    }
   ],
   "source": [
    "np.random.permutation(range(0,4))"
   ]
  },
  {
   "cell_type": "code",
   "execution_count": 80,
   "metadata": {
    "collapsed": false
   },
   "outputs": [
    {
     "data": {
      "image/png": "[encoded data removed]",
      "text/plain": [
       "<matplotlib.figure.Figure at 0x1aa19dd8>"
      ]
     },
     "metadata": {},
     "output_type": "display_data"
    }
   ],
   "source": [
    "g=setup_tsp(4)\n"
   ]
  },
  {
   "cell_type": "code",
   "execution_count": 81,
   "metadata": {
    "collapsed": false
   },
   "outputs": [
    {
     "name": "stdout",
     "output_type": "stream",
     "text": [
      "[(0, {'loc': (3, 0)}), (1, {'loc': (0, 2)}), (2, {'loc': (2, 1)}), (3, {'loc': (1, 3)})]\n",
      "[(0, 1, {'dist': 3.6055512754639891}), (0, 2, {'dist': 1.4142135623730951}), (0, 3, {'dist': 3.6055512754639891}), (1, 2, {'dist': 2.2360679774997898}), (1, 3, {'dist': 1.4142135623730951}), (2, 3, {'dist': 2.2360679774997898})]\n"
     ]
    }
   ],
   "source": [
    "print g.nodes(data=True)\n",
    "print g.edges(data=True)"
   ]
  },
  {
   "cell_type": "code",
   "execution_count": 38,
   "metadata": {
    "collapsed": false
   },
   "outputs": [
    {
     "data": {
      "text/plain": [
       "{'loc': (0, 3)}"
      ]
     },
     "execution_count": 38,
     "metadata": {},
     "output_type": "execute_result"
    }
   ],
   "source": [
    "g.node[0]"
   ]
  },
  {
   "cell_type": "code",
   "execution_count": 54,
   "metadata": {
    "collapsed": false
   },
   "outputs": [
    {
     "ename": "NameError",
     "evalue": "name 'x' is not defined",
     "output_type": "error",
     "traceback": [
      "\u001b[1;31m---------------------------------------------------------------------------\u001b[0m",
      "\u001b[1;31mNameError\u001b[0m                                 Traceback (most recent call last)",
      "\u001b[1;32m<ipython-input-54-f7d792e7d50f>\u001b[0m in \u001b[0;36m<module>\u001b[1;34m()\u001b[0m\n\u001b[1;32m----> 1\u001b[1;33m \u001b[0mplt\u001b[0m\u001b[1;33m.\u001b[0m\u001b[0mscatter\u001b[0m\u001b[1;33m(\u001b[0m\u001b[0mx\u001b[0m\u001b[1;33m,\u001b[0m\u001b[0my\u001b[0m\u001b[1;33m)\u001b[0m\u001b[1;33m\u001b[0m\u001b[0m\n\u001b[0m",
      "\u001b[1;31mNameError\u001b[0m: name 'x' is not defined"
     ]
    }
   ],
   "source": [
    "plt.scatter(x,y)"
   ]
  },
  {
   "cell_type": "code",
   "execution_count": 70,
   "metadata": {
    "collapsed": false
   },
   "outputs": [],
   "source": [
    "p=Problem(4)"
   ]
  },
  {
   "cell_type": "code",
   "execution_count": 72,
   "metadata": {
    "collapsed": false
   },
   "outputs": [
    {
     "data": {
      "text/plain": [
       "[0, 1, 2, 3]"
      ]
     },
     "execution_count": 72,
     "metadata": {},
     "output_type": "execute_result"
    }
   ],
   "source": [
    "p.tsp.nodes()"
   ]
  },
  {
   "cell_type": "code",
   "execution_count": 75,
   "metadata": {
    "collapsed": false
   },
   "outputs": [
    {
     "name": "stdout",
     "output_type": "stream",
     "text": [
      "0 1\n",
      "1 2\n",
      "2 3\n"
     ]
    }
   ],
   "source": [
    "l=[0,1,2,3]\n",
    "for i in xrange(len(l)-1):\n",
    "    print l[i],l[i+1]"
   ]
  },
  {
   "cell_type": "code",
   "execution_count": 86,
   "metadata": {
    "collapsed": false
   },
   "outputs": [
    {
     "data": {
      "text/plain": [
       "(5.0644951022459797,\n",
       " {(0, 2): 1.4142135623730951,\n",
       "  (1, 3): 1.4142135623730951,\n",
       "  (2, 1): 2.2360679774997898})"
      ]
     },
     "execution_count": 86,
     "metadata": {},
     "output_type": "execute_result"
    }
   ],
   "source": [
    "perspective([0,2,1,3],g)"
   ]
  },
  {
   "cell_type": "code",
   "execution_count": 87,
   "metadata": {
    "collapsed": false
   },
   "outputs": [
    {
     "data": {
      "text/plain": [
       "{'dist': 3.6055512754639891}"
      ]
     },
     "execution_count": 87,
     "metadata": {},
     "output_type": "execute_result"
    }
   ],
   "source": [
    "g[0][1]"
   ]
  },
  {
   "cell_type": "code",
   "execution_count": 62,
   "metadata": {
    "collapsed": false
   },
   "outputs": [
    {
     "name": "stdout",
     "output_type": "stream",
     "text": [
      "[1] {0: []}\n",
      "{'tau': 0, 't': 1}\n",
      "{'tau': 0, 't': 2} [1, 2] [] {0: [], 1: [2]}\n",
      "{'tau': 1, 't': 3} [1, 2] [1, 2]\n",
      "[(1, 2)] [1, 2] [(1, 2)]\n",
      "{'tau': 2, 't': 4} [(1, 2)] [1, 2] []\n",
      "{'n_id': None, 'data': 1, 'l': 10, 't': 1}\n",
      "{0: [], 1: [2]}\n",
      "{0: 0, 1: 0, 2: 0, 3: 1} {0: [], 1: [(1, 2)]} {0: <networkx.classes.digraph.DiGraph object at 0x0000000009C5BA90>, 1: <networkx.classes.digraph.DiGraph object at 0x0000000009C5B6D8>, 2: <networkx.classes.digraph.DiGraph object at 0x0000000007E10B70>, 3: <networkx.classes.digraph.DiGraph object at 0x00000000095445F8>}\n"
     ]
    },
    {
     "data": {
      "image/png": "[encoded data removed]",
      "text/plain": [
       "<matplotlib.figure.Figure at 0x9c5b860>"
      ]
     },
     "metadata": {},
     "output_type": "display_data"
    }
   ],
   "source": [
    "k=KD_Graph()\n",
    "k.add_k(1,[],data=0) #0\n",
    "print k.k.nodes(), k.hist_l\n",
    "print k.tt\n",
    "k.add_k(2,[1],l=10,data=1) #1\n",
    "print k.tt,k.k.nodes(), k.d.nodes(), k.hist_l\n",
    "k.add_d(2,[1]) #2\n",
    "print k.tt, k.k.nodes(), k.d.nodes()\n",
    "print k.hist_k[1].edges(), k.hist_d[0].nodes(), k.d.edges()\n",
    "k.remove_d(2,[1]) #3\n",
    "print k.tt, k.hist_k[1].edges(), k.hist_d[1].nodes(),k.d.edges()\n",
    "print k.k.node[2]\n",
    "print k.hist_l\n",
    "print k.tau_marks, k.change_k, k.hist_k\n",
    "k.get_landscape(t=1,tau=1)"
   ]
  },
  {
   "cell_type": "code",
   "execution_count": 18,
   "metadata": {
    "collapsed": false
   },
   "outputs": [
    {
     "name": "stdout",
     "output_type": "stream",
     "text": [
      "{1: 10, 2: 12}\n"
     ]
    }
   ],
   "source": [
    "t={1:10}\n",
    "t[2]=12\n",
    "print t"
   ]
  },
  {
   "cell_type": "code",
   "execution_count": 25,
   "metadata": {
    "collapsed": false
   },
   "outputs": [
    {
     "name": "stdout",
     "output_type": "stream",
     "text": [
      "{'tau': 1, 't': 0}\n"
     ]
    }
   ],
   "source": [
    "tt={'t':0,'tau':0}\n",
    "#tt[tau]\n",
    "tt['tau']+=1\n",
    "print tt"
   ]
  },
  {
   "cell_type": "code",
   "execution_count": 60,
   "metadata": {
    "collapsed": false
   },
   "outputs": [
    {
     "name": "stdout",
     "output_type": "stream",
     "text": [
      "0\n",
      "0\n"
     ]
    }
   ],
   "source": [
    "print k.d.out_degree(2)\n",
    "print k.d.in_degree(2)"
   ]
  },
  {
   "cell_type": "code",
   "execution_count": 72,
   "metadata": {
    "collapsed": false
   },
   "outputs": [
    {
     "name": "stdout",
     "output_type": "stream",
     "text": [
      "hi\n"
     ]
    }
   ],
   "source": [
    "g=nx.Graph()\n",
    "g.add_node(1,data='hi')\n",
    "print g.node[1]['data']"
   ]
  },
  {
   "cell_type": "code",
   "execution_count": 14,
   "metadata": {
    "collapsed": false
   },
   "outputs": [
    {
     "name": "stdout",
     "output_type": "stream",
     "text": [
      "{1: [1, 3]}\n"
     ]
    }
   ],
   "source": [
    "t={}\n",
    "t.setdefault(1,[1])\n",
    "t.setdefault(1,[]).append(3)\n",
    "\n",
    "\n",
    "print t"
   ]
  },
  {
   "cell_type": "code",
   "execution_count": 4,
   "metadata": {
    "collapsed": false
   },
   "outputs": [],
   "source": [
    "import networkx.algorithms.isomorphism as iso"
   ]
  },
  {
   "cell_type": "code",
   "execution_count": 5,
   "metadata": {
    "collapsed": false
   },
   "outputs": [
    {
     "name": "stdout",
     "output_type": "stream",
     "text": [
      "{'n': 'hi'}\n"
     ]
    },
    {
     "data": {
      "text/plain": [
       "False"
      ]
     },
     "execution_count": 5,
     "metadata": {},
     "output_type": "execute_result"
    }
   ],
   "source": [
    "G1 = nx.path_graph(4, create_using=nx.DiGraph())\n",
    "G1.node[1]['n']='hi'\n",
    "print G1.node[1]\n",
    "G2 = nx.path_graph(2, create_using=nx.DiGraph())\n",
    "G2.node[1]['n']='bi'\n",
    "nm=iso.categorical_node_match('n',1)\n",
    "DiGM = iso.DiGraphMatcher(G1,G2,node_match=nm)\n",
    "DiGM.subgraph_is_isomorphic()"
   ]
  },
  {
   "cell_type": "code",
   "execution_count": 122,
   "metadata": {
    "collapsed": false
   },
   "outputs": [
    {
     "data": {
      "text/plain": [
       "True"
      ]
     },
     "execution_count": 122,
     "metadata": {},
     "output_type": "execute_result"
    }
   ],
   "source": [
    "k=nx.DiGraph()\n",
    "k.add_node(1,data=(1,2))\n",
    "k.add_node(2,data=(2,3))\n",
    "k.add_node(3,data=(3,1))\n",
    "k.add_edge(1,2)\n",
    "k.add_edge(2,3)\n",
    "k.add_edge(1,3)\n",
    "\n",
    "\n",
    "d=nx.DiGraph()\n",
    "#d.add_node('a',data=(1,2))\n",
    "d.add_node('b',data=(2,3))\n",
    "#d.add_edge('a','b')\n",
    "\n",
    "nm=iso.categorical_node_match('data',1)\n",
    "DiGM = iso.DiGraphMatcher(k,d,node_match=nm)\n",
    "DiGM.subgraph_is_isomorphic()"
   ]
  },
  {
   "cell_type": "code",
   "execution_count": 147,
   "metadata": {
    "collapsed": false
   },
   "outputs": [],
   "source": [
    "k=KD_Graph()\n",
    "#k for route 1\n",
    "k.add_k(1,s=[],data=(1,2))\n",
    "k.add_k(2,s=[1],data=(2,3))\n",
    "k.add_k(3,s=[1,2],data=(3,4))\n",
    "k.add_k('e_1',s=[1,2,3],l=5)\n",
    "\n",
    "#k for route 2\n",
    "k.add_k(4,s=[1],data=(2,4))\n",
    "k.add_k(5,s=[1,4],data=(4,3))\n",
    "k.add_k('e_2',s=[1,4,5],l=10)\n",
    "\n",
    "#d\n",
    "k.add_d(1,s=[])\n",
    "#k.add_d(4,s=[])\n"
   ]
  },
  {
   "cell_type": "code",
   "execution_count": 148,
   "metadata": {
    "collapsed": false
   },
   "outputs": [
    {
     "name": "stdout",
     "output_type": "stream",
     "text": [
      "{0: [], 1: [], 2: [], 3: ['e_1'], 4: ['e_1'], 5: ['e_1'], 6: ['e_1', 'e_2'], 7: ['e_1', 'e_2']}\n",
      "{0: <networkx.classes.digraph.DiGraph object at 0x0000000009FCBAC8>, 1: <networkx.classes.digraph.DiGraph object at 0x0000000009FCB588>, 2: <networkx.classes.digraph.DiGraph object at 0x0000000009B7C908>, 3: <networkx.classes.digraph.DiGraph object at 0x000000000A406DA0>, 4: <networkx.classes.digraph.DiGraph object at 0x0000000009F60F28>, 5: <networkx.classes.digraph.DiGraph object at 0x0000000009F60358>, 6: <networkx.classes.digraph.DiGraph object at 0x0000000009F60550>, 7: <networkx.classes.digraph.DiGraph object at 0x00000000096B2240>}\n",
      "{0: <networkx.classes.digraph.DiGraph object at 0x000000000818DEF0>}\n",
      "{0: 0, 1: 0, 2: 0, 3: 0, 4: 0, 5: 0, 6: 0, 7: 1}\n"
     ]
    }
   ],
   "source": [
    "print k.hist_l\n",
    "print k.hist_k\n",
    "print k.hist_d\n",
    "print k.tau_marks\n",
    "#print k.diff_d"
   ]
  },
  {
   "cell_type": "code",
   "execution_count": 150,
   "metadata": {
    "collapsed": false
   },
   "outputs": [
    {
     "ename": "KeyError",
     "evalue": "8",
     "output_type": "error",
     "traceback": [
      "\u001b[1;31m---------------------------------------------------------------------------\u001b[0m",
      "\u001b[1;31mKeyError\u001b[0m                                  Traceback (most recent call last)",
      "\u001b[1;32m<ipython-input-150-171a4520543c>\u001b[0m in \u001b[0;36m<module>\u001b[1;34m()\u001b[0m\n\u001b[1;32m----> 1\u001b[1;33m \u001b[0mk\u001b[0m\u001b[1;33m.\u001b[0m\u001b[0mget_landscape\u001b[0m\u001b[1;33m(\u001b[0m\u001b[0mt\u001b[0m\u001b[1;33m=\u001b[0m\u001b[1;36m8\u001b[0m\u001b[1;33m,\u001b[0m\u001b[0mtau\u001b[0m\u001b[1;33m=\u001b[0m\u001b[1;36m0\u001b[0m\u001b[1;33m)\u001b[0m\u001b[1;33m\u001b[0m\u001b[0m\n\u001b[0m",
      "\u001b[1;32m<ipython-input-144-45948aefd422>\u001b[0m in \u001b[0;36mget_landscape\u001b[1;34m(self, t, tau)\u001b[0m\n\u001b[0;32m     91\u001b[0m     \u001b[1;31m#Add landscape parsing\u001b[0m\u001b[1;33m\u001b[0m\u001b[1;33m\u001b[0m\u001b[0m\n\u001b[0;32m     92\u001b[0m     \u001b[1;32mdef\u001b[0m \u001b[0mget_landscape\u001b[0m\u001b[1;33m(\u001b[0m\u001b[0mself\u001b[0m\u001b[1;33m,\u001b[0m\u001b[0mt\u001b[0m\u001b[1;33m,\u001b[0m\u001b[0mtau\u001b[0m\u001b[1;33m)\u001b[0m\u001b[1;33m:\u001b[0m\u001b[1;33m\u001b[0m\u001b[0m\n\u001b[1;32m---> 93\u001b[1;33m         \u001b[0mk\u001b[0m\u001b[1;33m=\u001b[0m\u001b[0mself\u001b[0m\u001b[1;33m.\u001b[0m\u001b[0mhist_k\u001b[0m\u001b[1;33m[\u001b[0m\u001b[0mt\u001b[0m\u001b[1;33m]\u001b[0m\u001b[1;33m\u001b[0m\u001b[0m\n\u001b[0m\u001b[0;32m     94\u001b[0m         \u001b[0md\u001b[0m\u001b[1;33m=\u001b[0m\u001b[0mself\u001b[0m\u001b[1;33m.\u001b[0m\u001b[0mhist_d\u001b[0m\u001b[1;33m[\u001b[0m\u001b[0mtau\u001b[0m\u001b[1;33m]\u001b[0m\u001b[1;33m\u001b[0m\u001b[0m\n\u001b[0;32m     95\u001b[0m         \u001b[0ml\u001b[0m\u001b[1;33m=\u001b[0m\u001b[0mself\u001b[0m\u001b[1;33m.\u001b[0m\u001b[0mhist_l\u001b[0m\u001b[1;33m[\u001b[0m\u001b[0mt\u001b[0m\u001b[1;33m]\u001b[0m\u001b[1;33m\u001b[0m\u001b[0m\n",
      "\u001b[1;31mKeyError\u001b[0m: 8"
     ]
    }
   ],
   "source": [
    "k.get_landscape(t=8,tau=0)"
   ]
  },
  {
   "cell_type": "code",
   "execution_count": 77,
   "metadata": {
    "collapsed": false
   },
   "outputs": [
    {
     "name": "stdout",
     "output_type": "stream",
     "text": [
      "bi\n"
     ]
    }
   ],
   "source": [
    "l=None\n",
    "if l:\n",
    "    print 'hi'\n",
    "else:\n",
    "    print 'bi'"
   ]
  },
  {
   "cell_type": "code",
   "execution_count": null,
   "metadata": {
    "collapsed": true
   },
   "outputs": [],
   "source": []
  }
 ],
 "metadata": {
  "kernelspec": {
   "display_name": "Python 2",
   "language": "python",
   "name": "python2"
  },
  "language_info": {
   "codemirror_mode": {
    "name": "ipython",
    "version": 2
   },
   "file_extension": ".py",
   "mimetype": "text/x-python",
   "name": "python",
   "nbconvert_exporter": "python",
   "pygments_lexer": "ipython2",
   "version": "2.7.11"
  }
 },
 "nbformat": 4,
 "nbformat_minor": 0
}
