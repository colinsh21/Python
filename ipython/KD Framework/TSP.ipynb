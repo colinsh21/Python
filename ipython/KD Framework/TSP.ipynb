{
 "cells": [
  {
   "cell_type": "code",
   "execution_count": 53,
   "metadata": {
    "collapsed": true
   },
   "outputs": [],
   "source": [
    "import networkx as nx\n",
    "import numpy as np\n",
    "import matplotlib.pyplot as plt\n",
    "%matplotlib inline\n"
   ]
  },
  {
   "cell_type": "code",
   "execution_count": 69,
   "metadata": {
    "collapsed": false
   },
   "outputs": [],
   "source": [
    "class Problem(object):\n",
    "    def __init__(self,n_cities):\n",
    "        self.tsp=self.setup_tsp(n_cities)\n",
    "        #self.a=agent()\n",
    "\n",
    "    def setup_tsp(self,n_cities):\n",
    "\n",
    "        #locations\n",
    "        x=np.random.permutation(range(0,n_cities))\n",
    "        y=np.random.permutation(range(0,n_cities))\n",
    "\n",
    "        #nodes\n",
    "        g=nx.Graph()\n",
    "        for i in range(0,n_cities):\n",
    "            g.add_node(i,loc=(x[i],y[i]))\n",
    "\n",
    "        #edges\n",
    "        cg=nx.complete_graph(n_cities)\n",
    "        for u,v in cg.edges():\n",
    "            #get distance\n",
    "            #d=((g.node[u]['loc'][0]-g.node[v]['loc'][0])**2+(g.node[u]['loc'][1]-g.node[v]['loc'][1])**2)**.5\n",
    "            #print u,v,d\n",
    "            g.add_edge(u,v) #g.add_edge(u,v,dist=d)\n",
    "        #plt.scatter(x,y)\n",
    "\n",
    "        return g\n",
    "    \n",
    "    "
   ]
  },
  {
   "cell_type": "code",
   "execution_count": 84,
   "metadata": {
    "collapsed": false
   },
   "outputs": [],
   "source": [
    "class agent(object):\n",
    "    def __init__(self,perspective):\n",
    "        self.k=nx.DiGraph()\n",
    "        self.score=perspective\n",
    "        self.landscape={}\n",
    "        \n",
    "    def solve(self,tsp):\n",
    "        #random route\n",
    "        r=np.random.permutation(tsp.nodes())\n",
    "        \n",
    "        #score route\n",
    "        s,k_r=self.score(r,tsp)\n",
    "        \n",
    "        #Save route and score\n",
    "        self.landscape[r]=s\n",
    "        \n",
    "        \n",
    "        \n",
    "        \n",
    "        \n",
    "        \n",
    "    "
   ]
  },
  {
   "cell_type": "code",
   "execution_count": 85,
   "metadata": {
    "collapsed": true
   },
   "outputs": [],
   "source": [
    "def perspective(route,tsp):\n",
    "    s=0.0\n",
    "    k={}\n",
    "    for i in xrange(len(route)-1):\n",
    "        u=route[i]\n",
    "        v=route[i+1]\n",
    "        d=((g.node[u]['loc'][0]-g.node[v]['loc'][0])**2+(g.node[u]['loc'][1]-g.node[v]['loc'][1])**2)**.5\n",
    "        k[(u,v)]=d\n",
    "        s+=d\n",
    "        \n",
    "    return s,k\n",
    "    "
   ]
  },
  {
   "cell_type": "code",
   "execution_count": 4,
   "metadata": {
    "collapsed": false
   },
   "outputs": [
    {
     "name": "stdout",
     "output_type": "stream",
     "text": [
      "[0, 1, 2, 3]\n",
      "[(0, 1), (0, 2), (0, 3), (1, 2), (1, 3), (2, 3)]\n",
      "complete_graph(4)\n"
     ]
    }
   ],
   "source": [
    "g=nx.complete_graph(4)\n",
    "print g.nodes()\n",
    "print g.edges()\n",
    "print g"
   ]
  },
  {
   "cell_type": "code",
   "execution_count": 11,
   "metadata": {
    "collapsed": false
   },
   "outputs": [
    {
     "data": {
      "text/plain": [
       "array([2, 3, 1, 0])"
      ]
     },
     "execution_count": 11,
     "metadata": {},
     "output_type": "execute_result"
    }
   ],
   "source": [
    "np.random.permutation(range(0,4))"
   ]
  },
  {
   "cell_type": "code",
   "execution_count": 80,
   "metadata": {
    "collapsed": false
   },
   "outputs": [
    {
     "data": {
      "image/png": "[encoded data removed]",
      "text/plain": [
       "<matplotlib.figure.Figure at 0x1aa19dd8>"
      ]
     },
     "metadata": {},
     "output_type": "display_data"
    }
   ],
   "source": [
    "g=setup_tsp(4)\n"
   ]
  },
  {
   "cell_type": "code",
   "execution_count": 81,
   "metadata": {
    "collapsed": false
   },
   "outputs": [
    {
     "name": "stdout",
     "output_type": "stream",
     "text": [
      "[(0, {'loc': (3, 0)}), (1, {'loc': (0, 2)}), (2, {'loc': (2, 1)}), (3, {'loc': (1, 3)})]\n",
      "[(0, 1, {'dist': 3.6055512754639891}), (0, 2, {'dist': 1.4142135623730951}), (0, 3, {'dist': 3.6055512754639891}), (1, 2, {'dist': 2.2360679774997898}), (1, 3, {'dist': 1.4142135623730951}), (2, 3, {'dist': 2.2360679774997898})]\n"
     ]
    }
   ],
   "source": [
    "print g.nodes(data=True)\n",
    "print g.edges(data=True)"
   ]
  },
  {
   "cell_type": "code",
   "execution_count": 38,
   "metadata": {
    "collapsed": false
   },
   "outputs": [
    {
     "data": {
      "text/plain": [
       "{'loc': (0, 3)}"
      ]
     },
     "execution_count": 38,
     "metadata": {},
     "output_type": "execute_result"
    }
   ],
   "source": [
    "g.node[0]"
   ]
  },
  {
   "cell_type": "code",
   "execution_count": 54,
   "metadata": {
    "collapsed": false
   },
   "outputs": [
    {
     "ename": "NameError",
     "evalue": "name 'x' is not defined",
     "output_type": "error",
     "traceback": [
      "\u001b[1;31m---------------------------------------------------------------------------\u001b[0m",
      "\u001b[1;31mNameError\u001b[0m                                 Traceback (most recent call last)",
      "\u001b[1;32m<ipython-input-54-f7d792e7d50f>\u001b[0m in \u001b[0;36m<module>\u001b[1;34m()\u001b[0m\n\u001b[1;32m----> 1\u001b[1;33m \u001b[0mplt\u001b[0m\u001b[1;33m.\u001b[0m\u001b[0mscatter\u001b[0m\u001b[1;33m(\u001b[0m\u001b[0mx\u001b[0m\u001b[1;33m,\u001b[0m\u001b[0my\u001b[0m\u001b[1;33m)\u001b[0m\u001b[1;33m\u001b[0m\u001b[0m\n\u001b[0m",
      "\u001b[1;31mNameError\u001b[0m: name 'x' is not defined"
     ]
    }
   ],
   "source": [
    "plt.scatter(x,y)"
   ]
  },
  {
   "cell_type": "code",
   "execution_count": 70,
   "metadata": {
    "collapsed": false
   },
   "outputs": [],
   "source": [
    "p=Problem(4)"
   ]
  },
  {
   "cell_type": "code",
   "execution_count": 72,
   "metadata": {
    "collapsed": false
   },
   "outputs": [
    {
     "data": {
      "text/plain": [
       "[0, 1, 2, 3]"
      ]
     },
     "execution_count": 72,
     "metadata": {},
     "output_type": "execute_result"
    }
   ],
   "source": [
    "p.tsp.nodes()"
   ]
  },
  {
   "cell_type": "code",
   "execution_count": 75,
   "metadata": {
    "collapsed": false
   },
   "outputs": [
    {
     "name": "stdout",
     "output_type": "stream",
     "text": [
      "0 1\n",
      "1 2\n",
      "2 3\n"
     ]
    }
   ],
   "source": [
    "l=[0,1,2,3]\n",
    "for i in xrange(len(l)-1):\n",
    "    print l[i],l[i+1]"
   ]
  },
  {
   "cell_type": "code",
   "execution_count": 86,
   "metadata": {
    "collapsed": false
   },
   "outputs": [
    {
     "data": {
      "text/plain": [
       "(5.0644951022459797,\n",
       " {(0, 2): 1.4142135623730951,\n",
       "  (1, 3): 1.4142135623730951,\n",
       "  (2, 1): 2.2360679774997898})"
      ]
     },
     "execution_count": 86,
     "metadata": {},
     "output_type": "execute_result"
    }
   ],
   "source": [
    "perspective([0,2,1,3],g)"
   ]
  },
  {
   "cell_type": "code",
   "execution_count": null,
   "metadata": {
    "collapsed": true
   },
   "outputs": [],
   "source": []
  }
 ],
 "metadata": {
  "kernelspec": {
   "display_name": "Python 2",
   "language": "python",
   "name": "python2"
  },
  "language_info": {
   "codemirror_mode": {
    "name": "ipython",
    "version": 2
   },
   "file_extension": ".py",
   "mimetype": "text/x-python",
   "name": "python",
   "nbconvert_exporter": "python",
   "pygments_lexer": "ipython2",
   "version": "2.7.11"
  }
 },
 "nbformat": 4,
 "nbformat_minor": 0
}
