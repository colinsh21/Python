{
 "cells": [
  {
   "cell_type": "code",
   "execution_count": 1,
   "metadata": {
    "collapsed": true
   },
   "outputs": [],
   "source": [
    "import networkx as nx\n",
    "import numpy as np\n",
    "import matplotlib.pyplot as plt\n",
    "import random\n",
    "%matplotlib inline"
   ]
  },
  {
   "cell_type": "code",
   "execution_count": 2,
   "metadata": {
    "collapsed": false
   },
   "outputs": [],
   "source": [
    "r={}\n",
    "e={}\n",
    "d={}\n",
    "#tsp case: (1,2)=1, (1,3)=1, (1,4)=2, (2,3)=3, (2,4)=4, (3,4)=2\n",
    "tsp=nx.Graph()\n",
    "tsp.add_edge(1,2,dist=1)\n",
    "tsp.add_edge(1,3,dist=1)\n",
    "tsp.add_edge(1,4,dist=2)\n",
    "tsp.add_edge(2,3,dist=3)\n",
    "tsp.add_edge(2,4,dist=4)\n",
    "tsp.add_edge(3,4,dist=2)\n",
    "\n",
    "#print tsp[1][4]\n",
    "\n",
    "#r.setdefault(6,[]).append([1,2,3,4])\n",
    "#r.setdefault(8,[]).append([1,3,2,4])\n",
    "#r.setdefault(7,[]).append([1,4,3,2])\n",
    "#r.setdefault(9,[]).append([1,4,2,3])\n",
    "\n",
    "#r.setdefault((1,2,3,4),[]).append(6)\n",
    "#r.setdefault((1,3,2,4),[]).append(8)\n",
    "#r.setdefault((1,4,3,2),[]).append(7)\n",
    "#r.setdefault((1,4,2,3),[]).append(9)\n",
    "\n",
    "r[(1,2,3,4)]=6\n",
    "r[(1,3,2,4)]=8\n",
    "r[(1,4,3,2)]=7\n",
    "r[(1,4,2,3)]=9\n",
    "\n",
    "d[1]=(1,4)\n",
    "d[2]=(4,2)"
   ]
  },
  {
   "cell_type": "code",
   "execution_count": 3,
   "metadata": {
    "collapsed": true
   },
   "outputs": [],
   "source": [
    "#test designs and valid decisions\n",
    "\n",
    "def test_1(r,d):\n",
    "    v_r=[]\n",
    "    n=2\n",
    "    m=1\n",
    "\n",
    "    #parse routes\n",
    "    for ri,s in r.iteritems():\n",
    "        #print ri\n",
    "\n",
    "        e_r=[tuple(ri[i:i+n-m+1]) for i in xrange(0,len(ri), n-m)]\n",
    "        del e_r[-1]\n",
    "        valid=True\n",
    "        \n",
    "        #if d not in e_r:\n",
    "            #valid = False\n",
    "        if not all(x in e_r for x in d):\n",
    "            valid = False\n",
    "            \n",
    "        if valid or d==[]:\n",
    "            v_r.append((s,ri))\n",
    "    return v_r"
   ]
  },
  {
   "cell_type": "code",
   "execution_count": 137,
   "metadata": {
    "collapsed": false
   },
   "outputs": [],
   "source": [
    "def get_route(): #OLD#\n",
    "    route=list(np.random.permutation(tsp.nodes()))\n",
    "    #print route\n",
    "    d=0.0\n",
    "    for i in xrange(len(route)-1):\n",
    "        u=route[i]\n",
    "        v=route[i+1]\n",
    "        d+=tsp[u][v]['dist']\n",
    "\n",
    "    if d in r:\n",
    "        if route not in r[d]:\n",
    "            r.setdefault(d,[]).append(route)\n",
    "        else:\n",
    "            print 'caught',d,route\n",
    "    else:\n",
    "        r.setdefault(d,[]).append(route)\n",
    "\n",
    "    print r"
   ]
  },
  {
   "cell_type": "code",
   "execution_count": 8,
   "metadata": {
    "collapsed": false
   },
   "outputs": [],
   "source": [
    "def entropy(r,d):\n",
    "    v_r=test_1(r,d)\n",
    "    l=[i[0] for i in v_r]\n",
    "    #bins=xrange(min(l),max(l))\n",
    "    hist,bin_edges=np.histogram(l,density=True)\n",
    "    p=hist/hist.sum()\n",
    "    a_p=np.array(p)\n",
    "    a_p=a_p[np.nonzero(a_p)]\n",
    "    h=-sum(a_p*np.log(a_p))\n",
    "    \n",
    "    return h\n",
    "    \n",
    "def e_entropy(r,d):\n",
    "    v_r=test_1(r,d)\n",
    "    d_tsp=tsp.to_directed()\n",
    "    e=dict((i,0.0) for i in d_tsp.edges())\n",
    "    for d,ri in v_r:\n",
    "        for i in xrange(len(ri)-1):\n",
    "            u=ri[i]\n",
    "            v=ri[i+1]\n",
    "            if (u,v) in e:\n",
    "                e[(u,v)]+=1\n",
    "            #elif (v,u) in e:\n",
    "                #e[(v,u)]+=1\n",
    "    l=np.array(e.values())\n",
    "    p=l/sum(l)\n",
    "    a_p=np.array(p)\n",
    "    a_p=a_p[np.nonzero(a_p)]\n",
    "    h=-sum(a_p*np.log(a_p))\n",
    "    #plt.bar(range(len(e)), e.values(), align='center')\n",
    "    #plt.xticks(range(len(e)), e.keys(), rotation=25)\n",
    "    #plt.title('S={}'.format(h))\n",
    "    \n",
    "    return h\n",
    "    \n",
    "    "
   ]
  },
  {
   "cell_type": "code",
   "execution_count": 193,
   "metadata": {
    "collapsed": false
   },
   "outputs": [
    {
     "name": "stdout",
     "output_type": "stream",
     "text": [
      "{(1, 4, 2, 3): 9, (1, 4, 3, 2): 7, (1, 2, 3, 4): 6, (1, 3, 2, 4): 8}\n",
      "{1: (1, 4)}\n"
     ]
    }
   ],
   "source": [
    "print r\n",
    "print d"
   ]
  },
  {
   "cell_type": "code",
   "execution_count": 14,
   "metadata": {
    "collapsed": false
   },
   "outputs": [],
   "source": [
    "#test designs and valid decisions\n",
    "\n",
    "def test(r,d):\n",
    "    v_r=[]\n",
    "    n=2\n",
    "    m=1\n",
    "\n",
    "    #parse routes\n",
    "    for s,r_all in r.iteritems():\n",
    "        #print ri\n",
    "        for ri in r_all:\n",
    "            e_r=[tuple(ri[i:i+n-m+1]) for i in xrange(0,len(ri), n-m)]\n",
    "            del e_r[-1]\n",
    "            valid=True\n",
    "            for tau,d_e in d.iteritems():\n",
    "                if d_e not in e_r:\n",
    "                    valid = False\n",
    "                    break\n",
    "            if valid:\n",
    "                v_r.append((s,ri))\n",
    "    return v_r"
   ]
  },
  {
   "cell_type": "code",
   "execution_count": 5,
   "metadata": {
    "collapsed": true
   },
   "outputs": [],
   "source": [
    "def landscape(r,d):\n",
    "    v_r=test_1(r,d)\n",
    "    l=[i[0] for i in v_r]\n",
    "    h=entropy(r,d)\n",
    "    plt.hist(l)\n",
    "    plt.title('S={}'.format(h))\n",
    "    \n",
    "    \n",
    "    \n",
    "    #return v_r"
   ]
  },
  {
   "cell_type": "code",
   "execution_count": 4,
   "metadata": {
    "collapsed": false
   },
   "outputs": [],
   "source": [
    "def get_route(r):\n",
    "    route=tuple(np.random.permutation(tsp.nodes()))\n",
    "    #print route\n",
    "    d=0.0\n",
    "    for i in xrange(len(route)-1):\n",
    "        u=route[i]\n",
    "        v=route[i+1]\n",
    "        d+=tsp[u][v]['dist']\n",
    "        \n",
    "    r[route]=d\n",
    "\n",
    "    #print r\n",
    "    return r"
   ]
  },
  {
   "cell_type": "code",
   "execution_count": 13,
   "metadata": {
    "collapsed": false
   },
   "outputs": [],
   "source": [
    "def e_eval(r,d):\n",
    "    v_r=test_1(r,d)\n",
    "    #route=[i[1] for i in v_r]\n",
    "    n=len(v_r) #tsp.number_of_edges()\n",
    "    d_tsp=tsp.to_directed()\n",
    "    t_d=dict((i,0.0) for i in d_tsp.edges())\n",
    "    n=dict((i,0.0) for i in d_tsp.edges())\n",
    "    e=dict((i,0.0) for i in d_tsp.edges())\n",
    "    for d,ri in v_r:\n",
    "        for i in xrange(len(ri)-1):\n",
    "            u=ri[i]\n",
    "            v=ri[i+1]\n",
    "            n[(u,v)]+=1\n",
    "            t_d[(u,v)]+=d\n",
    "    for k in n:\n",
    "        if n[k]!=0.0:\n",
    "            e[k]=t_d[k]/n[k]\n",
    "        else:\n",
    "            e[k]=0.0\n",
    "    \n",
    "    #print e\n",
    "    #plt.bar(range(len(e)), e.values(), align='center')\n",
    "    #plt.xticks(range(len(e)), e.keys(), rotation=25)\n",
    "    \n",
    "    return e,n\n",
    "    \n",
    "def decision(r,d):\n",
    "    e,n=e_eval(r,d)\n",
    "    n=clean_for_path(d)\n",
    "    e_nz={}\n",
    "    for e,v in e.iteritems():\n",
    "        accept=1\n",
    "        if not v:\n",
    "            accept=0\n",
    "            continue\n",
    "        if e in d:\n",
    "            accept=0\n",
    "            continue\n",
    "        if (e[0] not in n) or (e[1] not in n):\n",
    "            accept=0\n",
    "            continue\n",
    "        \n",
    "        if accept==1:\n",
    "            e_nz[e]=v\n",
    "        \n",
    "        \n",
    "    #e_nz={k: v for k, v in e.items() if v}\n",
    "    #e_nz={k: v for k, v in e.items() if v not in d}\n",
    "    min_value = min(e_nz.itervalues())\n",
    "    min_keys = [k for k in e_nz if e_nz[k] == min_value]\n",
    "    key=random.choice(min_keys)\n",
    "    \n",
    "    return key\n",
    "\n",
    "def clean_for_path(d):\n",
    "    valid_n=[]\n",
    "    for n in tsp.nodes():\n",
    "        c=0\n",
    "        for e in d:\n",
    "             if n in e:\n",
    "                    c+=1\n",
    "        if c<2:\n",
    "            valid_n.append(n)\n",
    "        \n",
    "    return valid_n\n",
    "        \n",
    "    \n",
    "    "
   ]
  },
  {
   "cell_type": "code",
   "execution_count": 284,
   "metadata": {
    "collapsed": false
   },
   "outputs": [
    {
     "name": "stdout",
     "output_type": "stream",
     "text": [
      "[(9.0, (1, 4, 2, 3))]\n",
      "[9.0]\n"
     ]
    }
   ],
   "source": [
    "a=test_1(r,d[3])\n",
    "l=[i[0] for i in a]\n",
    "print a\n",
    "print l"
   ]
  },
  {
   "cell_type": "code",
   "execution_count": 144,
   "metadata": {
    "collapsed": false
   },
   "outputs": [
    {
     "name": "stdout",
     "output_type": "stream",
     "text": [
      "caught 6.0 [1, 2, 3, 4]\n",
      "{9.0: [[3, 2, 4, 1], [1, 4, 2, 3]], 6.0: [[1, 2, 3, 4]], 7.0: [[2, 3, 4, 1]]}\n"
     ]
    }
   ],
   "source": [
    "get_route()"
   ]
  },
  {
   "cell_type": "code",
   "execution_count": 185,
   "metadata": {
    "collapsed": false
   },
   "outputs": [
    {
     "name": "stdout",
     "output_type": "stream",
     "text": [
      "{(3, 1, 4, 2): 7.0, (3, 4, 1, 2): 5.0, (3, 4, 2, 1): 7.0, (1, 4, 2, 3): 9.0, (3, 2, 4, 1): 9.0, (2, 4, 3, 1): 7.0, (4, 3, 2, 1): 6.0, (2, 4, 1, 3): 7.0}\n"
     ]
    }
   ],
   "source": [
    "r=get_route(r)"
   ]
  },
  {
   "cell_type": "code",
   "execution_count": 384,
   "metadata": {
    "collapsed": false
   },
   "outputs": [
    {
     "data": {
      "image/png": "[encoded data removed]",
      "text/plain": [
       "<matplotlib.figure.Figure at 0x8c620f0>"
      ]
     },
     "metadata": {},
     "output_type": "display_data"
    }
   ],
   "source": [
    "landscape(r,d[2])"
   ]
  },
  {
   "cell_type": "code",
   "execution_count": 14,
   "metadata": {
    "collapsed": true
   },
   "outputs": [],
   "source": [
    "r={}\n",
    "d={0:[]}\n",
    "d[1]=[(1,4)]\n",
    "d[2]=[(1,4),(2,3)]\n",
    "d[3]=[(1,4),(2,3),(4,2)]"
   ]
  },
  {
   "cell_type": "code",
   "execution_count": 27,
   "metadata": {
    "collapsed": false
   },
   "outputs": [
    {
     "name": "stdout",
     "output_type": "stream",
     "text": [
      "23\n"
     ]
    },
    {
     "data": {
      "image/png": "[encoded data removed]",
      "text/plain": [
       "<matplotlib.figure.Figure at 0xa11ce10>"
      ]
     },
     "metadata": {},
     "output_type": "display_data"
    }
   ],
   "source": [
    "for i in xrange(6):\n",
    "    r=get_route(r)\n",
    "landscape(r,d[0])\n",
    "\n",
    "print len(r)"
   ]
  },
  {
   "cell_type": "code",
   "execution_count": 21,
   "metadata": {
    "collapsed": false
   },
   "outputs": [],
   "source": []
  },
  {
   "cell_type": "code",
   "execution_count": 467,
   "metadata": {
    "collapsed": false
   },
   "outputs": [
    {
     "data": {
      "image/png": "[encoded data removed]",
      "text/plain": [
       "<matplotlib.figure.Figure at 0x86f7470>"
      ]
     },
     "metadata": {},
     "output_type": "display_data"
    }
   ],
   "source": [
    "landscape(r,d[0])"
   ]
  },
  {
   "cell_type": "code",
   "execution_count": 468,
   "metadata": {
    "collapsed": false
   },
   "outputs": [
    {
     "data": {
      "image/png": "[encoded data removed]",
      "text/plain": [
       "<matplotlib.figure.Figure at 0x9b0da20>"
      ]
     },
     "metadata": {},
     "output_type": "display_data"
    }
   ],
   "source": [
    "landscape(r,d[1])"
   ]
  },
  {
   "cell_type": "code",
   "execution_count": 464,
   "metadata": {
    "collapsed": false
   },
   "outputs": [
    {
     "data": {
      "image/png": "[encoded data removed]",
      "text/plain": [
       "<matplotlib.figure.Figure at 0x9ea3630>"
      ]
     },
     "metadata": {},
     "output_type": "display_data"
    }
   ],
   "source": [
    "landscape(r,d[2])"
   ]
  },
  {
   "cell_type": "code",
   "execution_count": 465,
   "metadata": {
    "collapsed": false
   },
   "outputs": [
    {
     "data": {
      "image/png": "[encoded data removed]",
      "text/plain": [
       "<matplotlib.figure.Figure at 0x9b67b70>"
      ]
     },
     "metadata": {},
     "output_type": "display_data"
    }
   ],
   "source": [
    "landscape(r,d[3])"
   ]
  },
  {
   "cell_type": "code",
   "execution_count": 241,
   "metadata": {
    "collapsed": false
   },
   "outputs": [
    {
     "name": "stdout",
     "output_type": "stream",
     "text": [
      "1.56071040904\n",
      "1.32966134885\n",
      "0.69314718056\n",
      "-0.0\n",
      "1.09861228867\n"
     ]
    },
    {
     "data": {
      "image/png": "[encoded data removed]",
      "text/plain": [
       "<matplotlib.figure.Figure at 0x83ec1d0>"
      ]
     },
     "metadata": {},
     "output_type": "display_data"
    }
   ],
   "source": [
    "print entropy(r,d[0])\n",
    "print entropy(r,d[1])\n",
    "print entropy(r,d[2])\n",
    "print entropy(r,d[3])\n",
    "\n",
    "#print e_entropy(r,d[0])\n",
    "#print e_entropy(r,d[1])\n",
    "#print e_entropy(r,d[2])\n",
    "print e_entropy(r,d[3])"
   ]
  },
  {
   "cell_type": "code",
   "execution_count": 23,
   "metadata": {
    "collapsed": false
   },
   "outputs": [
    {
     "data": {
      "text/plain": [
       "1.2"
      ]
     },
     "execution_count": 23,
     "metadata": {},
     "output_type": "execute_result"
    }
   ],
   "source": [
    "l=[9.0,8.0,7.0]\n",
    "f=[.5,.5,0.0,.2]\n",
    "sum(l)\n",
    "sum(f)"
   ]
  },
  {
   "cell_type": "code",
   "execution_count": 362,
   "metadata": {
    "collapsed": false
   },
   "outputs": [],
   "source": [
    "l=[.5,.5,0.0]\n",
    "h=-sum(np.array(l)*np.log(np.array(l))\n",
    "print h"
   ]
  },
  {
   "cell_type": "code",
   "execution_count": 369,
   "metadata": {
    "collapsed": false
   },
   "outputs": [
    {
     "name": "stdout",
     "output_type": "stream",
     "text": [
      "[ 0.5  0.5]\n"
     ]
    }
   ],
   "source": [
    "l=np.array(l)\n",
    "print l[np.nonzero(l)]"
   ]
  },
  {
   "cell_type": "code",
   "execution_count": 366,
   "metadata": {
    "collapsed": false
   },
   "outputs": [
    {
     "name": "stdout",
     "output_type": "stream",
     "text": [
      "0.5 (array([0], dtype=int64),)\n",
      "0.5 (array([0], dtype=int64),)\n",
      "0.0 (array([], dtype=int64),)\n"
     ]
    }
   ],
   "source": [
    "for i in l:\n",
    "    if np.nonzero(i):\n",
    "        print i, np.nonzero(i)"
   ]
  },
  {
   "cell_type": "code",
   "execution_count": 357,
   "metadata": {
    "collapsed": false
   },
   "outputs": [
    {
     "data": {
      "text/plain": [
       "8.0"
      ]
     },
     "execution_count": 357,
     "metadata": {},
     "output_type": "execute_result"
    }
   ],
   "source": [
    "l[l!=0.0]"
   ]
  },
  {
   "cell_type": "code",
   "execution_count": 374,
   "metadata": {
    "collapsed": false
   },
   "outputs": [],
   "source": [
    "r={}\n",
    "d={0:[]}"
   ]
  },
  {
   "cell_type": "code",
   "execution_count": 391,
   "metadata": {
    "collapsed": false
   },
   "outputs": [
    {
     "name": "stdout",
     "output_type": "stream",
     "text": [
      "edge 2.43261663762\n"
     ]
    },
    {
     "data": {
      "image/png": "[encoded data removed]",
      "text/plain": [
       "<matplotlib.figure.Figure at 0x9425908>"
      ]
     },
     "metadata": {},
     "output_type": "display_data"
    }
   ],
   "source": [
    "for i in xrange(1):\n",
    "    r=get_route(r)\n",
    "landscape(r,d[0])\n",
    "print 'edge',e_entropy(r,d[0])"
   ]
  },
  {
   "cell_type": "code",
   "execution_count": 392,
   "metadata": {
    "collapsed": false
   },
   "outputs": [
    {
     "name": "stdout",
     "output_type": "stream",
     "text": [
      "[1, 3, 4]\n"
     ]
    }
   ],
   "source": [
    "d[1]=[(1,2)]\n",
    "d[2]=[(1,2),(2,3)]\n",
    "print clean_for_path(d[2])\n"
   ]
  },
  {
   "cell_type": "code",
   "execution_count": 349,
   "metadata": {
    "collapsed": false
   },
   "outputs": [
    {
     "name": "stdout",
     "output_type": "stream",
     "text": [
      "(1, 3)\n",
      "{(1, 2): 0.0, (3, 2): 0.0, (1, 3): 5.0, (4, 1): 0.0, (3, 1): 0.0, (2, 1): 5.0, (2, 3): 0.0, (1, 4): 0.0, (4, 3): 0.0, (4, 2): 6.0, (3, 4): 4.0, (2, 4): 0.0}\n"
     ]
    }
   ],
   "source": [
    "print decision(r,d[0])\n",
    "d[1]=[decision(r,d[0])]\n",
    "#print decision(r,d[1])\n",
    "print e_eval(r,d[1])[0]"
   ]
  },
  {
   "cell_type": "code",
   "execution_count": 202,
   "metadata": {
    "collapsed": false
   },
   "outputs": [
    {
     "name": "stdout",
     "output_type": "stream",
     "text": [
      "[(1, 2), (1, 3), (1, 4), (2, 3), (2, 4), (3, 4)]\n",
      "{(1, 2): 0, (1, 3): 0, (1, 4): 0, (2, 3): 0, (3, 4): 0, (2, 4): 0}\n"
     ]
    }
   ],
   "source": [
    "e_d=dict((i,0) for i in tsp.edges())\n",
    "\n",
    "print tsp.edges()\n",
    "print e_d"
   ]
  },
  {
   "cell_type": "code",
   "execution_count": 427,
   "metadata": {
    "collapsed": false
   },
   "outputs": [
    {
     "name": "stdout",
     "output_type": "stream",
     "text": [
      "{(1, 2): 6.0, (3, 2): 0.0, (1, 3): 0.0, (4, 1): 6.0, (3, 1): 0.0, (2, 1): 0.0, (2, 3): 6.0, (1, 4): 0.0, (4, 3): 0.0, (4, 2): 0.0, (3, 4): 0.0, (2, 4): 0.0}\n"
     ]
    }
   ],
   "source": [
    "e,n=e_eval(r,d[2])\n",
    "print e"
   ]
  },
  {
   "cell_type": "code",
   "execution_count": 278,
   "metadata": {
    "collapsed": false
   },
   "outputs": [
    {
     "name": "stdout",
     "output_type": "stream",
     "text": [
      "[(3, 1)]\n"
     ]
    }
   ],
   "source": [
    "e_nz={k: v for k, v in e.items() if v}\n",
    "min_value = min(e_nz.itervalues())\n",
    "min_keys = [k for k in e_nz if e_nz[k] == min_value]\n",
    "print min_keys"
   ]
  },
  {
   "cell_type": "code",
   "execution_count": 429,
   "metadata": {
    "collapsed": false
   },
   "outputs": [
    {
     "data": {
      "text/plain": [
       "{(1, 2): 6.0, (2, 3): 6.0, (4, 1): 6.0}"
      ]
     },
     "execution_count": 429,
     "metadata": {},
     "output_type": "execute_result"
    }
   ],
   "source": [
    "{k: v for k, v in e.items() if v}"
   ]
  },
  {
   "cell_type": "code",
   "execution_count": 432,
   "metadata": {
    "collapsed": false
   },
   "outputs": [
    {
     "name": "stdout",
     "output_type": "stream",
     "text": [
      "{0: [], 1: [(1, 2)], 2: [(1, 2), (2, 3)]}\n",
      "(3, 4)\n"
     ]
    }
   ],
   "source": [
    "print d\n",
    "print decision(r,d[1])"
   ]
  },
  {
   "cell_type": "code",
   "execution_count": 39,
   "metadata": {
    "collapsed": false
   },
   "outputs": [
    {
     "name": "stdout",
     "output_type": "stream",
     "text": [
      "{0: [], 1: [(3, 4)], 2: [(3, 4), (2, 1)], 3: [(3, 4), (2, 1), (1, 3)]}\n"
     ]
    },
    {
     "data": {
      "image/png": "[encoded data removed]",
      "text/plain": [
       "<matplotlib.figure.Figure at 0x96a94e0>"
      ]
     },
     "metadata": {},
     "output_type": "display_data"
    }
   ],
   "source": [
    "r={}\n",
    "d={0:[]}\n",
    "n_d=0\n",
    "test=[3,3,3]\n",
    "r_hist=[dict(r)]\n",
    "while n_d<3:\n",
    "    for i in xrange(test[n_d]):\n",
    "        r=get_route(r)\n",
    "    r_hist.append(dict(r))\n",
    "    ds=decision(r,d[n_d])\n",
    "    #print ds,d\n",
    "    l=list(d[n_d])\n",
    "    l.append(ds)\n",
    "    #print l\n",
    "    d[n_d+1]=l\n",
    "    #print d\n",
    "    n_d+=1\n",
    "print d\n",
    "landscape(r,d[n_d])\n",
    "#print 'edge',e_entropy(r,d[0])"
   ]
  },
  {
   "cell_type": "code",
   "execution_count": 37,
   "metadata": {
    "collapsed": false
   },
   "outputs": [
    {
     "name": "stdout",
     "output_type": "stream",
     "text": [
      "{(3, 4, 2, 1): 7.0, (2, 1, 3, 4): 4.0, (1, 3, 2, 4): 8.0} [(3, 4), (1, 3), (2, 1)]\n",
      "edge 1.09861228867\n"
     ]
    },
    {
     "data": {
      "image/png": "[encoded data removed]",
      "text/plain": [
       "<matplotlib.figure.Figure at 0x94216d8>"
      ]
     },
     "metadata": {},
     "output_type": "display_data"
    }
   ],
   "source": [
    "t=3\n",
    "tau=3\n",
    "print r_hist[t], d[tau]\n",
    "landscape(r_hist[t],d[tau])\n",
    "print 'edge',e_entropy(r_hist[t],d[tau])"
   ]
  },
  {
   "cell_type": "code",
   "execution_count": null,
   "metadata": {
    "collapsed": true
   },
   "outputs": [],
   "source": [
    "print r_hist[0], d[0]\n",
    "print r_hist[1], d[1]\n",
    "print r_hist[2], d[2]\n",
    "print r_hist[3], d[3]"
   ]
  },
  {
   "cell_type": "code",
   "execution_count": null,
   "metadata": {
    "collapsed": true
   },
   "outputs": [],
   "source": [
    "def make_KD(r_hist,d):\n",
    "    "
   ]
  },
  {
   "cell_type": "code",
   "execution_count": null,
   "metadata": {
    "collapsed": true
   },
   "outputs": [],
   "source": [
    "k=nx.DiGraph()\n",
    "for "
   ]
  },
  {
   "cell_type": "code",
   "execution_count": 42,
   "metadata": {
    "collapsed": false
   },
   "outputs": [
    {
     "name": "stdout",
     "output_type": "stream",
     "text": [
      "{}\n",
      "{(2, 4, 1, 3): 7.0, (1, 4, 3, 2): 7.0, (1, 2, 3, 4): 6.0}\n",
      "{(2, 1, 3, 4): 4.0, (3, 1, 4, 2): 7.0, (4, 3, 1, 2): 4.0, (2, 4, 1, 3): 7.0, (1, 4, 3, 2): 7.0, (1, 2, 3, 4): 6.0}\n",
      "{(2, 1, 3, 4): 4.0, (3, 1, 4, 2): 7.0, (3, 2, 4, 1): 9.0, (4, 3, 1, 2): 4.0, (1, 4, 3, 2): 7.0, (1, 4, 2, 3): 9.0, (2, 4, 1, 3): 7.0, (1, 2, 3, 4): 6.0}\n",
      "set([(2, 4, 1, 3), (1, 2, 3, 4), (1, 4, 3, 2)])\n"
     ]
    }
   ],
   "source": [
    "print r_hist[0]\n",
    "print r_hist[1]\n",
    "print r_hist[2]\n",
    "print r_hist[3]\n",
    "print set(r_hist[1])-set(r_hist[0])"
   ]
  },
  {
   "cell_type": "code",
   "execution_count": 43,
   "metadata": {
    "collapsed": false
   },
   "outputs": [
    {
     "data": {
      "text/plain": [
       "4"
      ]
     },
     "execution_count": 43,
     "metadata": {},
     "output_type": "execute_result"
    }
   ],
   "source": [
    "k=nx.DiGraph()\n",
    "t=0\n",
    "tau=0\n",
    "for i in xrange(len(r_hist)):\n",
    "    nodes=list(set(r_hist[i+1])-set(r_hist[i]))\n",
    "    for n in nodes:\n",
    "        k.add_node(n,t=t)\n",
    "        t+=1\n",
    "\n",
    "    \n",
    "    \n",
    "    "
   ]
  },
  {
   "cell_type": "code",
   "execution_count": null,
   "metadata": {
    "collapsed": true
   },
   "outputs": [],
   "source": []
  }
 ],
 "metadata": {
  "kernelspec": {
   "display_name": "Python 2",
   "language": "python",
   "name": "python2"
  },
  "language_info": {
   "codemirror_mode": {
    "name": "ipython",
    "version": 2
   },
   "file_extension": ".py",
   "mimetype": "text/x-python",
   "name": "python",
   "nbconvert_exporter": "python",
   "pygments_lexer": "ipython2",
   "version": "2.7.11"
  }
 },
 "nbformat": 4,
 "nbformat_minor": 0
}
