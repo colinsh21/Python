{
 "cells": [
  {
   "cell_type": "code",
   "execution_count": 34,
   "metadata": {
    "collapsed": true
   },
   "outputs": [],
   "source": [
    "import networkx as nx\n",
    "import numpy as np\n",
    "import matplotlib.pyplot as plt\n",
    "import random\n",
    "from bisect import bisect\n",
    "%matplotlib inline"
   ]
  },
  {
   "cell_type": "code",
   "execution_count": 26,
   "metadata": {
    "collapsed": true
   },
   "outputs": [],
   "source": [
    "tsp=nx.Graph()\n",
    "tsp.add_edge(1,2,dist=1)\n",
    "tsp.add_edge(1,3,dist=1)\n",
    "tsp.add_edge(1,4,dist=2)\n",
    "tsp.add_edge(2,3,dist=3)\n",
    "tsp.add_edge(2,4,dist=4)\n",
    "tsp.add_edge(3,4,dist=2)"
   ]
  },
  {
   "cell_type": "code",
   "execution_count": 300,
   "metadata": {
    "collapsed": false
   },
   "outputs": [],
   "source": [
    "def init_graph(tsp):\n",
    "    g=tsp.copy()\n",
    "    for u,v in g.edges():\n",
    "        g[u][v]['p']=0.5\n",
    "        g[u][v]['dist']=0.0\n",
    "        \n",
    "    #print g.edges(data=True)\n",
    "    \n",
    "    return g\n",
    "\n",
    "def walk(g,start,alpha,beta,tsp):\n",
    "    #initialize\n",
    "    tabu=[start]\n",
    "    \n",
    "    for i in xrange(g.number_of_nodes()-1):\n",
    "        #get pheromone list\n",
    "        n_l=[]\n",
    "        p_l=[]\n",
    "        h_l=[]\n",
    "        for n in g.nodes():\n",
    "            if n not in tabu:\n",
    "                n_l.append(n)\n",
    "                p_l.append(g[tabu[-1]][n]['p'])\n",
    "                if g[tabu[-1]][n]['dist']==0.0:\n",
    "                    h_l.append(10.0)\n",
    "                else:\n",
    "                    h_l.append(1.0/g[tabu[-1]][n]['dist'])\n",
    "        c_l=np.power(p_l,alpha)*np.power(h_l,beta)\n",
    "        n_index=make_decision(c_l)\n",
    "        new_n=n_l[n_index]\n",
    "        tabu.append(new_n)\n",
    "    \n",
    "    score=0.0\n",
    "    e_r=[tuple(tabu[i:i+2]) for i in xrange(0,len(tabu), 1)]\n",
    "    del e_r[-1]\n",
    "\n",
    "    for e in e_r:\n",
    "        score+=float(tsp[e[0]][e[1]]['dist'])\n",
    "    \n",
    "    return tuple(tabu), score\n",
    "\n",
    "def update_edges(g,route,score,p,tsp):\n",
    "    g_t=g.copy()\n",
    "    #print 'before', g_t.edges(data=True)\n",
    "    #print 'reduction', p\n",
    "    e_r=[tuple(route[i:i+2]) for i in xrange(0,len(route), 1)]\n",
    "    del e_r[-1]\n",
    "    t_update=1.0/score\n",
    "    for e in g_t.edges():\n",
    "        g_t[e[0]][e[1]]['p']=float(g[e[0]][e[1]]['p'])*(1.0-p)\n",
    "    \n",
    "    changed_d=[]\n",
    "    for e in e_r:\n",
    "        #update dist\n",
    "        if g_t[e[0]][e[1]]['dist']==0.0:\n",
    "            changed_d.append(e)\n",
    "            g_t[e[0]][e[1]]['dist']=float(tsp[e[0]][e[1]]['dist'])\n",
    "        g_t[e[0]][e[1]]['p']=float(g_t[e[0]][e[1]]['p'])+t_update*p\n",
    "            \n",
    "    #print 'after', g_t.edges(data=True)    \n",
    "    return g_t,changed_d\n",
    "        \n",
    "    \n",
    "\n",
    "def make_decision(ph_l):\n",
    "    \"\"\"\n",
    "    Return decision index, based on pheromone list.\n",
    "    \"\"\"\n",
    "    #convert pheromones to percentage\n",
    "    if sum(ph_l)==0.0:\n",
    "        percent_list=[1.0/len(ph_l)]*len(ph_l)\n",
    "    else:\n",
    "        percent_list = [float(i)/sum(ph_l) for i in ph_l]   \n",
    "    cumulative_percent=np.cumsum(percent_list)\n",
    "    #print cumulative_percent\n",
    "\n",
    "    #Choose decision index\n",
    "    select_index=bisect(cumulative_percent,np.random.uniform(0,1,1))\n",
    "\n",
    "    return select_index\n",
    "\n",
    "def k_init(g):\n",
    "    k=nx.DiGraph()\n",
    "    last_visited={}\n",
    "    step=0\n",
    "    for u,v,d in g.edges(data=True):\n",
    "        last_visited[(u,v)]={}\n",
    "        n_label=k.number_of_nodes()+1\n",
    "        k.add_node(n_label,label=(u,v),p=float(d['p']),step=step)\n",
    "        last_visited[(u,v)]['p']=n_label\n",
    "        n_label=k.number_of_nodes()+1\n",
    "        k.add_node(n_label,label=(u,v),dist=float(d['dist']),step=step)\n",
    "        last_visited[(u,v)]['dist']=n_label\n",
    "        \n",
    "    return k,last_visited\n",
    "        \n",
    "\n",
    "def k_step(k,t_new,t_old,route,last_visited,changed_d):\n",
    "    #get step number\n",
    "    \n",
    "    #route\n",
    "    n_label=k.number_of_nodes()+1\n",
    "    k.add_node(n_label,r=tuple(route),step=step)\n",
    "    \n",
    "    #changed distance\n",
    "    for e in changed_d:\n",
    "        n_label=k.number_of_nodes()+1\n",
    "        k.add_node(n_label,)\n",
    "    \n",
    "    for e,d in last_visited.iteritems():\n",
    "        \n",
    "    \n",
    "    "
   ]
  },
  {
   "cell_type": "code",
   "execution_count": 208,
   "metadata": {
    "collapsed": false
   },
   "outputs": [
    {
     "name": "stdout",
     "output_type": "stream",
     "text": [
      "[1, 4, 3, 2] 7.0 0.0285714285714\n",
      "before [(1, 2, {'p': 0.0, 'dist': 0.0}), (1, 3, {'p': 0.0, 'dist': 0.0}), (1, 4, {'p': 0.0, 'dist': 0.0}), (2, 3, {'p': 0.0, 'dist': 0.0}), (2, 4, {'p': 0.0, 'dist': 0.0}), (3, 4, {'p': 0.0, 'dist': 0.0})]\n",
      "reduction 0.2\n",
      "(1, 4) 2\n",
      "(4, 3) 2\n",
      "(3, 2) 3\n",
      "after [(1, 2, {'p': 0.0, 'dist': 0.0}), (1, 3, {'p': 0.0, 'dist': 0.0}), (1, 4, {'p': 0.02857142857142857, 'dist': 2.0}), (2, 3, {'p': 0.02857142857142857, 'dist': 3.0}), (2, 4, {'p': 0.0, 'dist': 0.0}), (3, 4, {'p': 0.02857142857142857, 'dist': 2.0})]\n",
      "[1, 4, 3, 2] 7.0 0.0285714285714\n",
      "before [(1, 2, {'p': 0.0, 'dist': 0.0}), (1, 3, {'p': 0.0, 'dist': 0.0}), (1, 4, {'p': 0.02857142857142857, 'dist': 2.0}), (2, 3, {'p': 0.02857142857142857, 'dist': 3.0}), (2, 4, {'p': 0.0, 'dist': 0.0}), (3, 4, {'p': 0.02857142857142857, 'dist': 2.0})]\n",
      "reduction 0.2\n",
      "after [(1, 2, {'p': 0.0, 'dist': 0.0}), (1, 3, {'p': 0.0, 'dist': 0.0}), (1, 4, {'p': 0.05142857142857143, 'dist': 2.0}), (2, 3, {'p': 0.05142857142857143, 'dist': 3.0}), (2, 4, {'p': 0.0, 'dist': 0.0}), (3, 4, {'p': 0.05142857142857143, 'dist': 2.0})]\n"
     ]
    }
   ],
   "source": [
    "t=init_graph(tsp)\n",
    "#print t.edges(data=True)\n",
    "r,s=walk(t,start=1,alpha=0.0,beta=0.0,tsp=tsp)\n",
    "print r,s,1.0/s*.2\n",
    "t=update_edges(t,r,s,.2,tsp)\n",
    "#print t.edges(data=True)\n",
    "r,s=walk(t,start=1,alpha=0.0,beta=0.0,tsp=tsp)\n",
    "print r,s,1.0/s*.2\n",
    "t=update_edges(t,r,s,.2,tsp)\n",
    "#print t.edges(data=True)"
   ]
  },
  {
   "cell_type": "code",
   "execution_count": 123,
   "metadata": {
    "collapsed": false
   },
   "outputs": [
    {
     "name": "stdout",
     "output_type": "stream",
     "text": [
      "[ 0.05  0.06  0.08  0.02]\n",
      "0\n",
      "0\n"
     ]
    }
   ],
   "source": [
    "n=[0,1,2,3]\n",
    "a=[.1,.3,.4,.2]\n",
    "b=[.5,.2,.2,.1]\n",
    "c=np.power(a,1.0)*np.power(b,1.0)\n",
    "print c\n",
    "i=make_decision(c)\n",
    "print i\n",
    "print n[i]"
   ]
  },
  {
   "cell_type": "code",
   "execution_count": 74,
   "metadata": {
    "collapsed": false
   },
   "outputs": [
    {
     "name": "stdout",
     "output_type": "stream",
     "text": [
      "4\n",
      "[(1, 2, {'p': 0.0, 'dist': 0.0}), (1, 3, {'p': 0.0, 'dist': 0.0}), (1, 4, {'p': 0.0, 'dist': 0.0}), (2, 3, {'p': 0.0, 'dist': 0.0}), (2, 4, {'p': 0.0, 'dist': 0.0}), (3, 4, {'p': 0.0, 'dist': 0.0})]\n",
      "0.0\n"
     ]
    }
   ],
   "source": [
    "t=init_graph(tsp)\n",
    "print t.number_of_nodes()\n",
    "    \n",
    "print t.edges(data=True)\n",
    "print t[4][3]['p']"
   ]
  },
  {
   "cell_type": "code",
   "execution_count": 158,
   "metadata": {
    "collapsed": false
   },
   "outputs": [
    {
     "name": "stdout",
     "output_type": "stream",
     "text": [
      "(1, 4, 2, 3) 2.0\n"
     ]
    },
    {
     "data": {
      "text/plain": [
       "([1, 4, 2, 3], 2.0)"
      ]
     },
     "execution_count": 158,
     "metadata": {},
     "output_type": "execute_result"
    }
   ],
   "source": [
    "walk(t,start=1,alpha=0.0,beta=0.0,tsp=tsp)"
   ]
  },
  {
   "cell_type": "code",
   "execution_count": 297,
   "metadata": {
    "collapsed": false
   },
   "outputs": [
    {
     "name": "stdout",
     "output_type": "stream",
     "text": [
      "[(1, 2, {'p': 0.2499999611795155, 'dist': 1.0}), (1, 3, {'p': 0.24999996925835727, 'dist': 1.0}), (1, 4, {'p': 1.4493399432807825e-08, 'dist': 2.0}), (2, 3, {'p': 3.0762516667606534e-08, 'dist': 3.0}), (2, 4, {'p': 8.444501237390941e-09, 'dist': 4.0}), (3, 4, {'p': 0.24999995781507173, 'dist': 2.0})]\n"
     ]
    },
    {
     "data": {
      "image/png": "[encoded data removed]",
      "text/plain": [
       "<matplotlib.figure.Figure at 0x9fa03c8>"
      ]
     },
     "metadata": {},
     "output_type": "display_data"
    }
   ],
   "source": [
    "t=init_graph(tsp)\n",
    "p=.2\n",
    "routes=[]\n",
    "for i in xrange(100):\n",
    "    r,s=walk(t,start=4,alpha=1.0,beta=1.0,tsp=tsp)\n",
    "    routes.append((r,s))\n",
    "    t_new=update_edges(t,r,s,p,tsp)\n",
    "    t=t_new.copy()\n",
    "    #print t.edges(data=True)\n",
    "                  \n",
    "#print routes\n",
    "print t.edges(data=True)\n",
    "\n",
    "s=[i[1] for i in routes]\n",
    "gen=xrange(len(s))\n",
    "plt.scatter(gen,s)\n",
    "_=plt.ylim([0.0,max(s)+1.0])"
   ]
  },
  {
   "cell_type": "code",
   "execution_count": 301,
   "metadata": {
    "collapsed": false
   },
   "outputs": [
    {
     "name": "stdout",
     "output_type": "stream",
     "text": [
      "[(1, {'p': 0.5, 'step': 0, 'label': (1, 2)}), (2, {'step': 0, 'dist': 0.0, 'label': (1, 2)}), (3, {'p': 0.5, 'step': 0, 'label': (1, 3)}), (4, {'step': 0, 'dist': 0.0, 'label': (1, 3)}), (5, {'p': 0.5, 'step': 0, 'label': (1, 4)}), (6, {'step': 0, 'dist': 0.0, 'label': (1, 4)}), (7, {'p': 0.5, 'step': 0, 'label': (2, 3)}), (8, {'step': 0, 'dist': 0.0, 'label': (2, 3)}), (9, {'p': 0.5, 'step': 0, 'label': (2, 4)}), (10, {'step': 0, 'dist': 0.0, 'label': (2, 4)}), (11, {'p': 0.5, 'step': 0, 'label': (3, 4)}), (12, {'step': 0, 'dist': 0.0, 'label': (3, 4)})]\n",
      "{(1, 2): {'p': 1, 'dist': 2}, (1, 3): {'p': 3, 'dist': 4}, (1, 4): {'p': 5, 'dist': 6}, (2, 3): {'p': 7, 'dist': 8}, (3, 4): {'p': 11, 'dist': 12}, (2, 4): {'p': 9, 'dist': 10}}\n"
     ]
    }
   ],
   "source": [
    "t=init_graph(tsp)\n",
    "k,l_v=k_init(t)\n",
    "print k.nodes(data=True)\n",
    "print l_v\n"
   ]
  },
  {
   "cell_type": "code",
   "execution_count": 281,
   "metadata": {
    "collapsed": false
   },
   "outputs": [
    {
     "name": "stdout",
     "output_type": "stream",
     "text": [
      "1 2 {'p': 0.5, 'dist': 0.0}\n",
      "1 3 {'p': 0.5, 'dist': 0.0}\n",
      "1 4 {'p': 0.5, 'dist': 0.0}\n",
      "2 3 {'p': 0.5, 'dist': 0.0}\n",
      "2 4 {'p': 0.5, 'dist': 0.0}\n",
      "3 4 {'p': 0.5, 'dist': 0.0}\n"
     ]
    }
   ],
   "source": [
    "for u,v,d in t.edges(data=True):\n",
    "    print u,v,d"
   ]
  },
  {
   "cell_type": "code",
   "execution_count": null,
   "metadata": {
    "collapsed": true
   },
   "outputs": [],
   "source": []
  }
 ],
 "metadata": {
  "kernelspec": {
   "display_name": "Python 2",
   "language": "python",
   "name": "python2"
  },
  "language_info": {
   "codemirror_mode": {
    "name": "ipython",
    "version": 2
   },
   "file_extension": ".py",
   "mimetype": "text/x-python",
   "name": "python",
   "nbconvert_exporter": "python",
   "pygments_lexer": "ipython2",
   "version": "2.7.11"
  }
 },
 "nbformat": 4,
 "nbformat_minor": 0
}
