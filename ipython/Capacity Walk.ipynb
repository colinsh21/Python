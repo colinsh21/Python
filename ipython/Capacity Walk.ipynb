{
 "cells": [
  {
   "cell_type": "code",
   "execution_count": 1,
   "metadata": {
    "collapsed": false
   },
   "outputs": [
    {
     "name": "stderr",
     "output_type": "stream",
     "text": [
      ":0: FutureWarning: IPython widgets are experimental and may change in the future.\n"
     ]
    }
   ],
   "source": [
    "%matplotlib inline\n",
    "\n",
    "# Standard imports\n",
    "import copy\n",
    "import itertools\n",
    "\n",
    "# Scientific computing imports\n",
    "import numpy\n",
    "import matplotlib.pyplot as plt\n",
    "import networkx as nx\n",
    "import pandas\n",
    "import seaborn; seaborn.set()\n",
    "\n",
    "# Import widget methods\n",
    "from IPython.html.widgets import *"
   ]
  },
  {
   "cell_type": "code",
   "execution_count": 2,
   "metadata": {
    "collapsed": true
   },
   "outputs": [],
   "source": [
    "class Ant(object):\n",
    "    \"\"\"\n",
    "    Ant class, which encapsulates the entire behavior of an ant.\n",
    "    \"\"\"\n",
    "    def __init__(self,model,ant_id):\n",
    "    \n",
    "        # Set model link and ID\n",
    "        self.model = model\n",
    "        self.ant_id = ant_id\n",
    "        \n",
    "    def random_walk(self,s,t):\n",
    "        #Random Walk\n",
    "        #initialize\n",
    "        self.g=self.model.g\n",
    "        self.last_nodes=[]\n",
    "        self.last_nodes.append(s)\n",
    "\n",
    "\n",
    "        #Agent Step\n",
    "        while self.model.sink not in self.p:\n",
    "            #get neighbors\n",
    "            self.p_neighbors=self.model.g.neighbors(self.p[-1])\n",
    "            \n",
    "            #get prob of going to each neighbor (later)\n",
    "            self.pheremone=[]\n",
    "            for n in xrange(len(self.p_neighbors)):\n",
    "                self.pheremone.append(.1)\n",
    "                \n",
    "            self.\n",
    "            \n",
    "            self.p_next=self.p_neighbors[numpy.random.randint\n",
    "                                         (len(self.p_neighbors))]\n",
    "            \n",
    "            self.p.append(self.p_next)\n",
    "\n",
    "        #print(self.p)\n",
    "\n",
    "        #self.p_el=[]\n",
    "        #for i in range(0,len(self.p)-1):\n",
    "         #   self.p_el.append((p[i],p[i+1]))\n",
    "            \n",
    "        return (self.p)\n",
    "\n",
    "    def __repr__(self):\n",
    "        '''\n",
    "        Return string representation.\n",
    "        '''\n",
    "        skip_none = True\n",
    "        repr_string = type(self).__name__ + \" [\"\n",
    "        except_list = \"model\"\n",
    "\n",
    "        elements = [e for e in dir(self) if str(e) not in except_list]\n",
    "        for e in elements:\n",
    "            # Make sure we only display \"public\" fields; skip anything private (_*), that is a method/function, or that is a module.\n",
    "            if not e.startswith(\"_\") and eval('type(self.{0}).__name__'.format(e)) not in ['DataFrame', 'function', 'method', 'builtin_function_or_method', 'module', 'instancemethod']:\n",
    "                    value = eval(\"self.\" + e)\n",
    "                    if value != None and skip_none == True:\n",
    "                        repr_string += \"{0}={1}, \".format(e, value)\n",
    "\n",
    "        # Clean up trailing space and comma.\n",
    "        return repr_string.strip(\" \").strip(\",\") + \"]\"\n",
    "\n",
    "    "
   ]
  },
  {
   "cell_type": "code",
   "execution_count": 3,
   "metadata": {
    "collapsed": true
   },
   "outputs": [],
   "source": [
    "class Space(object):\n",
    "    \"\"\"\n",
    "    Space class, which encapsulates the entire behavior of a single \"run\" ACO.\n",
    "    \"\"\"\n",
    "    def __init__(self, size,num_ants=1,source=(0,0),sink=(3,3)):\n",
    "        \"\"\"\n",
    "        Class constructor.\n",
    "        \"\"\"\n",
    "        # Set our model parameters\n",
    "        self.size = size\n",
    "        self.sink = sink\n",
    "        self.source=source\n",
    "        self.num_ants=num_ants\n",
    "        \n",
    "        # Set our state variables\n",
    "        self.t = 0\n",
    "        self.ants = []\n",
    "\n",
    "        \n",
    "        # Call our setup methods to initialize space, people, and institution.\n",
    "        self.setup_space()\n",
    "        self.setup_ants()\n",
    "        \n",
    "\n",
    "    def setup_space(self):\n",
    "        \"\"\"\n",
    "        Method to setup our space.\n",
    "        \"\"\"\n",
    "        # Initialize a space with a grid network\n",
    "        self.g = nx.grid_graph(dim=[self.size,self.size])\n",
    "\n",
    "        self.g=self.g.to_directed()\n",
    "\n",
    "        self.g_layout = nx.spectral_layout(self.g)\n",
    "\n",
    "        #nx.draw_networkx(self.g, pos=self.g_layout, node_color='#dddddd')\n",
    "        #print((self.g.number_of_nodes(), self.g.number_of_edges()))\n",
    "\n",
    "        #plt.show() \n",
    "        \n",
    "    def setup_ants(self):\n",
    "        \"\"\"\n",
    "        Method to setup our space.\n",
    "        \"\"\"\n",
    "        \n",
    "        # First, begin by creating all ants.\n",
    "        for i in xrange(self.num_ants):\n",
    "            self.ants.append(Ant(model=self,ant_id=i))\n",
    "            \n",
    "    def get_path(self, ant_id):\n",
    "        \"\"\"\n",
    "        Get the path of an ant based on their ID.\n",
    "        \"\"\"\n",
    "        return self.ants[ant_id].random_walk(self.source,self.sink)\n",
    "    \n",
    "    def step(self):\n",
    "        \"\"\"\n",
    "        Model step function.\n",
    "        \"\"\"\n",
    "        #Ants make paths\n",
    "        self.ant_paths=[]\n",
    "        for i in xrange(self.num_ants):\n",
    "            self.ant_paths.append((self.get_path(i)))\n",
    "                                      "
   ]
  },
  {
   "cell_type": "code",
   "execution_count": 53,
   "metadata": {
    "collapsed": false
   },
   "outputs": [
    {
     "name": "stdout",
     "output_type": "stream",
     "text": [
      "[(0, 1), (0, 0)]\n"
     ]
    },
    {
     "data": {
      "text/plain": [
       "1"
      ]
     },
     "execution_count": 53,
     "metadata": {},
     "output_type": "execute_result"
    }
   ],
   "source": [
    "g = nx.grid_graph(dim=[1,2])\n",
    "\n",
    "g=g.to_directed()\n",
    "g.add_edge((0,0),(0,1),capacity=1)\n",
    "print(g.nodes())\n",
    "#print(g.edges((0,0),(0,1)){capacity})\n",
    "g[(0,0)][(0,1)]['capacity']\n",
    "\n"
   ]
  },
  {
   "cell_type": "code",
   "execution_count": 63,
   "metadata": {
    "collapsed": false
   },
   "outputs": [
    {
     "name": "stdout",
     "output_type": "stream",
     "text": [
      "[0.2, 0.4, 0.4]\n"
     ]
    }
   ],
   "source": [
    "#Pheremone test\n",
    "\n",
    "l=[.1,.2,.2]\n",
    "nl=[0]\n",
    "for i in xrange(len(l)):\n",
    "    nl.append(l[i]/sum(l))\n",
    "\n",
    "print(nl)"
   ]
  },
  {
   "cell_type": "code",
   "execution_count": null,
   "metadata": {
    "collapsed": true
   },
   "outputs": [],
   "source": []
  }
 ],
 "metadata": {
  "kernelspec": {
   "display_name": "Python 2",
   "name": "python2"
  },
  "language_info": {
   "codemirror_mode": {
    "name": "ipython",
    "version": 2
   },
   "file_extension": ".py",
   "mimetype": "text/x-python",
   "name": "python",
   "nbconvert_exporter": "python",
   "pygments_lexer": "ipython2",
   "version": "2.7.8"
  }
 },
 "nbformat": 4,
 "nbformat_minor": 0
}
