{
 "cells": [
  {
   "cell_type": "markdown",
   "metadata": {},
   "source": [
    "## CSCS530 Winter 2015\n",
    "#### Complex Systems 530 - Computer Modeling of Complex Systems (Winter 2015)\n",
    "\n",
    "  * Course ID: CMPLXSYS 530\n",
    "  * Course Title: Computer Modeling of Complex Systems\n",
    "  * Term: Winter 2015\n",
    "  * Schedule: Wednesdays and Friday, 1:00-2:30PM ET\n",
    "  * Location: 120 West Hall (http://www.lsa.umich.edu/cscs/research/computerlab)\n",
    "  * Teachers: [Mike Bommarito](https://www.linkedin.com/in/bommarito) and [Sarah Cherng](https://www.linkedin.com/pub/sarah-cherng/35/1b7/316)\n",
    "\n",
    "#### [View this repository on NBViewer](http://nbviewer.ipython.org/github/mjbommar/cscs-530-w2015/tree/master/)"
   ]
  },
  {
   "cell_type": "markdown",
   "metadata": {},
   "source": [
    "## Reading Model Results\n",
    "\n",
    "  In this notebook, we'll learn a common pattern for reading the results of a model run.  Specifically, we'll:\n",
    "        \n",
    "  * find all model output directories\n",
    "  * read the model output into a new dataset\n",
    "  * visualize the results\n",
    "  * perform a statistical test"
   ]
  },
  {
   "cell_type": "code",
   "execution_count": 1,
   "metadata": {
    "collapsed": true
   },
   "outputs": [],
   "source": [
    "# Imports\n",
    "import matplotlib.pyplot as plt\n",
    "import numpy\n",
    "import pandas\n",
    "import scipy\n",
    "import scipy.stats\n"
   ]
  },
  {
   "cell_type": "markdown",
   "metadata": {},
   "source": [
    "## Loading Model Results\n",
    "\n",
    "  First, we need to find the list of all directories in our model output folder from the ``001-storing-model-results`` notebook.  We can do this using the ``glob`` and ``os``  modules, which will allow us to work with directories and list their contents."
   ]
  },
  {
   "cell_type": "code",
   "execution_count": 6,
   "metadata": {
    "collapsed": false
   },
   "outputs": [
    {
     "data": {
      "text/plain": [
       "['.ipynb_checkpoints',\n",
       " '004-sir_model.ipynb',\n",
       " '2010citytocity.csv',\n",
       " '2010citytocity.xlsx',\n",
       " '2010citytocity_monthly.csv',\n",
       " 'Airplane Infection.ipynb',\n",
       " 'airplane_infection.ipynb',\n",
       " 'airplane_infection.py',\n",
       " 'airplane_infection.pyc',\n",
       " 'Baseline Infection Sweep.ipynb',\n",
       " 'Global Airplane Infection.ipynb',\n",
       " 'output',\n",
       " 'Read In Data.ipynb',\n",
       " 'test.csv',\n",
       " 'test.xls',\n",
       " 'test.xlsx']"
      ]
     },
     "execution_count": 6,
     "metadata": {},
     "output_type": "execute_result"
    }
   ],
   "source": [
    "import os\n",
    "\n",
    "# Using os.listdir to show the current directory\n",
    "os.chdir(\"./IOE 513\")\n",
    "os.listdir(\"./\")"
   ]
  },
  {
   "cell_type": "code",
   "execution_count": 7,
   "metadata": {
    "collapsed": false
   },
   "outputs": [
    {
     "data": {
      "text/plain": [
       "['run-20150321-0',\n",
       " 'run-20150321-1',\n",
       " 'run-20150321-10',\n",
       " 'run-20150321-100',\n",
       " 'run-20150321-101']"
      ]
     },
     "execution_count": 7,
     "metadata": {},
     "output_type": "execute_result"
    }
   ],
   "source": [
    "# Using os.listdir to show the output directory\n",
    "os.listdir(\"output\")[0:5]"
   ]
  },
  {
   "cell_type": "code",
   "execution_count": 11,
   "metadata": {
    "collapsed": false
   },
   "outputs": [
    {
     "data": {
      "text/plain": [
       "['output\\\\run-20150321-0',\n",
       " 'output\\\\run-20150321-1',\n",
       " 'output\\\\run-20150321-10',\n",
       " 'output\\\\run-20150321-100',\n",
       " 'output\\\\run-20150321-101']"
      ]
     },
     "execution_count": 11,
     "metadata": {},
     "output_type": "execute_result"
    }
   ],
   "source": [
    "import glob\n",
    "\n",
    "# Using glob to list the output directory\n",
    "glob.glob(\"output/run-*\")[0:5]"
   ]
  },
  {
   "cell_type": "markdown",
   "metadata": {},
   "source": [
    "## Using os.path.join and os.path.basename\n",
    "\n",
    "  We can also create paths and navigate directory trees using ``os.path.join``.  This method helps build file and directory paths, like we see below."
   ]
  },
  {
   "cell_type": "code",
   "execution_count": 8,
   "metadata": {
    "collapsed": false
   },
   "outputs": [
    {
     "name": "stdout",
     "output_type": "stream",
     "text": [
      "run-20150321-0\n",
      "run-20150321-0\\parameters.csv\n"
     ]
    }
   ],
   "source": [
    "run_directory = os.listdir(\"output\")[0]\n",
    "print(run_directory)\n",
    "print(os.path.join(run_directory,\n",
    "                   \"parameters.csv\"))\n",
    "             "
   ]
  },
  {
   "cell_type": "code",
   "execution_count": 9,
   "metadata": {
    "collapsed": false
   },
   "outputs": [
    {
     "name": "stdout",
     "output_type": "stream",
     "text": [
      "run-20150321-0\n",
      "run-20150321-0\n"
     ]
    }
   ],
   "source": [
    "print(run_directory)\n",
    "print(os.path.basename(run_directory))"
   ]
  },
  {
   "cell_type": "markdown",
   "metadata": {},
   "source": [
    "### Iterating through model run directories\n",
    " \n",
    "  Next, once we are able to \"find\" all model run directories, we need to iterate through them and read all data from them.  In the cells, we create data frames for each CSV output file from out ``001-storing-model-results`` notebook."
   ]
  },
  {
   "cell_type": "code",
   "execution_count": 12,
   "metadata": {
    "collapsed": false
   },
   "outputs": [],
   "source": [
    "# Create \"complete\" data frames\n",
    "run_data = []\n",
    "all_timeseries_data = pandas.DataFrame()\n",
    "all_interaction_data = pandas.DataFrame()\n",
    "\n",
    "\n",
    "# Iterate over all directories\n",
    "for run_directory in glob.glob(\"output/run*\"):\n",
    "    # Get the run ID from our directory name\n",
    "    run_id = os.path.basename(run_directory)\n",
    "    \n",
    "    # Load parameter and reshape\n",
    "    run_parameter_data = pandas.read_csv(os.path.join(run_directory, \"parameters.csv\"))\n",
    "    run_parameter_data.index = run_parameter_data[\"parameter\"]\n",
    "    \n",
    "    # Load timeseries and interactions\n",
    "    run_interaction_data = pandas.read_csv(os.path.join(run_directory, \"interactions.csv\"))\n",
    "    run_interaction_data[\"run\"] = run_id\n",
    "    run_ts_data = pandas.read_csv(os.path.join(run_directory, \"timeseries.csv\"))\n",
    "    run_ts_data[\"run\"] = run_id\n",
    "    \n",
    "    # Flatten parameter data into interaction and TS data\n",
    "    for parameter_name in run_parameter_data.index:\n",
    "        run_ts_data.loc[:, parameter_name] = run_parameter_data.loc[parameter_name, \"value\"]\n",
    "        \n",
    "    if run_interaction_data.shape[0] > 0:\n",
    "        for parameter_name in run_parameter_data.index:\n",
    "            run_interaction_data.loc[:, parameter_name] = run_parameter_data.loc[parameter_name, \"value\"]\n",
    "    \n",
    "    # Store raw run data\n",
    "    run_data.append({\"parameters\": run_parameter_data,\n",
    "                    \"interactions\": run_interaction_data,\n",
    "                    \"timeseries\": run_ts_data})\n",
    "    \n",
    "    # Update final steps\n",
    "    all_timeseries_data = all_timeseries_data.append(run_ts_data)\n",
    "    all_interaction_data = all_interaction_data.append(run_interaction_data)"
   ]
  },
  {
   "cell_type": "code",
   "execution_count": 13,
   "metadata": {
    "collapsed": false
   },
   "outputs": [
    {
     "name": "stdout",
     "output_type": "stream",
     "text": [
      "(37000, 12)\n",
      "(4156220, 14)\n"
     ]
    }
   ],
   "source": [
    "# let's see how many records we have.\n",
    "print(all_timeseries_data.shape)\n",
    "print(all_interaction_data.shape)"
   ]
  },
  {
   "cell_type": "code",
   "execution_count": 14,
   "metadata": {
    "collapsed": false
   },
   "outputs": [
    {
     "data": {
      "text/html": [
       "<div style=\"max-height:1000px;max-width:1500px;overflow:auto;\">\n",
       "<table border=\"1\" class=\"dataframe\">\n",
       "  <thead>\n",
       "    <tr style=\"text-align: right;\">\n",
       "      <th></th>\n",
       "      <th>Unnamed: 0</th>\n",
       "      <th>num_infected</th>\n",
       "      <th>cities_infected</th>\n",
       "      <th>num_interactions</th>\n",
       "      <th>run</th>\n",
       "      <th>probability_of_flying_day</th>\n",
       "      <th>transmission_rate</th>\n",
       "      <th>initial_infected</th>\n",
       "      <th>passengers_per_flight</th>\n",
       "      <th>effective_contacts</th>\n",
       "      <th>probability_of_flying</th>\n",
       "      <th>reproduction_number</th>\n",
       "    </tr>\n",
       "  </thead>\n",
       "  <tbody>\n",
       "    <tr>\n",
       "      <th>0</th>\n",
       "      <td> 0</td>\n",
       "      <td> 1000</td>\n",
       "      <td> 1</td>\n",
       "      <td> 0</td>\n",
       "      <td> run-20150321-0</td>\n",
       "      <td> 0.0005</td>\n",
       "      <td> 0.04</td>\n",
       "      <td> [[366], [1000]]</td>\n",
       "      <td> 150</td>\n",
       "      <td> 15</td>\n",
       "      <td> 0.014891755791629935</td>\n",
       "      <td> 0.6</td>\n",
       "    </tr>\n",
       "    <tr>\n",
       "      <th>1</th>\n",
       "      <td> 1</td>\n",
       "      <td>  674</td>\n",
       "      <td> 3</td>\n",
       "      <td> 2</td>\n",
       "      <td> run-20150321-0</td>\n",
       "      <td> 0.0005</td>\n",
       "      <td> 0.04</td>\n",
       "      <td> [[366], [1000]]</td>\n",
       "      <td> 150</td>\n",
       "      <td> 15</td>\n",
       "      <td> 0.014891755791629935</td>\n",
       "      <td> 0.6</td>\n",
       "    </tr>\n",
       "    <tr>\n",
       "      <th>2</th>\n",
       "      <td> 2</td>\n",
       "      <td>  438</td>\n",
       "      <td> 5</td>\n",
       "      <td> 4</td>\n",
       "      <td> run-20150321-0</td>\n",
       "      <td> 0.0005</td>\n",
       "      <td> 0.04</td>\n",
       "      <td> [[366], [1000]]</td>\n",
       "      <td> 150</td>\n",
       "      <td> 15</td>\n",
       "      <td> 0.014891755791629935</td>\n",
       "      <td> 0.6</td>\n",
       "    </tr>\n",
       "    <tr>\n",
       "      <th>3</th>\n",
       "      <td> 3</td>\n",
       "      <td>  280</td>\n",
       "      <td> 6</td>\n",
       "      <td> 3</td>\n",
       "      <td> run-20150321-0</td>\n",
       "      <td> 0.0005</td>\n",
       "      <td> 0.04</td>\n",
       "      <td> [[366], [1000]]</td>\n",
       "      <td> 150</td>\n",
       "      <td> 15</td>\n",
       "      <td> 0.014891755791629935</td>\n",
       "      <td> 0.6</td>\n",
       "    </tr>\n",
       "    <tr>\n",
       "      <th>4</th>\n",
       "      <td> 4</td>\n",
       "      <td>  177</td>\n",
       "      <td> 7</td>\n",
       "      <td> 3</td>\n",
       "      <td> run-20150321-0</td>\n",
       "      <td> 0.0005</td>\n",
       "      <td> 0.04</td>\n",
       "      <td> [[366], [1000]]</td>\n",
       "      <td> 150</td>\n",
       "      <td> 15</td>\n",
       "      <td> 0.014891755791629935</td>\n",
       "      <td> 0.6</td>\n",
       "    </tr>\n",
       "  </tbody>\n",
       "</table>\n",
       "</div>"
      ],
      "text/plain": [
       "   Unnamed: 0  num_infected  cities_infected  num_interactions  \\\n",
       "0           0          1000                1                 0   \n",
       "1           1           674                3                 2   \n",
       "2           2           438                5                 4   \n",
       "3           3           280                6                 3   \n",
       "4           4           177                7                 3   \n",
       "\n",
       "              run probability_of_flying_day transmission_rate  \\\n",
       "0  run-20150321-0                    0.0005              0.04   \n",
       "1  run-20150321-0                    0.0005              0.04   \n",
       "2  run-20150321-0                    0.0005              0.04   \n",
       "3  run-20150321-0                    0.0005              0.04   \n",
       "4  run-20150321-0                    0.0005              0.04   \n",
       "\n",
       "  initial_infected passengers_per_flight effective_contacts  \\\n",
       "0  [[366], [1000]]                   150                 15   \n",
       "1  [[366], [1000]]                   150                 15   \n",
       "2  [[366], [1000]]                   150                 15   \n",
       "3  [[366], [1000]]                   150                 15   \n",
       "4  [[366], [1000]]                   150                 15   \n",
       "\n",
       "  probability_of_flying reproduction_number  \n",
       "0  0.014891755791629935                 0.6  \n",
       "1  0.014891755791629935                 0.6  \n",
       "2  0.014891755791629935                 0.6  \n",
       "3  0.014891755791629935                 0.6  \n",
       "4  0.014891755791629935                 0.6  "
      ]
     },
     "execution_count": 14,
     "metadata": {},
     "output_type": "execute_result"
    }
   ],
   "source": [
    "# Let's see what the data looks like.\n",
    "all_timeseries_data.head()"
   ]
  },
  {
   "cell_type": "code",
   "execution_count": 15,
   "metadata": {
    "collapsed": false
   },
   "outputs": [
    {
     "data": {
      "text/html": [
       "<div style=\"max-height:1000px;max-width:1500px;overflow:auto;\">\n",
       "<table border=\"1\" class=\"dataframe\">\n",
       "  <thead>\n",
       "    <tr style=\"text-align: right;\">\n",
       "      <th></th>\n",
       "      <th>Unnamed: 0</th>\n",
       "      <th>arrival_city</th>\n",
       "      <th>arriving_infected</th>\n",
       "      <th>departing_infected</th>\n",
       "      <th>departure_city</th>\n",
       "      <th>effective_contacts</th>\n",
       "      <th>initial_infected</th>\n",
       "      <th>passengers_per_flight</th>\n",
       "      <th>probability_of_flying</th>\n",
       "      <th>probability_of_flying_day</th>\n",
       "      <th>reproduction_number</th>\n",
       "      <th>run</th>\n",
       "      <th>time</th>\n",
       "      <th>transmission_rate</th>\n",
       "    </tr>\n",
       "  </thead>\n",
       "  <tbody>\n",
       "    <tr>\n",
       "      <th>0</th>\n",
       "      <td> 0</td>\n",
       "      <td> 396</td>\n",
       "      <td> 59</td>\n",
       "      <td> 8</td>\n",
       "      <td> 366</td>\n",
       "      <td> 15</td>\n",
       "      <td> [[366], [1000]]</td>\n",
       "      <td> 150</td>\n",
       "      <td> 0.014891755791629935</td>\n",
       "      <td> 0.0005</td>\n",
       "      <td> 0.6</td>\n",
       "      <td> run-20150321-0</td>\n",
       "      <td> 0</td>\n",
       "      <td> 0.04</td>\n",
       "    </tr>\n",
       "    <tr>\n",
       "      <th>1</th>\n",
       "      <td> 1</td>\n",
       "      <td> 212</td>\n",
       "      <td> 15</td>\n",
       "      <td> 2</td>\n",
       "      <td> 366</td>\n",
       "      <td> 15</td>\n",
       "      <td> [[366], [1000]]</td>\n",
       "      <td> 150</td>\n",
       "      <td> 0.014891755791629935</td>\n",
       "      <td> 0.0005</td>\n",
       "      <td> 0.6</td>\n",
       "      <td> run-20150321-0</td>\n",
       "      <td> 0</td>\n",
       "      <td> 0.04</td>\n",
       "    </tr>\n",
       "    <tr>\n",
       "      <th>2</th>\n",
       "      <td> 2</td>\n",
       "      <td> 396</td>\n",
       "      <td> 13</td>\n",
       "      <td> 2</td>\n",
       "      <td> 366</td>\n",
       "      <td> 15</td>\n",
       "      <td> [[366], [1000]]</td>\n",
       "      <td> 150</td>\n",
       "      <td> 0.014891755791629935</td>\n",
       "      <td> 0.0005</td>\n",
       "      <td> 0.6</td>\n",
       "      <td> run-20150321-0</td>\n",
       "      <td> 1</td>\n",
       "      <td> 0.04</td>\n",
       "    </tr>\n",
       "    <tr>\n",
       "      <th>3</th>\n",
       "      <td> 3</td>\n",
       "      <td> 212</td>\n",
       "      <td> 14</td>\n",
       "      <td> 3</td>\n",
       "      <td> 366</td>\n",
       "      <td> 15</td>\n",
       "      <td> [[366], [1000]]</td>\n",
       "      <td> 150</td>\n",
       "      <td> 0.014891755791629935</td>\n",
       "      <td> 0.0005</td>\n",
       "      <td> 0.6</td>\n",
       "      <td> run-20150321-0</td>\n",
       "      <td> 1</td>\n",
       "      <td> 0.04</td>\n",
       "    </tr>\n",
       "    <tr>\n",
       "      <th>4</th>\n",
       "      <td> 4</td>\n",
       "      <td> 273</td>\n",
       "      <td>  6</td>\n",
       "      <td> 1</td>\n",
       "      <td> 396</td>\n",
       "      <td> 15</td>\n",
       "      <td> [[366], [1000]]</td>\n",
       "      <td> 150</td>\n",
       "      <td> 0.014891755791629935</td>\n",
       "      <td> 0.0005</td>\n",
       "      <td> 0.6</td>\n",
       "      <td> run-20150321-0</td>\n",
       "      <td> 1</td>\n",
       "      <td> 0.04</td>\n",
       "    </tr>\n",
       "  </tbody>\n",
       "</table>\n",
       "</div>"
      ],
      "text/plain": [
       "   Unnamed: 0  arrival_city  arriving_infected  departing_infected  \\\n",
       "0           0           396                 59                   8   \n",
       "1           1           212                 15                   2   \n",
       "2           2           396                 13                   2   \n",
       "3           3           212                 14                   3   \n",
       "4           4           273                  6                   1   \n",
       "\n",
       "   departure_city effective_contacts initial_infected passengers_per_flight  \\\n",
       "0             366                 15  [[366], [1000]]                   150   \n",
       "1             366                 15  [[366], [1000]]                   150   \n",
       "2             366                 15  [[366], [1000]]                   150   \n",
       "3             366                 15  [[366], [1000]]                   150   \n",
       "4             396                 15  [[366], [1000]]                   150   \n",
       "\n",
       "  probability_of_flying probability_of_flying_day reproduction_number  \\\n",
       "0  0.014891755791629935                    0.0005                 0.6   \n",
       "1  0.014891755791629935                    0.0005                 0.6   \n",
       "2  0.014891755791629935                    0.0005                 0.6   \n",
       "3  0.014891755791629935                    0.0005                 0.6   \n",
       "4  0.014891755791629935                    0.0005                 0.6   \n",
       "\n",
       "              run  time transmission_rate  \n",
       "0  run-20150321-0     0              0.04  \n",
       "1  run-20150321-0     0              0.04  \n",
       "2  run-20150321-0     1              0.04  \n",
       "3  run-20150321-0     1              0.04  \n",
       "4  run-20150321-0     1              0.04  "
      ]
     },
     "execution_count": 15,
     "metadata": {},
     "output_type": "execute_result"
    }
   ],
   "source": [
    "all_interaction_data.head()"
   ]
  },
  {
   "cell_type": "code",
   "execution_count": 63,
   "metadata": {
    "collapsed": false
   },
   "outputs": [
    {
     "name": "stdout",
     "output_type": "stream",
     "text": [
      "(1000, 12)\n",
      "Series([], name: num_infected, dtype: float64)\n"
     ]
    }
   ],
   "source": [
    "%matplotlib inline\n",
    "# let's use groupby to find some information.\n",
    "last_step_data = all_timeseries_data.groupby(\"run\").tail(1)\n",
    "print(last_step_data.shape)\n",
    "print(last_step_data.loc[last_step_data[\"reproduction_number\"] <.8,\n",
    "                                     \"num_infected\"])\n",
    "last_step_data.to_csv(\"last_step_data.csv\")"
   ]
  },
  {
   "cell_type": "code",
   "execution_count": 18,
   "metadata": {
    "collapsed": false
   },
   "outputs": [
    {
     "ename": "ValueError",
     "evalue": "First argument must be a sequence",
     "output_type": "error",
     "traceback": [
      "\u001b[1;31m---------------------------------------------------------------------------\u001b[0m",
      "\u001b[1;31mValueError\u001b[0m                                Traceback (most recent call last)",
      "\u001b[1;32m<ipython-input-18-5d2c578fc032>\u001b[0m in \u001b[0;36m<module>\u001b[1;34m()\u001b[0m\n\u001b[0;32m      3\u001b[0m plt.scatter(last_step_data[\"reproduction_number\"],\n\u001b[0;32m      4\u001b[0m            \u001b[0mlast_step_data\u001b[0m\u001b[1;33m[\u001b[0m\u001b[1;34m\"num_infected\"\u001b[0m\u001b[1;33m]\u001b[0m\u001b[1;33m,\u001b[0m\u001b[1;33m\u001b[0m\u001b[0m\n\u001b[1;32m----> 5\u001b[1;33m             alpha=0.5)\n\u001b[0m\u001b[0;32m      6\u001b[0m \u001b[0mplt\u001b[0m\u001b[1;33m.\u001b[0m\u001b[0mxlabel\u001b[0m\u001b[1;33m(\u001b[0m\u001b[1;34m\"Reproduction Number\"\u001b[0m\u001b[1;33m)\u001b[0m\u001b[1;33m\u001b[0m\u001b[0m\n\u001b[0;32m      7\u001b[0m \u001b[0mplt\u001b[0m\u001b[1;33m.\u001b[0m\u001b[0mylabel\u001b[0m\u001b[1;33m(\u001b[0m\u001b[1;34m\"Number infected\"\u001b[0m\u001b[1;33m)\u001b[0m\u001b[1;33m\u001b[0m\u001b[0m\n",
      "\u001b[1;32mC:\\Anaconda\\lib\\site-packages\\matplotlib\\pyplot.pyc\u001b[0m in \u001b[0;36mscatter\u001b[1;34m(x, y, s, c, marker, cmap, norm, vmin, vmax, alpha, linewidths, verts, hold, **kwargs)\u001b[0m\n\u001b[0;32m   3192\u001b[0m         ret = ax.scatter(x, y, s=s, c=c, marker=marker, cmap=cmap, norm=norm,\n\u001b[0;32m   3193\u001b[0m                          \u001b[0mvmin\u001b[0m\u001b[1;33m=\u001b[0m\u001b[0mvmin\u001b[0m\u001b[1;33m,\u001b[0m \u001b[0mvmax\u001b[0m\u001b[1;33m=\u001b[0m\u001b[0mvmax\u001b[0m\u001b[1;33m,\u001b[0m \u001b[0malpha\u001b[0m\u001b[1;33m=\u001b[0m\u001b[0malpha\u001b[0m\u001b[1;33m,\u001b[0m\u001b[1;33m\u001b[0m\u001b[0m\n\u001b[1;32m-> 3194\u001b[1;33m                          linewidths=linewidths, verts=verts, **kwargs)\n\u001b[0m\u001b[0;32m   3195\u001b[0m         \u001b[0mdraw_if_interactive\u001b[0m\u001b[1;33m(\u001b[0m\u001b[1;33m)\u001b[0m\u001b[1;33m\u001b[0m\u001b[0m\n\u001b[0;32m   3196\u001b[0m     \u001b[1;32mfinally\u001b[0m\u001b[1;33m:\u001b[0m\u001b[1;33m\u001b[0m\u001b[0m\n",
      "\u001b[1;32mC:\\Anaconda\\lib\\site-packages\\matplotlib\\axes\\_axes.pyc\u001b[0m in \u001b[0;36mscatter\u001b[1;34m(self, x, y, s, c, marker, cmap, norm, vmin, vmax, alpha, linewidths, verts, **kwargs)\u001b[0m\n\u001b[0;32m   3585\u001b[0m                 \u001b[0mc\u001b[0m \u001b[1;33m=\u001b[0m \u001b[0mnp\u001b[0m\u001b[1;33m.\u001b[0m\u001b[0mma\u001b[0m\u001b[1;33m.\u001b[0m\u001b[0mravel\u001b[0m\u001b[1;33m(\u001b[0m\u001b[0mc\u001b[0m\u001b[1;33m)\u001b[0m\u001b[1;33m\u001b[0m\u001b[0m\n\u001b[0;32m   3586\u001b[0m \u001b[1;33m\u001b[0m\u001b[0m\n\u001b[1;32m-> 3587\u001b[1;33m         \u001b[0mx\u001b[0m\u001b[1;33m,\u001b[0m \u001b[0my\u001b[0m\u001b[1;33m,\u001b[0m \u001b[0ms\u001b[0m\u001b[1;33m,\u001b[0m \u001b[0mc\u001b[0m \u001b[1;33m=\u001b[0m \u001b[0mcbook\u001b[0m\u001b[1;33m.\u001b[0m\u001b[0mdelete_masked_points\u001b[0m\u001b[1;33m(\u001b[0m\u001b[0mx\u001b[0m\u001b[1;33m,\u001b[0m \u001b[0my\u001b[0m\u001b[1;33m,\u001b[0m \u001b[0ms\u001b[0m\u001b[1;33m,\u001b[0m \u001b[0mc\u001b[0m\u001b[1;33m)\u001b[0m\u001b[1;33m\u001b[0m\u001b[0m\n\u001b[0m\u001b[0;32m   3588\u001b[0m \u001b[1;33m\u001b[0m\u001b[0m\n\u001b[0;32m   3589\u001b[0m         \u001b[0mscales\u001b[0m \u001b[1;33m=\u001b[0m \u001b[0ms\u001b[0m   \u001b[1;31m# Renamed for readability below.\u001b[0m\u001b[1;33m\u001b[0m\u001b[0m\n",
      "\u001b[1;32mC:\\Anaconda\\lib\\site-packages\\matplotlib\\cbook.pyc\u001b[0m in \u001b[0;36mdelete_masked_points\u001b[1;34m(*args)\u001b[0m\n\u001b[0;32m   1805\u001b[0m         \u001b[1;32mreturn\u001b[0m \u001b[1;33m(\u001b[0m\u001b[1;33m)\u001b[0m\u001b[1;33m\u001b[0m\u001b[0m\n\u001b[0;32m   1806\u001b[0m     \u001b[1;32mif\u001b[0m \u001b[1;33m(\u001b[0m\u001b[0mis_string_like\u001b[0m\u001b[1;33m(\u001b[0m\u001b[0margs\u001b[0m\u001b[1;33m[\u001b[0m\u001b[1;36m0\u001b[0m\u001b[1;33m]\u001b[0m\u001b[1;33m)\u001b[0m \u001b[1;32mor\u001b[0m \u001b[1;32mnot\u001b[0m \u001b[0miterable\u001b[0m\u001b[1;33m(\u001b[0m\u001b[0margs\u001b[0m\u001b[1;33m[\u001b[0m\u001b[1;36m0\u001b[0m\u001b[1;33m]\u001b[0m\u001b[1;33m)\u001b[0m\u001b[1;33m)\u001b[0m\u001b[1;33m:\u001b[0m\u001b[1;33m\u001b[0m\u001b[0m\n\u001b[1;32m-> 1807\u001b[1;33m         \u001b[1;32mraise\u001b[0m \u001b[0mValueError\u001b[0m\u001b[1;33m(\u001b[0m\u001b[1;34m\"First argument must be a sequence\"\u001b[0m\u001b[1;33m)\u001b[0m\u001b[1;33m\u001b[0m\u001b[0m\n\u001b[0m\u001b[0;32m   1808\u001b[0m     \u001b[0mnrecs\u001b[0m \u001b[1;33m=\u001b[0m \u001b[0mlen\u001b[0m\u001b[1;33m(\u001b[0m\u001b[0margs\u001b[0m\u001b[1;33m[\u001b[0m\u001b[1;36m0\u001b[0m\u001b[1;33m]\u001b[0m\u001b[1;33m)\u001b[0m\u001b[1;33m\u001b[0m\u001b[0m\n\u001b[0;32m   1809\u001b[0m     \u001b[0mmargs\u001b[0m \u001b[1;33m=\u001b[0m \u001b[1;33m[\u001b[0m\u001b[1;33m]\u001b[0m\u001b[1;33m\u001b[0m\u001b[0m\n",
      "\u001b[1;31mValueError\u001b[0m: First argument must be a sequence"
     ]
    },
    {
     "data": {
      "image/png": "[encoded data removed]",
      "text/plain": [
       "<matplotlib.figure.Figure at 0xa55f86d8>"
      ]
     },
     "metadata": {},
     "output_type": "display_data"
    }
   ],
   "source": [
    "# Simple plot\n",
    "f = plt.figure()\n",
    "plt.scatter(last_step_data[\"reproduction_number\"],\n",
    "           last_step_data[\"num_infected\"],\n",
    "            alpha=0.5)\n",
    "plt.xlabel(\"Reproduction Number\")\n",
    "plt.ylabel(\"Number infected\")\n",
    "plt.title(\"Reproduction number vs. number infected\")"
   ]
  },
  {
   "cell_type": "code",
   "execution_count": 129,
   "metadata": {
    "collapsed": false
   },
   "outputs": [
    {
     "data": {
      "text/html": [
       "<div style=\"max-height:1000px;max-width:1500px;overflow:auto;\">\n",
       "<table border=\"1\" class=\"dataframe\">\n",
       "  <thead>\n",
       "    <tr style=\"text-align: right;\">\n",
       "      <th></th>\n",
       "      <th></th>\n",
       "      <th></th>\n",
       "      <th>mean</th>\n",
       "      <th>std</th>\n",
       "    </tr>\n",
       "    <tr>\n",
       "      <th>run</th>\n",
       "      <th>min_subsidy</th>\n",
       "      <th>min_prob_hookup</th>\n",
       "      <th></th>\n",
       "      <th></th>\n",
       "    </tr>\n",
       "  </thead>\n",
       "  <tbody>\n",
       "    <tr>\n",
       "      <th>run-20150318-0</th>\n",
       "      <th>1</th>\n",
       "      <th>0.8</th>\n",
       "      <td> 6.04</td>\n",
       "      <td> 3.247128</td>\n",
       "    </tr>\n",
       "    <tr>\n",
       "      <th>run-20150318-1</th>\n",
       "      <th>0</th>\n",
       "      <th>0.0</th>\n",
       "      <td> 1.00</td>\n",
       "      <td> 0.000000</td>\n",
       "    </tr>\n",
       "    <tr>\n",
       "      <th>run-20150318-10</th>\n",
       "      <th>0</th>\n",
       "      <th>0.0</th>\n",
       "      <td> 1.04</td>\n",
       "      <td> 0.196946</td>\n",
       "    </tr>\n",
       "    <tr>\n",
       "      <th>run-20150318-100</th>\n",
       "      <th>1</th>\n",
       "      <th>0.0</th>\n",
       "      <td> 1.00</td>\n",
       "      <td> 0.000000</td>\n",
       "    </tr>\n",
       "    <tr>\n",
       "      <th>run-20150318-101</th>\n",
       "      <th>1</th>\n",
       "      <th>0.4</th>\n",
       "      <td> 2.12</td>\n",
       "      <td> 1.423327</td>\n",
       "    </tr>\n",
       "  </tbody>\n",
       "</table>\n",
       "</div>"
      ],
      "text/plain": [
       "                                              mean       std\n",
       "run              min_subsidy min_prob_hookup                \n",
       "run-20150318-0   1           0.8              6.04  3.247128\n",
       "run-20150318-1   0           0.0              1.00  0.000000\n",
       "run-20150318-10  0           0.0              1.04  0.196946\n",
       "run-20150318-100 1           0.0              1.00  0.000000\n",
       "run-20150318-101 1           0.4              2.12  1.423327"
      ]
     },
     "execution_count": 129,
     "metadata": {},
     "output_type": "execute_result"
    }
   ],
   "source": [
    "# Let's use groupby with **multiple** variables now.\n",
    "mean_infected_by_subsidy = all_timeseries_data.groupby([\"run\", \"min_subsidy\", \"min_prob_hookup\"])[\"num_infected\"].mean()\n",
    "std_infected_by_subsidy = all_timeseries_data.groupby([\"run\", \"min_subsidy\", \"min_prob_hookup\"])[\"num_infected\"].std()\n",
    "infected_by_subsidy = pandas.concat((mean_infected_by_subsidy,\n",
    "                                    std_infected_by_subsidy), axis=1)\n",
    "infected_by_subsidy.columns = [\"mean\", \"std\"]\n",
    "infected_by_subsidy.head()"
   ]
  },
  {
   "cell_type": "code",
   "execution_count": 38,
   "metadata": {
    "collapsed": false
   },
   "outputs": [
    {
     "name": "stdout",
     "output_type": "stream",
     "text": [
      "(1000, 12)\n"
     ]
    },
    {
     "data": {
      "image/png": "[encoded data removed]",
      "text/plain": [
       "<matplotlib.figure.Figure at 0xa6499278>"
      ]
     },
     "metadata": {},
     "output_type": "display_data"
    }
   ],
   "source": [
    "# Plot a distribution\n",
    "f = plt.figure()\n",
    "_ = plt.hist(last_step_data[\"num_infected\"].values,\n",
    "         color=\"red\",\n",
    "         alpha=0.5)\n",
    "plt.xlabel(\"Number infected\")\n",
    "plt.ylabel(\"Frequency\")\n",
    "plt.title(\"Distribution of number infected\")\n",
    "\n",
    "print(last_step_data.shape)"
   ]
  },
  {
   "cell_type": "code",
   "execution_count": 68,
   "metadata": {
    "collapsed": false
   },
   "outputs": [
    {
     "name": "stdout",
     "output_type": "stream",
     "text": [
      "(0,)\n",
      "(1000,)\n",
      "36    0.014891755791629935\n",
      "36    0.014891755791629935\n",
      "36    0.014891755791629935\n",
      "36    0.014891755791629935\n",
      "36    0.014891755791629935\n",
      "Name: probability_of_flying, dtype: object\n"
     ]
    }
   ],
   "source": [
    "# Perform distribution tests for no subsidy vs. some subsidy\n",
    "low_rep_data = last_step_data.loc[last_step_data[\"reproduction_number\"] <.8,\n",
    "                                     \"num_infected\"]\n",
    "high_rep_data = last_step_data.loc[last_step_data[\"reproduction_number\"] >= .8,\n",
    "                                     \"num_infected\"]\n",
    "print(low_rep_data.shape)\n",
    "print(high_rep_data.shape)\n",
    "print (last_step_data[\"probability_of_flying\"].head())"
   ]
  },
  {
   "cell_type": "code",
   "execution_count": 26,
   "metadata": {
    "collapsed": false
   },
   "outputs": [
    {
     "ename": "ValueError",
     "evalue": "x must have at least one data point",
     "output_type": "error",
     "traceback": [
      "\u001b[1;31m---------------------------------------------------------------------------\u001b[0m",
      "\u001b[1;31mValueError\u001b[0m                                Traceback (most recent call last)",
      "\u001b[1;32m<ipython-input-26-c152c2c68cec>\u001b[0m in \u001b[0;36m<module>\u001b[1;34m()\u001b[0m\n\u001b[0;32m      3\u001b[0m _ = plt.hist(low_rep_data.values,\n\u001b[0;32m      4\u001b[0m          \u001b[0mcolor\u001b[0m\u001b[1;33m=\u001b[0m\u001b[1;34m\"red\"\u001b[0m\u001b[1;33m,\u001b[0m\u001b[1;33m\u001b[0m\u001b[0m\n\u001b[1;32m----> 5\u001b[1;33m          alpha=0.25)\n\u001b[0m\u001b[0;32m      6\u001b[0m _ = plt.hist(high_rep_data.values,\n\u001b[0;32m      7\u001b[0m             \u001b[0mcolor\u001b[0m\u001b[1;33m=\u001b[0m\u001b[1;34m\"blue\"\u001b[0m\u001b[1;33m,\u001b[0m\u001b[1;33m\u001b[0m\u001b[0m\n",
      "\u001b[1;32mC:\\Anaconda\\lib\\site-packages\\matplotlib\\pyplot.pyc\u001b[0m in \u001b[0;36mhist\u001b[1;34m(x, bins, range, normed, weights, cumulative, bottom, histtype, align, orientation, rwidth, log, color, label, stacked, hold, **kwargs)\u001b[0m\n\u001b[0;32m   2888\u001b[0m                       \u001b[0mhisttype\u001b[0m\u001b[1;33m=\u001b[0m\u001b[0mhisttype\u001b[0m\u001b[1;33m,\u001b[0m \u001b[0malign\u001b[0m\u001b[1;33m=\u001b[0m\u001b[0malign\u001b[0m\u001b[1;33m,\u001b[0m \u001b[0morientation\u001b[0m\u001b[1;33m=\u001b[0m\u001b[0morientation\u001b[0m\u001b[1;33m,\u001b[0m\u001b[1;33m\u001b[0m\u001b[0m\n\u001b[0;32m   2889\u001b[0m                       \u001b[0mrwidth\u001b[0m\u001b[1;33m=\u001b[0m\u001b[0mrwidth\u001b[0m\u001b[1;33m,\u001b[0m \u001b[0mlog\u001b[0m\u001b[1;33m=\u001b[0m\u001b[0mlog\u001b[0m\u001b[1;33m,\u001b[0m \u001b[0mcolor\u001b[0m\u001b[1;33m=\u001b[0m\u001b[0mcolor\u001b[0m\u001b[1;33m,\u001b[0m \u001b[0mlabel\u001b[0m\u001b[1;33m=\u001b[0m\u001b[0mlabel\u001b[0m\u001b[1;33m,\u001b[0m\u001b[1;33m\u001b[0m\u001b[0m\n\u001b[1;32m-> 2890\u001b[1;33m                       stacked=stacked, **kwargs)\n\u001b[0m\u001b[0;32m   2891\u001b[0m         \u001b[0mdraw_if_interactive\u001b[0m\u001b[1;33m(\u001b[0m\u001b[1;33m)\u001b[0m\u001b[1;33m\u001b[0m\u001b[0m\n\u001b[0;32m   2892\u001b[0m     \u001b[1;32mfinally\u001b[0m\u001b[1;33m:\u001b[0m\u001b[1;33m\u001b[0m\u001b[0m\n",
      "\u001b[1;32mC:\\Anaconda\\lib\\site-packages\\matplotlib\\axes\\_axes.pyc\u001b[0m in \u001b[0;36mhist\u001b[1;34m(self, x, bins, range, normed, weights, cumulative, bottom, histtype, align, orientation, rwidth, log, color, label, stacked, **kwargs)\u001b[0m\n\u001b[0;32m   5553\u001b[0m         \u001b[0mflat\u001b[0m \u001b[1;33m=\u001b[0m \u001b[0mnp\u001b[0m\u001b[1;33m.\u001b[0m\u001b[0mravel\u001b[0m\u001b[1;33m(\u001b[0m\u001b[0mx\u001b[0m\u001b[1;33m)\u001b[0m\u001b[1;33m\u001b[0m\u001b[0m\n\u001b[0;32m   5554\u001b[0m         \u001b[1;32mif\u001b[0m \u001b[0mlen\u001b[0m\u001b[1;33m(\u001b[0m\u001b[0mflat\u001b[0m\u001b[1;33m)\u001b[0m \u001b[1;33m==\u001b[0m \u001b[1;36m0\u001b[0m\u001b[1;33m:\u001b[0m\u001b[1;33m\u001b[0m\u001b[0m\n\u001b[1;32m-> 5555\u001b[1;33m             \u001b[1;32mraise\u001b[0m \u001b[0mValueError\u001b[0m\u001b[1;33m(\u001b[0m\u001b[1;34m\"x must have at least one data point\"\u001b[0m\u001b[1;33m)\u001b[0m\u001b[1;33m\u001b[0m\u001b[0m\n\u001b[0m\u001b[0;32m   5556\u001b[0m         \u001b[1;32melif\u001b[0m \u001b[0mlen\u001b[0m\u001b[1;33m(\u001b[0m\u001b[0mflat\u001b[0m\u001b[1;33m)\u001b[0m \u001b[1;33m==\u001b[0m \u001b[1;36m1\u001b[0m \u001b[1;32mand\u001b[0m \u001b[1;32mnot\u001b[0m \u001b[0mbinsgiven\u001b[0m\u001b[1;33m:\u001b[0m\u001b[1;33m\u001b[0m\u001b[0m\n\u001b[0;32m   5557\u001b[0m             raise ValueError(\n",
      "\u001b[1;31mValueError\u001b[0m: x must have at least one data point"
     ]
    },
    {
     "data": {
      "image/png": "[encoded data removed]",
      "text/plain": [
       "<matplotlib.figure.Figure at 0xa60be5f8>"
      ]
     },
     "metadata": {},
     "output_type": "display_data"
    }
   ],
   "source": [
    "# Plot a distribution\n",
    "f = plt.figure()\n",
    "_ = plt.hist(low_rep_data.values,\n",
    "         color=\"red\",\n",
    "         alpha=0.25)\n",
    "_ = plt.hist(high_rep_data.values,\n",
    "            color=\"blue\",\n",
    "            alpha=0.25)\n",
    "plt.xlabel(\"Number infected\")\n",
    "plt.ylabel(\"Frequency\")\n",
    "plt.title(\"Distribution of number infected\")"
   ]
  },
  {
   "cell_type": "code",
   "execution_count": 147,
   "metadata": {
    "collapsed": false
   },
   "outputs": [
    {
     "name": "stdout",
     "output_type": "stream",
     "text": [
      "(0.6422606706619263, 2.495028184057446e-07)\n",
      "(0.7675792574882507, 1.284632400455621e-10)\n",
      "(5.5031636888978275, 0.020650644408257007)\n"
     ]
    }
   ],
   "source": [
    "# Test for normality\n",
    "print(scipy.stats.shapiro(no_subsidy_data))\n",
    "print(scipy.stats.shapiro(some_subsidy_data))\n",
    "\n",
    "# Test for equal variances\n",
    "print(scipy.stats.levene(no_subsidy_data, some_subsidy_data))"
   ]
  },
  {
   "cell_type": "code",
   "execution_count": 148,
   "metadata": {
    "collapsed": false
   },
   "outputs": [
    {
     "name": "stdout",
     "output_type": "stream",
     "text": [
      "(2.3313286379544826, 0.021432766613366575)\n",
      "(2.8181818181818183, 0.0048296452559399346)\n"
     ]
    }
   ],
   "source": [
    "# Perform t-test\n",
    "print(scipy.stats.ttest_ind(no_subsidy_data, some_subsidy_data))\n",
    "\n",
    "# Perform rank-sum test\n",
    "print(scipy.stats.ranksums(no_subsidy_data, some_subsidy_data))"
   ]
  },
  {
   "cell_type": "code",
   "execution_count": null,
   "metadata": {
    "collapsed": true
   },
   "outputs": [],
   "source": []
  }
 ],
 "metadata": {
  "kernelspec": {
   "display_name": "Python 2",
   "language": "python",
   "name": "python2"
  },
  "language_info": {
   "codemirror_mode": {
    "name": "ipython",
    "version": 2
   },
   "file_extension": ".py",
   "mimetype": "text/x-python",
   "name": "python",
   "nbconvert_exporter": "python",
   "pygments_lexer": "ipython2",
   "version": "2.7.8"
  }
 },
 "nbformat": 4,
 "nbformat_minor": 0
}
