{
 "metadata": {
  "name": "",
  "signature": "sha256:ddbf70be218330a147f2ff5359a68dca919a987fe21dadd67547880ed9b385d7"
 },
 "nbformat": 3,
 "nbformat_minor": 0,
 "worksheets": []
}