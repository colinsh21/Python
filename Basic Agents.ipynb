{
 "metadata": {
  "name": "",
  "signature": "sha256:c9ec09b99eb1c5797d20fb051811e280b83f27bc20aa0b239d96914a9aa7483a"
 },
 "nbformat": 3,
 "nbformat_minor": 0,
 "worksheets": [
  {
   "cells": [
    {
     "cell_type": "code",
     "collapsed": false,
     "input": [
      "movieList=['Frozen', 'Mulan','Beauty and the Beast']\n",
      "agentList=[['Elsa','Anna'],['Mulan','Shang'],['Belle','Gaston','Beast']]\n",
      "\n",
      "#Count starts at 0 for elements\n",
      "print \"Item at agentList[2][2] is \"+agentList[2][2]\n",
      "\n",
      "#print agentList[0].index('Anna')\n",
      "outerList=0\n",
      "innerList=0\n",
      "character='Gaston'\n",
      "\n",
      "for x in agentList:\n",
      "    if character in x:\n",
      "        innerList=x.index(character)\n",
      "        outerList=agentList.index(x)\n",
      "print agentList[outerList][innerList],outerList, innerList"
     ],
     "language": "python",
     "metadata": {},
     "outputs": [
      {
       "output_type": "stream",
       "stream": "stdout",
       "text": [
        "Item at agentList[2][2] is Beast\n",
        "Gaston 2 1\n"
       ]
      }
     ],
     "prompt_number": 20
    },
    {
     "cell_type": "code",
     "collapsed": false,
     "input": [
      "agentDict={'Elsa':'Frozen','Anna':'Frozen'}"
     ],
     "language": "python",
     "metadata": {},
     "outputs": [],
     "prompt_number": 25
    },
    {
     "cell_type": "code",
     "collapsed": false,
     "input": [],
     "language": "python",
     "metadata": {},
     "outputs": []
    }
   ],
   "metadata": {}
  }
 ]
}